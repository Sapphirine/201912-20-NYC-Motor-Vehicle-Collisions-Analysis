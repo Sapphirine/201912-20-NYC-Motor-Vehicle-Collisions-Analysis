{
 "cells": [
  {
   "cell_type": "code",
   "execution_count": 1,
   "metadata": {},
   "outputs": [],
   "source": [
    "from pyspark import SparkConf, SparkContext\n",
    "import numpy as np\n",
    "import matplotlib.pyplot as plt\n",
    "import pandas as pd\n",
    "from pyspark.sql import SparkSession\n",
    "from pyspark.ml.feature import StringIndexer\n",
    "from pyspark.ml import Pipeline\n",
    "from pyspark.ml.feature import OneHotEncoderEstimator\n",
    "from pyspark.ml.feature import VectorAssembler\n",
    "from pyspark.ml.classification import LogisticRegression\n",
    "from math import sqrt\n",
    "from pyspark.mllib.clustering import KMeans, KMeansModel\n",
    "from pyspark.ml.linalg import Vectors\n",
    "from pyspark.ml.stat import Correlation"
   ]
  },
  {
   "cell_type": "code",
   "execution_count": 2,
   "metadata": {},
   "outputs": [],
   "source": [
    "spark = SparkSession\\\n",
    "    .builder \\\n",
    "    .appName(\"Python Spark SQL basic example\") \\\n",
    "    .config(\"spark.some.config.option\", \"some-value\")\\\n",
    "    .getOrCreate()"
   ]
  },
  {
   "cell_type": "code",
   "execution_count": 3,
   "metadata": {},
   "outputs": [
    {
     "name": "stdout",
     "output_type": "stream",
     "text": [
      "+-------------+-------------+-------+--------+--------+---------+--------------------+--------------+-----------------+--------------------+-------------------------+------------------------+-----------------------------+----------------------------+-------------------------+------------------------+--------------------------+-------------------------+-----------------------------+-----------------------------+-----------------------------+-----------------------------+-----------------------------+------------+-------------------+-------------------+-------------------+-------------------+-------------------+\n",
      "|ACCIDENT DATE|ACCIDENT TIME|BOROUGH|ZIP CODE|LATITUDE|LONGITUDE|            LOCATION|ON STREET NAME|CROSS STREET NAME|     OFF STREET NAME|NUMBER OF PERSONS INJURED|NUMBER OF PERSONS KILLED|NUMBER OF PEDESTRIANS INJURED|NUMBER OF PEDESTRIANS KILLED|NUMBER OF CYCLIST INJURED|NUMBER OF CYCLIST KILLED|NUMBER OF MOTORIST INJURED|NUMBER OF MOTORIST KILLED|CONTRIBUTING FACTOR VEHICLE 1|CONTRIBUTING FACTOR VEHICLE 2|CONTRIBUTING FACTOR VEHICLE 3|CONTRIBUTING FACTOR VEHICLE 4|CONTRIBUTING FACTOR VEHICLE 5|COLLISION_ID|VEHICLE TYPE CODE 1|VEHICLE TYPE CODE 2|VEHICLE TYPE CODE 3|VEHICLE TYPE CODE 4|VEHICLE TYPE CODE 5|\n",
      "+-------------+-------------+-------+--------+--------+---------+--------------------+--------------+-----------------+--------------------+-------------------------+------------------------+-----------------------------+----------------------------+-------------------------+------------------------+--------------------------+-------------------------+-----------------------------+-----------------------------+-----------------------------+-----------------------------+-----------------------------+------------+-------------------+-------------------+-------------------+-------------------+-------------------+\n",
      "|   08/23/2019|         8:00|  BRONX|   10456| 40.8325| -73.9044|POINT (-73.9044 4...|          null|             null|540       EAST 16...|                        0|                       0|                            0|                           0|                        0|                       0|                         0|                        0|                  Unspecified|                         null|                         null|                         null|                         null|     4195346|              Sedan|               null|               null|               null|               null|\n",
      "+-------------+-------------+-------+--------+--------+---------+--------------------+--------------+-----------------+--------------------+-------------------------+------------------------+-----------------------------+----------------------------+-------------------------+------------------------+--------------------------+-------------------------+-----------------------------+-----------------------------+-----------------------------+-----------------------------+-----------------------------+------------+-------------------+-------------------+-------------------+-------------------+-------------------+\n",
      "only showing top 1 row\n",
      "\n"
     ]
    }
   ],
   "source": [
    "df = spark.read.format(\"csv\").options(header='true', inferschema='true').load('gs://finalproject20/data/Motor_Vehicle_Collisions_-_Crashes.csv')\n",
    "df.show(1)"
   ]
  },
  {
   "cell_type": "code",
   "execution_count": 4,
   "metadata": {},
   "outputs": [
    {
     "data": {
      "text/plain": [
       "39025"
      ]
     },
     "execution_count": 4,
     "metadata": {},
     "output_type": "execute_result"
    }
   ],
   "source": [
    "manh = df.withColumnRenamed('NUMBER OF PERSONS INJURED','nopi').withColumnRenamed('ACCIDENT DATE','date')\n",
    "manh = manh.filter(manh.nopi!='0').filter(manh.BOROUGH=='MANHATTAN')\n",
    "manh.count()"
   ]
  },
  {
   "cell_type": "code",
   "execution_count": 5,
   "metadata": {},
   "outputs": [
    {
     "data": {
      "text/plain": [
       "[Row(LATITUDE=40.757362, LONGITUDE=-73.96068, date=u'09/01/2019'),\n",
       " Row(LATITUDE=40.798252, LONGITUDE=-73.95249, date=u'08/20/2019'),\n",
       " Row(LATITUDE=40.777973, LONGITUDE=-73.98216, date=u'09/14/2019'),\n",
       " Row(LATITUDE=40.847412, LONGITUDE=-73.93331, date=u'09/16/2019'),\n",
       " Row(LATITUDE=40.732346, LONGITUDE=-73.98495, date=u'09/14/2019')]"
      ]
     },
     "execution_count": 5,
     "metadata": {},
     "output_type": "execute_result"
    }
   ],
   "source": [
    "location = manh.select('LATITUDE','LONGITUDE','date').rdd\n",
    "location.take(5)"
   ]
  },
  {
   "cell_type": "code",
   "execution_count": 6,
   "metadata": {},
   "outputs": [
    {
     "data": {
      "text/plain": [
       "[(40.753242, -73.96662),\n",
       " (40.784042, -73.9565),\n",
       " (40.73978, -73.97952),\n",
       " (40.855556, -73.92918),\n",
       " (40.72192, -73.99004),\n",
       " (40.761486, -73.96062),\n",
       " (40.81088, -73.94694),\n",
       " (40.75046, -73.99528),\n",
       " (40.80389, -73.95577),\n",
       " (40.80034, -73.94789)]"
      ]
     },
     "execution_count": 6,
     "metadata": {},
     "output_type": "execute_result"
    }
   ],
   "source": [
    "manh_lo = location.map(lambda x: (x[2].split('/'),x[0],x[1]))\n",
    "manh_2018 = manh_lo.filter(lambda x: x[0][2]=='2018' and x[1]!=None and x[1]!=0 and x[0]>40.68 and x[2]!=None).map(lambda x: (x[1],x[2]))\n",
    "manh_2018.take(10)"
   ]
  },
  {
   "cell_type": "code",
   "execution_count": 203,
   "metadata": {},
   "outputs": [
    {
     "data": {
      "text/plain": [
       "8179"
      ]
     },
     "execution_count": 203,
     "metadata": {},
     "output_type": "execute_result"
    }
   ],
   "source": [
    "manh_2018_19 = manh_lo.filter(lambda x: (x[0][2]=='2018' or x[0][2]=='2019') and x[1]!=None and x[1]!=0 and x[0]>40.68 and x[2]!=None).map(lambda x: (x[1],x[2]))\n",
    "manh_2018_19.count()"
   ]
  },
  {
   "cell_type": "code",
   "execution_count": 7,
   "metadata": {},
   "outputs": [],
   "source": [
    "def error(point):\n",
    "    center = clusters.centers[clusters.predict(point)]\n",
    "    return sqrt(sum([x**2 for x in (point - center)]))"
   ]
  },
  {
   "cell_type": "code",
   "execution_count": 8,
   "metadata": {},
   "outputs": [],
   "source": [
    "def calculate(k,location):\n",
    "    SE = []\n",
    "    for i in k:\n",
    "        clusters = KMeans.train(location, i, maxIterations=10, initializationMode=\"random\")\n",
    "        WSSSE = clusters.computeCost(location)\n",
    "        SE.append(WSSSE)\n",
    "    return SE"
   ]
  },
  {
   "cell_type": "code",
   "execution_count": 9,
   "metadata": {},
   "outputs": [
    {
     "name": "stdout",
     "output_type": "stream",
     "text": [
      "[1.6083342114180026, 0.7931452081873435, 0.40077455761245834, 0.26633538037934273, 0.22159241037479294, 0.11139187975328238, 0.060219729543947366, 0.06757247388938115, 0.0339774333497176]\n"
     ]
    }
   ],
   "source": [
    "k = [3,5,10,15,20,40,60,80,100]\n",
    "SE = calculate(k,manh_2018)\n",
    "print(SE)"
   ]
  },
  {
   "cell_type": "code",
   "execution_count": 205,
   "metadata": {},
   "outputs": [
    {
     "name": "stdout",
     "output_type": "stream",
     "text": [
      "[2.9801932139541836, 1.43257729389527, 0.8021650901223718, 0.4811947280730289, 0.4164635930112963, 0.18576170848631424, 0.12105854201993901, 0.10184096302784224, 0.08817511879820042]\n"
     ]
    }
   ],
   "source": [
    "k = [3,5,10,15,20,40,60,80,100]\n",
    "SE2 = calculate(k,manh_2018_19)\n",
    "print(SE2)"
   ]
  },
  {
   "cell_type": "code",
   "execution_count": 12,
   "metadata": {},
   "outputs": [
    {
     "data": {
      "text/plain": [
       "Text(0,0.5,u'Sum of the Squared Error')"
      ]
     },
     "execution_count": 12,
     "metadata": {},
     "output_type": "execute_result"
    },
    {
     "data": {
      "image/png": "[encoded data removed]",
      "text/plain": [
       "<matplotlib.figure.Figure at 0x7f279d707450>"
      ]
     },
     "metadata": {},
     "output_type": "display_data"
    }
   ],
   "source": [
    "plt.plot(k,SE)\n",
    "plt.scatter(k,SE,marker='x')\n",
    "plt.xlabel('K')\n",
    "plt.ylabel('Sum of the Squared Error')"
   ]
  },
  {
   "cell_type": "code",
   "execution_count": 14,
   "metadata": {},
   "outputs": [],
   "source": [
    "colors = plt.cm.Spectral(np.linspace(0, 1, 20))"
   ]
  },
  {
   "cell_type": "code",
   "execution_count": 206,
   "metadata": {},
   "outputs": [
    {
     "data": {
      "text/plain": [
       "[<matplotlib.lines.Line2D at 0x7f63623487d0>]"
      ]
     },
     "execution_count": 206,
     "metadata": {},
     "output_type": "execute_result"
    },
    {
     "data": {
      "image/png": "[encoded data removed]",
      "text/plain": [
       "<matplotlib.figure.Figure at 0x7f6362659910>"
      ]
     },
     "metadata": {},
     "output_type": "display_data"
    }
   ],
   "source": [
    "plt.plot(k,SE2)"
   ]
  },
  {
   "cell_type": "code",
   "execution_count": 19,
   "metadata": {},
   "outputs": [],
   "source": [
    "data = manh_2018.collect()"
   ]
  },
  {
   "cell_type": "code",
   "execution_count": 20,
   "metadata": {},
   "outputs": [
    {
     "data": {
      "text/plain": [
       "[<matplotlib.lines.Line2D at 0x7f2794ed41d0>]"
      ]
     },
     "execution_count": 20,
     "metadata": {},
     "output_type": "execute_result"
    },
    {
     "data": {
      "image/png": "[encoded data removed]",
      "text/plain": [
       "<matplotlib.figure.Figure at 0x7f279d6b86d0>"
      ]
     },
     "metadata": {},
     "output_type": "display_data"
    }
   ],
   "source": [
    "x = []\n",
    "y = []\n",
    "for i in data:\n",
    "    if i[1]>-74.05 and i[1]<-73.9:\n",
    "        x.append(i[0])\n",
    "        y.append(i[1])\n",
    "    \n",
    "plt.plot(y,x,'ro',markersize=1)"
   ]
  },
  {
   "cell_type": "code",
   "execution_count": 16,
   "metadata": {},
   "outputs": [],
   "source": [
    "clusters = KMeans.train(manh_2018, 20, maxIterations=10, initializationMode=\"random\")\n",
    "centers = clusters.centers\n",
    "x2 = []\n",
    "y2 = []\n",
    "centers = list(centers)\n",
    "for i in centers:\n",
    "    if(i[0]!=0):\n",
    "        x2.append(i[0])\n",
    "        y2.append(i[1])"
   ]
  },
  {
   "cell_type": "code",
   "execution_count": 25,
   "metadata": {},
   "outputs": [],
   "source": [
    "cluster1 = clust.collect()\n"
   ]
  },
  {
   "cell_type": "code",
   "execution_count": 39,
   "metadata": {},
   "outputs": [
    {
     "data": {
      "image/png": "[encoded data removed]",
      "text/plain": [
       "<matplotlib.figure.Figure at 0x7f2794a70c50>"
      ]
     },
     "metadata": {},
     "output_type": "display_data"
    }
   ],
   "source": [
    "for item in cluster1:\n",
    "    if item[0][1]>-74.05 and item[0][1]<-73.9:\n",
    "        plt.scatter(item[0][1],item[0][0],c=colors[item[1]],s=1)"
   ]
  },
  {
   "cell_type": "code",
   "execution_count": 187,
   "metadata": {},
   "outputs": [],
   "source": [
    "group = manh_2018.map(lambda x: (clusters.predict(x),1)).reduceByKey(lambda v1,v2: v1+v2).sortBy(lambda x:-x[1])\n",
    "sequence = []\n",
    "number = []\n",
    "for i in group.collect():\n",
    "    sequence.append(i[0])\n",
    "    number.append(i[1])"
   ]
  },
  {
   "cell_type": "code",
   "execution_count": 209,
   "metadata": {},
   "outputs": [
    {
     "data": {
      "image/png": "[encoded data removed]",
      "text/plain": [
       "<matplotlib.figure.Figure at 0x7f6362412dd0>"
      ]
     },
     "metadata": {},
     "output_type": "display_data"
    }
   ],
   "source": [
    "f, ax = plt.subplots(1)\n",
    "ax.plot(y,x,'ro',markersize=1)\n",
    "center_18 = []\n",
    "for i in np.arange(19):\n",
    "    center_18.append([x2[sequence[i]],y2[sequence[i]],number[i]])\n",
    "    ax.plot(y2[sequence[i]],x2[sequence[i]],'bo',markersize=number[i]/30)\n"
   ]
  },
  {
   "cell_type": "code",
   "execution_count": 191,
   "metadata": {},
   "outputs": [],
   "source": [
    "data_2018 = manh_2018.collect()"
   ]
  },
  {
   "cell_type": "code",
   "execution_count": 207,
   "metadata": {},
   "outputs": [],
   "source": [
    "data_2018_19 = manh_2018_19.collect()"
   ]
  },
  {
   "cell_type": "code",
   "execution_count": 193,
   "metadata": {},
   "outputs": [
    {
     "name": "stdout",
     "output_type": "stream",
     "text": [
      "Copying file://Latitude_2018.csv [Content-Type=text/csv]...\n",
      "/ [1 files][106.7 KiB/106.7 KiB]                                                \n",
      "Operation completed over 1 objects/106.7 KiB.                                    \n"
     ]
    }
   ],
   "source": [
    "Latitude = pd.DataFrame(data_2018,index = range(1,len(data_2018)+1))\n",
    "Latitude.to_csv('Latitude_2018.csv')\n",
    "!gsutil cp 'Latitude_2018.csv' 'gs://finalproject20/data'"
   ]
  },
  {
   "cell_type": "code",
   "execution_count": 208,
   "metadata": {},
   "outputs": [
    {
     "name": "stdout",
     "output_type": "stream",
     "text": [
      "Copying file://Latitude_2018_19.csv [Content-Type=text/csv]...\n",
      "/ [1 files][196.7 KiB/196.7 KiB]                                                \n",
      "Operation completed over 1 objects/196.7 KiB.                                    \n"
     ]
    }
   ],
   "source": [
    "Latitude = pd.DataFrame(data_2018_19,index = range(1,len(data_2018_19)+1))\n",
    "Latitude.to_csv('Latitude_2018_19.csv')\n",
    "!gsutil cp 'Latitude_2018_19.csv' 'gs://finalproject20/data/kmeans'"
   ]
  },
  {
   "cell_type": "code",
   "execution_count": 211,
   "metadata": {},
   "outputs": [
    {
     "name": "stdout",
     "output_type": "stream",
     "text": [
      "Copying file://center_2018.csv [Content-Type=text/csv]...\n",
      "/ [1 files][  838.0 B/  838.0 B]                                                \n",
      "Operation completed over 1 objects/838.0 B.                                      \n"
     ]
    }
   ],
   "source": [
    "centers_2018 = pd.DataFrame(center_18,index = range(1,len(center_18)+1))\n",
    "centers_2018\n",
    "centers_2018.to_csv('center_2018.csv')\n",
    "!gsutil cp 'center_2018.csv' 'gs://finalproject20/data/kmeans'"
   ]
  },
  {
   "cell_type": "code",
   "execution_count": null,
   "metadata": {},
   "outputs": [],
   "source": []
  },
  {
   "cell_type": "markdown",
   "metadata": {},
   "source": [
    "__Brooklyn__"
   ]
  },
  {
   "cell_type": "code",
   "execution_count": 212,
   "metadata": {},
   "outputs": [],
   "source": [
    "brooklyn = df.withColumnRenamed('NUMBER OF PERSONS INJURED','nopi').withColumnRenamed('ACCIDENT DATE','date')\n",
    "brooklyn = brooklyn.filter(brooklyn.nopi!='0').filter(brooklyn.BOROUGH=='BROOKLYN')"
   ]
  },
  {
   "cell_type": "code",
   "execution_count": 302,
   "metadata": {},
   "outputs": [],
   "source": [
    "brooklyn_location = brooklyn.select('LATITUDE','LONGITUDE','date').rdd\n",
    "brooklyn_location = brooklyn_location.map(lambda x: (x[2].split('/'),x[0],x[1]))\n",
    "brooklyn_location = brooklyn_location.filter(lambda x: (x[0][2]=='2018' or x[0][2]=='2017') and x[1]!=None and x[1]!=0 and x[2]!=None).map(lambda x: (x[1],x[2]))"
   ]
  },
  {
   "cell_type": "code",
   "execution_count": 215,
   "metadata": {},
   "outputs": [
    {
     "name": "stdout",
     "output_type": "stream",
     "text": [
      "[10.26783778455066, 5.312529043001519, 2.802934614032503, 1.6337613653573206, 1.2788284804559102, 0.728387272142655, 0.46688424700455466, 0.3800259763076423, 0.30744111243849875]\n"
     ]
    }
   ],
   "source": [
    "k = [3,5,10,15,20,40,60,80,100]\n",
    "SE = calculate(k,brooklyn_location)\n",
    "print(SE)"
   ]
  },
  {
   "cell_type": "code",
   "execution_count": 216,
   "metadata": {},
   "outputs": [
    {
     "data": {
      "text/plain": [
       "[<matplotlib.lines.Line2D at 0x7f63621bea10>]"
      ]
     },
     "execution_count": 216,
     "metadata": {},
     "output_type": "execute_result"
    },
    {
     "data": {
      "image/png": "[encoded data removed]",
      "text/plain": [
       "<matplotlib.figure.Figure at 0x7f63622e01d0>"
      ]
     },
     "metadata": {},
     "output_type": "display_data"
    }
   ],
   "source": [
    "plt.plot(k,SE)"
   ]
  },
  {
   "cell_type": "code",
   "execution_count": 303,
   "metadata": {},
   "outputs": [],
   "source": [
    "data_bro = brooklyn_location.collect()"
   ]
  },
  {
   "cell_type": "code",
   "execution_count": 304,
   "metadata": {},
   "outputs": [
    {
     "name": "stdout",
     "output_type": "stream",
     "text": [
      "Copying file://Latitude_2018_bro.csv [Content-Type=text/csv]...\n",
      "/ [1 files][452.5 KiB/452.5 KiB]                                                \n",
      "Operation completed over 1 objects/452.5 KiB.                                    \n"
     ]
    }
   ],
   "source": [
    "Latitude = pd.DataFrame(data_bro,index = range(1,len(data_bro)+1))\n",
    "Latitude.to_csv('Latitude_2018_bro.csv')\n",
    "!gsutil cp 'Latitude_2018_bro.csv' 'gs://finalproject20/data/kmeans'"
   ]
  },
  {
   "cell_type": "code",
   "execution_count": 230,
   "metadata": {},
   "outputs": [
    {
     "data": {
      "text/plain": [
       "[<matplotlib.lines.Line2D at 0x7f63626a2c50>]"
      ]
     },
     "execution_count": 230,
     "metadata": {},
     "output_type": "execute_result"
    },
    {
     "data": {
      "image/png": "[encoded data removed]",
      "text/plain": [
       "<matplotlib.figure.Figure at 0x7f6362589890>"
      ]
     },
     "metadata": {},
     "output_type": "display_data"
    }
   ],
   "source": [
    "brooklyn_data = brooklyn_location.collect()\n",
    "brooklyn_x = []\n",
    "brooklyn_y = []\n",
    "for i in brooklyn_data:\n",
    "    if i[0]<40.75 and i[1]>-74.1 and i[1]<-73.85:\n",
    "        brooklyn_x.append(i[0])\n",
    "        brooklyn_y.append(i[1])\n",
    "    \n",
    "plt.plot(brooklyn_y,brooklyn_x,'ro',markersize=1)"
   ]
  },
  {
   "cell_type": "code",
   "execution_count": 305,
   "metadata": {},
   "outputs": [],
   "source": [
    "brooklyn_clusters = KMeans.train(brooklyn_location, 20, maxIterations=10, initializationMode=\"random\")\n",
    "brooklyn_centers = brooklyn_clusters.centers\n",
    "brooklyn_x2 = []\n",
    "brooklyn_y2 = []\n",
    "brooklyn_centers = list(brooklyn_centers)\n",
    "for i in brooklyn_centers:\n",
    "    if(i[0]!=0):\n",
    "        brooklyn_x2.append(i[0])\n",
    "        brooklyn_y2.append(i[1])"
   ]
  },
  {
   "cell_type": "code",
   "execution_count": 306,
   "metadata": {},
   "outputs": [],
   "source": [
    "brooklyn_group = brooklyn_location.map(lambda x: (brooklyn_clusters.predict(x),1)).reduceByKey(lambda v1,v2: v1+v2).sortBy(lambda x:-x[1])\n",
    "brooklyn_sequence = []\n",
    "brooklyn_number = []\n",
    "for i in brooklyn_group.collect():\n",
    "    brooklyn_sequence.append(i[0])\n",
    "    brooklyn_number.append(i[1])"
   ]
  },
  {
   "cell_type": "code",
   "execution_count": 307,
   "metadata": {},
   "outputs": [
    {
     "data": {
      "image/png": "[encoded data removed]",
      "text/plain": [
       "<matplotlib.figure.Figure at 0x7f63611c9c50>"
      ]
     },
     "metadata": {},
     "output_type": "display_data"
    }
   ],
   "source": [
    "f2, ax2 = plt.subplots(1)\n",
    "ax2.plot(brooklyn_y,brooklyn_x,'ro',markersize=1)\n",
    "center_bro = []\n",
    "for i in np.arange(20):\n",
    "    center_bro.append([brooklyn_y2[brooklyn_sequence[i]],brooklyn_x2[brooklyn_sequence[i]],brooklyn_number[i]])\n",
    "    ax2.plot(brooklyn_y2[brooklyn_sequence[i]],brooklyn_x2[brooklyn_sequence[i]],'bo',markersize=brooklyn_number[i]/200)"
   ]
  },
  {
   "cell_type": "code",
   "execution_count": 309,
   "metadata": {},
   "outputs": [
    {
     "name": "stdout",
     "output_type": "stream",
     "text": [
      "Copying file://center_bro.csv [Content-Type=text/csv]...\n",
      "/ [1 files][  890.0 B/  890.0 B]                                                \n",
      "Operation completed over 1 objects/890.0 B.                                      \n"
     ]
    }
   ],
   "source": [
    "centers_bro = pd.DataFrame(center_bro,index = range(1,len(center_bro)+1))\n",
    "centers_bro.to_csv('center_bro.csv')\n",
    "!gsutil cp 'center_bro.csv' 'gs://finalproject20/data/kmeans'"
   ]
  },
  {
   "cell_type": "markdown",
   "metadata": {},
   "source": [
    "__QUEENS__"
   ]
  },
  {
   "cell_type": "code",
   "execution_count": 288,
   "metadata": {},
   "outputs": [],
   "source": [
    "queens = df.withColumnRenamed('NUMBER OF PERSONS INJURED','nopi').withColumnRenamed('ACCIDENT DATE','date')\n",
    "queens = queens.filter(queens.nopi!='0').filter(queens.BOROUGH=='QUEENS')\n",
    "queens_location = queens.select('LATITUDE','LONGITUDE','date').rdd\n",
    "queens_location = queens_location.map(lambda x: (x[2].split('/'),x[0],x[1])).filter(lambda x: (x[0][2]=='2018' or x[0][2]=='2017' or x[0][2]=='2016') and x[1]!=None and x[1]!=0 and x[2]!=None).map(lambda x: (x[1], x[2]))"
   ]
  },
  {
   "cell_type": "code",
   "execution_count": 264,
   "metadata": {},
   "outputs": [
    {
     "name": "stdout",
     "output_type": "stream",
     "text": [
      "[13.41075538877291, 8.70765782023152, 3.8351078697699177, 2.4954897825364246, 1.7479015595341942, 0.8368065814305328, 0.5959174790221556, 0.46555867095399145, 0.3396371244994685]\n"
     ]
    },
    {
     "data": {
      "text/plain": [
       "[<matplotlib.lines.Line2D at 0x7f636180ea50>]"
      ]
     },
     "execution_count": 264,
     "metadata": {},
     "output_type": "execute_result"
    },
    {
     "data": {
      "image/png": "[encoded data removed]",
      "text/plain": [
       "<matplotlib.figure.Figure at 0x7f636186c050>"
      ]
     },
     "metadata": {},
     "output_type": "display_data"
    }
   ],
   "source": [
    "k = [3,5,10,15,20,40,60,80,100]\n",
    "SE = calculate(k,queens_location)\n",
    "print(SE)\n",
    "plt.plot(k,SE)"
   ]
  },
  {
   "cell_type": "code",
   "execution_count": 278,
   "metadata": {},
   "outputs": [
    {
     "data": {
      "text/plain": [
       "[<matplotlib.lines.Line2D at 0x7f63616d55d0>]"
      ]
     },
     "execution_count": 278,
     "metadata": {},
     "output_type": "execute_result"
    },
    {
     "data": {
      "image/png": "[encoded data removed]",
      "text/plain": [
       "<matplotlib.figure.Figure at 0x7f63625ec890>"
      ]
     },
     "metadata": {},
     "output_type": "display_data"
    }
   ],
   "source": [
    "queens_data = queens_location.collect()\n",
    "queens_x = []\n",
    "queens_y = []\n",
    "for i in queens_data:\n",
    "    if i[1]<-73.7 and i[1]>-74 and i[0]>40.62 and i[0]<40.8:\n",
    "        queens_x.append(i[0])\n",
    "        queens_y.append(i[1])\n",
    "    \n",
    "plt.plot(queens_y,queens_x,'ro',markersize=1)"
   ]
  },
  {
   "cell_type": "code",
   "execution_count": 289,
   "metadata": {},
   "outputs": [],
   "source": [
    "queens = queens_location.filter(lambda x:x[0]>40.62 and x[0]<40.8 and x[1]<-73.7 and x[1]>-74)"
   ]
  },
  {
   "cell_type": "code",
   "execution_count": 292,
   "metadata": {},
   "outputs": [],
   "source": [
    "queens_clusters = KMeans.train(queens, 25, maxIterations=10, initializationMode=\"random\")\n",
    "queens_centers = queens_clusters.centers\n",
    "queens_x2 = []\n",
    "queens_y2 = []\n",
    "queens_centers = list(queens_centers)\n",
    "for i in queens_centers:\n",
    "    if(i[0]!=0):\n",
    "        queens_x2.append(i[0])\n",
    "        queens_y2.append(i[1])"
   ]
  },
  {
   "cell_type": "code",
   "execution_count": 293,
   "metadata": {},
   "outputs": [],
   "source": [
    "queens_group = queens_location.map(lambda x: (queens_clusters.predict(x),1)).reduceByKey(lambda v1,v2: v1+v2).sortBy(lambda x:-x[1])\n",
    "queens_sequence = []\n",
    "queens_number = []\n",
    "for i in queens_group.collect():\n",
    "    queens_sequence.append(i[0])\n",
    "    queens_number.append(i[1])"
   ]
  },
  {
   "cell_type": "code",
   "execution_count": 298,
   "metadata": {},
   "outputs": [
    {
     "data": {
      "image/png": "[encoded data removed]",
      "text/plain": [
       "<matplotlib.figure.Figure at 0x7f63611ac110>"
      ]
     },
     "metadata": {},
     "output_type": "display_data"
    }
   ],
   "source": [
    "f3, ax3 = plt.subplots(1)\n",
    "ax3.plot(queens_y,queens_x,'ro',markersize=1)\n",
    "center_queen = []\n",
    "for i in np.arange(24):\n",
    "    center_queen.append([queens_x2[queens_sequence[i]],queens_y2[queens_sequence[i]],queens_number[i]])\n",
    "    ax3.plot(queens_y2[queens_sequence[i]],queens_x2[queens_sequence[i]],'bo',markersize=queens_number[i]/120)"
   ]
  },
  {
   "cell_type": "code",
   "execution_count": 290,
   "metadata": {},
   "outputs": [],
   "source": [
    "data_queen = queens.collect()"
   ]
  },
  {
   "cell_type": "code",
   "execution_count": 291,
   "metadata": {},
   "outputs": [
    {
     "name": "stdout",
     "output_type": "stream",
     "text": [
      "Copying file://Latitude_2018_queen.csv [Content-Type=text/csv]...\n",
      "/ [1 files][535.3 KiB/535.3 KiB]                                                \n",
      "Operation completed over 1 objects/535.3 KiB.                                    \n"
     ]
    }
   ],
   "source": [
    "Latitude = pd.DataFrame(data_queen,index = range(1,len(data_queen)+1))\n",
    "Latitude.to_csv('Latitude_2018_queen.csv')\n",
    "!gsutil cp 'Latitude_2018_queen.csv' 'gs://finalproject20/data/kmeans'"
   ]
  },
  {
   "cell_type": "code",
   "execution_count": 301,
   "metadata": {},
   "outputs": [
    {
     "name": "stdout",
     "output_type": "stream",
     "text": [
      "Copying file://center_queen.csv [Content-Type=text/csv]...\n",
      "/ [1 files][  1.1 KiB/  1.1 KiB]                                                \n",
      "Operation completed over 1 objects/1.1 KiB.                                      \n"
     ]
    }
   ],
   "source": [
    "centers_queen = pd.DataFrame(center_queen,index = range(1,len(center_queen)+1))\n",
    "centers_queen.to_csv('center_queen.csv')\n",
    "!gsutil cp 'center_queen.csv' 'gs://finalproject20/data/kmeans'"
   ]
  },
  {
   "cell_type": "markdown",
   "metadata": {},
   "source": [
    "__car volume count__"
   ]
  },
  {
   "cell_type": "code",
   "execution_count": 4,
   "metadata": {},
   "outputs": [
    {
     "name": "stdout",
     "output_type": "stream",
     "text": [
      "+---+----------+------------+---------------+---------------+---------+----------+-------------+-----------+-----------+-----------+-----------+-----------+-----------+-----------+-----------+------------+-------------+-------------+------------+-----------+-----------+-----------+-----------+-----------+-----------+-----------+-----------+------------+-------------+-------------+\n",
      "| ID|Segment ID|Roadway Name|           From|             To|Direction|      Date|12:00-1:00 AM|1:00-2:00AM|2:00-3:00AM|3:00-4:00AM|4:00-5:00AM|5:00-6:00AM|6:00-7:00AM|7:00-8:00AM|8:00-9:00AM|9:00-10:00AM|10:00-11:00AM|11:00-12:00PM|12:00-1:00PM|1:00-2:00PM|2:00-3:00PM|3:00-4:00PM|4:00-5:00PM|5:00-6:00PM|6:00-7:00PM|7:00-8:00PM|8:00-9:00PM|9:00-10:00PM|10:00-11:00PM|11:00-12:00AM|\n",
      "+---+----------+------------+---------------+---------------+---------+----------+-------------+-----------+-----------+-----------+-----------+-----------+-----------+-----------+-----------+------------+-------------+-------------+------------+-----------+-----------+-----------+-----------+-----------+-----------+-----------+-----------+------------+-------------+-------------+\n",
      "|  2|     70376|    3 Avenue|East 154 Street|East 155 Street|       NB|09/13/2014|          204|        177|        133|        126|        141|        134|        121|        180|        223|         272|          386|          339|         513|        506|        520|        611|        573|        546|        582|        528|        432|         328|          282|          240|\n",
      "+---+----------+------------+---------------+---------------+---------+----------+-------------+-----------+-----------+-----------+-----------+-----------+-----------+-----------+-----------+------------+-------------+-------------+------------+-----------+-----------+-----------+-----------+-----------+-----------+-----------+-----------+------------+-------------+-------------+\n",
      "only showing top 1 row\n",
      "\n"
     ]
    }
   ],
   "source": [
    "df2 = spark.read.format(\"csv\").options(header='true', inferschema='true').load('gs://finalproject20/data/Traffic_Volume_Counts__2014-2018_.csv')\n",
    "df2.show(1)"
   ]
  },
  {
   "cell_type": "code",
   "execution_count": 48,
   "metadata": {},
   "outputs": [],
   "source": [
    "def regulate(x):\n",
    "    res = []\n",
    "    for i in np.arange(2,31):\n",
    "        if(i==2):\n",
    "            res.append(x[i].lower())\n",
    "        else:\n",
    "            res.append(x[i])\n",
    "    return res"
   ]
  },
  {
   "cell_type": "code",
   "execution_count": 55,
   "metadata": {
    "collapsed": true
   },
   "outputs": [
    {
     "data": {
      "text/plain": [
       "[[u'3 avenue',\n",
       "  u'East 154 Street',\n",
       "  u'East 155 Street',\n",
       "  u'NB',\n",
       "  u'09/17/2014',\n",
       "  138,\n",
       "  95,\n",
       "  59,\n",
       "  60,\n",
       "  58,\n",
       "  74,\n",
       "  190,\n",
       "  345,\n",
       "  445,\n",
       "  389,\n",
       "  449,\n",
       "  459,\n",
       "  386,\n",
       "  478,\n",
       "  495,\n",
       "  561,\n",
       "  624,\n",
       "  582,\n",
       "  566,\n",
       "  495,\n",
       "  377,\n",
       "  258,\n",
       "  212,\n",
       "  163],\n",
       " [u'3 avenue',\n",
       "  u'East 155 Street',\n",
       "  u'East 154 Street',\n",
       "  u'SB',\n",
       "  u'09/17/2014',\n",
       "  112,\n",
       "  69,\n",
       "  57,\n",
       "  44,\n",
       "  83,\n",
       "  116,\n",
       "  274,\n",
       "  457,\n",
       "  391,\n",
       "  317,\n",
       "  327,\n",
       "  292,\n",
       "  349,\n",
       "  326,\n",
       "  337,\n",
       "  385,\n",
       "  390,\n",
       "  353,\n",
       "  319,\n",
       "  337,\n",
       "  235,\n",
       "  204,\n",
       "  154,\n",
       "  135],\n",
       " [u'bedford park boulevard',\n",
       "  u'Grand Concourse',\n",
       "  u'Valentine Avenue',\n",
       "  u'EB',\n",
       "  u'09/17/2014',\n",
       "  79,\n",
       "  35,\n",
       "  33,\n",
       "  21,\n",
       "  40,\n",
       "  61,\n",
       "  128,\n",
       "  343,\n",
       "  302,\n",
       "  264,\n",
       "  206,\n",
       "  245,\n",
       "  251,\n",
       "  275,\n",
       "  332,\n",
       "  372,\n",
       "  353,\n",
       "  372,\n",
       "  312,\n",
       "  325,\n",
       "  369,\n",
       "  225,\n",
       "  121,\n",
       "  113],\n",
       " [u'bedford park boulevard',\n",
       "  u'Grand Concourse',\n",
       "  u'Valentine Avenue',\n",
       "  u'WB',\n",
       "  u'09/17/2014',\n",
       "  53,\n",
       "  40,\n",
       "  24,\n",
       "  28,\n",
       "  39,\n",
       "  51,\n",
       "  131,\n",
       "  377,\n",
       "  394,\n",
       "  345,\n",
       "  269,\n",
       "  285,\n",
       "  275,\n",
       "  272,\n",
       "  404,\n",
       "  403,\n",
       "  382,\n",
       "  471,\n",
       "  299,\n",
       "  268,\n",
       "  229,\n",
       "  151,\n",
       "  106,\n",
       "  86],\n",
       " [u'broadway',\n",
       "  u'West 242 Street',\n",
       "  u'240 Street',\n",
       "  u'SB',\n",
       "  u'09/17/2014',\n",
       "  176,\n",
       "  93,\n",
       "  72,\n",
       "  67,\n",
       "  86,\n",
       "  186,\n",
       "  410,\n",
       "  657,\n",
       "  945,\n",
       "  672,\n",
       "  542,\n",
       "  581,\n",
       "  593,\n",
       "  614,\n",
       "  785,\n",
       "  812,\n",
       "  884,\n",
       "  900,\n",
       "  955,\n",
       "  694,\n",
       "  562,\n",
       "  510,\n",
       "  367,\n",
       "  251],\n",
       " [u'broadway',\n",
       "  u'West 242 Street',\n",
       "  u'240 Street',\n",
       "  u'NB',\n",
       "  u'09/17/2014',\n",
       "  176,\n",
       "  93,\n",
       "  72,\n",
       "  67,\n",
       "  86,\n",
       "  186,\n",
       "  410,\n",
       "  657,\n",
       "  945,\n",
       "  672,\n",
       "  542,\n",
       "  581,\n",
       "  593,\n",
       "  614,\n",
       "  785,\n",
       "  812,\n",
       "  884,\n",
       "  900,\n",
       "  955,\n",
       "  694,\n",
       "  562,\n",
       "  510,\n",
       "  367,\n",
       "  251],\n",
       " [u'broadway',\n",
       "  u'West 242 Street',\n",
       "  u'240 Street',\n",
       "  u'SB',\n",
       "  u'09/17/2014',\n",
       "  50,\n",
       "  22,\n",
       "  23,\n",
       "  17,\n",
       "  21,\n",
       "  58,\n",
       "  140,\n",
       "  295,\n",
       "  293,\n",
       "  200,\n",
       "  200,\n",
       "  230,\n",
       "  182,\n",
       "  218,\n",
       "  246,\n",
       "  272,\n",
       "  226,\n",
       "  234,\n",
       "  210,\n",
       "  194,\n",
       "  130,\n",
       "  98,\n",
       "  105,\n",
       "  76],\n",
       " [u'bronx river parkway',\n",
       "  u'Bronx River',\n",
       "  u'East Gun Hill Road',\n",
       "  u'NB',\n",
       "  u'09/17/2014',\n",
       "  447,\n",
       "  257,\n",
       "  179,\n",
       "  201,\n",
       "  406,\n",
       "  1298,\n",
       "  3675,\n",
       "  4046,\n",
       "  3011,\n",
       "  2650,\n",
       "  2110,\n",
       "  2129,\n",
       "  2055,\n",
       "  1977,\n",
       "  2418,\n",
       "  2619,\n",
       "  2864,\n",
       "  3177,\n",
       "  2894,\n",
       "  2333,\n",
       "  1794,\n",
       "  1467,\n",
       "  1127,\n",
       "  884],\n",
       " [u'bronx river parkway',\n",
       "  u'East Gun Hill Road',\n",
       "  u'Bronx River',\n",
       "  u'SB',\n",
       "  u'09/17/2014',\n",
       "  366,\n",
       "  161,\n",
       "  154,\n",
       "  98,\n",
       "  214,\n",
       "  455,\n",
       "  1355,\n",
       "  2458,\n",
       "  2817,\n",
       "  1882,\n",
       "  1691,\n",
       "  1717,\n",
       "  1826,\n",
       "  2110,\n",
       "  2961,\n",
       "  3674,\n",
       "  3399,\n",
       "  3491,\n",
       "  3010,\n",
       "  2554,\n",
       "  1911,\n",
       "  1388,\n",
       "  695,\n",
       "  579],\n",
       " [u'brook avenue',\n",
       "  u'East 152 Street',\n",
       "  u'East 153 Street',\n",
       "  u'SB',\n",
       "  u'09/17/2014',\n",
       "  33,\n",
       "  26,\n",
       "  20,\n",
       "  12,\n",
       "  27,\n",
       "  37,\n",
       "  143,\n",
       "  326,\n",
       "  283,\n",
       "  253,\n",
       "  215,\n",
       "  252,\n",
       "  313,\n",
       "  317,\n",
       "  323,\n",
       "  408,\n",
       "  436,\n",
       "  313,\n",
       "  285,\n",
       "  207,\n",
       "  145,\n",
       "  92,\n",
       "  77,\n",
       "  46],\n",
       " [u'east 138 street',\n",
       "  u'Canal Place',\n",
       "  u'Rider Avenue',\n",
       "  u'EB',\n",
       "  u'09/17/2014',\n",
       "  190,\n",
       "  123,\n",
       "  97,\n",
       "  98,\n",
       "  160,\n",
       "  262,\n",
       "  384,\n",
       "  695,\n",
       "  621,\n",
       "  553,\n",
       "  465,\n",
       "  433,\n",
       "  490,\n",
       "  488,\n",
       "  596,\n",
       "  570,\n",
       "  642,\n",
       "  711,\n",
       "  577,\n",
       "  484,\n",
       "  421,\n",
       "  336,\n",
       "  271,\n",
       "  220],\n",
       " [u'east 138 street',\n",
       "  u'Rider Avenue',\n",
       "  u'Canal Place',\n",
       "  u'WB',\n",
       "  u'09/17/2014',\n",
       "  163,\n",
       "  100,\n",
       "  71,\n",
       "  61,\n",
       "  131,\n",
       "  171,\n",
       "  402,\n",
       "  713,\n",
       "  726,\n",
       "  545,\n",
       "  425,\n",
       "  402,\n",
       "  449,\n",
       "  455,\n",
       "  547,\n",
       "  558,\n",
       "  632,\n",
       "  632,\n",
       "  483,\n",
       "  441,\n",
       "  351,\n",
       "  263,\n",
       "  209,\n",
       "  144],\n",
       " [u'concourse village west',\n",
       "  u'East 156 Street',\n",
       "  u'East 156 Street',\n",
       "  u'NB',\n",
       "  u'09/17/2014',\n",
       "  53,\n",
       "  38,\n",
       "  14,\n",
       "  12,\n",
       "  15,\n",
       "  66,\n",
       "  127,\n",
       "  434,\n",
       "  422,\n",
       "  368,\n",
       "  218,\n",
       "  238,\n",
       "  222,\n",
       "  205,\n",
       "  261,\n",
       "  272,\n",
       "  418,\n",
       "  334,\n",
       "  228,\n",
       "  238,\n",
       "  210,\n",
       "  124,\n",
       "  124,\n",
       "  70],\n",
       " [u'courtladt avenue',\n",
       "  u'East 153 Street',\n",
       "  u'East 154 Street',\n",
       "  u'NB',\n",
       "  u'09/17/2014',\n",
       "  43,\n",
       "  34,\n",
       "  27,\n",
       "  25,\n",
       "  31,\n",
       "  32,\n",
       "  45,\n",
       "  149,\n",
       "  166,\n",
       "  210,\n",
       "  192,\n",
       "  171,\n",
       "  185,\n",
       "  185,\n",
       "  219,\n",
       "  246,\n",
       "  262,\n",
       "  293,\n",
       "  257,\n",
       "  171,\n",
       "  133,\n",
       "  105,\n",
       "  79,\n",
       "  68],\n",
       " [u'east 144 street',\n",
       "  u'A J Griffin Place',\n",
       "  u'Grand Concourse',\n",
       "  u'WB',\n",
       "  u'09/17/2014',\n",
       "  59,\n",
       "  21,\n",
       "  12,\n",
       "  29,\n",
       "  25,\n",
       "  44,\n",
       "  110,\n",
       "  239,\n",
       "  236,\n",
       "  201,\n",
       "  165,\n",
       "  197,\n",
       "  197,\n",
       "  191,\n",
       "  282,\n",
       "  279,\n",
       "  319,\n",
       "  296,\n",
       "  238,\n",
       "  209,\n",
       "  164,\n",
       "  83,\n",
       "  58,\n",
       "  80],\n",
       " [u'east 144 street',\n",
       "  u'Grand Concourse',\n",
       "  u'A J Griffin Place',\n",
       "  u'EB',\n",
       "  u'09/17/2014',\n",
       "  52,\n",
       "  23,\n",
       "  17,\n",
       "  25,\n",
       "  31,\n",
       "  72,\n",
       "  243,\n",
       "  483,\n",
       "  480,\n",
       "  284,\n",
       "  193,\n",
       "  195,\n",
       "  206,\n",
       "  247,\n",
       "  268,\n",
       "  349,\n",
       "  326,\n",
       "  322,\n",
       "  252,\n",
       "  216,\n",
       "  176,\n",
       "  99,\n",
       "  88,\n",
       "  106],\n",
       " [u'east 149 street',\n",
       "  u'A J Griffin Place',\n",
       "  u'Grand Concourse',\n",
       "  u'WB',\n",
       "  u'09/17/2014',\n",
       "  184,\n",
       "  133,\n",
       "  84,\n",
       "  99,\n",
       "  88,\n",
       "  152,\n",
       "  403,\n",
       "  765,\n",
       "  668,\n",
       "  587,\n",
       "  520,\n",
       "  515,\n",
       "  523,\n",
       "  513,\n",
       "  582,\n",
       "  597,\n",
       "  632,\n",
       "  640,\n",
       "  596,\n",
       "  564,\n",
       "  481,\n",
       "  358,\n",
       "  298,\n",
       "  233],\n",
       " [u'east 149 street',\n",
       "  u'Grand Concourse',\n",
       "  u'A J Griffin Place',\n",
       "  u'EB',\n",
       "  u'09/17/2014',\n",
       "  265,\n",
       "  184,\n",
       "  129,\n",
       "  105,\n",
       "  131,\n",
       "  172,\n",
       "  426,\n",
       "  774,\n",
       "  778,\n",
       "  778,\n",
       "  647,\n",
       "  644,\n",
       "  624,\n",
       "  569,\n",
       "  635,\n",
       "  797,\n",
       "  854,\n",
       "  903,\n",
       "  812,\n",
       "  689,\n",
       "  566,\n",
       "  497,\n",
       "  391,\n",
       "  324],\n",
       " [u'east 149 street',\n",
       "  u'Morris Avenue',\n",
       "  u'Park Avenue',\n",
       "  u'WB',\n",
       "  u'09/17/2014',\n",
       "  203,\n",
       "  124,\n",
       "  98,\n",
       "  86,\n",
       "  83,\n",
       "  166,\n",
       "  490,\n",
       "  979,\n",
       "  827,\n",
       "  696,\n",
       "  615,\n",
       "  606,\n",
       "  592,\n",
       "  624,\n",
       "  339,\n",
       "  784,\n",
       "  649,\n",
       "  769,\n",
       "  718,\n",
       "  662,\n",
       "  546,\n",
       "  431,\n",
       "  336,\n",
       "  260],\n",
       " [u'east 149 street',\n",
       "  u'Park Avenue',\n",
       "  u'Morris Avenue',\n",
       "  u'EB',\n",
       "  u'09/17/2014',\n",
       "  180,\n",
       "  102,\n",
       "  117,\n",
       "  89,\n",
       "  111,\n",
       "  126,\n",
       "  287,\n",
       "  627,\n",
       "  709,\n",
       "  654,\n",
       "  507,\n",
       "  375,\n",
       "  538,\n",
       "  553,\n",
       "  515,\n",
       "  609,\n",
       "  675,\n",
       "  675,\n",
       "  614,\n",
       "  482,\n",
       "  426,\n",
       "  345,\n",
       "  306,\n",
       "  230],\n",
       " [u'eastchester road',\n",
       "  u'East Gun Hill Road',\n",
       "  u'Adee Avenue',\n",
       "  u'NB',\n",
       "  u'09/17/2014',\n",
       "  57,\n",
       "  35,\n",
       "  21,\n",
       "  15,\n",
       "  13,\n",
       "  45,\n",
       "  146,\n",
       "  371,\n",
       "  377,\n",
       "  258,\n",
       "  288,\n",
       "  277,\n",
       "  305,\n",
       "  349,\n",
       "  434,\n",
       "  445,\n",
       "  425,\n",
       "  484,\n",
       "  435,\n",
       "  318,\n",
       "  260,\n",
       "  229,\n",
       "  165,\n",
       "  148],\n",
       " [u'eastchester road',\n",
       "  u'East Gun Hill Road',\n",
       "  u'Adee Avenue',\n",
       "  u'SB',\n",
       "  u'09/17/2014',\n",
       "  22,\n",
       "  20,\n",
       "  15,\n",
       "  9,\n",
       "  23,\n",
       "  77,\n",
       "  183,\n",
       "  407,\n",
       "  371,\n",
       "  231,\n",
       "  221,\n",
       "  200,\n",
       "  238,\n",
       "  278,\n",
       "  353,\n",
       "  318,\n",
       "  293,\n",
       "  295,\n",
       "  277,\n",
       "  215,\n",
       "  204,\n",
       "  127,\n",
       "  99,\n",
       "  75],\n",
       " [u'eastchester road',\n",
       "  u'Givan Avenue',\n",
       "  u'Tillotson Avenue',\n",
       "  u'NB',\n",
       "  u'09/17/2014',\n",
       "  67,\n",
       "  53,\n",
       "  31,\n",
       "  18,\n",
       "  27,\n",
       "  54,\n",
       "  177,\n",
       "  400,\n",
       "  408,\n",
       "  295,\n",
       "  277,\n",
       "  308,\n",
       "  315,\n",
       "  337,\n",
       "  468,\n",
       "  480,\n",
       "  464,\n",
       "  525,\n",
       "  522,\n",
       "  394,\n",
       "  347,\n",
       "  271,\n",
       "  198,\n",
       "  169],\n",
       " [u'eastchester road',\n",
       "  u'Givan Avenue',\n",
       "  u'Tillotson Avenue',\n",
       "  u'SB',\n",
       "  u'09/17/2014',\n",
       "  63,\n",
       "  34,\n",
       "  17,\n",
       "  11,\n",
       "  31,\n",
       "  70,\n",
       "  175,\n",
       "  362,\n",
       "  386,\n",
       "  262,\n",
       "  220,\n",
       "  246,\n",
       "  258,\n",
       "  296,\n",
       "  362,\n",
       "  355,\n",
       "  316,\n",
       "  364,\n",
       "  388,\n",
       "  300,\n",
       "  278,\n",
       "  205,\n",
       "  140,\n",
       "  114],\n",
       " [u'east 233 street',\n",
       "  u'Webster Avenue',\n",
       "  u'Bronx River Parkway',\n",
       "  u'EB',\n",
       "  u'09/17/2014',\n",
       "  412,\n",
       "  140,\n",
       "  141,\n",
       "  114,\n",
       "  136,\n",
       "  244,\n",
       "  609,\n",
       "  1184,\n",
       "  1170,\n",
       "  883,\n",
       "  771,\n",
       "  760,\n",
       "  859,\n",
       "  912,\n",
       "  1060,\n",
       "  1283,\n",
       "  1246,\n",
       "  1008,\n",
       "  1322,\n",
       "  1043,\n",
       "  920,\n",
       "  730,\n",
       "  593,\n",
       "  550],\n",
       " [u'east 233 street',\n",
       "  u'Webster Avenue',\n",
       "  u'Bronx River Parkway',\n",
       "  u'WB',\n",
       "  u'09/17/2014',\n",
       "  238,\n",
       "  118,\n",
       "  111,\n",
       "  113,\n",
       "  180,\n",
       "  430,\n",
       "  1044,\n",
       "  1531,\n",
       "  1392,\n",
       "  1012,\n",
       "  840,\n",
       "  861,\n",
       "  976,\n",
       "  1041,\n",
       "  1162,\n",
       "  1198,\n",
       "  1172,\n",
       "  1178,\n",
       "  948,\n",
       "  943,\n",
       "  677,\n",
       "  522,\n",
       "  467,\n",
       "  340],\n",
       " [u'east fordham road',\n",
       "  u'Southern Boulevard',\n",
       "  u'Bronx River Parkway',\n",
       "  u'EB',\n",
       "  u'09/17/2014',\n",
       "  515,\n",
       "  281,\n",
       "  195,\n",
       "  176,\n",
       "  265,\n",
       "  537,\n",
       "  976,\n",
       "  1660,\n",
       "  1610,\n",
       "  1524,\n",
       "  1603,\n",
       "  1612,\n",
       "  1698,\n",
       "  1830,\n",
       "  2246,\n",
       "  2625,\n",
       "  2622,\n",
       "  2485,\n",
       "  2265,\n",
       "  2043,\n",
       "  1756,\n",
       "  1552,\n",
       "  956,\n",
       "  834],\n",
       " [u'east fordham road',\n",
       "  u'Southern Boulevard',\n",
       "  u'Bronx River Parkway',\n",
       "  u'WB',\n",
       "  u'09/17/2014',\n",
       "  465,\n",
       "  259,\n",
       "  130,\n",
       "  107,\n",
       "  191,\n",
       "  403,\n",
       "  2037,\n",
       "  3590,\n",
       "  3477,\n",
       "  2123,\n",
       "  1880,\n",
       "  1717,\n",
       "  1757,\n",
       "  1784,\n",
       "  2072,\n",
       "  2353,\n",
       "  2335,\n",
       "  2414,\n",
       "  1964,\n",
       "  1709,\n",
       "  1297,\n",
       "  1065,\n",
       "  849,\n",
       "  897],\n",
       " [u'east mosholu parkway',\n",
       "  u'Grand Concourse',\n",
       "  u'Van Courtlandt Avenue East',\n",
       "  u'SB',\n",
       "  u'09/17/2014',\n",
       "  26,\n",
       "  12,\n",
       "  13,\n",
       "  4,\n",
       "  12,\n",
       "  22,\n",
       "  60,\n",
       "  126,\n",
       "  130,\n",
       "  88,\n",
       "  95,\n",
       "  102,\n",
       "  120,\n",
       "  122,\n",
       "  118,\n",
       "  154,\n",
       "  145,\n",
       "  125,\n",
       "  131,\n",
       "  115,\n",
       "  109,\n",
       "  85,\n",
       "  50,\n",
       "  54],\n",
       " [u'east tremont avenue',\n",
       "  u'Anthony Avenue',\n",
       "  u'Monroe Avenue',\n",
       "  u'EB',\n",
       "  u'09/17/2014',\n",
       "  65,\n",
       "  41,\n",
       "  26,\n",
       "  21,\n",
       "  28,\n",
       "  48,\n",
       "  104,\n",
       "  257,\n",
       "  288,\n",
       "  255,\n",
       "  205,\n",
       "  219,\n",
       "  244,\n",
       "  239,\n",
       "  340,\n",
       "  365,\n",
       "  336,\n",
       "  375,\n",
       "  296,\n",
       "  256,\n",
       "  195,\n",
       "  156,\n",
       "  113,\n",
       "  108],\n",
       " [u'east tremont avenue',\n",
       "  u'Anthony Avenue',\n",
       "  u'Monroe Avenue',\n",
       "  u'WB',\n",
       "  u'09/17/2014',\n",
       "  74,\n",
       "  46,\n",
       "  30,\n",
       "  32,\n",
       "  55,\n",
       "  90,\n",
       "  128,\n",
       "  380,\n",
       "  368,\n",
       "  273,\n",
       "  246,\n",
       "  266,\n",
       "  241,\n",
       "  276,\n",
       "  369,\n",
       "  332,\n",
       "  374,\n",
       "  454,\n",
       "  337,\n",
       "  282,\n",
       "  228,\n",
       "  184,\n",
       "  141,\n",
       "  105],\n",
       " [u'exterior street',\n",
       "  u'East 138 Street',\n",
       "  u'East 135 Street',\n",
       "  u'SB',\n",
       "  u'09/17/2014',\n",
       "  488,\n",
       "  298,\n",
       "  212,\n",
       "  230,\n",
       "  404,\n",
       "  774,\n",
       "  1307,\n",
       "  1332,\n",
       "  1299,\n",
       "  1140,\n",
       "  1098,\n",
       "  1088,\n",
       "  1167,\n",
       "  1191,\n",
       "  1440,\n",
       "  1456,\n",
       "  1543,\n",
       "  1540,\n",
       "  1416,\n",
       "  1320,\n",
       "  1166,\n",
       "  1012,\n",
       "  860,\n",
       "  681],\n",
       " [u'grand concourse',\n",
       "  u'184 Street',\n",
       "  u'187 Street',\n",
       "  u'NB',\n",
       "  u'09/17/2014',\n",
       "  139,\n",
       "  72,\n",
       "  45,\n",
       "  39,\n",
       "  48,\n",
       "  81,\n",
       "  156,\n",
       "  415,\n",
       "  583,\n",
       "  432,\n",
       "  444,\n",
       "  444,\n",
       "  525,\n",
       "  528,\n",
       "  750,\n",
       "  893,\n",
       "  1002,\n",
       "  1146,\n",
       "  802,\n",
       "  579,\n",
       "  457,\n",
       "  346,\n",
       "  237,\n",
       "  182],\n",
       " [u'grand concourse',\n",
       "  u'184 Street',\n",
       "  u'187 Street',\n",
       "  u'SB',\n",
       "  u'09/17/2014',\n",
       "  127,\n",
       "  62,\n",
       "  59,\n",
       "  27,\n",
       "  45,\n",
       "  135,\n",
       "  661,\n",
       "  1456,\n",
       "  1105,\n",
       "  732,\n",
       "  530,\n",
       "  477,\n",
       "  532,\n",
       "  491,\n",
       "  684,\n",
       "  714,\n",
       "  708,\n",
       "  722,\n",
       "  598,\n",
       "  510,\n",
       "  421,\n",
       "  273,\n",
       "  190,\n",
       "  171],\n",
       " [u'harlem river driveway',\n",
       "  u'Dyckman Street',\n",
       "  u'Amsterdam Avenue',\n",
       "  u'SB',\n",
       "  u'09/17/2014',\n",
       "  158,\n",
       "  89,\n",
       "  76,\n",
       "  59,\n",
       "  144,\n",
       "  372,\n",
       "  690,\n",
       "  1088,\n",
       "  899,\n",
       "  601,\n",
       "  480,\n",
       "  474,\n",
       "  545,\n",
       "  633,\n",
       "  689,\n",
       "  673,\n",
       "  609,\n",
       "  593,\n",
       "  519,\n",
       "  470,\n",
       "  410,\n",
       "  363,\n",
       "  357,\n",
       "  278],\n",
       " [u'harlem river driveway',\n",
       "  u'Dyckman Street',\n",
       "  u'Amsterdam Avenue',\n",
       "  u'NB',\n",
       "  u'09/17/2014',\n",
       "  180,\n",
       "  110,\n",
       "  62,\n",
       "  64,\n",
       "  103,\n",
       "  227,\n",
       "  319,\n",
       "  592,\n",
       "  638,\n",
       "  505,\n",
       "  479,\n",
       "  515,\n",
       "  563,\n",
       "  610,\n",
       "  695,\n",
       "  700,\n",
       "  825,\n",
       "  796,\n",
       "  680,\n",
       "  573,\n",
       "  438,\n",
       "  389,\n",
       "  349,\n",
       "  305],\n",
       " [u'henry hudson parkway',\n",
       "  u'Dyckman Street',\n",
       "  u'Henry Hudson Bridge',\n",
       "  u'SB',\n",
       "  u'09/17/2014',\n",
       "  654,\n",
       "  206,\n",
       "  132,\n",
       "  81,\n",
       "  55,\n",
       "  176,\n",
       "  554,\n",
       "  1224,\n",
       "  1631,\n",
       "  1133,\n",
       "  946,\n",
       "  1026,\n",
       "  1049,\n",
       "  1294,\n",
       "  1662,\n",
       "  2166,\n",
       "  2627,\n",
       "  2836,\n",
       "  2745,\n",
       "  2054,\n",
       "  1555,\n",
       "  1508,\n",
       "  1384,\n",
       "  962],\n",
       " [u'henry hudson parkway',\n",
       "  u'Dyckman Street',\n",
       "  u'Henry Hudson Bridge',\n",
       "  u'NB',\n",
       "  u'09/17/2014',\n",
       "  129,\n",
       "  42,\n",
       "  40,\n",
       "  43,\n",
       "  109,\n",
       "  564,\n",
       "  2382,\n",
       "  3248,\n",
       "  2918,\n",
       "  2180,\n",
       "  1492,\n",
       "  1975,\n",
       "  1583,\n",
       "  1468,\n",
       "  1783,\n",
       "  2204,\n",
       "  2315,\n",
       "  2472,\n",
       "  2257,\n",
       "  1390,\n",
       "  888,\n",
       "  734,\n",
       "  470,\n",
       "  298],\n",
       " [u'henry hudson parkway',\n",
       "  u'Netherland Avenue',\n",
       "  u'Johnson Avenue',\n",
       "  u'NB',\n",
       "  u'09/17/2014',\n",
       "  235,\n",
       "  106,\n",
       "  65,\n",
       "  39,\n",
       "  70,\n",
       "  183,\n",
       "  779,\n",
       "  1750,\n",
       "  1692,\n",
       "  1152,\n",
       "  1011,\n",
       "  1063,\n",
       "  1107,\n",
       "  1372,\n",
       "  1813,\n",
       "  2243,\n",
       "  2641,\n",
       "  2738,\n",
       "  2501,\n",
       "  1759,\n",
       "  1416,\n",
       "  1297,\n",
       "  1174,\n",
       "  910],\n",
       " [u'henry hudson parkway',\n",
       "  u'Netherland Avenue',\n",
       "  u'Johnson Avenue',\n",
       "  u'SB',\n",
       "  u'09/17/2014',\n",
       "  80,\n",
       "  42,\n",
       "  42,\n",
       "  46,\n",
       "  132,\n",
       "  843,\n",
       "  2760,\n",
       "  2878,\n",
       "  2492,\n",
       "  2081,\n",
       "  1391,\n",
       "  1517,\n",
       "  1506,\n",
       "  1527,\n",
       "  1828,\n",
       "  2217,\n",
       "  2376,\n",
       "  2335,\n",
       "  2167,\n",
       "  1288,\n",
       "  853,\n",
       "  699,\n",
       "  433,\n",
       "  237],\n",
       " [u'hutchinson river parkway',\n",
       "  u'Bartow Avenue',\n",
       "  u'New England Thruway',\n",
       "  u'SB',\n",
       "  u'09/17/2014',\n",
       "  563,\n",
       "  257,\n",
       "  145,\n",
       "  129,\n",
       "  335,\n",
       "  1113,\n",
       "  2273,\n",
       "  2936,\n",
       "  2641,\n",
       "  2317,\n",
       "  2225,\n",
       "  2021,\n",
       "  2183,\n",
       "  2286,\n",
       "  2656,\n",
       "  2784,\n",
       "  2705,\n",
       "  2514,\n",
       "  2748,\n",
       "  2797,\n",
       "  2276,\n",
       "  1822,\n",
       "  1620,\n",
       "  1034],\n",
       " [u'hutchinson river parkway',\n",
       "  u'Bartow Avenue',\n",
       "  u'New England Thruway',\n",
       "  u'NB',\n",
       "  u'09/17/2014',\n",
       "  354,\n",
       "  184,\n",
       "  137,\n",
       "  126,\n",
       "  447,\n",
       "  1342,\n",
       "  2870,\n",
       "  3425,\n",
       "  3035,\n",
       "  2707,\n",
       "  2160,\n",
       "  2255,\n",
       "  2113,\n",
       "  2208,\n",
       "  2441,\n",
       "  2801,\n",
       "  2999,\n",
       "  3073,\n",
       "  2837,\n",
       "  2422,\n",
       "  2005,\n",
       "  1565,\n",
       "  1177,\n",
       "  683],\n",
       " [u'hutchinson river parkway',\n",
       "  u'Boller Avenue',\n",
       "  u'Einstein Loop SB',\n",
       "  u'NB',\n",
       "  u'09/17/2014',\n",
       "  606,\n",
       "  269,\n",
       "  194,\n",
       "  190,\n",
       "  415,\n",
       "  1300,\n",
       "  2834,\n",
       "  3885,\n",
       "  3642,\n",
       "  3326,\n",
       "  2772,\n",
       "  2638,\n",
       "  2714,\n",
       "  2818,\n",
       "  3291,\n",
       "  3636,\n",
       "  3645,\n",
       "  3505,\n",
       "  3630,\n",
       "  3480,\n",
       "  2863,\n",
       "  2315,\n",
       "  2081,\n",
       "  1317],\n",
       " [u'hutchinson river parkway',\n",
       "  u'Boller Avenue',\n",
       "  u'Einstein Loop SB',\n",
       "  u'SB',\n",
       "  u'09/17/2014',\n",
       "  501,\n",
       "  259,\n",
       "  172,\n",
       "  202,\n",
       "  629,\n",
       "  1701,\n",
       "  3443,\n",
       "  4142,\n",
       "  3639,\n",
       "  3106,\n",
       "  2595,\n",
       "  2676,\n",
       "  2492,\n",
       "  2601,\n",
       "  2933,\n",
       "  3260,\n",
       "  3652,\n",
       "  3915,\n",
       "  3650,\n",
       "  3332,\n",
       "  2561,\n",
       "  2001,\n",
       "  1559,\n",
       "  882],\n",
       " [u'melrose avenue',\n",
       "  u'East 153 Street',\n",
       "  u'East 154 Street',\n",
       "  u'NB',\n",
       "  u'09/17/2014',\n",
       "  77,\n",
       "  54,\n",
       "  32,\n",
       "  33,\n",
       "  36,\n",
       "  44,\n",
       "  126,\n",
       "  281,\n",
       "  287,\n",
       "  254,\n",
       "  254,\n",
       "  239,\n",
       "  270,\n",
       "  247,\n",
       "  271,\n",
       "  325,\n",
       "  301,\n",
       "  326,\n",
       "  253,\n",
       "  247,\n",
       "  191,\n",
       "  122,\n",
       "  103,\n",
       "  82],\n",
       " [u'melrose avenue',\n",
       "  u'East 154 Street',\n",
       "  u'East 153 Street',\n",
       "  u'SB',\n",
       "  u'09/17/2014',\n",
       "  115,\n",
       "  79,\n",
       "  60,\n",
       "  55,\n",
       "  61,\n",
       "  74,\n",
       "  179,\n",
       "  419,\n",
       "  401,\n",
       "  383,\n",
       "  366,\n",
       "  332,\n",
       "  357,\n",
       "  332,\n",
       "  364,\n",
       "  399,\n",
       "  391,\n",
       "  360,\n",
       "  313,\n",
       "  256,\n",
       "  243,\n",
       "  204,\n",
       "  137,\n",
       "  115],\n",
       " [u'morris avenue',\n",
       "  u'156 Street',\n",
       "  u'Park Avenue',\n",
       "  u'NB',\n",
       "  u'09/17/2014',\n",
       "  241,\n",
       "  141,\n",
       "  79,\n",
       "  78,\n",
       "  91,\n",
       "  131,\n",
       "  315,\n",
       "  675,\n",
       "  881,\n",
       "  678,\n",
       "  569,\n",
       "  592,\n",
       "  562,\n",
       "  846,\n",
       "  676,\n",
       "  571,\n",
       "  667,\n",
       "  913,\n",
       "  694,\n",
       "  584,\n",
       "  450,\n",
       "  387,\n",
       "  244,\n",
       "  210],\n",
       " [u'morris avenue',\n",
       "  u'156 Street',\n",
       "  u'Park Avenue',\n",
       "  u'SB',\n",
       "  u'09/17/2014',\n",
       "  137,\n",
       "  87,\n",
       "  78,\n",
       "  58,\n",
       "  112,\n",
       "  159,\n",
       "  304,\n",
       "  594,\n",
       "  448,\n",
       "  383,\n",
       "  373,\n",
       "  396,\n",
       "  396,\n",
       "  372,\n",
       "  442,\n",
       "  453,\n",
       "  502,\n",
       "  506,\n",
       "  503,\n",
       "  308,\n",
       "  332,\n",
       "  275,\n",
       "  216,\n",
       "  192],\n",
       " [u'morris avenue',\n",
       "  u'East 153 Street',\n",
       "  u'East 156 Street',\n",
       "  u'NB',\n",
       "  u'09/17/2014',\n",
       "  87,\n",
       "  66,\n",
       "  46,\n",
       "  27,\n",
       "  51,\n",
       "  64,\n",
       "  153,\n",
       "  326,\n",
       "  369,\n",
       "  340,\n",
       "  325,\n",
       "  289,\n",
       "  343,\n",
       "  271,\n",
       "  371,\n",
       "  366,\n",
       "  403,\n",
       "  435,\n",
       "  341,\n",
       "  287,\n",
       "  242,\n",
       "  190,\n",
       "  121,\n",
       "  96],\n",
       " [u'morris avenue',\n",
       "  u'East 156 Street',\n",
       "  u'East 153 Street',\n",
       "  u'SB',\n",
       "  u'09/17/2014',\n",
       "  52,\n",
       "  23,\n",
       "  17,\n",
       "  25,\n",
       "  31,\n",
       "  72,\n",
       "  243,\n",
       "  483,\n",
       "  480,\n",
       "  284,\n",
       "  193,\n",
       "  195,\n",
       "  206,\n",
       "  247,\n",
       "  268,\n",
       "  349,\n",
       "  326,\n",
       "  322,\n",
       "  252,\n",
       "  216,\n",
       "  176,\n",
       "  99,\n",
       "  88,\n",
       "  106],\n",
       " [u'moshoulu parkway',\n",
       "  u'Van Courtlandt Avenue East',\n",
       "  u'Grand Concourse',\n",
       "  u'NB',\n",
       "  u'09/17/2014',\n",
       "  99,\n",
       "  41,\n",
       "  32,\n",
       "  34,\n",
       "  52,\n",
       "  151,\n",
       "  428,\n",
       "  625,\n",
       "  570,\n",
       "  491,\n",
       "  420,\n",
       "  379,\n",
       "  419,\n",
       "  555,\n",
       "  691,\n",
       "  718,\n",
       "  730,\n",
       "  745,\n",
       "  585,\n",
       "  497,\n",
       "  397,\n",
       "  292,\n",
       "  198,\n",
       "  174],\n",
       " [u'moshoulu parkway',\n",
       "  u'Van Courtlandt Avenue East',\n",
       "  u'Grand Concourse',\n",
       "  u'SB',\n",
       "  u'09/17/2014',\n",
       "  120,\n",
       "  92,\n",
       "  33,\n",
       "  21,\n",
       "  58,\n",
       "  115,\n",
       "  400,\n",
       "  846,\n",
       "  774,\n",
       "  622,\n",
       "  477,\n",
       "  465,\n",
       "  458,\n",
       "  496,\n",
       "  661,\n",
       "  781,\n",
       "  803,\n",
       "  766,\n",
       "  633,\n",
       "  569,\n",
       "  450,\n",
       "  345,\n",
       "  300,\n",
       "  225],\n",
       " [u'park avenue',\n",
       "  u'138 Street',\n",
       "  u'135 Street',\n",
       "  u'NB',\n",
       "  u'09/17/2014',\n",
       "  80,\n",
       "  73,\n",
       "  78,\n",
       "  92,\n",
       "  173,\n",
       "  73,\n",
       "  115,\n",
       "  179,\n",
       "  217,\n",
       "  283,\n",
       "  115,\n",
       "  105,\n",
       "  114,\n",
       "  107,\n",
       "  157,\n",
       "  214,\n",
       "  232,\n",
       "  235,\n",
       "  159,\n",
       "  124,\n",
       "  122,\n",
       "  74,\n",
       "  47,\n",
       "  55],\n",
       " [u'provost avenue',\n",
       "  u'East 233 Street',\n",
       "  u'Westchester',\n",
       "  u'SB',\n",
       "  u'09/17/2014',\n",
       "  40,\n",
       "  32,\n",
       "  36,\n",
       "  25,\n",
       "  52,\n",
       "  148,\n",
       "  284,\n",
       "  304,\n",
       "  357,\n",
       "  347,\n",
       "  352,\n",
       "  360,\n",
       "  311,\n",
       "  365,\n",
       "  333,\n",
       "  341,\n",
       "  292,\n",
       "  332,\n",
       "  278,\n",
       "  271,\n",
       "  151,\n",
       "  116,\n",
       "  92,\n",
       "  60],\n",
       " [u'provost avenue',\n",
       "  u'East 233 Street',\n",
       "  u'Westchester',\n",
       "  u'NB',\n",
       "  u'09/17/2014',\n",
       "  81,\n",
       "  45,\n",
       "  35,\n",
       "  34,\n",
       "  49,\n",
       "  146,\n",
       "  251,\n",
       "  342,\n",
       "  370,\n",
       "  441,\n",
       "  382,\n",
       "  438,\n",
       "  394,\n",
       "  431,\n",
       "  490,\n",
       "  470,\n",
       "  479,\n",
       "  425,\n",
       "  385,\n",
       "  345,\n",
       "  223,\n",
       "  196,\n",
       "  134,\n",
       "  108],\n",
       " [u'riverdale avenue',\n",
       "  u'West 238 Street',\n",
       "  u'West 239 Street',\n",
       "  u'NB',\n",
       "  u'09/17/2014',\n",
       "  62,\n",
       "  25,\n",
       "  16,\n",
       "  18,\n",
       "  40,\n",
       "  76,\n",
       "  223,\n",
       "  475,\n",
       "  406,\n",
       "  304,\n",
       "  287,\n",
       "  266,\n",
       "  304,\n",
       "  377,\n",
       "  448,\n",
       "  472,\n",
       "  279,\n",
       "  438,\n",
       "  487,\n",
       "  375,\n",
       "  290,\n",
       "  262,\n",
       "  189,\n",
       "  104],\n",
       " [u'riverdale avenue',\n",
       "  u'West 239 Street',\n",
       "  u'West 238 Street',\n",
       "  u'SB',\n",
       "  u'09/17/2014',\n",
       "  43,\n",
       "  23,\n",
       "  22,\n",
       "  9,\n",
       "  25,\n",
       "  70,\n",
       "  276,\n",
       "  541,\n",
       "  645,\n",
       "  496,\n",
       "  455,\n",
       "  508,\n",
       "  449,\n",
       "  491,\n",
       "  519,\n",
       "  605,\n",
       "  604,\n",
       "  378,\n",
       "  583,\n",
       "  521,\n",
       "  295,\n",
       "  240,\n",
       "  159,\n",
       "  91],\n",
       " [u'river avenue',\n",
       "  u'East 150 Street',\n",
       "  u'East 151 Street',\n",
       "  u'NB',\n",
       "  u'09/17/2014',\n",
       "  43,\n",
       "  34,\n",
       "  17,\n",
       "  13,\n",
       "  18,\n",
       "  40,\n",
       "  69,\n",
       "  128,\n",
       "  188,\n",
       "  218,\n",
       "  226,\n",
       "  260,\n",
       "  223,\n",
       "  234,\n",
       "  249,\n",
       "  286,\n",
       "  322,\n",
       "  341,\n",
       "  286,\n",
       "  250,\n",
       "  188,\n",
       "  138,\n",
       "  113,\n",
       "  65],\n",
       " [u'river avenue',\n",
       "  u'East 151 Street',\n",
       "  u'East 150 Street',\n",
       "  u'SB',\n",
       "  u'09/17/2014',\n",
       "  23,\n",
       "  13,\n",
       "  9,\n",
       "  9,\n",
       "  14,\n",
       "  29,\n",
       "  80,\n",
       "  176,\n",
       "  169,\n",
       "  138,\n",
       "  157,\n",
       "  163,\n",
       "  193,\n",
       "  180,\n",
       "  193,\n",
       "  192,\n",
       "  215,\n",
       "  194,\n",
       "  228,\n",
       "  174,\n",
       "  169,\n",
       "  146,\n",
       "  78,\n",
       "  46],\n",
       " [u'sedgwick avenue',\n",
       "  u'West Fordham Road',\n",
       "  u'West 183 Street',\n",
       "  u'SB',\n",
       "  u'09/17/2014',\n",
       "  74,\n",
       "  52,\n",
       "  40,\n",
       "  25,\n",
       "  27,\n",
       "  65,\n",
       "  221,\n",
       "  538,\n",
       "  656,\n",
       "  390,\n",
       "  308,\n",
       "  393,\n",
       "  390,\n",
       "  391,\n",
       "  403,\n",
       "  455,\n",
       "  475,\n",
       "  550,\n",
       "  466,\n",
       "  418,\n",
       "  334,\n",
       "  258,\n",
       "  159,\n",
       "  131],\n",
       " [u'sedgwick avenue',\n",
       "  u'West 183 Street',\n",
       "  u'West Fordham Road',\n",
       "  u'NB',\n",
       "  u'09/17/2014',\n",
       "  56,\n",
       "  45,\n",
       "  37,\n",
       "  15,\n",
       "  31,\n",
       "  62,\n",
       "  140,\n",
       "  277,\n",
       "  294,\n",
       "  266,\n",
       "  266,\n",
       "  156,\n",
       "  212,\n",
       "  246,\n",
       "  353,\n",
       "  406,\n",
       "  393,\n",
       "  422,\n",
       "  359,\n",
       "  303,\n",
       "  304,\n",
       "  255,\n",
       "  130,\n",
       "  103],\n",
       " [u'southern boulevard',\n",
       "  u'East Fordham Road',\n",
       "  u'East Fordham Road',\n",
       "  u'SB',\n",
       "  u'09/17/2014',\n",
       "  170,\n",
       "  82,\n",
       "  56,\n",
       "  51,\n",
       "  89,\n",
       "  154,\n",
       "  515,\n",
       "  1188,\n",
       "  1029,\n",
       "  668,\n",
       "  625,\n",
       "  602,\n",
       "  664,\n",
       "  740,\n",
       "  879,\n",
       "  1017,\n",
       "  973,\n",
       "  1018,\n",
       "  808,\n",
       "  728,\n",
       "  579,\n",
       "  524,\n",
       "  270,\n",
       "  287],\n",
       " [u'southern boulevard',\n",
       "  u'East Fordham Road',\n",
       "  u'East Fordham Road',\n",
       "  u'NB',\n",
       "  u'09/17/2014',\n",
       "  128,\n",
       "  75,\n",
       "  44,\n",
       "  28,\n",
       "  66,\n",
       "  111,\n",
       "  253,\n",
       "  568,\n",
       "  633,\n",
       "  423,\n",
       "  384,\n",
       "  433,\n",
       "  477,\n",
       "  479,\n",
       "  687,\n",
       "  715,\n",
       "  736,\n",
       "  726,\n",
       "  501,\n",
       "  441,\n",
       "  360,\n",
       "  250,\n",
       "  262,\n",
       "  212],\n",
       " [u'st. anns avenue',\n",
       "  u'East 156 Street',\n",
       "  u'Rae Street',\n",
       "  u'SB',\n",
       "  u'09/17/2014',\n",
       "  26,\n",
       "  19,\n",
       "  11,\n",
       "  12,\n",
       "  19,\n",
       "  42,\n",
       "  99,\n",
       "  218,\n",
       "  207,\n",
       "  128,\n",
       "  152,\n",
       "  106,\n",
       "  116,\n",
       "  158,\n",
       "  176,\n",
       "  199,\n",
       "  169,\n",
       "  213,\n",
       "  128,\n",
       "  128,\n",
       "  105,\n",
       "  67,\n",
       "  65,\n",
       "  47],\n",
       " [u'st. anns avenue',\n",
       "  u'Rae Street',\n",
       "  u'East 156 Street',\n",
       "  u'NB',\n",
       "  u'09/17/2014',\n",
       "  60,\n",
       "  33,\n",
       "  17,\n",
       "  13,\n",
       "  42,\n",
       "  32,\n",
       "  107,\n",
       "  239,\n",
       "  278,\n",
       "  199,\n",
       "  181,\n",
       "  190,\n",
       "  211,\n",
       "  253,\n",
       "  270,\n",
       "  287,\n",
       "  361,\n",
       "  350,\n",
       "  293,\n",
       "  251,\n",
       "  175,\n",
       "  161,\n",
       "  112,\n",
       "  85],\n",
       " [u'southern boulevard',\n",
       "  u'Mosholu Parkway',\n",
       "  u'Bronx River Parkway',\n",
       "  u'WB',\n",
       "  u'09/17/2014',\n",
       "  175,\n",
       "  104,\n",
       "  104,\n",
       "  100,\n",
       "  141,\n",
       "  281,\n",
       "  870,\n",
       "  1193,\n",
       "  1153,\n",
       "  1116,\n",
       "  961,\n",
       "  905,\n",
       "  907,\n",
       "  1014,\n",
       "  1221,\n",
       "  1152,\n",
       "  1155,\n",
       "  1203,\n",
       "  1131,\n",
       "  993,\n",
       "  788,\n",
       "  548,\n",
       "  357,\n",
       "  266],\n",
       " [u'southern boulevard',\n",
       "  u'Mosholu Parkway',\n",
       "  u'Bronx River Parkway',\n",
       "  u'EB',\n",
       "  u'09/17/2014',\n",
       "  266,\n",
       "  115,\n",
       "  103,\n",
       "  81,\n",
       "  132,\n",
       "  266,\n",
       "  561,\n",
       "  1009,\n",
       "  1114,\n",
       "  849,\n",
       "  781,\n",
       "  831,\n",
       "  851,\n",
       "  921,\n",
       "  1268,\n",
       "  1503,\n",
       "  1408,\n",
       "  1412,\n",
       "  1119,\n",
       "  993,\n",
       "  950,\n",
       "  742,\n",
       "  557,\n",
       "  445],\n",
       " [u'university heights bridge approach',\n",
       "  u'Harlem River Shoreline',\n",
       "  u'9 Avenue',\n",
       "  u'WB',\n",
       "  u'09/17/2014',\n",
       "  426,\n",
       "  297,\n",
       "  182,\n",
       "  146,\n",
       "  304,\n",
       "  726,\n",
       "  1205,\n",
       "  1524,\n",
       "  1297,\n",
       "  1174,\n",
       "  1062,\n",
       "  1044,\n",
       "  1127,\n",
       "  1104,\n",
       "  1231,\n",
       "  1286,\n",
       "  1265,\n",
       "  1242,\n",
       "  1178,\n",
       "  1109,\n",
       "  1017,\n",
       "  829,\n",
       "  739,\n",
       "  554],\n",
       " [u'university heights bridge approach',\n",
       "  u'Harlem River Shoreline',\n",
       "  u'9 Avenue',\n",
       "  u'EB',\n",
       "  u'09/17/2014',\n",
       "  465,\n",
       "  322,\n",
       "  223,\n",
       "  162,\n",
       "  223,\n",
       "  318,\n",
       "  641,\n",
       "  846,\n",
       "  948,\n",
       "  750,\n",
       "  752,\n",
       "  696,\n",
       "  782,\n",
       "  879,\n",
       "  877,\n",
       "  1057,\n",
       "  1256,\n",
       "  1249,\n",
       "  1231,\n",
       "  1062,\n",
       "  877,\n",
       "  723,\n",
       "  630,\n",
       "  486],\n",
       " [u'white plains road',\n",
       "  u'East 215 Street',\n",
       "  u'East 216 Street',\n",
       "  u'SB',\n",
       "  u'09/17/2014',\n",
       "  226,\n",
       "  164,\n",
       "  107,\n",
       "  81,\n",
       "  68,\n",
       "  88,\n",
       "  103,\n",
       "  272,\n",
       "  426,\n",
       "  396,\n",
       "  349,\n",
       "  343,\n",
       "  362,\n",
       "  396,\n",
       "  414,\n",
       "  417,\n",
       "  448,\n",
       "  451,\n",
       "  415,\n",
       "  408,\n",
       "  401,\n",
       "  357,\n",
       "  291,\n",
       "  328],\n",
       " [u'white plains road',\n",
       "  u'East 215 Street',\n",
       "  u'East 216 Street',\n",
       "  u'NB',\n",
       "  u'09/17/2014',\n",
       "  109,\n",
       "  77,\n",
       "  50,\n",
       "  64,\n",
       "  73,\n",
       "  89,\n",
       "  118,\n",
       "  255,\n",
       "  304,\n",
       "  217,\n",
       "  229,\n",
       "  269,\n",
       "  256,\n",
       "  242,\n",
       "  274,\n",
       "  287,\n",
       "  306,\n",
       "  313,\n",
       "  287,\n",
       "  280,\n",
       "  259,\n",
       "  210,\n",
       "  157,\n",
       "  174]]"
      ]
     },
     "execution_count": 55,
     "metadata": {},
     "output_type": "execute_result"
    }
   ],
   "source": [
    "volume1 = volume.map(lambda x: regulate(x)).filter(lambda x:x[4]=='09/17/2014')\n",
    "volume1.take(100)"
   ]
  },
  {
   "cell_type": "markdown",
   "metadata": {},
   "source": [
    "weather"
   ]
  },
  {
   "cell_type": "code",
   "execution_count": 3,
   "metadata": {},
   "outputs": [
    {
     "name": "stdout",
     "output_type": "stream",
     "text": [
      "+---------+-------------------+-------------------+-------------------+-------------+---------+----------+\n",
      "|     date|maximum temperature|minimum temperature|average temperature|precipitation|snow fall|snow depth|\n",
      "+---------+-------------------+-------------------+-------------------+-------------+---------+----------+\n",
      "| 1-1-2016|                 42|                 34|               38.0|         0.00|      0.0|         0|\n",
      "| 2-1-2016|                 40|                 32|               36.0|         0.00|      0.0|         0|\n",
      "| 3-1-2016|                 45|                 35|               40.0|         0.00|      0.0|         0|\n",
      "| 4-1-2016|                 36|                 14|               25.0|         0.00|      0.0|         0|\n",
      "| 5-1-2016|                 29|                 11|               20.0|         0.00|      0.0|         0|\n",
      "| 6-1-2016|                 41|                 25|               33.0|         0.00|      0.0|         0|\n",
      "| 7-1-2016|                 46|                 31|               38.5|         0.00|      0.0|         0|\n",
      "| 8-1-2016|                 46|                 31|               38.5|         0.00|      0.0|         0|\n",
      "| 9-1-2016|                 47|                 40|               43.5|            T|      0.0|         0|\n",
      "|10-1-2016|                 59|                 40|               49.5|         1.80|      0.0|         0|\n",
      "+---------+-------------------+-------------------+-------------------+-------------+---------+----------+\n",
      "only showing top 10 rows\n",
      "\n"
     ]
    }
   ],
   "source": [
    "df3 = spark.read.format(\"csv\").options(header='true', inferschema='true').load('gs://finalproject20/data/weather_data_nyc_centralpark_2016(1).csv')\n",
    "df3.show(10)"
   ]
  },
  {
   "cell_type": "code",
   "execution_count": 19,
   "metadata": {},
   "outputs": [],
   "source": [
    "def clean(x):\n",
    "    res = ()\n",
    "    if x[2]=='T' and x[3]=='T':\n",
    "        res = (x[0], (x[1], '0', '0'))\n",
    "    elif x[2]=='T' and x[3]!='T':\n",
    "        res = (x[0], (x[1], '0', x[3]))\n",
    "    elif x[2]!='T' and x[3]=='T':\n",
    "        res = (x[0], (x[1], x[2], '0'))\n",
    "    else:\n",
    "        res = (x[0], (x[1], x[2], x[3]))\n",
    "    return res"
   ]
  },
  {
   "cell_type": "code",
   "execution_count": 20,
   "metadata": {},
   "outputs": [
    {
     "data": {
      "text/plain": [
       "[((u'1', u'1', u'2016'), (38.0, u'0.00', u'0.0')),\n",
       " ((u'1', u'2', u'2016'), (36.0, u'0.00', u'0.0')),\n",
       " ((u'1', u'3', u'2016'), (40.0, u'0.00', u'0.0')),\n",
       " ((u'1', u'4', u'2016'), (25.0, u'0.00', u'0.0')),\n",
       " ((u'1', u'5', u'2016'), (20.0, u'0.00', u'0.0')),\n",
       " ((u'1', u'6', u'2016'), (33.0, u'0.00', u'0.0')),\n",
       " ((u'1', u'7', u'2016'), (38.5, u'0.00', u'0.0')),\n",
       " ((u'1', u'8', u'2016'), (38.5, u'0.00', u'0.0')),\n",
       " ((u'1', u'9', u'2016'), (43.5, '0', u'0.0')),\n",
       " ((u'1', u'10', u'2016'), (49.5, u'1.80', u'0.0')),\n",
       " ((u'1', u'11', u'2016'), (33.0, u'0.00', u'0.0')),\n",
       " ((u'1', u'12', u'2016'), (34.5, u'0.00', '0')),\n",
       " ((u'1', u'13', u'2016'), (26.0, u'0.00', u'0.0')),\n",
       " ((u'1', u'14', u'2016'), (30.0, u'0.00', '0')),\n",
       " ((u'1', u'15', u'2016'), (42.5, '0', u'0.0')),\n",
       " ((u'1', u'16', u'2016'), (47.0, u'0.24', u'0.0')),\n",
       " ((u'1', u'17', u'2016'), (36.0, u'0.05', u'0.4')),\n",
       " ((u'1', u'18', u'2016'), (24.5, '0', '0')),\n",
       " ((u'1', u'19', u'2016'), (22.0, u'0.00', u'0.0')),\n",
       " ((u'1', u'20', u'2016'), (32.0, u'0.00', u'0.0')),\n",
       " ((u'1', u'21', u'2016'), (31.0, u'0.00', u'0.0')),\n",
       " ((u'1', u'22', u'2016'), (25.5, u'0.01', u'0.2')),\n",
       " ((u'1', u'23', u'2016'), (25.5, u'2.31', u'27.3')),\n",
       " ((u'1', u'24', u'2016'), (27.5, '0', '0')),\n",
       " ((u'1', u'25', u'2016'), (33.5, u'0.00', u'0.0')),\n",
       " ((u'1', u'26', u'2016'), (43.0, u'0.00', u'0.0')),\n",
       " ((u'1', u'27', u'2016'), (40.5, '0', u'0.0')),\n",
       " ((u'1', u'28', u'2016'), (37.0, u'0.00', u'0.0')),\n",
       " ((u'1', u'29', u'2016'), (35.5, u'0.00', u'0.0')),\n",
       " ((u'1', u'30', u'2016'), (33.5, u'0.00', u'0.0')),\n",
       " ((u'1', u'31', u'2016'), (46.0, u'0.00', u'0.0')),\n",
       " ((u'2', u'1', u'2016'), (51.5, u'0.01', u'0.0')),\n",
       " ((u'2', u'2', u'2016'), (44.0, u'0.00', u'0.0')),\n",
       " ((u'2', u'3', u'2016'), (50.5, u'0.73', u'0.0')),\n",
       " ((u'2', u'4', u'2016'), (51.5, '0', u'0.0')),\n",
       " ((u'2', u'5', u'2016'), (37.5, u'0.53', u'2.5')),\n",
       " ((u'2', u'6', u'2016'), (35.0, u'0.00', u'0.0')),\n",
       " ((u'2', u'7', u'2016'), (40.0, u'0.00', u'0.0')),\n",
       " ((u'2', u'8', u'2016'), (33.5, u'0.05', u'0.1')),\n",
       " ((u'2', u'9', u'2016'), (31.5, u'0.00', '0')),\n",
       " ((u'2', u'10', u'2016'), (35.0, u'0.01', '0')),\n",
       " ((u'2', u'11', u'2016'), (24.5, '0', '0')),\n",
       " ((u'2', u'12', u'2016'), (21.0, u'0.00', u'0.0')),\n",
       " ((u'2', u'13', u'2016'), (14.0, u'0.00', u'0.0')),\n",
       " ((u'2', u'14', u'2016'), (7.0, u'0.00', u'0.0')),\n",
       " ((u'2', u'15', u'2016'), (24.0, u'0.44', u'1.4')),\n",
       " ((u'2', u'16', u'2016'), (44.5, u'1.01', u'0.0')),\n",
       " ((u'2', u'17', u'2016'), (37.0, u'0.00', u'0.0')),\n",
       " ((u'2', u'18', u'2016'), (31.5, u'0.00', u'0.0')),\n",
       " ((u'2', u'19', u'2016'), (31.5, u'0.00', u'0.0')),\n",
       " ((u'2', u'20', u'2016'), (50.0, u'0.00', u'0.0')),\n",
       " ((u'2', u'21', u'2016'), (49.5, u'0.03', u'0.0')),\n",
       " ((u'2', u'22', u'2016'), (45.0, u'0.00', u'0.0')),\n",
       " ((u'2', u'23', u'2016'), (37.5, u'0.30', '0')),\n",
       " ((u'2', u'24', u'2016'), (48.0, u'1.22', u'0.0')),\n",
       " ((u'2', u'25', u'2016'), (49.0, u'0.02', u'0.0')),\n",
       " ((u'2', u'26', u'2016'), (33.0, u'0.00', u'0.0')),\n",
       " ((u'2', u'27', u'2016'), (33.5, u'0.00', u'0.0')),\n",
       " ((u'2', u'28', u'2016'), (49.0, u'0.00', u'0.0')),\n",
       " ((u'2', u'29', u'2016'), (54.0, u'0.05', u'0.0')),\n",
       " ((u'3', u'1', u'2016'), (45.5, u'0.00', u'0.0')),\n",
       " ((u'3', u'2', u'2016'), (42.0, u'0.14', u'0.0')),\n",
       " ((u'3', u'3', u'2016'), (31.0, u'0.00', u'0.0')),\n",
       " ((u'3', u'4', u'2016'), (34.5, u'0.11', u'0.4')),\n",
       " ((u'3', u'5', u'2016'), (34.5, u'0.00', u'0.0')),\n",
       " ((u'3', u'6', u'2016'), (38.0, u'0.00', u'0.0')),\n",
       " ((u'3', u'7', u'2016'), (48.0, u'0.00', u'0.0')),\n",
       " ((u'3', u'8', u'2016'), (57.0, u'0.00', u'0.0')),\n",
       " ((u'3', u'9', u'2016'), (60.5, u'0.00', u'0.0')),\n",
       " ((u'3', u'10', u'2016'), (71.0, u'0.00', u'0.0')),\n",
       " ((u'3', u'11', u'2016'), (58.0, u'0.06', u'0.0')),\n",
       " ((u'3', u'12', u'2016'), (49.5, u'0.00', u'0.0')),\n",
       " ((u'3', u'13', u'2016'), (56.0, '0', u'0.0')),\n",
       " ((u'3', u'14', u'2016'), (45.5, u'0.29', u'0.0')),\n",
       " ((u'3', u'15', u'2016'), (50.5, u'0.00', u'0.0')),\n",
       " ((u'3', u'16', u'2016'), (56.5, u'0.02', u'0.0')),\n",
       " ((u'3', u'17', u'2016'), (54.0, '0', u'0.0')),\n",
       " ((u'3', u'18', u'2016'), (49.5, u'0.00', u'0.0')),\n",
       " ((u'3', u'19', u'2016'), (41.0, u'0.00', u'0.0')),\n",
       " ((u'3', u'20', u'2016'), (37.5, u'0.07', '0')),\n",
       " ((u'3', u'21', u'2016'), (41.0, u'0.06', u'0.5')),\n",
       " ((u'3', u'22', u'2016'), (45.5, u'0.00', u'0.0')),\n",
       " ((u'3', u'23', u'2016'), (59.5, u'0.00', u'0.0')),\n",
       " ((u'3', u'24', u'2016'), (49.5, u'0.00', u'0.0')),\n",
       " ((u'3', u'25', u'2016'), (58.0, u'0.04', u'0.0')),\n",
       " ((u'3', u'26', u'2016'), (46.5, u'0.00', u'0.0')),\n",
       " ((u'3', u'27', u'2016'), (49.0, u'0.00', u'0.0')),\n",
       " ((u'3', u'28', u'2016'), (52.0, u'0.38', u'0.0')),\n",
       " ((u'3', u'29', u'2016'), (46.5, u'0.00', u'0.0')),\n",
       " ((u'3', u'30', u'2016'), (46.5, u'0.00', u'0.0')),\n",
       " ((u'3', u'31', u'2016'), (61.0, u'0.00', u'0.0')),\n",
       " ((u'4', u'1', u'2016'), (70.0, u'0.02', u'0.0')),\n",
       " ((u'4', u'2', u'2016'), (55.0, u'0.16', u'0.0')),\n",
       " ((u'4', u'3', u'2016'), (42.0, u'0.09', '0')),\n",
       " ((u'4', u'4', u'2016'), (37.0, u'0.47', '0')),\n",
       " ((u'4', u'5', u'2016'), (34.5, u'0.00', u'0.0')),\n",
       " ((u'4', u'6', u'2016'), (39.0, u'0.00', u'0.0')),\n",
       " ((u'4', u'7', u'2016'), (53.0, u'0.09', u'0.0')),\n",
       " ((u'4', u'8', u'2016'), (45.0, u'0.01', u'0.0')),\n",
       " ((u'4', u'9', u'2016'), (39.5, u'0.11', '0')),\n",
       " ((u'4', u'10', u'2016'), (40.5, u'0.00', u'0.0')),\n",
       " ((u'4', u'11', u'2016'), (54.0, u'0.01', u'0.0')),\n",
       " ((u'4', u'12', u'2016'), (52.0, u'0.20', u'0.0')),\n",
       " ((u'4', u'13', u'2016'), (49.0, u'0.00', u'0.0')),\n",
       " ((u'4', u'14', u'2016'), (52.5, u'0.00', u'0.0')),\n",
       " ((u'4', u'15', u'2016'), (53.5, u'0.00', u'0.0')),\n",
       " ((u'4', u'16', u'2016'), (55.5, u'0.00', u'0.0')),\n",
       " ((u'4', u'17', u'2016'), (59.5, u'0.00', u'0.0')),\n",
       " ((u'4', u'18', u'2016'), (66.5, u'0.00', u'0.0')),\n",
       " ((u'4', u'19', u'2016'), (64.0, u'0.00', u'0.0')),\n",
       " ((u'4', u'20', u'2016'), (59.0, u'0.00', u'0.0')),\n",
       " ((u'4', u'21', u'2016'), (61.0, u'0.00', u'0.0')),\n",
       " ((u'4', u'22', u'2016'), (70.5, '0', u'0.0')),\n",
       " ((u'4', u'23', u'2016'), (62.5, u'0.16', u'0.0')),\n",
       " ((u'4', u'24', u'2016'), (57.5, u'0.00', u'0.0')),\n",
       " ((u'4', u'25', u'2016'), (59.5, u'0.00', u'0.0')),\n",
       " ((u'4', u'26', u'2016'), (53.5, u'0.24', u'0.0')),\n",
       " ((u'4', u'27', u'2016'), (54.0, u'0.00', u'0.0')),\n",
       " ((u'4', u'28', u'2016'), (53.5, u'0.00', u'0.0')),\n",
       " ((u'4', u'29', u'2016'), (51.5, u'0.05', u'0.0')),\n",
       " ((u'4', u'30', u'2016'), (55.5, u'0.00', u'0.0')),\n",
       " ((u'5', u'1', u'2016'), (48.0, u'0.16', u'0.0')),\n",
       " ((u'5', u'2', u'2016'), (52.5, u'0.04', u'0.0')),\n",
       " ((u'5', u'3', u'2016'), (53.5, u'0.61', u'0.0')),\n",
       " ((u'5', u'4', u'2016'), (50.0, u'0.01', u'0.0')),\n",
       " ((u'5', u'5', u'2016'), (51.5, u'0.00', u'0.0')),\n",
       " ((u'5', u'6', u'2016'), (51.0, u'0.54', u'0.0')),\n",
       " ((u'5', u'7', u'2016'), (54.0, u'0.00', u'0.0')),\n",
       " ((u'5', u'8', u'2016'), (57.5, u'0.16', u'0.0')),\n",
       " ((u'5', u'9', u'2016'), (62.0, u'0.00', u'0.0')),\n",
       " ((u'5', u'10', u'2016'), (56.5, u'0.00', u'0.0')),\n",
       " ((u'5', u'11', u'2016'), (63.0, u'0.00', u'0.0')),\n",
       " ((u'5', u'12', u'2016'), (68.0, u'0.00', u'0.0')),\n",
       " ((u'5', u'13', u'2016'), (61.0, u'0.25', u'0.0')),\n",
       " ((u'5', u'14', u'2016'), (64.5, u'0.00', u'0.0')),\n",
       " ((u'5', u'15', u'2016'), (52.5, u'0.00', u'0.0')),\n",
       " ((u'5', u'16', u'2016'), (54.5, u'0.00', u'0.0')),\n",
       " ((u'5', u'17', u'2016'), (58.0, u'0.00', u'0.0')),\n",
       " ((u'5', u'18', u'2016'), (60.0, '0', u'0.0')),\n",
       " ((u'5', u'19', u'2016'), (63.5, u'0.00', u'0.0')),\n",
       " ((u'5', u'20', u'2016'), (64.5, u'0.00', u'0.0')),\n",
       " ((u'5', u'21', u'2016'), (60.0, u'0.04', u'0.0')),\n",
       " ((u'5', u'22', u'2016'), (61.0, u'0.09', u'0.0')),\n",
       " ((u'5', u'23', u'2016'), (67.0, u'0.02', u'0.0')),\n",
       " ((u'5', u'24', u'2016'), (65.5, u'0.18', u'0.0')),\n",
       " ((u'5', u'25', u'2016'), (74.5, u'0.00', u'0.0')),\n",
       " ((u'5', u'26', u'2016'), (79.5, u'0.00', u'0.0')),\n",
       " ((u'5', u'27', u'2016'), (80.0, u'0.00', u'0.0')),\n",
       " ((u'5', u'28', u'2016'), (81.5, u'0.00', u'0.0')),\n",
       " ((u'5', u'29', u'2016'), (78.5, '0', u'0.0')),\n",
       " ((u'5', u'30', u'2016'), (75.0, u'1.65', u'0.0')),\n",
       " ((u'5', u'31', u'2016'), (78.0, u'0.00', u'0.0')),\n",
       " ((u'6', u'1', u'2016'), (74.5, u'0.00', u'0.0')),\n",
       " ((u'6', u'2', u'2016'), (70.0, u'0.00', u'0.0')),\n",
       " ((u'6', u'3', u'2016'), (66.5, u'0.04', u'0.0')),\n",
       " ((u'6', u'4', u'2016'), (74.5, u'0.40', u'0.0')),\n",
       " ((u'6', u'5', u'2016'), (68.0, u'0.91', u'0.0')),\n",
       " ((u'6', u'6', u'2016'), (74.0, u'0.00', u'0.0')),\n",
       " ((u'6', u'7', u'2016'), (74.5, '0', u'0.0')),\n",
       " ((u'6', u'8', u'2016'), (59.5, u'0.45', u'0.0')),\n",
       " ((u'6', u'9', u'2016'), (62.5, u'0.00', u'0.0')),\n",
       " ((u'6', u'10', u'2016'), (67.0, u'0.00', u'0.0')),\n",
       " ((u'6', u'11', u'2016'), (73.5, u'0.00', u'0.0')),\n",
       " ((u'6', u'12', u'2016'), (72.5, u'0.00', u'0.0')),\n",
       " ((u'6', u'13', u'2016'), (65.5, u'0.00', u'0.0')),\n",
       " ((u'6', u'14', u'2016'), (68.5, u'0.00', u'0.0')),\n",
       " ((u'6', u'15', u'2016'), (73.5, u'0.00', u'0.0')),\n",
       " ((u'6', u'16', u'2016'), (69.5, u'0.22', u'0.0')),\n",
       " ((u'6', u'17', u'2016'), (70.5, u'0.00', u'0.0')),\n",
       " ((u'6', u'18', u'2016'), (74.0, u'0.00', u'0.0')),\n",
       " ((u'6', u'19', u'2016'), (77.0, u'0.00', u'0.0')),\n",
       " ((u'6', u'20', u'2016'), (74.0, u'0.00', u'0.0')),\n",
       " ((u'6', u'21', u'2016'), (79.5, '0', u'0.0')),\n",
       " ((u'6', u'22', u'2016'), (77.0, u'0.00', u'0.0')),\n",
       " ((u'6', u'23', u'2016'), (76.0, u'0.00', u'0.0')),\n",
       " ((u'6', u'24', u'2016'), (75.5, u'0.00', u'0.0')),\n",
       " ((u'6', u'25', u'2016'), (75.0, u'0.00', u'0.0')),\n",
       " ((u'6', u'26', u'2016'), (77.0, u'0.00', u'0.0')),\n",
       " ((u'6', u'27', u'2016'), (75.0, u'0.45', u'0.0')),\n",
       " ((u'6', u'28', u'2016'), (72.0, u'0.12', u'0.0')),\n",
       " ((u'6', u'29', u'2016'), (75.0, u'0.01', u'0.0')),\n",
       " ((u'6', u'30', u'2016'), (76.0, u'0.00', u'0.0')),\n",
       " ((u'7', u'1', u'2016'), (72.5, u'0.83', u'0')),\n",
       " ((u'7', u'2', u'2016'), (69.5, u'0', u'0')),\n",
       " ((u'7', u'3', u'2016'), (71.0, u'0', u'0')),\n",
       " ((u'7', u'4', u'2016'), (75.0, u'0.49', u'0')),\n",
       " ((u'7', u'5', u'2016'), (77.5, u'0.66', u'0')),\n",
       " ((u'7', u'6', u'2016'), (83.0, u'0', u'0')),\n",
       " ((u'7', u'7', u'2016'), (83.0, u'0.04', u'0')),\n",
       " ((u'7', u'8', u'2016'), (76.5, u'0.08', u'0')),\n",
       " ((u'7', u'9', u'2016'), (68.5, u'0.53', u'0')),\n",
       " ((u'7', u'10', u'2016'), (73.0, '0', u'0')),\n",
       " ((u'7', u'11', u'2016'), (73.0, u'0', u'0')),\n",
       " ((u'7', u'12', u'2016'), (75.0, u'0', u'0')),\n",
       " ((u'7', u'13', u'2016'), (78.0, u'0', u'0')),\n",
       " ((u'7', u'14', u'2016'), (80.5, u'0.62', u'0')),\n",
       " ((u'7', u'15', u'2016'), (83.5, u'0', u'0')),\n",
       " ((u'7', u'16', u'2016'), (82.5, '0', u'0')),\n",
       " ((u'7', u'17', u'2016'), (82.0, u'0', u'0')),\n",
       " ((u'7', u'18', u'2016'), (82.5, u'0.35', u'0')),\n",
       " ((u'7', u'19', u'2016'), (78.0, u'0', u'0')),\n",
       " ((u'7', u'20', u'2016'), (76.5, u'0', u'0')),\n",
       " ((u'7', u'21', u'2016'), (80.5, u'0', u'0')),\n",
       " ((u'7', u'22', u'2016'), (84.0, u'0', u'0')),\n",
       " ((u'7', u'23', u'2016'), (88.0, u'0', u'0')),\n",
       " ((u'7', u'24', u'2016'), (84.5, u'0', u'0')),\n",
       " ((u'7', u'25', u'2016'), (83.0, u'1', u'0')),\n",
       " ((u'7', u'26', u'2016'), (80.5, u'0', u'0')),\n",
       " ((u'7', u'27', u'2016'), (82.5, u'0', u'0')),\n",
       " ((u'7', u'28', u'2016'), (85.0, '0', u'0')),\n",
       " ((u'7', u'29', u'2016'), (77.0, u'1.09', u'0')),\n",
       " ((u'7', u'30', u'2016'), (78.5, u'0.25', u'0')),\n",
       " ((u'7', u'31', u'2016'), (74.5, u'1.08', u'0')),\n",
       " ((u'8', u'1', u'2016'), (74.5, '0', u'0')),\n",
       " ((u'8', u'2', u'2016'), (73.5, u'0', u'0')),\n",
       " ((u'8', u'3', u'2016'), (73.0, u'0', u'0')),\n",
       " ((u'8', u'4', u'2016'), (74.0, u'0', u'0')),\n",
       " ((u'8', u'5', u'2016'), (76.0, u'0', u'0')),\n",
       " ((u'8', u'6', u'2016'), (79.5, u'0.05', u'0')),\n",
       " ((u'8', u'7', u'2016'), (78.0, u'0', u'0')),\n",
       " ((u'8', u'8', u'2016'), (78.5, u'0', u'0')),\n",
       " ((u'8', u'9', u'2016'), (79.0, u'0', u'0')),\n",
       " ((u'8', u'10', u'2016'), (80.5, u'0.09', u'0')),\n",
       " ((u'8', u'11', u'2016'), (82.5, u'0.15', u'0')),\n",
       " ((u'8', u'12', u'2016'), (83.0, u'0.32', u'0')),\n",
       " ((u'8', u'13', u'2016'), (88.5, u'0', u'0')),\n",
       " ((u'8', u'14', u'2016'), (86.0, u'0.06', u'0')),\n",
       " ((u'8', u'15', u'2016'), (84.5, u'0', u'0')),\n",
       " ((u'8', u'16', u'2016'), (82.5, u'0.11', u'0')),\n",
       " ((u'8', u'17', u'2016'), (81.0, u'0.01', u'0')),\n",
       " ((u'8', u'18', u'2016'), (78.5, u'0.03', u'0')),\n",
       " ((u'8', u'19', u'2016'), (81.0, u'0.01', u'0')),\n",
       " ((u'8', u'20', u'2016'), (76.5, u'0.82', u'0')),\n",
       " ((u'8', u'21', u'2016'), (79.5, u'0.31', u'0')),\n",
       " ((u'8', u'22', u'2016'), (72.0, u'0', u'0')),\n",
       " ((u'8', u'23', u'2016'), (71.5, u'0', u'0')),\n",
       " ((u'8', u'24', u'2016'), (78.0, u'0', u'0')),\n",
       " ((u'8', u'25', u'2016'), (77.5, u'0.01', u'0')),\n",
       " ((u'8', u'26', u'2016'), (82.5, u'0', u'0')),\n",
       " ((u'8', u'27', u'2016'), (81.0, u'0', u'0')),\n",
       " ((u'8', u'28', u'2016'), (80.5, u'0', u'0')),\n",
       " ((u'8', u'29', u'2016'), (82.5, u'0', u'0')),\n",
       " ((u'8', u'30', u'2016'), (77.5, u'0', u'0')),\n",
       " ((u'8', u'31', u'2016'), (81.5, '0', u'0')),\n",
       " ((u'9', u'1', u'2016'), (74.0, u'0.5', u'0')),\n",
       " ((u'9', u'2', u'2016'), (73.5, u'0', u'0')),\n",
       " ((u'9', u'3', u'2016'), (70.5, u'0', u'0')),\n",
       " ((u'9', u'4', u'2016'), (72.5, u'0', u'0')),\n",
       " ((u'9', u'5', u'2016'), (74.5, u'0', u'0')),\n",
       " ((u'9', u'6', u'2016'), (75.5, '0', u'0')),\n",
       " ((u'9', u'7', u'2016'), (78.0, u'0', u'0')),\n",
       " ((u'9', u'8', u'2016'), (80.0, u'0', u'0')),\n",
       " ((u'9', u'9', u'2016'), (83.0, u'0.22', u'0')),\n",
       " ((u'9', u'10', u'2016'), (82.0, '0', u'0')),\n",
       " ((u'9', u'11', u'2016'), (75.0, u'0', u'0')),\n",
       " ((u'9', u'12', u'2016'), (70.0, u'0', u'0')),\n",
       " ((u'9', u'13', u'2016'), (73.5, u'0', u'0')),\n",
       " ((u'9', u'14', u'2016'), (79.0, u'0.56', u'0')),\n",
       " ((u'9', u'15', u'2016'), (67.5, u'0', u'0')),\n",
       " ((u'9', u'16', u'2016'), (67.0, u'0', u'0')),\n",
       " ((u'9', u'17', u'2016'), (68.0, u'0', u'0')),\n",
       " ((u'9', u'18', u'2016'), (76.0, u'0', u'0')),\n",
       " ((u'9', u'19', u'2016'), (72.5, u'0.68', u'0')),\n",
       " ((u'9', u'20', u'2016'), (75.0, u'0', u'0')),\n",
       " ((u'9', u'21', u'2016'), (76.0, u'0', u'0')),\n",
       " ((u'9', u'22', u'2016'), (75.5, u'0', u'0')),\n",
       " ((u'9', u'23', u'2016'), (75.5, u'0.01', u'0')),\n",
       " ((u'9', u'24', u'2016'), (64.5, u'0.2', u'0')),\n",
       " ((u'9', u'25', u'2016'), (62.0, u'0', u'0')),\n",
       " ((u'9', u'26', u'2016'), (64.0, u'0', u'0')),\n",
       " ((u'9', u'27', u'2016'), (69.0, u'0.22', u'0')),\n",
       " ((u'9', u'28', u'2016'), (62.5, u'0', u'0')),\n",
       " ((u'9', u'29', u'2016'), (60.5, u'0', u'0')),\n",
       " ((u'9', u'30', u'2016'), (57.5, u'0.4', u'0')),\n",
       " ((u'10', u'1', u'2016'), (59.0, u'0', u'0')),\n",
       " ((u'10', u'2', u'2016'), (60.0, u'0', u'0')),\n",
       " ((u'10', u'3', u'2016'), (66.0, u'0', u'0')),\n",
       " ((u'10', u'4', u'2016'), (64.5, u'0', u'0')),\n",
       " ((u'10', u'5', u'2016'), (60.0, u'0', u'0')),\n",
       " ((u'10', u'6', u'2016'), (64.0, u'0', u'0')),\n",
       " ((u'10', u'7', u'2016'), (66.0, u'0', u'0')),\n",
       " ((u'10', u'8', u'2016'), (63.0, u'0.23', u'0')),\n",
       " ((u'10', u'9', u'2016'), (58.0, u'0.55', u'0')),\n",
       " ((u'10', u'10', u'2016'), (55.5, u'0', u'0')),\n",
       " ((u'10', u'11', u'2016'), (54.5, u'0', u'0')),\n",
       " ((u'10', u'12', u'2016'), (59.5, u'0', u'0')),\n",
       " ((u'10', u'13', u'2016'), (60.0, '0', u'0')),\n",
       " ((u'10', u'14', u'2016'), (54.5, u'0', u'0')),\n",
       " ((u'10', u'15', u'2016'), (55.0, u'0', u'0')),\n",
       " ((u'10', u'16', u'2016'), (61.0, u'0', u'0')),\n",
       " ((u'10', u'17', u'2016'), (72.0, u'0', u'0')),\n",
       " ((u'10', u'18', u'2016'), (74.0, u'0', u'0')),\n",
       " ((u'10', u'19', u'2016'), (75.0, u'0', u'0')),\n",
       " ((u'10', u'20', u'2016'), (66.0, u'0', u'0')),\n",
       " ((u'10', u'21', u'2016'), (63.0, u'1.11', u'0')),\n",
       " ((u'10', u'22', u'2016'), (52.0, u'0.29', u'0')),\n",
       " ((u'10', u'23', u'2016'), (53.0, u'0', u'0')),\n",
       " ((u'10', u'24', u'2016'), (54.5, '0', u'0')),\n",
       " ((u'10', u'25', u'2016'), (47.5, u'0', u'0')),\n",
       " ((u'10', u'26', u'2016'), (44.5, u'0', u'0'))]"
      ]
     },
     "execution_count": 20,
     "metadata": {},
     "output_type": "execute_result"
    }
   ],
   "source": [
    "weather = df3.rdd\n",
    "weather = weather.map(lambda x: ((x[0].split('-')[1], x[0].split('-')[0], x[0].split('-')[2]), x[3], x[4], x[5]))\n",
    "final_weather = weather.map(lambda x: clean(x))\n",
    "final_weather.take(300)"
   ]
  },
  {
   "cell_type": "code",
   "execution_count": 21,
   "metadata": {},
   "outputs": [
    {
     "name": "stdout",
     "output_type": "stream",
     "text": [
      "{(u'4', u'27', u'2016'): (54.0, u'0.00', u'0.0'), (u'12', u'15', u'2016'): (26.5, u'0', '0'), (u'12', u'28', u'2016'): (37.0, u'0', u'0'), (u'7', u'2', u'2016'): (69.5, u'0', u'0'), (u'3', u'1', u'2016'): (45.5, u'0.00', u'0.0'), (u'7', u'23', u'2016'): (88.0, u'0', u'0'), (u'12', u'23', u'2016'): (42.5, u'0', u'0'), (u'3', u'24', u'2016'): (49.5, u'0.00', u'0.0'), (u'6', u'30', u'2016'): (76.0, u'0.00', u'0.0'), (u'10', u'20', u'2016'): (66.0, u'0', u'0'), (u'12', u'5', u'2016'): (43.5, u'0.19', u'0'), (u'5', u'3', u'2016'): (53.5, u'0.61', u'0.0'), (u'10', u'27', u'2016'): (47.5, u'1.41', u'0'), (u'8', u'14', u'2016'): (86.0, u'0.06', u'0'), (u'6', u'13', u'2016'): (65.5, u'0.00', u'0.0'), (u'2', u'27', u'2016'): (33.5, u'0.00', u'0.0'), (u'3', u'4', u'2016'): (34.5, u'0.11', u'0.4'), (u'12', u'21', u'2016'): (35.0, u'0', u'0'), (u'10', u'26', u'2016'): (44.5, u'0', u'0'), (u'4', u'4', u'2016'): (37.0, u'0.47', '0'), (u'11', u'23', u'2016'): (40.0, u'0', u'0'), (u'7', u'20', u'2016'): (76.5, u'0', u'0'), (u'11', u'24', u'2016'): (43.0, u'0.03', u'0'), (u'6', u'15', u'2016'): (73.5, u'0.00', u'0.0'), (u'7', u'29', u'2016'): (77.0, u'1.09', u'0'), (u'12', u'25', u'2016'): (43.0, u'0', u'0'), (u'3', u'12', u'2016'): (49.5, u'0.00', u'0.0'), (u'7', u'14', u'2016'): (80.5, u'0.62', u'0'), (u'4', u'2', u'2016'): (55.0, u'0.16', u'0.0'), (u'3', u'19', u'2016'): (41.0, u'0.00', u'0.0'), (u'11', u'22', u'2016'): (39.0, u'0', u'0'), (u'6', u'9', u'2016'): (62.5, u'0.00', u'0.0'), (u'8', u'15', u'2016'): (84.5, u'0', u'0'), (u'1', u'18', u'2016'): (24.5, '0', '0'), (u'5', u'16', u'2016'): (54.5, u'0.00', u'0.0'), (u'8', u'12', u'2016'): (83.0, u'0.32', u'0'), (u'11', u'5', u'2016'): (53.0, u'0', u'0'), (u'7', u'12', u'2016'): (75.0, u'0', u'0'), (u'6', u'16', u'2016'): (69.5, u'0.22', u'0.0'), (u'12', u'16', u'2016'): (22.0, u'0', u'0'), (u'7', u'26', u'2016'): (80.5, u'0', u'0'), (u'2', u'2', u'2016'): (44.0, u'0.00', u'0.0'), (u'9', u'16', u'2016'): (67.0, u'0', u'0'), (u'3', u'18', u'2016'): (49.5, u'0.00', u'0.0'), (u'11', u'6', u'2016'): (52.0, u'0', u'0'), (u'5', u'11', u'2016'): (63.0, u'0.00', u'0.0'), (u'8', u'19', u'2016'): (81.0, u'0.01', u'0'), (u'9', u'10', u'2016'): (82.0, '0', u'0'), (u'7', u'11', u'2016'): (73.0, u'0', u'0'), (u'12', u'4', u'2016'): (43.0, u'0', u'0'), (u'11', u'7', u'2016'): (47.0, u'0', u'0'), (u'8', u'3', u'2016'): (73.0, u'0', u'0'), (u'7', u'18', u'2016'): (82.5, u'0.35', u'0'), (u'5', u'8', u'2016'): (57.5, u'0.16', u'0.0'), (u'12', u'17', u'2016'): (31.5, u'0.73', u'2.8'), (u'10', u'25', u'2016'): (47.5, u'0', u'0'), (u'2', u'3', u'2016'): (50.5, u'0.73', u'0.0'), (u'6', u'18', u'2016'): (74.0, u'0.00', u'0.0'), (u'12', u'10', u'2016'): (31.5, u'0', u'0'), (u'7', u'31', u'2016'): (74.5, u'1.08', u'0'), (u'12', u'30', u'2016'): (36.5, u'0.01', '0'), (u'10', u'4', u'2016'): (64.5, u'0', u'0'), (u'12', u'11', u'2016'): (31.5, u'0.03', u'0.4'), (u'7', u'30', u'2016'): (78.5, u'0.25', u'0'), (u'11', u'26', u'2016'): (45.0, u'0', u'0'), (u'7', u'8', u'2016'): (76.5, u'0.08', u'0'), (u'2', u'6', u'2016'): (35.0, u'0.00', u'0.0'), (u'2', u'19', u'2016'): (31.5, u'0.00', u'0.0'), (u'12', u'27', u'2016'): (50.0, u'0', u'0'), (u'3', u'20', u'2016'): (37.5, u'0.07', '0'), (u'6', u'26', u'2016'): (77.0, u'0.00', u'0.0'), (u'10', u'24', u'2016'): (54.5, '0', u'0'), (u'1', u'22', u'2016'): (25.5, u'0.01', u'0.2'), (u'5', u'5', u'2016'): (51.5, u'0.00', u'0.0'), (u'8', u'10', u'2016'): (80.5, u'0.09', u'0'), (u'6', u'17', u'2016'): (70.5, u'0.00', u'0.0'), (u'9', u'3', u'2016'): (70.5, u'0', u'0'), (u'4', u'8', u'2016'): (45.0, u'0.01', u'0.0'), (u'9', u'1', u'2016'): (74.0, u'0.5', u'0'), (u'12', u'3', u'2016'): (44.0, '0', u'0'), (u'5', u'19', u'2016'): (63.5, u'0.00', u'0.0'), (u'11', u'27', u'2016'): (44.5, u'0', u'0'), (u'5', u'1', u'2016'): (48.0, u'0.16', u'0.0'), (u'4', u'13', u'2016'): (49.0, u'0.00', u'0.0'), (u'2', u'7', u'2016'): (40.0, u'0.00', u'0.0'), (u'1', u'8', u'2016'): (38.5, u'0.00', u'0.0'), (u'7', u'24', u'2016'): (84.5, u'0', u'0'), (u'12', u'26', u'2016'): (41.5, u'0.02', u'0'), (u'3', u'21', u'2016'): (41.0, u'0.06', u'0.5'), (u'11', u'28', u'2016'): (45.0, u'0', u'0'), (u'11', u'15', u'2016'): (51.5, u'1.81', u'0'), (u'7', u'10', u'2016'): (73.0, '0', u'0'), (u'9', u'5', u'2016'): (74.5, u'0', u'0'), (u'1', u'23', u'2016'): (25.5, u'2.31', u'27.3'), (u'1', u'31', u'2016'): (46.0, u'0.00', u'0.0'), (u'8', u'11', u'2016'): (82.5, u'0.15', u'0'), (u'6', u'10', u'2016'): (67.0, u'0.00', u'0.0'), (u'1', u'24', u'2016'): (27.5, '0', '0'), (u'6', u'8', u'2016'): (59.5, u'0.45', u'0.0'), (u'5', u'10', u'2016'): (56.5, u'0.00', u'0.0'), (u'5', u'20', u'2016'): (64.5, u'0.00', u'0.0'), (u'7', u'9', u'2016'): (68.5, u'0.53', u'0'), (u'9', u'8', u'2016'): (80.0, u'0', u'0'), (u'7', u'17', u'2016'): (82.0, u'0', u'0'), (u'6', u'19', u'2016'): (77.0, u'0.00', u'0.0'), (u'8', u'29', u'2016'): (82.5, u'0', u'0'), (u'9', u'7', u'2016'): (78.0, u'0', u'0'), (u'5', u'13', u'2016'): (61.0, u'0.25', u'0.0'), (u'11', u'29', u'2016'): (55.5, u'2.2', u'0'), (u'11', u'14', u'2016'): (54.0, u'0', u'0'), (u'5', u'30', u'2016'): (75.0, u'1.65', u'0.0'), (u'10', u'14', u'2016'): (54.5, u'0', u'0'), (u'12', u'13', u'2016'): (39.0, u'0', u'0'), (u'5', u'9', u'2016'): (62.0, u'0.00', u'0.0'), (u'12', u'8', u'2016'): (40.0, u'0', u'0'), (u'10', u'1', u'2016'): (59.0, u'0', u'0'), (u'11', u'20', u'2016'): (38.0, u'0.31', '0'), (u'9', u'26', u'2016'): (64.0, u'0', u'0'), (u'3', u'31', u'2016'): (61.0, u'0.00', u'0.0'), (u'3', u'26', u'2016'): (46.5, u'0.00', u'0.0'), (u'10', u'2', u'2016'): (60.0, u'0', u'0'), (u'1', u'2', u'2016'): (36.0, u'0.00', u'0.0'), (u'8', u'16', u'2016'): (82.5, u'0.11', u'0'), (u'7', u'1', u'2016'): (72.5, u'0.83', u'0'), (u'12', u'2', u'2016'): (45.5, u'0', u'0'), (u'6', u'22', u'2016'): (77.0, u'0.00', u'0.0'), (u'4', u'18', u'2016'): (66.5, u'0.00', u'0.0'), (u'11', u'19', u'2016'): (50.0, u'0.25', u'0'), (u'1', u'3', u'2016'): (40.0, u'0.00', u'0.0'), (u'10', u'6', u'2016'): (64.0, u'0', u'0'), (u'10', u'22', u'2016'): (52.0, u'0.29', u'0'), (u'1', u'1', u'2016'): (38.0, u'0.00', u'0.0'), (u'5', u'29', u'2016'): (78.5, '0', u'0.0'), (u'4', u'11', u'2016'): (54.0, u'0.01', u'0.0'), (u'2', u'1', u'2016'): (51.5, u'0.01', u'0.0'), (u'1', u'26', u'2016'): (43.0, u'0.00', u'0.0'), (u'10', u'29', u'2016'): (51.5, u'0', u'0'), (u'4', u'16', u'2016'): (55.5, u'0.00', u'0.0'), (u'4', u'17', u'2016'): (59.5, u'0.00', u'0.0'), (u'1', u'4', u'2016'): (25.0, u'0.00', u'0.0'), (u'10', u'5', u'2016'): (60.0, u'0', u'0'), (u'3', u'30', u'2016'): (46.5, u'0.00', u'0.0'), (u'8', u'8', u'2016'): (78.5, u'0', u'0'), (u'6', u'25', u'2016'): (75.0, u'0.00', u'0.0'), (u'3', u'27', u'2016'): (49.0, u'0.00', u'0.0'), (u'1', u'19', u'2016'): (22.0, u'0.00', u'0.0'), (u'2', u'15', u'2016'): (24.0, u'0.44', u'1.4'), (u'11', u'17', u'2016'): (55.0, u'0', u'0'), (u'2', u'28', u'2016'): (49.0, u'0.00', u'0.0'), (u'1', u'27', u'2016'): (40.5, '0', u'0.0'), (u'10', u'28', u'2016'): (46.5, u'0', u'0'), (u'11', u'8', u'2016'): (53.5, u'0', u'0'), (u'5', u'23', u'2016'): (67.0, u'0.02', u'0.0'), (u'12', u'31', u'2016'): (37.5, u'0', u'0'), (u'1', u'28', u'2016'): (37.0, u'0.00', u'0.0'), (u'8', u'17', u'2016'): (81.0, u'0.01', u'0'), (u'3', u'5', u'2016'): (34.5, u'0.00', u'0.0'), (u'1', u'15', u'2016'): (42.5, '0', u'0.0'), (u'11', u'1', u'2016'): (49.0, u'0', u'0'), (u'3', u'7', u'2016'): (48.0, u'0.00', u'0.0'), (u'7', u'5', u'2016'): (77.5, u'0.66', u'0'), (u'11', u'21', u'2016'): (38.5, u'0', u'0'), (u'4', u'14', u'2016'): (52.5, u'0.00', u'0.0'), (u'12', u'1', u'2016'): (48.0, u'0.07', u'0'), (u'2', u'5', u'2016'): (37.5, u'0.53', u'2.5'), (u'4', u'20', u'2016'): (59.0, u'0.00', u'0.0'), (u'2', u'16', u'2016'): (44.5, u'1.01', u'0.0'), (u'11', u'16', u'2016'): (53.0, u'0', u'0'), (u'7', u'15', u'2016'): (83.5, u'0', u'0'), (u'10', u'30', u'2016'): (65.0, u'0.56', u'0'), (u'12', u'20', u'2016'): (26.5, u'0', u'0'), (u'11', u'11', u'2016'): (52.0, u'0', u'0'), (u'2', u'22', u'2016'): (45.0, u'0.00', u'0.0'), (u'4', u'19', u'2016'): (64.0, u'0.00', u'0.0'), (u'5', u'17', u'2016'): (58.0, u'0.00', u'0.0'), (u'2', u'25', u'2016'): (49.0, u'0.02', u'0.0'), (u'10', u'31', u'2016'): (49.0, u'0', u'0'), (u'6', u'14', u'2016'): (68.5, u'0.00', u'0.0'), (u'11', u'10', u'2016'): (48.0, u'0', u'0'), (u'9', u'20', u'2016'): (75.0, u'0', u'0'), (u'8', u'5', u'2016'): (76.0, u'0', u'0'), (u'10', u'10', u'2016'): (55.5, u'0', u'0'), (u'3', u'13', u'2016'): (56.0, '0', u'0.0'), (u'10', u'8', u'2016'): (63.0, u'0.23', u'0'), (u'1', u'29', u'2016'): (35.5, u'0.00', u'0.0'), (u'4', u'30', u'2016'): (55.5, u'0.00', u'0.0'), (u'1', u'14', u'2016'): (30.0, u'0.00', '0'), (u'7', u'13', u'2016'): (78.0, u'0', u'0'), (u'3', u'6', u'2016'): (38.0, u'0.00', u'0.0'), (u'8', u'9', u'2016'): (79.0, u'0', u'0'), (u'8', u'23', u'2016'): (71.5, u'0', u'0'), (u'4', u'3', u'2016'): (42.0, u'0.09', '0'), (u'3', u'8', u'2016'): (57.0, u'0.00', u'0.0'), (u'1', u'20', u'2016'): (32.0, u'0.00', u'0.0'), (u'7', u'19', u'2016'): (78.0, u'0', u'0'), (u'10', u'11', u'2016'): (54.5, u'0', u'0'), (u'4', u'1', u'2016'): (70.0, u'0.02', u'0.0'), (u'6', u'24', u'2016'): (75.5, u'0.00', u'0.0'), (u'12', u'9', u'2016'): (34.0, u'0', u'0'), (u'11', u'2', u'2016'): (62.0, u'0', u'0'), (u'4', u'6', u'2016'): (39.0, u'0.00', u'0.0'), (u'4', u'15', u'2016'): (53.5, u'0.00', u'0.0'), (u'10', u'3', u'2016'): (66.0, u'0', u'0'), (u'4', u'28', u'2016'): (53.5, u'0.00', u'0.0'), (u'9', u'21', u'2016'): (76.0, u'0', u'0'), (u'12', u'22', u'2016'): (43.0, u'0', u'0'), (u'3', u'25', u'2016'): (58.0, u'0.04', u'0.0'), (u'2', u'17', u'2016'): (37.0, u'0.00', u'0.0'), (u'8', u'2', u'2016'): (73.5, u'0', u'0'), (u'11', u'3', u'2016'): (64.5, u'0', u'0'), (u'9', u'17', u'2016'): (68.0, u'0', u'0'), (u'3', u'22', u'2016'): (45.5, u'0.00', u'0.0'), (u'2', u'10', u'2016'): (35.0, u'0.01', '0'), (u'11', u'25', u'2016'): (49.5, u'0.02', u'0'), (u'12', u'24', u'2016'): (42.5, u'0.47', u'0'), (u'9', u'28', u'2016'): (62.5, u'0', u'0'), (u'7', u'6', u'2016'): (83.0, u'0', u'0'), (u'3', u'23', u'2016'): (59.5, u'0.00', u'0.0'), (u'8', u'6', u'2016'): (79.5, u'0.05', u'0'), (u'8', u'22', u'2016'): (72.0, u'0', u'0'), (u'6', u'27', u'2016'): (75.0, u'0.45', u'0.0'), (u'2', u'11', u'2016'): (24.5, '0', '0'), (u'11', u'13', u'2016'): (51.0, u'0', u'0'), (u'3', u'2', u'2016'): (42.0, u'0.14', u'0.0'), (u'3', u'28', u'2016'): (52.0, u'0.38', u'0.0'), (u'4', u'12', u'2016'): (52.0, u'0.20', u'0.0'), (u'11', u'30', u'2016'): (54.0, u'0.73', u'0'), (u'1', u'21', u'2016'): (31.0, u'0.00', u'0.0'), (u'6', u'5', u'2016'): (68.0, u'0.91', u'0.0'), (u'5', u'25', u'2016'): (74.5, u'0.00', u'0.0'), (u'6', u'29', u'2016'): (75.0, u'0.01', u'0.0'), (u'8', u'13', u'2016'): (88.5, u'0', u'0'), (u'2', u'18', u'2016'): (31.5, u'0.00', u'0.0'), (u'1', u'17', u'2016'): (36.0, u'0.05', u'0.4'), (u'11', u'4', u'2016'): (54.0, u'0', u'0'), (u'7', u'3', u'2016'): (71.0, u'0', u'0'), (u'9', u'11', u'2016'): (75.0, u'0', u'0'), (u'6', u'28', u'2016'): (72.0, u'0.12', u'0.0'), (u'6', u'7', u'2016'): (74.5, '0', u'0.0'), (u'10', u'7', u'2016'): (66.0, u'0', u'0'), (u'2', u'12', u'2016'): (21.0, u'0.00', u'0.0'), (u'11', u'12', u'2016'): (43.5, u'0', u'0'), (u'4', u'26', u'2016'): (53.5, u'0.24', u'0.0'), (u'3', u'29', u'2016'): (46.5, u'0.00', u'0.0'), (u'7', u'7', u'2016'): (83.0, u'0.04', u'0'), (u'4', u'9', u'2016'): (39.5, u'0.11', '0'), (u'6', u'21', u'2016'): (79.5, '0', u'0.0'), (u'2', u'26', u'2016'): (33.0, u'0.00', u'0.0'), (u'10', u'16', u'2016'): (61.0, u'0', u'0'), (u'5', u'26', u'2016'): (79.5, u'0.00', u'0.0'), (u'9', u'29', u'2016'): (60.5, u'0', u'0'), (u'1', u'16', u'2016'): (47.0, u'0.24', u'0.0'), (u'12', u'19', u'2016'): (27.0, u'0', u'0'), (u'9', u'22', u'2016'): (75.5, u'0', u'0'), (u'7', u'21', u'2016'): (80.5, u'0', u'0'), (u'1', u'11', u'2016'): (33.0, u'0.00', u'0.0'), (u'3', u'11', u'2016'): (58.0, u'0.06', u'0.0'), (u'6', u'1', u'2016'): (74.5, u'0.00', u'0.0'), (u'4', u'25', u'2016'): (59.5, u'0.00', u'0.0'), (u'1', u'10', u'2016'): (49.5, u'1.80', u'0.0'), (u'7', u'27', u'2016'): (82.5, u'0', u'0'), (u'2', u'21', u'2016'): (49.5, u'0.03', u'0.0'), (u'8', u'21', u'2016'): (79.5, u'0.31', u'0'), (u'9', u'2', u'2016'): (73.5, u'0', u'0'), (u'6', u'3', u'2016'): (66.5, u'0.04', u'0.0'), (u'9', u'23', u'2016'): (75.5, u'0.01', u'0'), (u'5', u'31', u'2016'): (78.0, u'0.00', u'0.0'), (u'9', u'24', u'2016'): (64.5, u'0.2', u'0'), (u'10', u'17', u'2016'): (72.0, u'0', u'0'), (u'3', u'10', u'2016'): (71.0, u'0.00', u'0.0'), (u'9', u'19', u'2016'): (72.5, u'0.68', u'0'), (u'6', u'20', u'2016'): (74.0, u'0.00', u'0.0'), (u'8', u'7', u'2016'): (78.0, u'0', u'0'), (u'3', u'17', u'2016'): (54.0, '0', u'0.0'), (u'9', u'25', u'2016'): (62.0, u'0', u'0'), (u'10', u'9', u'2016'): (58.0, u'0.55', u'0'), (u'9', u'18', u'2016'): (76.0, u'0', u'0'), (u'8', u'20', u'2016'): (76.5, u'0.82', u'0'), (u'2', u'13', u'2016'): (14.0, u'0.00', u'0.0'), (u'3', u'16', u'2016'): (56.5, u'0.02', u'0.0'), (u'9', u'13', u'2016'): (73.5, u'0', u'0'), (u'8', u'27', u'2016'): (81.0, u'0', u'0'), (u'5', u'6', u'2016'): (51.0, u'0.54', u'0.0'), (u'8', u'30', u'2016'): (77.5, u'0', u'0'), (u'9', u'4', u'2016'): (72.5, u'0', u'0'), (u'5', u'27', u'2016'): (80.0, u'0.00', u'0.0'), (u'12', u'18', u'2016'): (44.5, u'0.04', u'0'), (u'8', u'26', u'2016'): (82.5, u'0', u'0'), (u'6', u'23', u'2016'): (76.0, u'0.00', u'0.0'), (u'8', u'31', u'2016'): (81.5, '0', u'0'), (u'4', u'10', u'2016'): (40.5, u'0.00', u'0.0'), (u'1', u'25', u'2016'): (33.5, u'0.00', u'0.0'), (u'9', u'6', u'2016'): (75.5, '0', u'0'), (u'1', u'9', u'2016'): (43.5, '0', u'0.0'), (u'5', u'21', u'2016'): (60.0, u'0.04', u'0.0'), (u'12', u'12', u'2016'): (40.0, u'0.5', u'0'), (u'2', u'14', u'2016'): (7.0, u'0.00', u'0.0'), (u'4', u'24', u'2016'): (57.5, u'0.00', u'0.0'), (u'1', u'13', u'2016'): (26.0, u'0.00', u'0.0'), (u'9', u'12', u'2016'): (70.0, u'0', u'0'), (u'2', u'29', u'2016'): (54.0, u'0.05', u'0.0'), (u'4', u'23', u'2016'): (62.5, u'0.16', u'0.0'), (u'1', u'30', u'2016'): (33.5, u'0.00', u'0.0'), (u'5', u'28', u'2016'): (81.5, u'0.00', u'0.0'), (u'12', u'7', u'2016'): (43.0, u'0.09', u'0'), (u'10', u'23', u'2016'): (53.0, u'0', u'0'), (u'4', u'22', u'2016'): (70.5, '0', u'0.0'), (u'8', u'18', u'2016'): (78.5, u'0.03', u'0'), (u'9', u'9', u'2016'): (83.0, u'0.22', u'0'), (u'5', u'22', u'2016'): (61.0, u'0.09', u'0.0'), (u'2', u'20', u'2016'): (50.0, u'0.00', u'0.0'), (u'5', u'2', u'2016'): (52.5, u'0.04', u'0.0'), (u'1', u'12', u'2016'): (34.5, u'0.00', '0'), (u'6', u'6', u'2016'): (74.0, u'0.00', u'0.0'), (u'8', u'28', u'2016'): (80.5, u'0', u'0'), (u'6', u'4', u'2016'): (74.5, u'0.40', u'0.0'), (u'7', u'25', u'2016'): (83.0, u'1', u'0'), (u'3', u'15', u'2016'): (50.5, u'0.00', u'0.0'), (u'4', u'21', u'2016'): (61.0, u'0.00', u'0.0'), (u'5', u'18', u'2016'): (60.0, '0', u'0.0'), (u'7', u'4', u'2016'): (75.0, u'0.49', u'0'), (u'2', u'23', u'2016'): (37.5, u'0.30', '0'), (u'10', u'15', u'2016'): (55.0, u'0', u'0'), (u'8', u'25', u'2016'): (77.5, u'0.01', u'0'), (u'10', u'12', u'2016'): (59.5, u'0', u'0'), (u'9', u'27', u'2016'): (69.0, u'0.22', u'0'), (u'7', u'22', u'2016'): (84.0, u'0', u'0'), (u'2', u'4', u'2016'): (51.5, '0', u'0.0'), (u'11', u'18', u'2016'): (54.0, u'0', u'0'), (u'6', u'11', u'2016'): (73.5, u'0.00', u'0.0'), (u'8', u'4', u'2016'): (74.0, u'0', u'0'), (u'10', u'13', u'2016'): (60.0, '0', u'0'), (u'3', u'14', u'2016'): (45.5, u'0.29', u'0.0'), (u'9', u'15', u'2016'): (67.5, u'0', u'0'), (u'1', u'5', u'2016'): (20.0, u'0.00', u'0.0'), (u'10', u'18', u'2016'): (74.0, u'0', u'0'), (u'6', u'2', u'2016'): (70.0, u'0.00', u'0.0'), (u'5', u'12', u'2016'): (68.0, u'0.00', u'0.0'), (u'8', u'24', u'2016'): (78.0, u'0', u'0'), (u'3', u'9', u'2016'): (60.5, u'0.00', u'0.0'), (u'5', u'15', u'2016'): (52.5, u'0.00', u'0.0'), (u'8', u'1', u'2016'): (74.5, '0', u'0'), (u'7', u'16', u'2016'): (82.5, '0', u'0'), (u'1', u'6', u'2016'): (33.0, u'0.00', u'0.0'), (u'12', u'14', u'2016'): (38.0, u'0', u'0'), (u'6', u'12', u'2016'): (72.5, u'0.00', u'0.0'), (u'5', u'14', u'2016'): (64.5, u'0.00', u'0.0'), (u'12', u'29', u'2016'): (39.5, u'0.39', u'0'), (u'4', u'7', u'2016'): (53.0, u'0.09', u'0.0'), (u'10', u'19', u'2016'): (75.0, u'0', u'0'), (u'12', u'6', u'2016'): (41.5, u'0.35', u'0'), (u'9', u'30', u'2016'): (57.5, u'0.4', u'0'), (u'1', u'7', u'2016'): (38.5, u'0.00', u'0.0'), (u'4', u'29', u'2016'): (51.5, u'0.05', u'0.0'), (u'5', u'7', u'2016'): (54.0, u'0.00', u'0.0'), (u'3', u'3', u'2016'): (31.0, u'0.00', u'0.0'), (u'7', u'28', u'2016'): (85.0, '0', u'0'), (u'2', u'8', u'2016'): (33.5, u'0.05', u'0.1'), (u'9', u'14', u'2016'): (79.0, u'0.56', u'0'), (u'4', u'5', u'2016'): (34.5, u'0.00', u'0.0'), (u'5', u'24', u'2016'): (65.5, u'0.18', u'0.0'), (u'11', u'9', u'2016'): (54.0, u'0.06', u'0'), (u'5', u'4', u'2016'): (50.0, u'0.01', u'0.0'), (u'2', u'9', u'2016'): (31.5, u'0.00', '0'), (u'10', u'21', u'2016'): (63.0, u'1.11', u'0'), (u'2', u'24', u'2016'): (48.0, u'1.22', u'0.0')}\n"
     ]
    }
   ],
   "source": [
    "weather_dict = final_weather.collectAsMap()\n",
    "print(weather_dict)"
   ]
  },
  {
   "cell_type": "code",
   "execution_count": 22,
   "metadata": {},
   "outputs": [
    {
     "data": {
      "text/plain": [
       "(35.5, u'0.00', u'0.0')"
      ]
     },
     "execution_count": 22,
     "metadata": {},
     "output_type": "execute_result"
    }
   ],
   "source": [
    "weather_dict['1','29','2016']"
   ]
  },
  {
   "cell_type": "code",
   "execution_count": 25,
   "metadata": {},
   "outputs": [],
   "source": [
    "weather16 = df.withColumnRenamed('ACCIDENT DATE','date').withColumnRenamed('NUMBER OF PERSONS INJURED','npi').select('date','npi').rdd\n",
    "weather16 = weather16.map(lambda x: (x[0].split('/'),x[1])).filter(lambda x: x[0][0]!=' PARKING LOT).\"' and x[0][2]=='2016')\n",
    "weather_count = weather16.map(lambda x: (tuple(x[0]),x[1])).map(lambda x: (x,1))\n",
    "weather = weather_count.reduceByKey(lambda x1,x2: x1+x2).sortByKey()"
   ]
  },
  {
   "cell_type": "code",
   "execution_count": 76,
   "metadata": {},
   "outputs": [],
   "source": [
    "def combine(x):\n",
    "    res = []\n",
    "    if str(x[0][0][0])[0]=='0' and str(x[0][0][1])[0]=='0':\n",
    "        res = [x, weather_dict[str(x[0][0][0])[1],str(x[0][0][1])[1],str(x[0][0][2])]]\n",
    "    elif str(x[0][0][0])[0]=='0' and str(x[0][0][1])[0]!='0':\n",
    "        res = [x, weather_dict[str(x[0][0][0])[1],str(x[0][0][1]),str(x[0][0][2])]]\n",
    "    elif  str(x[0][0][0])[0]!='0' and str(x[0][0][1])[0]=='0':\n",
    "        res = [x, weather_dict[str(x[0][0][0]),str(x[0][0][1])[1],str(x[0][0][2])]]\n",
    "    else:\n",
    "        res = [x, weather_dict[str(x[0][0][0]),str(x[0][0][1]),str(x[0][0][2])]]                                                            \n",
    "    return res"
   ]
  },
  {
   "cell_type": "code",
   "execution_count": 92,
   "metadata": {},
   "outputs": [],
   "source": [
    "def combine2(x):\n",
    "    res = []\n",
    "    if str(x[0])[0]=='0' and str(x[1])[0]=='0':\n",
    "        res = weather_dict[str(x[0])[1],str(x[1])[1],str(x[2])]\n",
    "    elif str(x[0])[0]=='0' and str(x[1])[0]!='0':\n",
    "        res = weather_dict[str(x[0])[1],str(x[1]),str(x[2])]\n",
    "    elif  str(x[0])[0]!='0' and str(x[1])[0]=='0':\n",
    "        res = weather_dict[str(x[0]),str(x[1])[1],str(x[2])]\n",
    "    else:\n",
    "        res = weather_dict[str(x[0]),str(x[1]),str(x[2])]                                \n",
    "    return res"
   ]
  },
  {
   "cell_type": "code",
   "execution_count": 121,
   "metadata": {},
   "outputs": [
    {
     "data": {
      "text/plain": [
       "[[(((u'01', u'01', u'2016'), u'2'), 18), (38.0, u'0.00', u'0.0')],\n",
       " [(((u'01', u'01', u'2016'), u'3'), 5), (38.0, u'0.00', u'0.0')],\n",
       " [(((u'01', u'01', u'2016'), u'4'), 3), (38.0, u'0.00', u'0.0')],\n",
       " [(((u'01', u'01', u'2016'), u'5'), 1), (38.0, u'0.00', u'0.0')],\n",
       " [(((u'01', u'01', u'2016'), u'6'), 1), (38.0, u'0.00', u'0.0')],\n",
       " [(((u'01', u'01', u'2016'), u'7'), 1), (38.0, u'0.00', u'0.0')],\n",
       " [(((u'01', u'02', u'2016'), u'2'), 14), (36.0, u'0.00', u'0.0')],\n",
       " [(((u'01', u'02', u'2016'), u'3'), 4), (36.0, u'0.00', u'0.0')],\n",
       " [(((u'01', u'02', u'2016'), u'4'), 2), (36.0, u'0.00', u'0.0')],\n",
       " [(((u'01', u'02', u'2016'), u'6'), 1), (36.0, u'0.00', u'0.0')]]"
      ]
     },
     "execution_count": 121,
     "metadata": {},
     "output_type": "execute_result"
    }
   ],
   "source": [
    "weather_data = weather.map(lambda x: combine(x)).filter(lambda x: x[0][0][1]!='0' and x[0][0][1]!='1')\n",
    "weather_data.take(10)"
   ]
  },
  {
   "cell_type": "code",
   "execution_count": 41,
   "metadata": {},
   "outputs": [
    {
     "data": {
      "text/plain": [
       "(38.0, u'0.00', u'0.0')"
      ]
     },
     "execution_count": 41,
     "metadata": {},
     "output_type": "execute_result"
    }
   ],
   "source": [
    "weather_dict[str(weather.collect()[0][0][0][0])[1],str(weather.collect()[0][0][0][1])[1],str(weather.collect()[0][0][0][2])]"
   ]
  },
  {
   "cell_type": "code",
   "execution_count": 122,
   "metadata": {},
   "outputs": [
    {
     "data": {
      "text/plain": [
       "[(29, 38.0),\n",
       " (23, 36.0),\n",
       " (20, 40.0),\n",
       " (14, 25.0),\n",
       " (12, 20.0),\n",
       " (21, 33.0),\n",
       " (19, 38.5),\n",
       " (16, 38.5),\n",
       " (19, 43.5),\n",
       " (24, 49.5),\n",
       " (21, 33.0),\n",
       " (11, 34.5),\n",
       " (23, 26.0),\n",
       " (22, 30.0),\n",
       " (22, 42.5),\n",
       " (24, 47.0),\n",
       " (22, 36.0),\n",
       " (23, 24.5),\n",
       " (29, 22.0),\n",
       " (23, 32.0)]"
      ]
     },
     "execution_count": 122,
     "metadata": {},
     "output_type": "execute_result"
    }
   ],
   "source": [
    "weather_data_accumu = weather_data.map(lambda x: (x[0][0][0], x[0][1])).reduceByKey(lambda v1,v2: v1+v2).sortByKey()\n",
    "data_accumu1 = weather_data_accumu.map(lambda x: (x[1], combine2(x[0]))).map(lambda x: (x[0],x[1][0]))\n",
    "data_accumu2 = weather_data_accumu.map(lambda x: (x[1], combine2(x[0]))).map(lambda x: (x[0],float(x[1][1])))\n",
    "data_accumu3 = weather_data_accumu.map(lambda x: (x[1], combine2(x[0]))).map(lambda x: (x[0],float(x[1][2])))\n",
    "data_accumu1.take(20)"
   ]
  },
  {
   "cell_type": "code",
   "execution_count": 123,
   "metadata": {},
   "outputs": [
    {
     "name": "stdout",
     "output_type": "stream",
     "text": [
      "+------+-------+\n",
      "|number|feature|\n",
      "+------+-------+\n",
      "|    29|    0.0|\n",
      "+------+-------+\n",
      "only showing top 1 row\n",
      "\n"
     ]
    }
   ],
   "source": [
    "weather1 = data_accumu1.toDF()\n",
    "weather1 = weather1.withColumnRenamed('_1','number').withColumnRenamed('_2','feature')\n",
    "weather2 = data_accumu2.toDF()\n",
    "weather2 = weather2.withColumnRenamed('_1','number').withColumnRenamed('_2','feature')\n",
    "weather3 = data_accumu3.toDF()\n",
    "weather3 = weather3.withColumnRenamed('_1','number').withColumnRenamed('_2','feature')\n",
    "weather2.show(1)"
   ]
  },
  {
   "cell_type": "code",
   "execution_count": 126,
   "metadata": {},
   "outputs": [
    {
     "data": {
      "text/plain": [
       "-0.16812688708162593"
      ]
     },
     "execution_count": 126,
     "metadata": {},
     "output_type": "execute_result"
    }
   ],
   "source": [
    "weather3.stat.corr('number', 'feature')"
   ]
  },
  {
   "cell_type": "markdown",
   "metadata": {},
   "source": [
    "test2"
   ]
  },
  {
   "cell_type": "code",
   "execution_count": 40,
   "metadata": {},
   "outputs": [
    {
     "name": "stdout",
     "output_type": "stream",
     "text": [
      "+-------------------+-----+-----+------+------+----+-----+-----+------+------+-----+--------+----+----+---------+---------+----------+----------+----------+----------+-------+-------+----------+------+---+----+----+----+-------+-------+\n",
      "|    pickup_datetime|tempm|tempi|dewptm|dewpti| hum|wspdm|wspdi|wgustm|wgusti|wdird|   wdire|vism|visi|pressurem|pressurei|windchillm|windchilli|heatindexm|heatindexi|precipm|precipi|     conds|  icon|fog|rain|snow|hail|thunder|tornado|\n",
      "+-------------------+-----+-----+------+------+----+-----+-----+------+------+-----+--------+----+----+---------+---------+----------+----------+----------+----------+-------+-------+----------+------+---+----+----+----+-------+-------+\n",
      "|2015-12-31 00:15:00|  7.8| 46.0|   6.1|  43.0|89.0|  7.4|  4.6|  null|  null|   40|      NE| 4.0| 2.5|   1018.2|    30.07|       6.6|      43.9|      null|      null|    0.5|   0.02|Light Rain|  rain|  0|   1|   0|   0|      0|      0|\n",
      "|2015-12-31 00:42:00|  7.8| 46.0|   6.1|  43.0|89.0|  7.4|  4.6|  null|  null|    0|Variable| 6.4| 4.0|   1017.8|    30.06|       6.6|      43.9|      null|      null|    0.8|   0.03|  Overcast|cloudy|  0|   0|   0|   0|      0|      0|\n",
      "|2015-12-31 00:51:00|  7.8| 46.0|   6.1|  43.0|89.0|  5.6|  3.5|  null|  null|   20|     NNE| 8.0| 5.0|   1017.0|    30.04|       7.1|      44.8|      null|      null|    0.8|   0.03|  Overcast|cloudy|  0|   0|   0|   0|      0|      0|\n",
      "|2015-12-31 01:51:00|  7.2| 45.0|   5.6|  42.1|90.0|  7.4|  4.6|  null|  null|    0|Variable|12.9| 8.0|   1016.5|    30.02|       5.9|      42.6|      null|      null|    0.3|   0.01|  Overcast|cloudy|  0|   0|   0|   0|      0|      0|\n",
      "|2015-12-31 02:51:00|  7.2| 45.0|   5.6|  42.1|90.0|  0.0|  0.0|  null|  null|    0|   North|12.9| 8.0|   1016.7|    30.03|      null|      null|      null|      null|   null|   null|  Overcast|cloudy|  0|   0|   0|   0|      0|      0|\n",
      "|2015-12-31 03:28:00|  6.7| 44.1|   5.0|  41.0|89.0|  7.4|  4.6|  null|  null|  300|     WNW|12.9| 8.0|   1017.2|    30.04|       5.3|      41.5|      null|      null|   null|   null|  Overcast|cloudy|  0|   0|   0|   0|      0|      0|\n",
      "|2015-12-31 03:40:00|  7.2| 45.0|   5.0|  41.0|86.0|  0.0|  0.0|  null|  null|    0|   North|12.9| 8.0|   1016.8|    30.03|      null|      null|      null|      null|   null|   null|  Overcast|cloudy|  0|   0|   0|   0|      0|      0|\n",
      "|2015-12-31 03:51:00|  7.2| 45.0|   5.0|  41.0|86.0|  7.4|  4.6|  null|  null|  310|      NW|14.5| 9.0|   1015.9|     30.0|       5.9|      42.6|      null|      null|   null|   null|  Overcast|cloudy|  0|   0|   0|   0|      0|      0|\n",
      "|2015-12-31 04:22:00|  7.2| 45.0|   5.0|  41.0|86.0|  5.6|  3.5|  null|  null|  280|    West|14.5| 9.0|   1016.8|    30.03|       6.4|      43.5|      null|      null|   null|   null|  Overcast|cloudy|  0|   0|   0|   0|      0|      0|\n",
      "|2015-12-31 04:51:00|  7.2| 45.0|   5.6|  42.1|90.0|  5.6|  3.5|  null|  null|  270|    West|11.3| 7.0|   1016.2|    30.01|       6.4|      43.5|      null|      null|   null|   null|  Overcast|cloudy|  0|   0|   0|   0|      0|      0|\n",
      "+-------------------+-----+-----+------+------+----+-----+-----+------+------+-----+--------+----+----+---------+---------+----------+----------+----------+----------+-------+-------+----------+------+---+----+----+----+-------+-------+\n",
      "only showing top 10 rows\n",
      "\n"
     ]
    }
   ],
   "source": [
    "df4 = spark.read.format(\"csv\").options(header='true', inferschema='true').load('gs://finalproject20/data/Weather.csv')\n",
    "df4.show(10)"
   ]
  },
  {
   "cell_type": "code",
   "execution_count": 41,
   "metadata": {},
   "outputs": [
    {
     "data": {
      "text/plain": [
       "[(((u'01', u'01', u'2016', u'0'), u'0'), 7),\n",
       " (((u'01', u'01', u'2016', u'0'), u'1'), 2),\n",
       " (((u'01', u'01', u'2016', u'0'), u'2'), 1),\n",
       " (((u'01', u'01', u'2016', u'1'), u'0'), 18),\n",
       " (((u'01', u'01', u'2016', u'1'), u'1'), 3)]"
      ]
     },
     "execution_count": 41,
     "metadata": {},
     "output_type": "execute_result"
    }
   ],
   "source": [
    "weather16 = df.withColumnRenamed('ACCIDENT DATE','date').withColumnRenamed('ACCIDENT TIME','time').withColumnRenamed('NUMBER OF PERSONS INJURED','npi').select('date','time','npi').rdd\n",
    "weather16 = weather16.filter(lambda x: x[1]!='0').map(lambda x: ([x[0].split('/')[0],x[0].split('/')[1],x[0].split('/')[2],x[1].split(':')[0]],x[2])).filter(lambda x: x[0][0]!=' PARKING LOT).\"' and x[0][2]=='2016')\n",
    "weather_count = weather16.map(lambda x: (tuple(x[0]),x[1])).map(lambda x: (x,1))\n",
    "weather = weather_count.reduceByKey(lambda x1,x2: x1+x2).sortByKey()\n",
    "weather.take(5)"
   ]
  },
  {
   "cell_type": "code",
   "execution_count": 42,
   "metadata": {},
   "outputs": [],
   "source": [
    "data2 = df4.withColumnRenamed('pickup_datetime','time').select('time','tempm','vism','precipm','fog').rdd"
   ]
  },
  {
   "cell_type": "code",
   "execution_count": 43,
   "metadata": {},
   "outputs": [],
   "source": [
    "weather_dict2 = data2.map(lambda x:(x[0].strftime(\"%m,%d,%y,%H\"),(x[1],x[2],x[3],x[4]))).filter(lambda x: x[0][6:8]=='16').collectAsMap()"
   ]
  },
  {
   "cell_type": "code",
   "execution_count": 9,
   "metadata": {
    "scrolled": true
   },
   "outputs": [
    {
     "name": "stdout",
     "output_type": "stream",
     "text": [
      "{'06,03,16,18': (5.6, 16.1, None, 0), '06,03,16,19': (4.4, 16.1, None, 0), '06,03,16,12': (4.4, 16.1, None, 0), '06,03,16,13': (5.6, 16.1, None, 0), '06,03,16,10': (3.3, 16.1, None, 0), '06,03,16,11': (4.4, 16.1, None, 0), '06,03,16,16': (6.7, 16.1, None, 0), '06,03,16,17': (6.1, 16.1, None, 0), '06,03,16,14': (6.7, 16.1, None, 0), '06,03,16,15': (6.7, 16.1, None, 0), '11,10,16,18': (13.3, 16.1, None, 0), '11,10,16,19': (13.3, 16.1, None, 0), '11,10,16,12': (15.6, 16.1, None, 0), '11,10,16,13': (16.1, 16.1, None, 0), '11,10,16,10': (12.2, 16.1, None, 0), '11,10,16,11': (13.9, 16.1, None, 0), '11,10,16,16': (15.0, 16.1, None, 0), '11,10,16,17': (13.9, 16.1, None, 0), '11,10,16,14': (17.2, 16.1, None, 0), '11,10,16,15': (16.1, 16.1, None, 0), '10,02,16,21': (0.0, 16.1, None, 0), '10,02,16,20': (0.0, 16.1, None, 0), '10,02,16,23': (-0.6, 16.1, None, 0), '10,02,16,22': (-0.6, 16.1, None, 0), '12,29,16,06': (2.8, 16.1, None, 0), '12,29,16,07': (3.3, 16.1, None, 0), '05,20,16,16': (23.9, 16.1, None, 0), '05,20,16,17': (21.7, 16.1, None, 0), '05,20,16,14': (23.9, 16.1, None, 0), '05,20,16,15': (23.9, 16.1, None, 0), '05,20,16,12': (23.3, 16.1, None, 0), '05,20,16,13': (23.9, 16.1, None, 0), '05,20,16,10': (19.4, 16.1, None, 0), '05,20,16,11': (21.1, 16.1, None, 0), '05,20,16,18': (20.0, 16.1, None, 0), '05,20,16,19': (18.9, 16.1, None, 0), '10,08,16,09': (26.7, 12.9, None, 0), '10,08,16,08': (26.1, 12.9, None, 0), '10,08,16,05': (25.6, 16.1, None, 0), '10,08,16,04': (24.4, 16.1, None, 0), '10,08,16,07': (25.6, 14.5, None, 0), '10,08,16,06': (25.0, 14.5, None, 0), '10,08,16,01': (25.6, 16.1, None, 0), '10,08,16,00': (25.0, 16.1, None, 0), '10,08,16,03': (23.9, 16.1, 0.3, 0), '10,08,16,02': (24.4, 16.1, None, 0), '10,11,16,18': (12.2, 16.1, None, 0), '10,11,16,19': (12.2, 16.1, None, 0), '10,11,16,10': (9.4, 16.1, None, 0), '10,11,16,11': (11.1, 16.1, None, 0), '10,11,16,12': (12.2, 16.1, None, 0), '10,11,16,13': (12.2, 16.1, None, 0), '10,11,16,14': (12.8, 16.1, None, 0), '10,11,16,15': (12.8, 16.1, None, 0), '10,11,16,16': (12.2, 16.1, None, 0), '10,11,16,17': (12.2, 16.1, None, 0), '04,14,16,21': (8.3, 16.1, None, 0), '04,14,16,20': (8.9, 16.1, None, 0), '04,14,16,23': (7.2, 16.1, None, 0), '04,14,16,22': (7.8, 16.1, None, 0), '03,28,16,14': (9.4, 8.0, None, 0), '03,28,16,15': (13.9, 14.5, None, 0), '03,28,16,16': (15.6, 16.1, None, 0), '03,28,16,17': (15.6, 16.1, None, 0), '03,28,16,10': (7.2, 4.8, 1.8, 0), '03,28,16,11': (7.2, 12.9, 0.5, 0), '03,28,16,12': (8.3, 4.8, 0.0, 0), '03,28,16,13': (7.8, 4.8, None, 0), '03,28,16,18': (13.9, 16.1, None, 0), '03,28,16,19': (13.3, 16.1, None, 0), '02,25,16,02': (13.9, 16.1, None, 0), '02,25,16,05': (11.7, 16.1, None, 0), '02,25,16,04': (11.7, 14.5, None, 0), '05,19,16,16': (17.8, 16.1, None, 0), '05,19,16,17': (17.2, 16.1, None, 0), '05,19,16,14': (20.0, 16.1, None, 0), '07,26,16,19': (30.6, 14.5, None, 0), '05,19,16,12': (21.7, 16.1, None, 0), '02,25,16,07': (12.8, 16.1, None, 0), '05,19,16,10': (18.9, 16.1, None, 0), '05,19,16,11': (19.4, 16.1, None, 0), '07,26,16,12': (31.1, 14.5, None, 0), '07,26,16,13': (30.0, 14.5, None, 0), '07,26,16,10': (28.3, 14.5, None, 0), '07,26,16,11': (30.0, 14.5, None, 0), '07,26,16,16': (31.7, 14.5, None, 0), '07,26,16,17': (31.7, 14.5, None, 0), '07,26,16,14': (31.1, 14.5, None, 0), '07,26,16,15': (31.1, 14.5, None, 0), '02,25,16,09': (11.1, 16.1, None, 0), '02,25,16,08': (11.7, 16.1, None, 0), '01,28,16,00': (1.1, 16.1, None, 0), '10,09,16,13': (32.2, 8.0, None, 0), '10,09,16,12': (31.7, 9.7, None, 0), '10,09,16,11': (30.6, 9.7, None, 0), '10,09,16,10': (28.3, 12.9, None, 0), '10,09,16,17': (30.0, 9.7, None, 0), '10,09,16,16': (30.0, 9.7, None, 0), '10,09,16,15': (30.0, 9.7, 0.0, 0), '10,09,16,14': (31.1, 8.0, None, 0), '10,09,16,19': (28.3, 12.9, None, 0), '10,09,16,18': (28.9, 9.7, None, 0), '05,01,16,20': (-1.7, 16.1, None, 0), '05,01,16,21': (-2.2, 16.1, None, 0), '05,01,16,22': (-2.2, 16.1, None, 0), '05,01,16,23': (-2.8, 16.1, None, 0), '07,12,16,22': (6.7, 16.1, None, 0), '07,12,16,23': (6.1, 16.1, None, 0), '07,12,16,20': (7.2, 16.1, None, 0), '07,12,16,21': (6.7, 16.1, None, 0), '11,05,16,14': (23.3, 16.1, None, 0), '10,30,16,01': (17.2, 16.1, None, 0), '03,10,16,20': (18.3, 11.3, None, 0), '03,10,16,21': (18.3, 14.5, None, 0), '03,10,16,22': (18.3, 16.1, None, 0), '03,10,16,23': (18.9, 16.1, None, 0), '11,05,16,17': (22.2, 16.1, None, 0), '11,05,16,10': (19.4, 16.1, None, 0), '11,05,16,11': (22.2, 16.1, None, 0), '11,05,16,12': (23.3, 16.1, None, 0), '01,28,16,23': (4.4, 16.1, None, 0), '01,28,16,22': (3.9, 16.1, None, 0), '01,28,16,21': (3.9, 16.1, None, 0), '01,28,16,20': (4.4, 16.1, None, 0), '12,30,16,20': (1.7, 16.1, None, 0), '12,30,16,21': (1.7, 16.1, None, 0), '12,30,16,22': (1.1, 16.1, None, 0), '12,30,16,23': (0.6, 16.1, None, 0), '07,02,16,10': (5.0, 16.1, None, 0), '07,02,16,11': (5.6, 16.1, None, 0), '07,02,16,12': (7.2, 16.1, None, 0), '07,02,16,13': (8.3, 16.1, None, 0), '07,02,16,14': (7.8, 16.1, None, 0), '07,02,16,15': (7.2, 16.1, None, 0), '07,02,16,16': (6.1, 16.1, None, 0), '07,02,16,17': (5.6, 16.1, None, 0), '07,02,16,18': (5.0, 16.1, None, 0), '07,02,16,19': (4.4, 16.1, None, 0), '08,22,16,15': (24.4, 16.1, None, 0), '08,22,16,14': (25.0, 16.1, None, 0), '08,22,16,13': (25.0, 16.1, None, 0), '08,22,16,12': (25.0, 16.1, None, 0), '08,22,16,11': (24.4, 16.1, None, 0), '08,22,16,10': (23.3, 16.1, None, 0), '09,18,16,00': (21.1, 16.1, None, 0), '09,18,16,01': (21.1, 16.1, None, 0), '09,18,16,02': (21.1, 16.1, None, 0), '09,18,16,03': (21.1, 16.1, None, 0), '09,18,16,04': (21.1, 16.1, None, 0), '09,18,16,05': (21.1, 16.1, None, 0), '09,18,16,06': (21.7, 14.5, None, 0), '09,18,16,07': (21.7, 11.3, None, 0), '09,18,16,08': (22.8, 11.3, None, 0), '09,18,16,09': (23.3, 11.3, None, 0), '11,05,16,21': (19.4, 16.1, None, 0), '01,02,16,11': (13.9, 16.1, None, 0), '06,22,16,20': (26.1, 16.1, None, 0), '06,22,16,21': (25.0, 16.1, None, 0), '06,22,16,22': (24.4, 16.1, None, 0), '06,22,16,23': (22.8, 16.1, None, 0), '11,05,16,20': (20.0, 16.1, None, 0), '12,22,16,06': (4.4, 16.1, None, 0), '08,03,16,18': (10.6, 11.3, None, 0), '08,03,16,19': (10.6, 11.3, None, 0), '08,03,16,14': (15.6, 16.1, None, 0), '08,03,16,15': (13.3, 11.3, None, 0), '08,03,16,16': (12.8, 9.7, None, 0), '08,03,16,17': (11.7, 9.7, None, 0), '08,03,16,10': (16.7, 11.3, None, 0), '08,03,16,11': (18.3, 12.9, None, 0), '08,03,16,12': (16.7, 16.1, None, 0), '08,03,16,13': (16.7, 14.5, None, 0), '09,13,16,07': (19.4, 16.1, None, 0), '09,13,16,06': (18.3, 16.1, None, 0), '09,13,16,05': (17.8, 16.1, None, 0), '09,13,16,04': (18.3, 16.1, None, 0), '09,13,16,03': (17.8, 16.1, None, 0), '09,13,16,02': (18.9, 16.1, None, 0), '09,13,16,01': (18.9, 16.1, None, 0), '09,13,16,00': (18.9, 16.1, None, 0), '12,22,16,00': (3.9, 16.1, None, 0), '09,13,16,09': (21.7, 14.5, None, 0), '09,13,16,08': (20.0, 14.5, None, 0), '11,05,16,22': (18.3, 16.1, None, 0), '03,21,16,20': (5.6, 16.1, None, 0), '03,21,16,21': (5.0, 16.1, None, 0), '03,21,16,22': (3.9, 16.1, None, 0), '03,21,16,23': (3.3, 16.1, None, 0), '12,22,16,10': (6.7, 16.1, None, 0), '12,22,16,11': (5.6, 16.1, None, 0), '12,22,16,12': (6.7, 16.1, None, 0), '12,22,16,13': (7.8, 16.1, None, 0), '12,22,16,18': (5.6, 16.1, None, 0), '12,22,16,19': (5.0, 16.1, None, 0), '07,13,16,23': (23.9, 16.1, None, 0), '07,13,16,22': (23.9, 14.5, None, 0), '07,13,16,21': (24.4, 16.1, None, 0), '07,13,16,20': (24.4, 16.1, None, 0), '11,02,16,22': (-7.2, 16.1, None, 0), '11,02,16,23': (-7.8, 16.1, None, 0), '11,02,16,20': (-6.7, 16.1, None, 0), '11,02,16,21': (-6.7, 16.1, None, 0), '08,24,16,20': (26.0, None, None, 0), '08,24,16,21': (25.0, None, None, 0), '08,24,16,22': (25.0, None, None, 0), '08,24,16,23': (24.0, None, None, 0), '01,14,16,22': (2.8, 16.1, None, 0), '01,14,16,23': (2.8, 16.1, None, 0), '01,14,16,20': (2.8, 16.1, None, 0), '01,14,16,21': (2.8, 16.1, None, 0), '11,08,16,19': (27.8, 12.9, None, 0), '01,03,16,00': (8.9, 16.1, None, 0), '01,03,16,01': (7.8, 16.1, None, 0), '01,03,16,02': (8.3, 16.1, None, 0), '01,03,16,03': (7.8, 16.1, None, 0), '01,03,16,04': (5.6, 16.1, None, 0), '01,03,16,05': (5.0, 16.1, None, 0), '01,03,16,06': (4.4, 16.1, None, 0), '01,03,16,07': (3.9, 16.1, None, 0), '01,03,16,08': (3.9, 16.1, None, 0), '01,03,16,09': (5.6, 16.1, None, 0), '11,08,16,18': (26.7, 9.7, 0.8, 0), '05,18,16,04': (12.0, None, None, 0), '05,18,16,05': (12.0, None, None, 0), '05,18,16,06': (12.0, None, None, 0), '05,18,16,07': (13.0, None, None, 0), '05,18,16,00': (11.0, None, None, 0), '05,18,16,01': (12.0, None, None, 0), '05,18,16,02': (11.0, None, None, 0), '05,18,16,03': (11.0, None, None, 0), '05,18,16,08': (14.0, None, None, 0), '05,18,16,09': (15.0, None, None, 0), '01,08,16,07': (21.1, 11.3, None, 0), '01,08,16,06': (21.1, 11.3, None, 0), '01,08,16,05': (21.1, 16.1, None, 0), '01,08,16,04': (21.1, 16.1, None, 0), '01,08,16,03': (21.1, 14.5, None, 0), '01,08,16,02': (21.1, 11.3, None, 0), '01,08,16,01': (21.7, 12.9, 0.0, 0), '01,08,16,00': (21.7, 4.8, 1.3, 0), '03,18,16,11': (12.8, 16.1, None, 0), '03,18,16,10': (11.1, 16.1, None, 0), '03,18,16,13': (13.3, 16.1, None, 0), '03,18,16,12': (13.3, 16.1, None, 0), '03,18,16,15': (13.3, 16.1, None, 0), '03,18,16,14': (12.8, 16.1, None, 0), '01,08,16,09': (21.7, 14.5, None, 0), '01,08,16,08': (21.1, 14.5, None, 0), '08,30,16,05': (21.7, 16.1, None, 0), '08,30,16,04': (22.2, 16.1, None, 0), '08,30,16,07': (22.2, 16.1, None, 0), '08,30,16,06': (21.1, 16.1, None, 0), '08,30,16,01': (23.9, 16.1, None, 0), '08,30,16,00': (24.4, 16.1, None, 0), '08,30,16,03': (22.2, 16.1, None, 0), '08,30,16,02': (23.3, 16.1, None, 0), '08,30,16,09': (24.4, 16.1, None, 0), '08,30,16,08': (22.8, 16.1, None, 0), '11,27,16,03': (4.4, 16.1, None, 0), '11,27,16,02': (4.4, 16.1, None, 0), '11,27,16,01': (4.4, 16.1, None, 0), '11,27,16,00': (5.0, 16.1, None, 0), '11,27,16,07': (4.4, 16.1, None, 0), '11,27,16,06': (4.4, 16.1, None, 0), '11,27,16,05': (4.4, 16.1, None, 0), '11,27,16,04': (4.4, 16.1, None, 0), '11,27,16,09': (6.7, 16.1, None, 0), '11,27,16,08': (5.0, 16.1, None, 0), '11,20,16,00': (2.8, 6.4, 3.8, 0), '11,20,16,01': (1.7, 8.0, 2.5, 0), '11,20,16,02': (1.7, 8.0, 2.5, 0), '11,20,16,03': (2.8, 16.1, 0.3, 0), '07,30,16,22': (23.3, 6.4, 0.0, 0), '07,30,16,23': (23.3, 3.2, None, 0), '07,30,16,20': (23.3, 6.4, 0.3, 0), '07,30,16,21': (23.3, 4.8, 0.5, 0), '11,20,16,08': (3.9, 16.1, None, 0), '11,20,16,09': (3.9, 16.1, None, 0), '01,01,16,08': (3.9, 16.1, None, 0), '01,01,16,09': (4.4, 16.1, None, 0), '01,01,16,02': (5.0, 16.1, None, 0), '01,01,16,03': (5.0, 16.1, None, 0), '01,01,16,00': (5.6, 16.1, None, 0), '01,01,16,01': (5.0, 16.1, None, 0), '01,01,16,06': (3.9, 16.1, None, 0), '01,01,16,07': (3.9, 16.1, None, 0), '01,01,16,04': (4.4, 16.1, None, 0), '01,01,16,05': (4.4, 16.1, None, 0), '10,04,16,09': (2.2, 16.1, None, 0), '10,04,16,08': (0.6, 16.1, None, 0), '11,25,16,14': (11.7, 8.0, 0.0, 0), '11,25,16,15': (11.7, 9.7, 0.0, 0), '11,25,16,12': (11.7, 9.7, None, 0), '11,25,16,13': (12.2, 9.7, None, 0), '11,25,16,10': (11.1, 9.7, None, 0), '11,25,16,11': (11.1, 8.0, None, 0), '10,04,16,01': (1.7, 16.1, None, 0), '10,04,16,00': (2.2, 16.1, None, 0), '10,04,16,03': (0.6, 16.1, None, 0), '10,04,16,02': (1.1, 16.1, None, 0), '10,04,16,05': (0.0, 16.1, None, 0), '10,04,16,04': (0.0, 16.1, None, 0), '10,04,16,07': (0.0, 16.1, None, 0), '10,04,16,06': (-0.6, 16.1, None, 0), '12,15,16,01': (0.6, 16.1, None, 0), '12,15,16,00': (1.1, 16.1, None, 0), '09,02,16,18': (1.1, 16.1, None, 0), '09,02,16,19': (1.1, 16.1, None, 0), '12,15,16,05': (-1.7, 16.1, None, 0), '12,15,16,04': (-0.6, 16.1, None, 0), '12,15,16,07': (-3.9, 16.1, None, 0), '12,15,16,06': (-2.8, 16.1, None, 0), '09,02,16,12': (1.1, 16.1, None, 0), '09,02,16,13': (1.1, 16.1, None, 0), '09,02,16,10': (-0.6, 16.1, None, 0), '09,02,16,11': (0.6, 16.1, None, 0), '09,02,16,16': (1.7, 16.1, None, 0), '09,02,16,17': (0.6, 16.1, None, 0), '09,02,16,14': (1.7, 16.1, None, 0), '09,02,16,15': (2.2, 16.1, None, 0), '01,07,16,17': (21.1, 0.4, 2.0, 1), '01,07,16,16': (23.3, 11.3, 0.0, 0), '01,07,16,15': (23.9, 6.4, 0.0, 0), '01,07,16,14': (25.6, 12.9, None, 0), '01,07,16,13': (25.0, 12.9, None, 0), '01,07,16,12': (25.6, 14.5, None, 0), '01,07,16,11': (25.0, 12.9, None, 0), '01,07,16,10': (25.0, 12.9, None, 0), '01,07,16,19': (21.7, 6.4, None, 0), '01,07,16,18': (22.2, 6.4, 7.9, 0), '08,18,16,14': (27.2, 12.9, None, 0), '08,18,16,15': (28.9, 12.9, None, 0), '08,18,16,16': (28.3, 14.5, None, 0), '08,18,16,17': (28.3, 14.5, None, 0), '08,18,16,10': (25.6, 14.5, None, 0), '08,18,16,11': (26.1, 14.5, None, 0), '08,18,16,12': (27.2, 12.9, None, 0), '08,18,16,13': (27.2, 12.9, None, 0), '11,08,16,10': (29.4, 11.3, None, 0), '08,18,16,18': (28.3, 14.5, None, 0), '08,18,16,19': (27.2, 16.1, None, 0), '11,15,16,19': (9.4, 16.1, None, 0), '11,15,16,18': (9.4, 16.1, None, 0), '11,15,16,17': (9.4, 16.1, None, 0), '11,15,16,16': (8.9, 9.7, 0.3, 0), '11,15,16,15': (8.9, 16.1, None, 0), '11,15,16,14': (10.0, 6.4, None, 0), '11,15,16,13': (10.0, 16.1, None, 0), '11,15,16,12': (9.4, 14.5, 7.4, 0), '11,15,16,11': (8.3, 1.2, 8.1, 0), '11,15,16,10': (8.9, 2.4, 8.4, 0), '02,12,16,07': (5.0, 16.1, None, 0), '02,12,16,06': (5.0, 16.1, None, 0), '02,12,16,05': (5.0, 16.1, None, 0), '02,12,16,04': (4.4, 16.1, None, 0), '02,12,16,03': (4.4, 16.1, None, 0), '02,12,16,02': (5.0, 16.1, None, 0), '02,12,16,01': (5.0, 16.1, None, 0), '02,12,16,00': (5.6, 16.1, None, 0), '02,17,16,23': (1.7, 16.1, None, 0), '02,12,16,09': (6.7, 16.1, None, 0), '02,12,16,08': (5.6, 16.1, None, 0), '05,14,16,08': (18.6, None, None, 0), '05,14,16,09': (21.0, None, None, 0), '02,21,16,23': (7.2, 16.1, None, 0), '02,21,16,22': (7.8, 16.1, 0.0, 0), '02,21,16,21': (8.3, 16.1, 0.5, 0), '02,21,16,20': (9.4, 14.5, 0.0, 0), '05,14,16,04': (13.5, None, None, 0), '05,14,16,05': (15.0, None, None, 0), '05,14,16,06': (16.0, None, None, 0), '05,14,16,07': (18.0, None, None, 0), '10,24,16,22': (9.4, 16.1, None, 0), '04,03,16,10': (-1.1, 1.2, 0.3, 0), '04,03,16,11': (0.0, 16.1, 0.0, 0), '04,03,16,12': (1.1, 16.1, None, 0), '04,03,16,13': (1.7, 16.1, None, 0), '04,03,16,14': (2.8, 16.1, None, 0), '04,03,16,15': (3.9, 16.1, None, 0), '04,03,16,16': (3.9, 16.1, None, 0), '04,03,16,17': (3.3, 16.1, None, 0), '04,03,16,18': (2.8, 16.1, None, 0), '04,03,16,19': (2.2, 16.1, None, 0), '11,08,16,16': (31.7, 12.9, None, 0), '10,12,16,08': (-1.1, 16.1, None, 0), '02,24,16,17': (12.8, 6.4, 2.5, 0), '02,24,16,16': (12.8, 2.8, 0.8, 0), '02,24,16,15': (12.2, 4.8, 0.5, 0), '02,24,16,14': (7.2, 2.0, 0.5, 0), '02,24,16,13': (6.1, 2.4, 3.3, 0), '02,24,16,12': (5.0, 1.6, 6.6, 0), '02,24,16,11': (5.0, 2.8, 0.0, 0), '02,24,16,10': (4.4, 2.4, 0.5, 0), '10,12,16,09': (-0.6, 16.1, None, 0), '02,24,16,19': (13.3, 6.4, 1.8, 0), '02,24,16,18': (12.8, 4.8, 0.3, 0), '10,31,16,20': (9.4, 16.1, None, 0), '07,23,16,19': (32.8, 14.5, None, 0), '07,23,16,18': (32.8, 14.5, None, 0), '07,23,16,17': (33.3, 14.5, None, 0), '07,23,16,16': (33.9, 14.5, None, 0), '07,23,16,15': (35.6, 14.5, None, 0), '07,23,16,14': (34.4, 14.5, None, 0), '07,23,16,13': (34.4, 14.5, None, 0), '07,23,16,12': (33.9, 14.5, None, 0), '07,23,16,11': (32.2, 14.5, None, 0), '07,23,16,10': (31.1, 14.5, None, 0), '11,30,16,18': (11.7, 6.4, None, 0), '11,30,16,19': (11.1, 6.4, 0.3, 0), '11,30,16,14': (11.7, 2.8, 0.0, 0), '11,30,16,15': (11.7, 3.2, 2.3, 0), '11,30,16,16': (11.7, 8.0, 0.3, 0), '11,30,16,17': (11.7, 4.8, 0.5, 0), '11,30,16,10': (13.9, 8.0, None, 0), '11,30,16,11': (12.8, 3.2, 0.8, 0), '11,30,16,12': (12.2, 2.8, 2.0, 0), '11,30,16,13': (11.7, 1.6, 1.0, 0), '10,12,16,04': (-1.7, 16.1, None, 0), '11,13,16,08': (6.7, 16.1, None, 0), '11,13,16,09': (7.8, 16.1, None, 0), '10,12,16,05': (-1.7, 16.1, None, 0), '06,28,16,04': (21.1, 8.0, None, 0), '06,28,16,05': (20.6, 12.9, None, 0), '06,28,16,06': (21.1, 11.3, None, 0), '06,28,16,07': (20.6, 8.0, None, 0), '06,28,16,00': (20.6, 1.6, 5.1, 0), '06,28,16,01': (20.6, 6.4, 4.1, 0), '06,28,16,02': (20.6, 8.0, None, 0), '06,28,16,03': (21.1, 9.7, None, 0), '06,28,16,08': (20.6, 12.9, None, 0), '06,28,16,09': (21.1, 9.7, None, 0), '05,01,16,06': (-11.7, 16.1, None, 0), '05,01,16,07': (-11.1, 16.1, None, 0), '05,01,16,04': (-11.1, 16.1, None, 0), '05,01,16,05': (-11.7, 16.1, None, 0), '05,01,16,02': (-11.1, 16.1, None, 0), '05,01,16,03': (-11.1, 16.1, None, 0), '10,22,16,21': (9.4, 16.1, None, 0), '05,01,16,08': (-10.6, 16.1, None, 0), '05,01,16,09': (-8.3, 16.1, None, 0), '10,22,16,20': (10.0, 16.1, None, 0), '10,12,16,07': (-1.7, 16.1, None, 0), '03,22,16,12': (8.9, 16.1, None, 0), '03,22,16,13': (10.6, 16.1, None, 0), '03,22,16,10': (6.1, 16.1, None, 0), '03,22,16,11': (7.2, 16.1, None, 0), '03,10,16,02': (16.1, 8.0, None, 0), '03,22,16,17': (12.8, 16.1, None, 0), '03,10,16,00': (17.2, 9.7, None, 0), '03,22,16,15': (12.2, 16.1, None, 0), '03,22,16,18': (12.2, 16.1, None, 0), '03,22,16,19': (11.7, 16.1, None, 0), '03,10,16,08': (16.1, 9.7, None, 0), '03,10,16,09': (16.7, 11.3, None, 0), '04,02,16,19': (9.4, 16.1, None, 0), '04,02,16,18': (9.4, 16.1, None, 0), '12,30,16,04': (2.2, 16.1, None, 0), '12,30,16,05': (2.2, 16.1, None, 0), '01,28,16,09': (2.2, 16.1, None, 0), '01,28,16,08': (2.2, 16.1, None, 0), '12,30,16,00': (2.8, 16.1, None, 0), '12,30,16,01': (2.8, 16.1, None, 0), '04,02,16,11': (11.7, 16.1, None, 0), '04,02,16,10': (11.1, 16.1, None, 0), '04,02,16,13': (10.6, 16.1, None, 0), '04,02,16,12': (11.1, 16.1, None, 0), '04,02,16,15': (10.6, 16.1, None, 0), '04,02,16,14': (10.6, 16.1, None, 0), '04,02,16,17': (10.0, 16.1, None, 0), '04,02,16,16': (10.0, 16.1, None, 0), '10,10,16,15': (16.7, 16.1, None, 0), '01,20,16,23': (-0.6, 16.1, None, 0), '01,20,16,22': (-0.6, 16.1, None, 0), '01,20,16,21': (0.0, 16.1, None, 0), '01,20,16,20': (0.6, 16.1, None, 0), '04,05,16,16': (10.0, 14.5, None, 0), '04,05,16,17': (10.0, 14.5, 0.0, 0), '04,05,16,14': (9.4, 11.3, None, 0), '04,05,16,15': (10.6, 16.1, None, 0), '09,18,16,22': (24.4, 16.1, None, 0), '01,22,16,18': (-2.2, 16.1, None, 0), '04,05,16,18': (10.0, 6.4, None, 0), '04,05,16,19': (10.0, 14.5, None, 0), '01,22,16,19': (-2.2, 16.1, None, 0), '06,22,16,06': (20.6, 16.1, None, 0), '06,22,16,07': (22.2, 14.5, None, 0), '06,22,16,04': (20.6, 16.1, None, 0), '06,22,16,05': (21.1, 16.1, None, 0), '06,22,16,02': (21.7, 16.1, None, 0), '06,22,16,03': (21.1, 16.1, None, 0), '06,22,16,00': (22.8, 16.1, None, 0), '06,22,16,01': (22.8, 16.1, None, 0), '07,25,16,20': (23.3, 9.7, 0.0, 0), '07,25,16,21': (23.9, 11.3, None, 0), '07,25,16,22': (23.9, 4.8, None, 0), '07,25,16,23': (23.3, 6.4, None, 0), '06,22,16,08': (23.3, 14.5, None, 0), '06,22,16,09': (25.0, 14.5, None, 0), '07,26,16,18': (31.1, 14.5, None, 0), '11,17,16,06': (10.0, 14.5, None, 0), '11,17,16,07': (10.6, 12.9, None, 0), '10,06,16,09': (17.8, 16.1, None, 0), '05,19,16,15': (18.3, 16.1, None, 0), '11,17,16,02': (10.0, 16.1, None, 0), '11,17,16,03': (10.0, 16.1, None, 0), '11,17,16,00': (10.0, 16.1, None, 0), '11,17,16,01': (10.0, 16.1, None, 0), '09,13,16,21': (22.2, 16.1, None, 0), '09,13,16,20': (22.8, 16.1, None, 0), '09,13,16,23': (21.7, 16.1, None, 0), '09,13,16,22': (22.2, 16.1, None, 0), '10,06,16,07': (15.0, 16.1, None, 0), '10,06,16,06': (13.9, 16.1, None, 0), '10,06,16,05': (13.9, 16.1, None, 0), '05,19,16,13': (20.6, 16.1, None, 0), '05,13,16,09': (18.3, None, None, 0), '05,13,16,08': (17.5, None, None, 0), '04,21,16,18': (20.6, 16.1, None, 0), '04,21,16,19': (21.1, 16.1, None, 0), '04,21,16,14': (21.1, 16.1, None, 0), '04,21,16,15': (21.7, 16.1, None, 0), '04,21,16,16': (21.7, 16.1, None, 0), '04,21,16,17': (21.1, 16.1, None, 0), '04,21,16,10': (16.7, 16.1, None, 0), '04,21,16,11': (18.3, 16.1, None, 0), '05,13,16,05': (15.0, None, None, 0), '04,21,16,13': (20.0, 16.1, None, 0), '03,23,16,00': (9.4, 16.1, None, 0), '08,07,16,02': (25.0, 12.9, None, 0), '08,07,16,01': (25.6, 12.9, None, 0), '03,23,16,03': (9.4, 16.1, None, 0), '08,07,16,07': (26.1, 11.3, None, 0), '03,23,16,05': (10.0, 16.1, None, 0), '03,23,16,06': (10.0, 16.1, None, 0), '08,07,16,04': (25.0, 12.9, None, 0), '03,23,16,08': (11.1, 16.1, None, 0), '03,23,16,09': (12.8, 16.1, None, 0), '08,07,16,09': (28.3, 11.3, None, 0), '08,07,16,08': (27.2, 12.9, None, 0), '03,15,16,07': (7.2, 16.1, None, 0), '03,15,16,06': (7.2, 12.9, None, 0), '03,15,16,05': (7.2, 11.3, None, 0), '03,15,16,04': (7.2, 6.4, None, 0), '03,15,16,03': (7.2, 16.1, None, 0), '03,15,16,02': (7.2, 16.1, None, 0), '03,15,16,01': (6.7, 16.1, None, 0), '03,15,16,00': (6.7, 11.3, None, 0), '03,15,16,09': (7.8, 8.0, None, 0), '03,15,16,08': (7.2, 11.3, None, 0), '03,21,16,08': (1.1, 16.1, None, 0), '03,21,16,09': (2.8, 16.1, None, 0), '05,19,16,18': (17.2, 16.1, None, 0), '03,21,16,02': (0.6, 4.0, 0.0, 0), '03,21,16,03': (0.6, 2.0, 0.5, 0), '03,21,16,00': (0.6, 3.2, 0.8, 0), '03,21,16,01': (0.6, 11.3, 0.5, 0), '03,21,16,06': (0.0, 16.1, None, 0), '03,21,16,07': (0.0, 12.9, None, 0), '03,21,16,04': (0.0, 2.4, 0.3, 0), '03,21,16,05': (0.0, 8.0, 0.3, 0), '07,13,16,05': (21.7, 14.5, None, 0), '07,13,16,04': (21.7, 16.1, None, 0), '07,13,16,07': (23.9, 14.5, None, 0), '07,13,16,06': (22.8, 14.5, None, 0), '07,13,16,01': (22.2, 16.1, None, 0), '07,13,16,00': (22.8, 16.1, None, 0), '07,13,16,03': (22.2, 16.1, None, 0), '07,13,16,02': (22.2, 16.1, None, 0), '07,13,16,09': (25.0, 14.5, None, 0), '07,13,16,08': (24.4, 14.5, None, 0), '11,22,16,15': (3.9, 16.1, None, 0), '11,22,16,14': (4.4, 16.1, None, 0), '11,22,16,17': (2.8, 16.1, None, 0), '11,22,16,16': (3.3, 16.1, None, 0), '04,28,16,19': (10.0, 16.1, None, 0), '04,28,16,18': (10.6, 16.1, None, 0), '04,28,16,15': (12.8, 16.1, None, 0), '04,28,16,14': (12.8, 16.1, None, 0), '04,28,16,17': (11.7, 16.1, None, 0), '04,28,16,16': (12.8, 16.1, None, 0), '04,28,16,11': (13.3, 16.1, None, 0), '04,28,16,10': (12.2, 16.1, None, 0), '04,28,16,13': (13.3, 16.1, None, 0), '04,28,16,12': (14.4, 16.1, None, 0), '06,27,16,07': (21.1, 14.5, None, 0), '06,27,16,06': (20.6, 14.5, None, 0), '06,27,16,05': (19.4, 14.5, None, 0), '06,27,16,04': (20.0, 16.1, None, 0), '06,27,16,03': (21.1, 16.1, None, 0), '06,27,16,02': (21.1, 16.1, None, 0), '06,27,16,01': (21.7, 14.5, None, 0), '06,27,16,00': (22.2, 16.1, None, 0), '11,22,16,12': (4.4, 16.1, None, 0), '06,27,16,09': (23.3, 12.9, None, 0), '06,27,16,08': (22.2, 12.9, None, 0), '11,09,16,18': (25.6, 16.1, None, 0), '11,09,16,19': (24.4, 16.1, None, 0), '09,06,16,11': (18.3, 14.5, None, 0), '08,24,16,02': (21.1, 16.1, None, 0), '08,24,16,03': (20.6, 16.1, None, 0), '08,24,16,00': (21.7, 16.1, None, 0), '08,24,16,06': (20.0, 14.5, None, 0), '08,24,16,07': (21.1, 12.9, None, 0), '08,24,16,04': (20.0, 16.1, None, 0), '08,24,16,05': (20.0, None, None, 0), '08,24,16,08': (22.8, 12.9, None, 0), '08,24,16,09': (23.9, 14.5, None, 0), '01,03,16,22': (10.0, 16.1, None, 0), '01,03,16,23': (11.1, 16.1, None, 0), '01,03,16,20': (8.9, 16.1, None, 0), '01,03,16,21': (9.4, 16.1, None, 0), '05,18,16,22': (12.8, 16.1, None, 0), '05,18,16,23': (12.8, 16.1, 0.0, 0), '05,18,16,20': (13.9, 16.1, None, 0), '05,18,16,21': (13.9, 16.1, None, 0), '04,16,16,23': (8.3, 16.1, None, 0), '04,16,16,22': (8.9, 16.1, None, 0), '04,16,16,21': (9.4, 16.1, None, 0), '04,16,16,20': (10.6, 16.1, None, 0), '01,08,16,21': (23.3, 16.1, None, 0), '01,08,16,20': (23.3, 16.1, None, 0), '01,08,16,23': (22.2, 16.1, None, 0), '01,08,16,22': (22.8, 16.1, None, 0), '12,31,16,18': (6.1, 16.1, None, 0), '12,31,16,19': (6.1, 16.1, None, 0), '12,31,16,10': (2.8, 16.1, None, 0), '12,31,16,11': (3.9, 16.1, None, 0), '12,31,16,12': (5.6, 16.1, None, 0), '12,31,16,13': (5.6, 16.1, None, 0), '12,31,16,14': (6.1, 16.1, None, 0), '12,31,16,15': (6.1, 16.1, None, 0), '12,31,16,16': (6.1, 16.1, None, 0), '12,31,16,17': (6.1, 16.1, None, 0), '09,09,16,15': (32.2, 14.5, None, 0), '09,09,16,14': (31.7, 14.5, None, 0), '09,09,16,17': (31.7, 14.5, None, 0), '09,09,16,16': (32.2, 14.5, None, 0), '09,09,16,11': (31.7, 14.5, None, 0), '09,09,16,10': (30.0, 14.5, None, 0), '09,09,16,13': (31.1, 14.5, None, 0), '09,09,16,12': (32.2, 14.5, None, 0), '09,09,16,19': (30.0, 16.1, None, 0), '09,09,16,18': (30.6, 14.5, None, 0), '10,29,16,19': (16.7, 16.1, None, 0), '10,29,16,18': (16.1, 16.1, None, 0), '08,10,16,09': (17.8, 14.5, None, 0), '08,10,16,08': (16.7, 12.9, None, 0), '08,10,16,07': (15.6, 11.3, None, 0), '08,10,16,06': (15.0, 14.5, None, 0), '08,10,16,05': (14.4, 12.9, None, 0), '08,10,16,04': (15.0, 14.5, None, 0), '08,10,16,03': (14.4, 14.5, None, 0), '08,10,16,02': (15.0, 14.5, None, 0), '08,10,16,01': (15.6, 14.5, None, 0), '08,10,16,00': (15.6, 16.1, None, 0), '11,06,16,19': (29.4, 14.5, None, 0), '11,06,16,18': (30.6, 12.9, None, 0), '11,06,16,13': (26.7, 14.5, None, 0), '11,06,16,12': (25.0, 14.5, None, 0), '11,06,16,11': (24.4, 14.5, None, 0), '11,06,16,10': (22.8, 16.1, None, 0), '11,06,16,17': (30.0, 14.5, None, 0), '11,06,16,16': (29.4, 14.5, None, 0), '11,06,16,15': (27.8, 14.5, None, 0), '11,06,16,14': (27.8, 14.5, None, 0), '12,08,16,12': (32.2, 12.9, None, 0), '04,27,16,12': (13.3, 16.1, None, 0), '04,27,16,13': (14.4, 16.1, None, 0), '03,01,16,08': (3.3, 16.1, None, 0), '03,01,16,09': (3.9, 16.1, None, 0), '04,27,16,10': (11.1, 16.1, None, 0), '03,01,16,00': (1.7, 16.1, None, 0), '03,01,16,01': (2.2, 16.1, None, 0), '03,01,16,02': (2.2, 16.1, None, 0), '04,27,16,11': (11.7, 16.1, None, 0), '03,01,16,04': (2.8, 16.1, None, 0), '03,01,16,05': (2.2, 16.1, None, 0), '03,01,16,06': (1.7, 16.1, None, 0), '03,01,16,07': (2.2, 16.1, None, 0), '09,22,16,18': (23.9, 16.1, None, 0), '09,22,16,19': (23.9, 16.1, None, 0), '09,22,16,14': (29.4, 16.1, None, 0), '09,22,16,15': (28.3, 16.1, None, 0), '09,22,16,16': (26.1, 16.1, None, 0), '09,22,16,17': (25.6, 16.1, None, 0), '09,22,16,10': (25.0, 16.1, None, 0), '09,22,16,11': (27.2, 16.1, None, 0), '09,22,16,12': (28.3, 16.1, None, 0), '09,22,16,13': (30.0, 16.1, None, 0), '02,14,16,18': (-9.4, 16.1, None, 0), '02,14,16,19': (-9.4, 16.1, None, 0), '02,14,16,16': (-9.4, 16.1, None, 0), '02,14,16,17': (-9.4, 16.1, None, 0), '02,14,16,14': (-10.0, 16.1, None, 0), '02,14,16,15': (-9.4, 16.1, None, 0), '02,14,16,12': (-11.7, 16.1, None, 0), '02,14,16,13': (-11.1, 16.1, None, 0), '02,14,16,10': (-15.0, 16.1, None, 0), '02,14,16,11': (-12.8, 16.1, None, 0), '02,12,16,21': (7.2, 16.1, None, 0), '02,12,16,20': (7.8, 16.1, None, 0), '02,12,16,23': (6.7, 16.1, None, 0), '02,12,16,22': (6.7, 16.1, None, 0), '05,14,16,20': (16.0, None, None, 0), '05,14,16,21': (16.0, None, None, 0), '02,21,16,09': (11.1, 16.1, None, 0), '02,21,16,08': (10.6, 16.1, None, 0), '02,21,16,05': (10.6, 16.1, None, 0), '02,21,16,04': (10.0, 16.1, None, 0), '02,21,16,07': (10.6, 16.1, None, 0), '02,21,16,06': (10.0, 16.1, None, 0), '02,21,16,01': (11.1, 16.1, None, 0), '02,21,16,00': (12.2, 16.1, None, 0), '02,21,16,03': (10.0, 16.1, None, 0), '02,21,16,02': (11.1, 16.1, None, 0), '11,04,16,20': (13.9, 16.1, None, 0), '11,04,16,21': (13.3, 16.1, None, 0), '11,04,16,22': (12.8, 16.1, None, 0), '11,04,16,23': (12.8, 16.1, None, 0), '11,18,16,23': (12.2, 16.1, None, 0), '11,18,16,22': (12.8, 16.1, None, 0), '11,18,16,21': (13.3, 16.1, None, 0), '11,18,16,20': (14.4, 16.1, None, 0), '08,25,16,07': (22.0, None, None, 0), '08,25,16,06': (22.0, None, None, 0), '08,25,16,05': (21.0, None, None, 0), '08,25,16,04': (22.0, None, None, 0), '08,25,16,03': (22.0, None, None, 0), '08,25,16,02': (22.0, None, None, 0), '08,25,16,01': (23.0, None, None, 0), '08,25,16,00': (24.0, None, None, 0), '06,28,16,22': (21.7, 6.4, 0.3, 0), '06,28,16,23': (20.6, 16.1, None, 0), '06,28,16,20': (21.7, 6.4, None, 0), '06,28,16,21': (21.7, 6.4, None, 0), '11,08,16,20': (28.3, 16.1, None, 0), '11,08,16,21': (28.3, 16.1, None, 0), '11,08,16,22': (28.3, 16.1, None, 0), '11,08,16,23': (28.3, 16.1, None, 0), '05,15,16,23': (8.0, None, None, 0), '05,15,16,22': (8.0, None, None, 0), '05,15,16,21': (9.0, None, None, 0), '05,15,16,20': (10.0, None, None, 0), '06,17,16,20': (18.9, 16.1, None, 0), '06,17,16,21': (18.3, 16.1, None, 0), '06,17,16,22': (17.8, 16.1, None, 0), '06,17,16,23': (17.2, 16.1, None, 0), '11,25,16,05': (7.2, 12.9, None, 0), '11,25,16,04': (7.2, 12.9, None, 0), '11,25,16,07': (7.8, 9.7, None, 0), '11,25,16,06': (8.3, 12.9, None, 0), '10,12,16,17': (0.6, 16.1, None, 0), '05,07,16,19': (28.3, 16.1, None, 0), '05,07,16,18': (29.4, 16.1, None, 0), '05,07,16,13': (28.3, 16.1, None, 0), '05,07,16,12': (25.6, 16.1, None, 0), '05,07,16,11': (25.0, 16.1, None, 0), '05,07,16,10': (23.9, 16.1, None, 0), '05,07,16,17': (29.4, 16.1, None, 0), '05,07,16,16': (30.0, 16.1, None, 0), '05,07,16,15': (28.9, 16.1, None, 0), '05,07,16,14': (27.2, 16.1, None, 0), '09,14,16,19': (22.2, 14.5, None, 0), '09,14,16,18': (21.1, 8.0, 1.0, 0), '09,14,16,17': (21.1, 3.2, 0.5, 0), '09,14,16,16': (30.0, 14.5, None, 0), '09,14,16,15': (31.1, 14.5, None, 0), '09,14,16,14': (32.2, 16.1, None, 0), '09,14,16,13': (32.2, 16.1, None, 0), '09,14,16,12': (31.1, 14.5, None, 0), '09,14,16,11': (28.9, 14.5, None, 0), '09,14,16,10': (26.1, 14.5, None, 0), '04,10,16,03': (17.8, 12.9, None, 0), '04,10,16,02': (17.8, 12.9, None, 0), '04,10,16,01': (18.3, 12.9, None, 0), '04,10,16,00': (18.3, 14.5, None, 0), '04,10,16,07': (15.6, 16.1, None, 0), '04,10,16,06': (16.1, 16.1, None, 0), '04,10,16,05': (16.7, 14.5, None, 0), '04,10,16,04': (17.2, 16.1, None, 0), '04,10,16,09': (16.1, 16.1, None, 0), '04,10,16,08': (16.1, 16.1, None, 0), '01,20,16,09': (-0.6, 16.1, None, 0), '01,20,16,08': (-1.1, 16.1, None, 0), '03,13,16,23': (11.1, 16.1, None, 0), '03,13,16,22': (11.1, 16.1, None, 0), '03,13,16,21': (11.7, 16.1, None, 0), '03,13,16,20': (12.8, 16.1, None, 0), '07,25,16,02': (27.2, 16.1, None, 0), '07,25,16,03': (27.2, 16.1, None, 0), '07,25,16,00': (27.2, 14.5, None, 0), '07,25,16,01': (27.2, 14.5, None, 0), '07,25,16,06': (26.1, 12.9, 0.0, 0), '07,25,16,07': (26.7, 11.3, None, 0), '07,25,16,04': (26.7, 14.5, None, 0), '07,25,16,05': (26.7, 14.5, 0.0, 0), '07,25,16,08': (27.2, 11.3, None, 0), '07,25,16,09': (27.8, 11.3, None, 0), '12,25,16,08': (4.4, 16.1, None, 0), '12,25,16,09': (6.1, 16.1, None, 0), '12,25,16,04': (4.4, 16.1, None, 0), '12,25,16,05': (4.4, 16.1, None, 0), '12,25,16,06': (3.9, 16.1, None, 0), '12,25,16,07': (4.4, 16.1, None, 0), '12,25,16,00': (5.0, 16.1, None, 0), '12,25,16,01': (5.0, 16.1, None, 0), '12,25,16,02': (5.0, 16.1, None, 0), '12,25,16,03': (5.0, 16.1, None, 0), '10,06,16,21': (21.1, 16.1, None, 0), '10,06,16,20': (22.2, 16.1, None, 0), '10,06,16,23': (18.9, 16.1, None, 0), '10,06,16,22': (20.0, 16.1, None, 0), '08,22,16,19': (22.8, 16.1, None, 0), '03,23,16,22': (14.4, 16.1, None, 0), '03,23,16,23': (12.2, 16.1, None, 0), '03,23,16,20': (17.2, 16.1, None, 0), '03,23,16,21': (15.6, 16.1, None, 0), '05,13,16,21': (17.0, None, None, 0), '05,13,16,20': (17.2, None, None, 0), '08,22,16,17': (24.4, 16.1, None, 0), '08,07,16,21': (21.7, 14.5, None, 0), '08,07,16,20': (22.2, 14.5, None, 0), '08,07,16,23': (20.0, 14.5, None, 0), '08,07,16,22': (20.0, 12.9, 1.5, 0), '02,09,16,21': (23.9, 16.1, None, 0), '03,03,16,18': (1.7, 16.1, None, 0), '06,18,16,23': (21.7, 16.1, None, 0), '06,18,16,22': (22.8, 16.1, None, 0), '06,18,16,21': (22.8, 16.1, None, 0), '06,18,16,20': (23.3, 16.1, None, 0), '06,21,16,23': (23.3, 16.1, None, 0), '06,21,16,22': (25.0, 16.1, None, 0), '06,21,16,21': (25.6, 16.1, None, 0), '06,21,16,20': (26.7, 16.1, None, 0), '02,07,16,18': (26.0, 16.1, None, 0), '02,07,16,19': (24.0, 16.1, None, 0), '02,07,16,12': (25.0, 16.1, None, 0), '02,07,16,13': (26.0, 16.1, None, 0), '02,07,16,10': (24.0, 16.1, None, 0), '02,07,16,11': (25.0, 16.1, None, 0), '02,07,16,16': (26.0, 16.1, None, 0), '02,07,16,17': (26.0, 16.1, None, 0), '02,07,16,14': (27.0, 16.1, None, 0), '02,07,16,15': (26.0, 16.1, None, 0), '12,13,16,18': (5.0, 16.1, None, 0), '12,13,16,19': (5.6, 16.1, None, 0), '12,13,16,14': (5.6, 16.1, None, 0), '12,13,16,15': (5.6, 16.1, None, 0), '12,13,16,16': (5.6, 16.1, None, 0), '12,13,16,17': (5.0, 16.1, None, 0), '12,13,16,10': (4.4, 16.1, None, 0), '12,13,16,11': (5.0, 16.1, None, 0), '12,13,16,12': (5.6, 16.1, None, 0), '12,13,16,13': (6.1, 16.1, None, 0), '03,15,16,21': (11.1, 16.1, None, 0), '03,15,16,20': (12.8, 16.1, None, 0), '03,15,16,23': (11.1, 16.1, None, 0), '03,15,16,22': (10.6, 16.1, None, 0), '09,16,16,20': (17.8, 16.1, None, 0), '09,16,16,21': (17.8, 16.1, None, 0), '09,16,16,22': (17.2, 16.1, None, 0), '09,16,16,23': (16.7, 16.1, None, 0), '03,07,16,11': (24.4, 16.1, None, 0), '03,07,16,10': (23.9, 16.1, None, 0), '03,07,16,13': (24.4, 16.1, None, 0), '03,07,16,12': (24.4, 16.1, None, 0), '03,07,16,15': (25.0, 16.1, None, 0), '03,07,16,14': (25.0, 16.1, None, 0), '04,30,16,18': (12.8, 16.1, None, 0), '04,30,16,19': (11.7, 16.1, None, 0), '04,30,16,16': (16.1, 16.1, None, 0), '04,30,16,17': (13.9, 16.1, None, 0), '04,30,16,14': (16.7, 16.1, None, 0), '04,30,16,15': (17.8, 16.1, None, 0), '04,30,16,12': (16.7, 16.1, None, 0), '04,30,16,13': (16.7, 16.1, None, 0), '04,30,16,10': (13.3, 16.1, None, 0), '04,30,16,11': (15.6, 16.1, None, 0), '12,27,16,11': (13.9, 16.1, None, 0), '12,27,16,10': (13.3, 14.5, None, 0), '12,27,16,13': (15.6, 16.1, None, 0), '12,27,16,12': (15.0, 16.1, None, 0), '11,25,16,17': (10.0, 9.7, 0.3, 0), '12,27,16,14': (15.6, 16.1, None, 0), '12,27,16,17': (13.3, 16.1, None, 0), '12,27,16,16': (14.4, 16.1, None, 0), '12,27,16,19': (8.9, 16.1, None, 0), '12,27,16,18': (11.1, 16.1, None, 0), '04,11,16,20': (11.7, 16.1, None, 0), '04,11,16,21': (11.1, 16.1, None, 0), '04,11,16,22': (10.0, 16.1, None, 0), '04,11,16,23': (9.4, 16.1, None, 0), '08,18,16,04': (22.8, 6.4, 0.3, 0), '06,27,16,21': (21.7, 6.4, 1.0, 0), '06,27,16,20': (22.8, 14.5, None, 0), '06,27,16,23': (21.1, 4.0, 2.0, 0), '06,27,16,22': (21.1, 4.8, 1.5, 0), '04,16,16,09': (11.7, 16.1, None, 0), '04,16,16,08': (10.6, 16.1, None, 0), '06,09,16,09': (23.9, 16.1, None, 0), '06,09,16,08': (22.2, 16.1, None, 0), '06,09,16,07': (22.8, 16.1, None, 0), '04,16,16,04': (7.2, 16.1, None, 0), '06,09,16,05': (22.8, 16.1, None, 0), '04,16,16,06': (7.2, 16.1, None, 0), '04,16,16,01': (8.3, 16.1, None, 0), '04,16,16,00': (8.3, 16.1, None, 0), '04,16,16,03': (7.8, 16.1, None, 0), '04,16,16,02': (8.3, 16.1, None, 0), '12,18,16,03': (6.1, 0.4, None, 1), '08,29,16,03': (23.9, 16.1, None, 0), '03,09,16,01': (20.0, 16.1, None, 0), '08,29,16,01': (23.9, 16.1, None, 0), '08,29,16,00': (23.9, 16.1, None, 0), '08,29,16,07': (23.9, 12.9, None, 0), '08,18,16,08': (24.4, 14.5, None, 0), '08,29,16,06': (23.3, 14.5, None, 0), '05,09,16,20': (26.0, 16.1, None, 0), '05,09,16,21': (26.1, 16.1, None, 0), '05,09,16,22': (26.1, 16.1, None, 0), '05,09,16,23': (25.6, 16.1, None, 0), '10,16,16,04': (12.2, 16.1, None, 0), '03,09,16,07': (20.6, 16.1, None, 0), '10,16,16,05': (12.2, 16.1, None, 0), '08,10,16,21': (18.3, 4.8, None, 0), '08,10,16,20': (18.3, 3.2, 0.0, 0), '08,10,16,23': (18.3, 6.4, None, 0), '08,10,16,22': (18.3, 4.8, None, 0), '10,16,16,06': (12.2, 14.5, None, 0), '10,16,16,07': (12.2, 11.3, None, 0), '08,23,16,23': (22.2, 16.1, None, 0), '08,23,16,22': (23.9, 16.1, None, 0), '08,23,16,21': (23.9, None, None, 0), '08,23,16,20': (23.9, 16.1, None, 0), '03,01,16,22': (2.8, 16.1, None, 0), '03,01,16,23': (2.2, 16.1, None, 0), '03,01,16,20': (3.3, 16.1, None, 0), '03,01,16,21': (2.8, 16.1, None, 0), '02,10,16,23': (17.2, 11.3, None, 0), '02,10,16,22': (17.2, 12.9, None, 0), '02,10,16,21': (17.2, 12.9, None, 0), '02,10,16,20': (16.7, 11.3, None, 0), '09,26,16,03': (14.4, 16.1, None, 0), '09,26,16,02': (14.4, 16.1, None, 0), '09,26,16,01': (15.0, 16.1, None, 0), '09,26,16,00': (15.0, 16.1, None, 0), '09,26,16,07': (12.8, 16.1, None, 0), '09,26,16,06': (12.8, 16.1, None, 0), '09,26,16,05': (13.9, 16.1, None, 0), '09,26,16,04': (13.3, 16.1, None, 0), '09,26,16,09': (17.2, 16.1, None, 0), '09,26,16,08': (15.6, 16.1, None, 0), '07,06,16,09': (24.4, 12.9, None, 0), '07,06,16,08': (23.9, 12.9, None, 0), '07,06,16,07': (22.8, 12.9, None, 0), '07,06,16,06': (21.7, 11.3, None, 0), '07,06,16,05': (22.2, 11.3, None, 0), '07,06,16,04': (22.2, 14.5, None, 0), '07,06,16,03': (22.8, 14.5, None, 0), '07,06,16,02': (23.3, 14.5, None, 0), '07,06,16,01': (23.3, 14.5, None, 0), '07,06,16,00': (24.4, 16.1, None, 0), '11,25,16,18': (10.0, 11.3, None, 0), '07,24,16,07': (26.1, 14.5, None, 0), '07,24,16,06': (25.0, 14.5, None, 0), '07,24,16,05': (24.4, 16.1, None, 0), '07,24,16,04': (25.0, 16.1, None, 0), '07,24,16,03': (26.1, 16.1, None, 0), '07,24,16,02': (25.6, 16.1, None, 0), '07,24,16,01': (26.1, 16.1, None, 0), '07,24,16,00': (27.2, 16.1, None, 0), '07,24,16,09': (27.2, 14.5, None, 0), '07,24,16,08': (26.1, 14.5, None, 0), '02,28,16,08': (5.0, 16.1, None, 0), '02,28,16,09': (7.2, 16.1, None, 0), '02,28,16,00': (3.9, 16.1, None, 0), '02,28,16,01': (3.9, 16.1, None, 0), '02,28,16,02': (3.3, 16.1, None, 0), '02,28,16,03': (3.3, 16.1, None, 0), '02,28,16,04': (3.3, 16.1, None, 0), '02,28,16,05': (3.3, 16.1, None, 0), '02,28,16,06': (3.9, 16.1, None, 0), '02,28,16,07': (3.9, 16.1, None, 0), '11,04,16,02': (6.7, 16.1, None, 0), '11,04,16,03': (6.7, 16.1, None, 0), '11,04,16,00': (6.1, 16.1, None, 0), '11,04,16,01': (6.7, 16.1, None, 0), '11,04,16,06': (7.8, 16.1, None, 0), '11,04,16,07': (8.3, 16.1, None, 0), '11,04,16,04': (7.2, 16.1, None, 0), '11,04,16,05': (7.2, 16.1, None, 0), '11,04,16,08': (9.4, 16.1, None, 0), '11,04,16,09': (10.0, 16.1, None, 0), '03,26,16,16': (9.4, 16.1, None, 0), '03,26,16,17': (8.3, 16.1, None, 0), '03,26,16,14': (12.2, 16.1, None, 0), '03,26,16,15': (11.7, 16.1, None, 0), '03,26,16,12': (10.0, 16.1, None, 0), '03,26,16,13': (12.2, 16.1, None, 0), '03,26,16,10': (7.2, 16.1, None, 0), '03,26,16,11': (9.4, 16.1, None, 0), '03,26,16,18': (7.2, 16.1, None, 0), '03,26,16,19': (6.7, 16.1, None, 0), '11,17,16,20': (11.1, 16.1, None, 0), '11,17,16,21': (10.6, 16.1, None, 0), '12,26,16,09': (1.7, 16.1, None, 0), '12,26,16,08': (1.1, 16.1, None, 0), '11,17,16,22': (10.0, 16.1, None, 0), '12,26,16,03': (1.1, 16.1, None, 0), '12,26,16,02': (1.1, 16.1, None, 0), '12,26,16,01': (1.1, 16.1, None, 0), '11,17,16,23': (9.4, 16.1, None, 0), '12,26,16,07': (0.6, 16.1, None, 0), '12,26,16,06': (0.6, 16.1, None, 0), '12,26,16,05': (1.1, 16.1, None, 0), '12,26,16,04': (1.1, 16.1, None, 0), '11,18,16,09': (9.4, 16.1, None, 0), '11,18,16,08': (8.3, 16.1, None, 0), '10,14,16,20': (12.2, 16.1, None, 0), '10,14,16,21': (12.2, 16.1, None, 0), '10,14,16,22': (10.6, 16.1, None, 0), '10,14,16,23': (10.0, 16.1, None, 0), '11,18,16,01': (9.4, 16.1, None, 0), '11,18,16,00': (8.9, 16.1, None, 0), '11,18,16,03': (7.8, 16.1, None, 0), '11,18,16,02': (8.3, 16.1, None, 0), '11,01,16,18': (-1.7, 16.1, None, 0), '03,04,16,09': (1.1, 16.1, None, 0), '02,25,16,17': (5.0, 16.1, None, 0), '11,01,16,10': (-0.6, 16.1, None, 0), '11,01,16,11': (0.0, 16.1, None, 0), '11,01,16,12': (0.6, 16.1, None, 0), '11,01,16,13': (0.6, 16.1, None, 0), '11,01,16,14': (0.6, 16.1, None, 0), '11,01,16,15': (0.6, 16.1, None, 0), '11,01,16,16': (0.0, 16.1, None, 0), '11,01,16,17': (-0.6, 16.1, None, 0), '02,25,16,12': (8.9, 16.1, None, 0), '02,25,16,13': (8.9, 16.1, None, 0), '12,18,16,08': (10.0, 8.0, None, 0), '12,18,16,09': (12.2, 11.3, None, 0), '04,25,16,23': (13.9, 16.1, None, 0), '12,18,16,00': (3.9, 3.2, None, 0), '12,18,16,01': (3.9, 2.8, None, 0), '12,18,16,02': (4.4, 4.0, None, 0), '04,25,16,22': (14.4, 16.1, None, 0), '12,18,16,04': (7.8, 3.2, None, 0), '12,18,16,05': (9.4, 6.4, None, 0), '12,18,16,06': (11.1, 11.3, None, 0), '12,18,16,07': (9.4, 9.7, 0.0, 0), '12,06,16,16': (24.4, 16.1, None, 0), '12,06,16,17': (22.8, 16.1, None, 0), '12,06,16,14': (26.7, 16.1, None, 0), '12,06,16,15': (25.6, 16.1, None, 0), '12,06,16,12': (27.8, 16.1, None, 0), '12,06,16,13': (27.8, 16.1, None, 0), '12,06,16,10': (27.8, 16.1, None, 0), '12,06,16,11': (27.8, 16.1, None, 0), '12,06,16,18': (21.7, 16.1, None, 0), '12,06,16,19': (20.6, 16.1, None, 0), '08,25,16,21': (27.0, None, None, 0), '08,25,16,20': (27.0, None, None, 0), '08,25,16,23': (27.0, None, None, 0), '08,25,16,22': (27.0, None, None, 0), '03,04,16,07': (1.7, 16.1, None, 0), '07,31,16,18': (24.4, 11.3, 0.0, 0), '07,31,16,19': (23.9, 16.1, 0.0, 0), '07,31,16,16': (25.6, 12.9, None, 0), '07,31,16,17': (24.4, 12.9, 0.3, 0), '07,31,16,14': (25.0, 12.9, None, 0), '07,31,16,15': (25.0, 12.9, None, 0), '07,31,16,12': (23.9, 8.0, 2.3, 0), '07,31,16,13': (24.4, 11.3, 0.0, 0), '07,31,16,10': (24.4, 9.7, 0.8, 0), '07,31,16,11': (24.4, 11.3, None, 0), '05,15,16,04': (10.0, None, None, 0), '05,15,16,07': (11.1, None, None, 0), '05,15,16,06': (10.2, None, None, 0), '05,15,16,01': (13.0, None, None, 0), '05,15,16,00': (15.0, None, None, 0), '05,15,16,03': (11.0, None, None, 0), '05,15,16,02': (12.0, None, None, 0), '05,15,16,09': (12.7, None, None, 0), '05,15,16,08': (12.2, None, None, 0), '06,17,16,08': (21.7, 14.5, None, 0), '06,17,16,09': (22.2, 14.5, None, 0), '06,17,16,02': (20.0, 14.5, None, 0), '06,17,16,03': (19.4, 14.5, None, 0), '06,17,16,00': (20.6, 14.5, None, 0), '06,17,16,01': (20.0, 12.9, None, 0), '06,17,16,06': (19.4, 14.5, None, 0), '06,17,16,07': (21.1, 16.1, None, 0), '06,17,16,04': (18.9, 14.5, None, 0), '06,17,16,05': (18.3, 12.9, None, 0), '09,19,16,09': (21.1, 2.0, 3.6, 0), '06,02,16,19': (3.9, 16.1, None, 0), '06,02,16,18': (3.9, 16.1, None, 0), '06,02,16,13': (3.3, 16.1, None, 0), '06,02,16,12': (3.9, 16.1, None, 0), '06,02,16,11': (3.3, 16.1, None, 0), '06,02,16,10': (2.8, 16.1, None, 0), '06,02,16,17': (3.9, 16.1, None, 0), '06,02,16,16': (3.3, 16.1, None, 0), '06,02,16,15': (4.4, 16.1, None, 0), '06,02,16,14': (3.9, 16.1, None, 0), '05,22,16,05': (11.1, 14.5, 1.3, 0), '05,22,16,04': (11.7, 11.3, 1.0, 0), '05,22,16,09': (15.0, 16.1, None, 0), '03,13,16,09': (14.4, 16.1, None, 0), '03,13,16,08': (13.3, 16.1, None, 0), '05,22,16,08': (14.4, 16.1, None, 0), '04,10,16,21': (17.2, 16.1, None, 0), '04,10,16,20': (18.3, 16.1, None, 0), '04,10,16,23': (15.6, 16.1, None, 0), '04,10,16,22': (16.1, 16.1, None, 0), '03,13,16,01': (11.1, 16.1, None, 0), '03,13,16,00': (11.1, 16.1, None, 0), '03,13,16,03': (11.1, 16.1, None, 0), '03,13,16,05': (11.7, 16.1, None, 0), '03,13,16,04': (11.1, 16.1, None, 0), '03,13,16,07': (12.2, 16.1, None, 0), '03,13,16,06': (11.7, 16.1, None, 0), '04,04,16,13': (6.1, 8.0, 3.8, 0), '04,04,16,12': (6.1, 6.4, 0.8, 0), '04,04,16,11': (6.1, 6.4, 0.5, 0), '04,04,16,10': (6.1, 14.5, 1.8, 0), '04,04,16,17': (3.9, 6.4, 2.0, 0), '04,04,16,16': (5.0, 4.0, 1.5, 0), '04,04,16,15': (6.7, 3.2, 1.5, 0), '04,04,16,14': (6.7, 2.4, 2.8, 0), '04,04,16,19': (1.1, 16.1, 0.0, 0), '04,04,16,18': (2.2, 16.1, 0.0, 0), '12,25,16,22': (3.3, 16.1, None, 0), '12,25,16,23': (2.2, 16.1, None, 0), '12,25,16,20': (4.4, 16.1, None, 0), '12,25,16,21': (3.9, 16.1, None, 0), '04,06,16,15': (28.3, 9.7, None, 0), '04,06,16,14': (26.7, 9.7, None, 0), '04,06,16,17': (24.4, 9.7, None, 0), '04,06,16,16': (26.1, 11.3, None, 0), '04,06,16,11': (25.6, 9.7, None, 0), '04,06,16,10': (23.9, 9.7, None, 0), '04,06,16,13': (27.8, 11.3, None, 0), '04,06,16,12': (26.7, 11.3, None, 0), '04,06,16,19': (20.6, 4.0, 4.1, 0), '04,06,16,18': (23.9, 11.3, None, 0), '02,26,16,19': (-1.1, 16.1, None, 0), '02,26,16,18': (0.0, 16.1, None, 0), '12,22,16,17': (6.1, 16.1, None, 0), '02,26,16,11': (1.7, 16.1, None, 0), '02,26,16,10': (1.1, 16.1, None, 0), '02,26,16,13': (2.2, 16.1, None, 0), '02,26,16,12': (1.7, 16.1, None, 0), '02,26,16,15': (1.7, 16.1, None, 0), '02,26,16,14': (1.7, 16.1, None, 0), '02,26,16,17': (0.0, 16.1, None, 0), '02,26,16,16': (1.1, 16.1, None, 0), '07,16,16,08': (27.2, 14.5, None, 0), '07,16,16,09': (28.3, 14.5, None, 0), '07,16,16,04': (25.0, 16.1, None, 0), '07,16,16,05': (24.4, 14.5, None, 0), '07,16,16,06': (25.0, 12.9, None, 0), '07,16,16,07': (26.1, 12.9, None, 0), '07,16,16,00': (27.8, 16.1, None, 0), '07,16,16,01': (26.7, 16.1, None, 0), '07,16,16,02': (26.1, 16.1, None, 0), '07,16,16,03': (25.6, 16.1, None, 0), '06,21,16,09': (24.4, 16.1, None, 0), '06,21,16,08': (22.8, 14.5, None, 0), '02,02,16,19': (7.2, 16.1, None, 0), '02,02,16,18': (7.2, 16.1, None, 0), '06,21,16,01': (25.6, 16.1, None, 0), '06,21,16,00': (26.1, 16.1, None, 0), '06,21,16,03': (25.0, 16.1, None, 0), '06,21,16,02': (25.0, 16.1, None, 0), '06,21,16,05': (24.4, 16.1, None, 0), '06,21,16,04': (25.0, 16.1, None, 0), '06,21,16,07': (22.2, 14.5, 0.0, 0), '02,02,16,10': (7.8, 16.1, None, 0), '06,29,16,23': (22.8, 16.1, None, 0), '06,29,16,22': (23.9, 16.1, None, 0), '06,29,16,21': (25.0, 16.1, None, 0), '06,29,16,20': (25.6, 16.1, None, 0), '07,22,16,23': (29.4, 12.9, None, 0), '07,22,16,22': (29.4, 12.9, None, 0), '07,22,16,21': (30.0, 12.9, None, 0), '07,22,16,20': (31.7, 14.5, None, 0), '06,18,16,09': (22.2, 16.1, None, 0), '06,18,16,08': (20.6, 16.1, None, 0), '06,18,16,01': (17.2, 16.1, None, 0), '06,18,16,00': (17.2, 16.1, None, 0), '06,18,16,03': (17.2, 16.1, None, 0), '06,18,16,02': (17.2, 16.1, None, 0), '06,18,16,05': (16.7, 16.1, None, 0), '06,18,16,04': (16.7, 16.1, None, 0), '06,18,16,07': (18.9, 16.1, None, 0), '06,18,16,06': (17.8, 16.1, None, 0), '09,16,16,06': (16.7, 16.1, None, 0), '09,16,16,07': (17.8, 16.1, None, 0), '09,16,16,04': (16.7, 16.1, None, 0), '09,16,16,05': (16.7, 16.1, None, 0), '09,16,16,02': (17.2, 16.1, None, 0), '09,16,16,03': (17.2, 16.1, None, 0), '09,16,16,00': (17.8, 16.1, None, 0), '09,16,16,01': (17.2, 16.1, None, 0), '09,16,16,08': (19.4, 16.1, None, 0), '09,16,16,09': (20.0, 16.1, None, 0), '04,11,16,08': (11.7, 16.1, None, 0), '04,11,16,09': (12.2, 16.1, None, 0), '04,11,16,06': (10.6, 16.1, None, 0), '04,11,16,07': (11.1, 16.1, None, 0), '04,11,16,04': (12.2, 16.1, None, 0), '04,11,16,05': (11.7, 16.1, None, 0), '04,11,16,02': (13.3, 16.1, None, 0), '04,11,16,03': (12.8, 16.1, None, 0), '04,11,16,00': (13.9, 16.1, None, 0), '04,11,16,01': (13.3, 16.1, None, 0), '02,23,16,18': (1.7, 8.0, 0.3, 0), '02,23,16,19': (1.7, 8.0, 0.3, 0), '02,23,16,14': (2.2, 8.0, 0.3, 0), '02,23,16,15': (2.2, 6.4, 0.8, 0), '02,23,16,16': (2.2, 6.4, 0.0, 0), '02,23,16,17': (1.7, 8.0, 0.5, 0), '02,23,16,10': (3.3, 16.1, None, 0), '02,23,16,11': (2.8, 11.3, None, 0), '02,23,16,12': (2.8, 9.7, 0.3, 0), '02,23,16,13': (2.8, 9.7, 0.5, 0), '06,09,16,21': (23.3, 14.5, None, 0), '06,09,16,20': (25.0, 16.1, None, 0), '06,09,16,23': (21.7, 16.1, 0.0, 0), '06,09,16,22': (22.2, 8.0, None, 0), '02,25,16,23': (3.3, 16.1, None, 0), '02,25,16,22': (3.3, 16.1, None, 0), '02,25,16,21': (4.4, 16.1, None, 0), '02,25,16,20': (4.4, 16.1, None, 0), '07,10,16,19': (17.2, 16.1, None, 0), '07,10,16,18': (17.2, 16.1, None, 0), '12,01,16,13': (6.1, 16.1, None, 0), '07,10,16,15': (21.7, 16.1, None, 0), '07,10,16,14': (23.3, 12.9, None, 0), '07,10,16,17': (19.4, 16.1, None, 0), '07,10,16,16': (20.6, 16.1, None, 0), '07,10,16,11': (20.6, 14.5, None, 0), '07,10,16,10': (19.4, 11.3, None, 0), '07,10,16,13': (22.8, 11.3, None, 0), '07,10,16,12': (22.2, 12.9, None, 0), '08,23,16,09': (21.1, 16.1, None, 0), '08,23,16,08': (19.4, 14.5, None, 0), '08,23,16,01': (18.3, 16.1, None, 0), '08,23,16,00': (18.3, 16.1, None, 0), '08,23,16,03': (17.8, 16.1, None, 0), '08,23,16,02': (17.8, 16.1, None, 0), '08,23,16,05': (17.2, 16.1, None, 0), '08,23,16,04': (16.7, 16.1, None, 0), '08,23,16,07': (18.3, 16.1, None, 0), '08,23,16,06': (17.8, 16.1, None, 0), '08,14,16,10': (31.7, 14.5, None, 0), '08,14,16,11': (33.3, 14.5, None, 0), '08,14,16,12': (33.9, 14.5, None, 0), '08,14,16,13': (33.3, 14.5, None, 0), '08,14,16,14': (34.4, 12.9, None, 0), '08,14,16,15': (33.9, 12.9, None, 0), '08,14,16,16': (32.8, 12.9, None, 0), '08,14,16,17': (33.9, 12.9, None, 0), '08,14,16,18': (32.8, 12.9, None, 0), '08,14,16,19': (26.1, 14.5, 1.5, 0), '03,02,16,14': (13.9, 3.2, 3.0, 0), '03,02,16,15': (13.9, 1.6, 5.1, 0), '03,02,16,16': (13.3, 4.8, 0.3, 0), '03,02,16,17': (13.3, 8.0, 1.3, 0), '03,02,16,10': (11.7, 16.1, None, 0), '03,02,16,11': (12.2, 14.5, None, 0), '03,02,16,12': (11.7, 8.0, 0.5, 0), '03,02,16,13': (12.8, 4.0, 2.3, 0), '03,02,16,18': (12.8, 4.8, 0.3, 0), '03,02,16,19': (13.3, 11.3, 0.0, 0), '10,24,16,03': (12.2, 16.1, None, 0), '10,24,16,02': (12.2, 16.1, None, 0), '10,24,16,01': (14.4, 16.1, None, 0), '10,24,16,00': (12.8, 16.1, None, 0), '10,24,16,07': (11.1, 16.1, None, 0), '10,24,16,06': (10.6, 16.1, None, 0), '10,24,16,05': (10.6, 16.1, None, 0), '10,24,16,04': (11.1, 16.1, 0.0, 0), '10,24,16,09': (12.8, 16.1, None, 0), '10,24,16,08': (11.7, 16.1, None, 0), '10,09,16,08': (25.0, 12.9, None, 0), '05,09,16,08': (19.4, 16.1, None, 0), '05,09,16,09': (20.6, 16.1, None, 0), '05,09,16,06': (18.9, 16.1, None, 0), '05,09,16,07': (19.4, 16.1, None, 0), '05,09,16,04': (18.9, 16.1, None, 0), '05,09,16,05': (18.9, 16.1, None, 0), '05,09,16,02': (19.4, 16.1, None, 0), '05,09,16,03': (18.9, 16.1, None, 0), '05,09,16,00': (20.6, 16.1, None, 0), '05,09,16,01': (20.0, 16.1, None, 0), '12,17,16,08': (-1.1, 2.4, 3.3, 0), '02,10,16,05': (13.9, 12.9, None, 0), '02,10,16,04': (13.9, 16.1, None, 0), '02,10,16,07': (13.9, 16.1, None, 0), '02,10,16,06': (13.9, 16.1, None, 0), '02,10,16,01': (14.4, 14.5, None, 0), '02,10,16,00': (14.4, 11.3, None, 0), '02,10,16,03': (13.9, 8.0, None, 0), '02,10,16,02': (14.4, 14.5, None, 0), '02,10,16,09': (15.0, 16.1, None, 0), '02,10,16,08': (13.9, 14.5, None, 0), '02,17,16,11': (3.9, 16.1, None, 0), '02,17,16,10': (3.9, 16.1, None, 0), '02,17,16,13': (3.9, 16.1, None, 0), '02,17,16,12': (3.9, 16.1, None, 0), '09,26,16,21': (19.4, 16.1, None, 0), '09,26,16,20': (19.4, 16.1, None, 0), '09,26,16,23': (20.0, 16.1, None, 0), '09,26,16,22': (20.0, 16.1, None, 0), '02,17,16,15': (3.3, 16.1, None, 0), '02,17,16,14': (3.9, 16.1, None, 0), '07,06,16,21': (21.1, 16.1, None, 0), '07,06,16,20': (22.2, 16.1, None, 0), '07,06,16,23': (18.3, 16.1, None, 0), '07,06,16,22': (20.0, 16.1, None, 0), '02,17,16,17': (2.8, 16.1, None, 0), '02,17,16,16': (2.8, 16.1, None, 0), '10,18,16,20': (22.8, 14.5, None, 0), '10,18,16,21': (22.8, 14.5, None, 0), '10,18,16,22': (22.8, 14.5, None, 0), '07,24,16,21': (28.3, 14.5, None, 0), '07,24,16,20': (28.3, 14.5, None, 0), '07,24,16,23': (27.2, 14.5, None, 0), '07,24,16,22': (27.8, 14.5, None, 0), '03,11,16,09': (17.8, 8.0, None, 0), '03,11,16,08': (17.8, 8.0, None, 0), '03,11,16,03': (16.7, 11.3, None, 0), '03,11,16,02': (17.2, 11.3, None, 0), '03,11,16,01': (17.2, 12.9, None, 0), '03,11,16,00': (17.8, 12.9, None, 0), '03,11,16,07': (16.7, 8.0, None, 0), '03,11,16,06': (15.6, 9.7, None, 0), '03,11,16,05': (16.7, 9.7, None, 0), '03,11,16,04': (16.1, 9.7, None, 0), '02,28,16,22': (10.6, 16.1, None, 0), '02,28,16,23': (11.1, 16.1, None, 0), '02,28,16,20': (12.8, 16.1, None, 0), '02,28,16,21': (11.7, 16.1, None, 0), '09,17,16,10': (21.1, 16.1, None, 0), '09,17,16,11': (23.3, 16.1, None, 0), '09,17,16,12': (24.4, 16.1, None, 0), '09,17,16,13': (24.4, 16.1, None, 0), '09,17,16,14': (24.4, 16.1, None, 0), '09,17,16,15': (23.9, 16.1, None, 0), '09,17,16,16': (22.8, 14.5, None, 0), '09,17,16,17': (22.2, 14.5, None, 0), '06,04,16,20': (6.7, 16.1, None, 0), '06,04,16,21': (7.2, 16.1, None, 0), '06,04,16,22': (7.8, 16.1, None, 0), '06,04,16,23': (8.3, 16.1, None, 0), '12,26,16,21': (10.0, 14.5, None, 0), '12,26,16,20': (9.4, 12.9, None, 0), '12,26,16,23': (10.0, 14.5, None, 0), '12,26,16,22': (10.0, 14.5, None, 0), '11,18,16,05': (6.7, 16.1, None, 0), '10,14,16,02': (10.6, 16.1, None, 0), '10,14,16,03': (10.0, 16.1, None, 0), '06,23,16,09': (24.4, 14.5, None, 0), '06,23,16,08': (23.3, 14.5, None, 0), '10,14,16,06': (8.9, 16.1, None, 0), '10,14,16,07': (8.9, 16.1, None, 0), '10,14,16,04': (9.4, 16.1, None, 0), '10,14,16,05': (8.9, 16.1, None, 0), '06,23,16,03': (21.7, 16.1, None, 0), '06,23,16,02': (21.7, 16.1, None, 0), '06,23,16,01': (23.3, 16.1, None, 0), '06,23,16,00': (22.8, 16.1, None, 0), '06,23,16,07': (21.7, 14.5, None, 0), '06,23,16,06': (20.6, 14.5, None, 0), '06,23,16,05': (21.1, 16.1, None, 0), '06,23,16,04': (21.1, 16.1, None, 0), '10,18,16,23': (21.7, 14.5, None, 0), '11,18,16,04': (7.8, 16.1, None, 0), '11,11,16,08': (11.7, 16.1, None, 0), '11,11,16,09': (15.0, 16.1, None, 0), '11,11,16,00': (11.1, 16.1, None, 0), '11,11,16,01': (10.6, 16.1, None, 0), '11,11,16,02': (10.6, 16.1, None, 0), '11,11,16,03': (10.0, 16.1, None, 0), '11,11,16,04': (10.0, 16.1, None, 0), '11,11,16,05': (9.4, 16.1, None, 0), '11,11,16,06': (10.0, 16.1, None, 0), '11,11,16,07': (10.6, 16.1, None, 0), '11,18,16,07': (7.2, 14.5, None, 0), '12,18,16,22': (0.0, 16.1, None, 0), '12,18,16,23': (-0.6, 16.1, None, 0), '12,18,16,20': (2.2, 16.1, None, 0), '12,18,16,21': (1.1, 16.1, None, 0), '09,10,16,22': (12.2, 16.1, None, 0), '09,10,16,23': (11.7, 16.1, None, 0), '09,10,16,21': (12.8, 16.1, None, 0), '12,09,16,13': (22.8, 16.1, None, 0), '10,10,16,20': (13.3, 16.1, None, 0), '10,10,16,21': (11.1, 16.1, None, 0), '10,10,16,22': (11.1, 16.1, None, 0), '10,10,16,23': (10.6, 16.1, None, 0), '01,29,16,00': (3.9, 16.1, None, 0), '01,29,16,01': (3.3, 16.1, None, 0), '01,29,16,02': (3.3, 16.1, None, 0), '01,29,16,03': (2.8, 16.1, None, 0), '01,29,16,04': (2.8, 16.1, None, 0), '01,29,16,05': (2.8, 16.1, None, 0), '01,29,16,06': (1.7, 16.1, None, 0), '01,29,16,07': (1.7, 12.9, None, 0), '01,29,16,08': (2.8, 12.9, None, 0), '01,29,16,09': (3.3, 12.9, None, 0), '12,30,16,08': (2.2, 16.1, None, 0), '11,13,16,19': (12.2, 16.1, None, 0), '11,13,16,18': (13.3, 16.1, None, 0), '11,13,16,15': (15.6, 16.1, None, 0), '11,13,16,14': (16.1, 16.1, None, 0), '11,13,16,17': (13.9, 16.1, None, 0), '11,13,16,16': (14.4, 16.1, None, 0), '11,13,16,11': (13.3, 16.1, None, 0), '11,13,16,10': (10.0, 16.1, None, 0), '11,13,16,13': (16.1, 16.1, None, 0), '11,13,16,12': (15.0, 16.1, None, 0), '01,22,16,07': (-5.6, 16.1, None, 0), '01,22,16,06': (-6.1, 16.1, None, 0), '01,22,16,05': (-5.6, 16.1, None, 0), '01,22,16,04': (-6.1, 16.1, None, 0), '01,22,16,03': (-5.6, 16.1, None, 0), '01,22,16,02': (-5.6, 16.1, None, 0), '01,22,16,01': (-5.0, 16.1, None, 0), '01,22,16,00': (-4.4, 16.1, None, 0), '01,22,16,09': (-3.9, 16.1, None, 0), '01,22,16,08': (-5.0, 16.1, None, 0), '11,09,16,03': (25.6, 12.9, None, 0), '11,09,16,02': (25.6, 12.9, None, 0), '11,09,16,01': (26.1, 12.9, None, 0), '11,09,16,00': (26.7, 12.9, None, 0), '11,09,16,07': (25.6, 11.3, None, 0), '11,09,16,06': (25.0, 11.3, None, 0), '11,09,16,05': (25.6, 14.5, None, 0), '11,09,16,04': (25.0, 12.9, None, 0), '11,09,16,09': (26.1, 16.1, None, 0), '11,09,16,08': (26.1, 11.3, None, 0), '07,16,16,22': (25.0, 16.1, None, 0), '07,16,16,23': (25.0, 16.1, None, 0), '07,16,16,20': (25.6, 16.1, None, 0), '07,16,16,21': (25.6, 16.1, None, 0), '10,09,16,09': (26.7, 12.9, None, 0), '12,11,16,07': (2.8, 16.1, None, 0), '11,16,16,09': (10.6, 14.5, None, 0), '11,16,16,08': (9.4, 16.1, None, 0), '12,30,16,09': (3.3, 16.1, None, 0), '06,14,16,14': (25.0, 16.1, None, 0), '11,16,16,03': (7.2, 16.1, None, 0), '11,16,16,02': (7.8, 16.1, None, 0), '11,16,16,01': (7.8, 16.1, None, 0), '06,14,16,15': (26.1, 16.1, None, 0), '11,16,16,07': (8.3, 16.1, None, 0), '11,16,16,06': (8.3, 16.1, None, 0), '11,16,16,05': (8.3, 16.1, None, 0), '11,16,16,04': (7.8, 16.1, None, 0), '06,29,16,01': (20.0, 9.7, 0.3, 0), '06,29,16,00': (20.0, 11.3, 0.5, 0), '06,29,16,03': (20.0, 9.7, None, 0), '06,29,16,02': (20.6, 6.4, None, 0), '06,29,16,05': (20.0, 4.8, None, 0), '06,29,16,04': (19.4, 6.4, None, 0), '06,29,16,07': (20.6, 12.9, None, 0), '06,29,16,06': (20.0, 8.0, None, 0), '06,29,16,09': (22.8, 12.9, None, 0), '06,29,16,08': (22.2, 14.5, None, 0), '06,20,16,15': (26.7, 12.9, None, 0), '09,05,16,03': (11.1, 16.1, None, 0), '06,20,16,14': (27.8, 12.9, None, 0), '12,07,16,11': (27.2, 16.1, None, 0), '07,22,16,09': (27.2, 11.3, None, 0), '07,22,16,08': (25.6, 9.7, None, 0), '07,22,16,01': (24.4, 14.5, None, 0), '07,22,16,00': (25.0, 14.5, None, 0), '07,22,16,03': (23.9, 14.5, None, 0), '07,22,16,02': (23.9, 14.5, None, 0), '07,22,16,05': (23.9, 12.9, None, 0), '07,22,16,04': (23.3, 12.9, None, 0), '07,22,16,07': (24.4, 9.7, None, 0), '07,22,16,06': (23.9, 11.3, None, 0), '11,09,16,21': (22.2, 16.1, None, 0), '11,09,16,20': (23.9, 16.1, None, 0), '10,03,16,14': (25.0, 16.1, None, 0), '10,03,16,12': (23.9, 16.1, None, 0), '02,20,16,13': (14.4, 16.1, None, 0), '02,20,16,12': (13.9, 16.1, None, 0), '02,20,16,11': (12.8, 16.1, None, 0), '02,20,16,10': (11.1, 16.1, None, 0), '02,20,16,17': (15.0, 16.1, None, 0), '02,20,16,16': (15.6, 16.1, None, 0), '02,20,16,15': (16.1, 16.1, None, 0), '02,20,16,14': (16.1, 16.1, None, 0), '02,20,16,19': (13.9, 16.1, None, 0), '02,20,16,18': (14.4, 16.1, None, 0), '09,07,16,08': (19.4, 14.5, None, 0), '09,07,16,09': (20.0, 12.9, None, 0), '09,07,16,04': (18.9, 8.0, 0.0, 0), '09,07,16,05': (18.9, 14.5, 0.0, 0), '09,07,16,06': (18.9, 14.5, None, 0), '09,07,16,07': (18.9, 12.9, None, 0), '09,07,16,00': (20.0, 12.9, None, 0), '09,07,16,01': (20.0, 14.5, None, 0), '09,07,16,02': (20.0, 14.5, None, 0), '09,07,16,03': (19.4, 14.5, None, 0), '04,25,16,10': (16.1, 16.1, None, 0), '04,25,16,11': (18.3, 16.1, None, 0), '04,25,16,12': (18.3, 16.1, None, 0), '04,25,16,13': (17.8, 16.1, None, 0), '04,25,16,14': (18.9, 16.1, None, 0), '04,25,16,15': (18.9, 16.1, None, 0), '04,25,16,16': (19.4, 16.1, None, 0), '04,25,16,17': (18.9, 16.1, None, 0), '04,25,16,18': (17.2, 16.1, None, 0), '04,25,16,19': (16.1, 16.1, None, 0), '07,03,16,19': (13.9, 16.1, None, 0), '07,03,16,18': (15.0, 16.1, None, 0), '07,03,16,11': (10.0, 12.9, None, 0), '07,03,16,10': (8.3, 11.3, None, 0), '07,03,16,13': (13.3, 16.1, None, 0), '07,03,16,12': (11.7, 12.9, None, 0), '07,03,16,15': (15.6, 16.1, None, 0), '07,03,16,14': (14.4, 16.1, None, 0), '07,03,16,17': (15.6, 16.1, None, 0), '07,03,16,16': (15.6, 16.1, None, 0), '04,15,16,20': (9.4, 16.1, None, 0), '04,15,16,21': (8.9, 16.1, None, 0), '04,15,16,23': (8.3, 16.1, None, 0), '03,18,16,18': (11.1, 16.1, None, 0), '07,15,16,21': (28.3, 16.1, None, 0), '07,15,16,20': (28.9, 16.1, None, 0), '07,15,16,23': (27.8, 16.1, None, 0), '07,15,16,22': (28.9, 16.1, None, 0), '10,09,16,00': (24.4, 12.9, None, 0), '10,24,16,21': (10.0, 16.1, None, 0), '10,24,16,20': (10.6, 16.1, None, 0), '10,24,16,23': (9.4, 16.1, None, 0), '10,09,16,01': (24.4, 11.3, None, 0), '04,24,16,09': (11.1, 16.1, None, 0), '10,09,16,02': (24.4, 9.7, None, 0), '10,09,16,03': (24.4, 6.4, None, 0), '10,09,16,04': (23.9, 6.4, None, 0), '10,09,16,05': (23.9, 11.3, None, 0), '10,09,16,06': (23.9, 6.4, None, 0), '10,09,16,07': (24.4, 9.7, None, 0), '05,01,16,19': (-2.2, 16.1, None, 0), '05,01,16,18': (-2.8, 16.1, None, 0), '03,18,16,16': (11.7, 16.1, None, 0), '09,05,16,10': (19.4, 16.1, None, 0), '09,05,16,13': (21.7, 16.1, None, 0), '09,05,16,12': (21.7, 16.1, None, 0), '09,05,16,15': (21.7, 16.1, None, 0), '09,05,16,14': (22.2, 16.1, None, 0), '09,05,16,17': (21.1, 16.1, None, 0), '09,05,16,16': (21.7, 16.1, None, 0), '09,05,16,19': (18.9, 16.1, None, 0), '09,05,16,18': (20.0, 16.1, None, 0), '03,08,16,12': (23.3, 14.5, None, 0), '03,08,16,13': (24.4, 14.5, None, 0), '03,08,16,10': (23.9, 14.5, None, 0), '03,08,16,11': (25.6, 14.5, None, 0), '03,08,16,16': (25.6, 16.1, None, 0), '03,08,16,17': (25.0, 16.1, None, 0), '03,08,16,14': (25.6, 14.5, None, 0), '03,08,16,15': (25.0, 14.5, None, 0), '03,08,16,18': (23.9, 14.5, None, 0), '03,08,16,19': (22.2, 14.5, None, 0), '04,24,16,19': (12.8, 16.1, None, 0), '04,24,16,18': (14.4, 16.1, None, 0), '04,24,16,11': (14.4, 16.1, None, 0), '04,24,16,10': (12.8, 16.1, None, 0), '04,24,16,13': (16.7, 16.1, None, 0), '04,24,16,12': (16.1, 16.1, None, 0), '04,24,16,15': (18.9, 16.1, None, 0), '04,24,16,14': (18.9, 16.1, None, 0), '04,24,16,17': (17.2, 16.1, None, 0), '04,24,16,16': (20.0, 16.1, None, 0), '03,11,16,21': (15.0, 16.1, None, 0), '03,11,16,20': (15.6, 16.1, None, 0), '03,11,16,23': (13.9, 16.1, None, 0), '03,11,16,22': (14.4, 16.1, None, 0), '12,09,16,02': (18.9, 16.1, None, 0), '12,09,16,03': (18.3, 16.1, None, 0), '12,09,16,00': (20.0, 16.1, None, 0), '12,09,16,01': (19.4, 16.1, None, 0), '12,09,16,06': (16.7, 16.1, None, 0), '12,09,16,07': (18.3, 16.1, None, 0), '12,09,16,04': (16.7, 16.1, None, 0), '12,09,16,05': (17.2, 16.1, None, 0), '12,09,16,08': (19.4, 16.1, None, 0), '12,09,16,09': (20.6, 16.1, None, 0), '04,23,16,12': (18.3, 16.1, None, 0), '04,23,16,13': (18.9, 16.1, None, 0), '04,23,16,10': (16.1, 16.1, 0.0, 0), '04,23,16,11': (17.8, 16.1, None, 0), '04,23,16,16': (19.4, 16.1, None, 0), '04,23,16,17': (20.0, 16.1, None, 0), '04,23,16,14': (21.1, 16.1, None, 0), '04,23,16,15': (20.6, 16.1, None, 0), '04,23,16,18': (18.3, 16.1, None, 0), '04,23,16,19': (16.7, 16.1, None, 0), '06,04,16,06': (-1.1, 16.1, None, 0), '06,04,16,07': (0.0, 16.1, None, 0), '06,04,16,04': (-0.6, 16.1, None, 0), '06,04,16,05': (-1.1, 16.1, None, 0), '06,04,16,02': (0.0, 16.1, None, 0), '06,04,16,03': (-0.6, 16.1, None, 0), '06,04,16,00': (0.6, 16.1, None, 0), '06,04,16,01': (0.0, 16.1, None, 0), '06,04,16,08': (1.1, 16.1, None, 0), '06,04,16,09': (2.8, 16.1, None, 0), '03,22,16,09': (5.0, 16.1, None, 0), '06,23,16,21': (22.8, 12.9, None, 0), '06,23,16,20': (22.8, 12.9, None, 0), '06,23,16,23': (22.2, 12.9, None, 0), '06,23,16,22': (22.2, 12.9, None, 0), '07,01,16,04': (0.0, 16.1, None, 0), '07,01,16,05': (0.0, 16.1, None, 0), '07,01,16,06': (-0.6, 16.1, None, 0), '07,01,16,07': (0.0, 16.1, None, 0), '07,01,16,00': (1.7, 16.1, None, 0), '07,01,16,01': (1.1, 16.1, None, 0), '07,01,16,02': (0.6, 16.1, None, 0), '07,01,16,03': (0.6, 16.1, None, 0), '11,20,16,07': (3.9, 16.1, None, 0), '07,01,16,08': (1.7, 16.1, None, 0), '07,01,16,09': (3.3, 16.1, None, 0), '03,09,16,00': (21.7, 16.1, None, 0), '03,22,16,05': (2.2, 16.1, None, 0), '03,09,16,02': (21.7, 16.1, None, 0), '03,09,16,03': (20.6, 16.1, None, 0), '03,09,16,04': (20.6, 16.1, None, 0), '03,09,16,05': (20.0, 16.1, None, 0), '03,09,16,06': (20.0, 16.1, None, 0), '03,22,16,04': (2.2, 16.1, None, 0), '03,09,16,08': (20.6, 16.1, None, 0), '03,09,16,09': (21.1, 16.1, None, 0), '08,29,16,09': (26.1, 12.9, None, 0), '08,29,16,08': (25.0, 12.9, None, 0), '05,10,16,08': (12.8, 16.1, None, 0), '05,10,16,09': (13.3, 16.1, None, 0), '05,10,16,04': (12.8, 16.1, None, 0), '05,10,16,06': (12.2, 16.1, None, 0), '05,10,16,07': (12.2, 16.1, None, 0), '05,10,16,00': (15.6, 16.1, None, 0), '05,10,16,01': (14.4, 16.1, None, 0), '05,10,16,02': (13.9, 16.1, None, 0), '05,10,16,03': (12.8, 16.1, None, 0), '01,30,16,11': (1.7, 16.1, None, 0), '01,30,16,10': (0.6, 16.1, None, 0), '01,30,16,13': (2.8, 16.1, None, 0), '01,30,16,12': (2.2, 16.1, None, 0), '01,30,16,15': (3.9, 16.1, None, 0), '01,30,16,14': (3.9, 16.1, None, 0), '01,30,16,17': (3.9, 16.1, None, 0), '01,30,16,16': (3.3, 16.1, None, 0), '01,30,16,19': (3.9, 16.1, None, 0), '01,30,16,18': (3.9, 16.1, None, 0), '05,29,16,19': (23.3, 16.1, None, 0), '05,29,16,18': (24.4, 16.1, None, 0), '05,29,16,17': (24.4, 16.1, None, 0), '05,29,16,16': (25.0, 14.5, None, 0), '05,29,16,15': (26.1, 14.5, None, 0), '05,29,16,14': (27.8, 14.5, None, 0), '05,29,16,13': (29.4, 12.9, None, 0), '05,29,16,12': (30.0, 12.9, None, 0), '05,29,16,11': (28.9, 12.9, None, 0), '05,29,16,10': (27.8, 12.9, None, 0), '06,01,16,07': (-2.8, 16.1, None, 0), '06,01,16,06': (-3.3, 16.1, None, 0), '06,01,16,05': (-3.3, 16.1, None, 0), '06,01,16,04': (-3.9, 16.1, None, 0), '06,01,16,03': (-3.3, 16.1, None, 0), '06,01,16,02': (-3.3, 16.1, None, 0), '06,01,16,01': (-2.8, 16.1, None, 0), '06,01,16,00': (-2.2, 16.1, None, 0), '06,01,16,09': (-1.1, 16.1, None, 0), '06,01,16,08': (-1.1, 16.1, None, 0), '03,06,16,08': (17.2, 4.8, 0.0, 0), '01,29,16,22': (0.0, 16.1, None, 0), '01,29,16,23': (-0.6, 16.1, None, 0), '01,29,16,20': (1.1, 16.1, None, 0), '01,29,16,21': (0.6, 16.1, None, 0), '07,11,16,14': (11.1, 16.1, None, 0), '07,11,16,15': (11.1, 16.1, None, 0), '07,11,16,16': (10.6, 16.1, None, 0), '07,11,16,17': (10.6, 16.1, None, 0), '07,11,16,10': (8.9, 16.1, None, 0), '07,11,16,11': (9.4, 16.1, None, 0), '07,11,16,12': (10.0, 16.1, None, 0), '07,11,16,13': (11.1, 16.1, None, 0), '02,17,16,19': (2.8, 16.1, None, 0), '02,17,16,18': (2.8, 16.1, None, 0), '11,25,16,19': (10.6, 9.7, None, 0), '07,11,16,18': (10.6, 16.1, None, 0), '07,11,16,19': (10.0, 16.1, None, 0), '09,04,16,09': (5.6, 16.1, None, 0), '09,04,16,08': (5.6, 16.1, None, 0), '09,04,16,03': (3.3, 16.1, None, 0), '09,04,16,02': (3.9, 16.1, None, 0), '09,04,16,01': (3.9, 16.1, None, 0), '09,04,16,00': (4.4, 16.1, None, 0), '09,04,16,07': (4.4, 16.1, None, 0), '09,04,16,06': (3.3, 16.1, None, 0), '09,04,16,05': (3.3, 16.1, None, 0), '01,22,16,21': (-1.7, 16.1, None, 0), '01,22,16,20': (-2.2, 16.1, None, 0), '01,22,16,23': (-3.3, 2.0, 0.3, 0), '01,22,16,22': (-2.8, 4.8, 0.0, 0), '11,22,16,08': (3.3, 16.1, None, 0), '11,22,16,09': (3.9, 16.1, None, 0), '11,22,16,02': (3.3, 16.1, None, 0), '11,22,16,03': (3.3, 16.1, None, 0), '11,22,16,00': (3.3, 16.1, None, 0), '11,22,16,01': (3.3, 16.1, None, 0), '11,22,16,06': (2.8, 16.1, None, 0), '11,22,16,07': (2.8, 16.1, None, 0), '11,22,16,04': (3.3, 16.1, None, 0), '11,22,16,05': (3.3, 16.1, None, 0), '10,03,16,19': (23.9, 16.1, None, 0), '10,03,16,18': (23.9, 16.1, None, 0), '11,09,16,23': (20.6, 16.1, None, 0), '11,09,16,22': (21.1, 16.1, None, 0), '10,03,16,15': (25.6, 12.9, None, 0), '08,22,16,08': (21.7, 16.1, None, 0), '10,03,16,17': (24.4, 16.1, None, 0), '10,03,16,16': (25.0, 16.1, None, 0), '10,03,16,11': (23.3, 16.1, None, 0), '10,03,16,10': (23.3, 16.1, None, 0), '10,03,16,13': (24.4, 16.1, None, 0), '08,22,16,09': (22.2, 16.1, None, 0), '05,16,16,19': (17.8, 16.1, None, 0), '05,16,16,18': (18.0, None, None, 0), '05,16,16,15': (18.0, None, None, 0), '05,16,16,14': (17.0, None, None, 0), '05,16,16,17': (19.0, None, None, 0), '05,16,16,16': (19.0, None, None, 0), '05,16,16,11': (13.0, None, None, 0), '05,16,16,10': (11.0, None, None, 0), '05,16,16,13': (16.0, None, None, 0), '05,16,16,12': (15.0, None, None, 0), '11,17,16,05': (10.0, 16.1, None, 0), '11,16,16,21': (11.7, 16.1, None, 0), '11,16,16,20': (12.2, 16.1, None, 0), '11,16,16,23': (10.6, 16.1, None, 0), '11,16,16,22': (11.1, 16.1, None, 0), '12,15,16,03': (0.0, 16.1, None, 0), '12,15,16,02': (0.6, 16.1, None, 0), '12,15,16,09': (-5.0, 8.0, None, 0), '12,15,16,08': (-4.4, 16.1, None, 0), '09,08,16,19': (26.1, 14.5, None, 0), '05,06,16,18': (18.9, 1.6, 1.3, 0), '05,06,16,19': (18.9, 4.8, 2.8, 0), '05,06,16,12': (19.4, 3.2, None, 0), '05,06,16,13': (20.0, 1.6, None, 0), '05,06,16,10': (20.0, 12.9, None, 0), '05,06,16,11': (18.3, 1.2, 8.1, 0), '05,06,16,16': (21.1, 6.4, None, 0), '05,06,16,17': (21.1, 8.0, None, 0), '05,06,16,14': (21.1, 4.8, None, 0), '05,06,16,15': (21.1, 6.4, None, 0), '09,08,16,17': (27.8, 14.5, None, 0), '12,16,16,23': (-3.3, 16.1, None, 0), '07,04,16,23': (11.1, 16.1, None, 0), '07,04,16,22': (12.2, 16.1, None, 0), '07,04,16,21': (13.0, 16.1, None, 0), '07,04,16,20': (12.8, 16.1, None, 0), '01,31,16,09': (5.0, 16.1, None, 0), '01,31,16,08': (4.4, 16.1, None, 0), '01,31,16,03': (2.8, 16.1, None, 0), '01,31,16,02': (2.8, 16.1, None, 0), '01,31,16,01': (2.8, 16.1, None, 0), '01,31,16,00': (2.8, 16.1, None, 0), '01,31,16,07': (3.3, 16.1, None, 0), '01,31,16,06': (3.9, 16.1, None, 0), '01,31,16,05': (3.3, 16.1, None, 0), '01,31,16,04': (3.3, 16.1, None, 0), '02,27,16,10': (0.0, 16.1, None, 0), '02,27,16,11': (2.2, 16.1, None, 0), '02,27,16,12': (2.8, 16.1, None, 0), '02,27,16,13': (3.9, 16.1, None, 0), '02,27,16,14': (4.4, 16.1, None, 0), '02,27,16,15': (5.0, 16.1, None, 0), '02,27,16,16': (4.4, 16.1, None, 0), '02,27,16,17': (4.4, 16.1, None, 0), '03,29,16,20': (7.8, 16.1, None, 0), '03,29,16,21': (6.7, 16.1, None, 0), '03,29,16,22': (6.1, 16.1, None, 0), '03,29,16,23': (5.0, 16.1, None, 0), '10,12,16,13': (1.7, 16.1, None, 0), '10,12,16,12': (1.7, 16.1, None, 0), '10,12,16,11': (0.6, 16.1, None, 0), '10,12,16,10': (0.6, 16.1, None, 0), '09,07,16,22': (19.4, 4.8, 11.4, 0), '09,07,16,23': (19.4, 9.7, 2.0, 0), '09,07,16,20': (20.0, 8.0, None, 0), '09,07,16,21': (20.0, 8.0, None, 0), '03,04,16,18': (4.4, 16.1, None, 0), '03,04,16,19': (3.9, 16.1, None, 0), '03,04,16,16': (4.4, 16.1, None, 0), '03,04,16,17': (4.4, 16.1, None, 0), '03,04,16,14': (3.9, 16.1, None, 0), '03,04,16,15': (4.4, 16.1, None, 0), '03,04,16,12': (3.3, 16.1, None, 0), '03,04,16,13': (3.3, 16.1, None, 0), '03,04,16,10': (1.7, 16.1, None, 0), '03,04,16,11': (2.2, 16.1, None, 0), '04,17,16,00': (8.3, 16.1, None, 0), '04,17,16,01': (8.3, 16.1, None, 0), '04,17,16,02': (8.3, 16.1, None, 0), '04,17,16,03': (7.2, 16.1, None, 0), '04,17,16,04': (7.8, 16.1, None, 0), '04,17,16,05': (7.2, 16.1, None, 0), '04,17,16,06': (7.8, 16.1, None, 0), '04,17,16,07': (9.4, 16.1, None, 0), '04,17,16,08': (11.7, 16.1, None, 0), '04,17,16,09': (13.3, 16.1, None, 0), '05,22,16,10': (16.7, 16.1, None, 0), '05,22,16,11': (18.9, 16.1, None, 0), '05,22,16,12': (20.0, 16.1, None, 0), '05,22,16,13': (20.0, 16.1, None, 0), '05,22,16,14': (20.6, 16.1, None, 0), '05,22,16,15': (20.6, 16.1, None, 0), '05,22,16,16': (19.4, 16.1, None, 0), '05,22,16,17': (18.9, 16.1, None, 0), '05,22,16,18': (18.9, 16.1, None, 0), '05,22,16,19': (18.3, 16.1, None, 0), '01,15,16,16': (9.4, 16.1, None, 0), '01,15,16,17': (9.4, 16.1, None, 0), '01,15,16,14': (10.0, 16.1, None, 0), '01,15,16,15': (9.4, 16.1, None, 0), '01,15,16,12': (8.9, 14.5, None, 0), '01,15,16,13': (10.6, 16.1, None, 0), '01,15,16,10': (5.6, 12.9, None, 0), '01,15,16,11': (7.8, 11.3, None, 0), '01,15,16,18': (9.4, 16.1, None, 0), '01,15,16,19': (9.4, 16.1, None, 0), '11,17,16,09': (13.3, 14.5, None, 0), '11,19,16,13': (15.0, 16.1, None, 0), '11,19,16,12': (16.7, 16.1, None, 0), '11,19,16,11': (16.1, 16.1, None, 0), '11,19,16,10': (15.0, 14.5, None, 0), '11,19,16,17': (13.3, 16.1, None, 0), '11,19,16,16': (12.8, 16.1, None, 0), '11,19,16,15': (13.9, 16.1, None, 0), '11,19,16,14': (15.0, 16.1, None, 0), '11,19,16,19': (13.3, 16.1, None, 0), '11,19,16,18': (13.3, 16.1, None, 0), '08,26,16,19': (29.0, None, None, 0), '08,26,16,18': (30.0, None, None, 0), '12,17,16,10': (0.0, 2.4, 3.3, 0), '12,17,16,11': (0.6, 3.2, None, 0), '12,17,16,12': (1.1, 4.0, None, 0), '12,17,16,13': (1.7, 6.4, None, 0), '02,15,16,08': (-7.2, 16.1, None, 0), '02,15,16,09': (-6.7, 16.1, None, 0), '12,17,16,16': (2.2, 14.5, None, 0), '12,17,16,17': (2.2, 12.9, None, 0), '02,15,16,04': (-9.4, 16.1, None, 0), '02,15,16,05': (-8.9, 16.1, None, 0), '02,15,16,06': (-8.3, 16.1, None, 0), '02,15,16,07': (-7.8, 16.1, None, 0), '02,15,16,00': (-10.0, 16.1, None, 0), '02,15,16,01': (-10.0, 16.1, None, 0), '02,15,16,02': (-10.0, 16.1, None, 0), '02,15,16,03': (-10.0, 16.1, None, 0), '08,26,16,13': (31.0, None, None, 0), '08,26,16,12': (32.0, None, None, 0), '12,11,16,09': (5.0, 16.1, None, 0), '08,26,16,11': (31.0, None, None, 0), '08,26,16,10': (30.0, None, None, 0), '08,26,16,17': (31.0, None, None, 0), '08,26,16,16': (32.0, None, None, 0), '04,15,16,08': (10.0, 16.1, None, 0), '04,15,16,09': (11.1, 16.1, None, 0), '08,26,16,15': (32.0, None, None, 0), '04,15,16,02': (7.2, 16.1, None, 0), '04,15,16,03': (7.2, 16.1, None, 0), '04,15,16,00': (7.2, 16.1, None, 0), '04,15,16,01': (7.8, 16.1, None, 0), '04,15,16,06': (6.7, 16.1, None, 0), '04,15,16,07': (8.3, 16.1, None, 0), '04,15,16,04': (6.7, 16.1, None, 0), '04,15,16,05': (6.1, 16.1, None, 0), '12,11,16,06': (2.8, 16.1, None, 0), '07,28,16,03': (25.6, 12.9, None, 0), '07,28,16,02': (26.7, 12.9, None, 0), '07,28,16,01': (26.7, 14.5, None, 0), '07,28,16,00': (26.7, 14.5, None, 0), '07,28,16,07': (26.7, 9.7, None, 0), '07,28,16,06': (25.6, 9.7, None, 0), '07,28,16,05': (25.0, 11.3, None, 0), '07,28,16,04': (25.6, 11.3, None, 0), '07,28,16,09': (29.4, 12.9, None, 0), '07,28,16,08': (28.3, 12.9, None, 0), '04,13,16,17': (13.3, 16.1, None, 0), '04,13,16,16': (13.9, 16.1, None, 0), '04,13,16,15': (12.8, 16.1, None, 0), '04,13,16,14': (12.2, 16.1, None, 0), '04,13,16,13': (12.2, 16.1, None, 0), '04,13,16,12': (11.1, 16.1, None, 0), '04,13,16,11': (10.0, 16.1, None, 0), '04,13,16,10': (9.4, 16.1, None, 0), '10,12,16,18': (0.6, 16.1, None, 0), '04,13,16,19': (10.0, 16.1, None, 0), '04,13,16,18': (11.7, 16.1, None, 0), '02,27,16,18': (4.4, 16.1, None, 0), '02,27,16,19': (3.9, 16.1, None, 0), '10,12,16,15': (1.7, 16.1, None, 0), '10,12,16,14': (1.7, 16.1, None, 0), '10,17,16,18': (23.9, 16.1, None, 0), '10,17,16,19': (23.9, 16.1, None, 0), '10,17,16,12': (26.1, 14.5, None, 0), '10,17,16,13': (26.7, 12.9, None, 0), '10,17,16,10': (22.2, 11.3, None, 0), '10,17,16,11': (23.9, 11.3, None, 0), '10,17,16,16': (25.0, 14.5, None, 0), '10,17,16,17': (24.4, 14.5, None, 0), '10,17,16,14': (26.1, 14.5, None, 0), '10,17,16,15': (26.1, 14.5, None, 0), '11,17,16,11': (15.6, 16.1, None, 0), '11,17,16,10': (15.0, 16.1, None, 0), '11,17,16,13': (16.1, 16.1, None, 0), '11,17,16,12': (16.1, 16.1, None, 0), '08,13,16,13': (35.6, 11.3, None, 0), '08,13,16,12': (34.4, 12.9, None, 0), '08,13,16,11': (33.3, 11.3, None, 0), '08,13,16,10': (31.7, 11.3, None, 0), '08,13,16,17': (33.3, 12.9, None, 0), '08,13,16,16': (33.3, 12.9, None, 0), '08,13,16,15': (33.3, 12.9, None, 0), '08,13,16,14': (34.4, 11.3, None, 0), '08,13,16,19': (32.8, 14.5, None, 0), '08,13,16,18': (33.3, 12.9, None, 0), '08,02,16,15': (0.0, 16.1, None, 0), '08,02,16,14': (0.6, 16.1, None, 0), '08,02,16,17': (0.0, 14.5, None, 0), '08,02,16,16': (0.0, 16.1, None, 0), '08,02,16,11': (0.0, 0.8, 0.8, 0), '08,02,16,10': (0.0, 1.2, 0.3, 0), '08,02,16,13': (0.6, 16.1, None, 0), '08,02,16,12': (0.0, 16.1, 0.3, 0), '01,06,16,23': (19.4, 14.5, None, 0), '01,06,16,22': (20.0, 14.5, None, 0), '01,06,16,21': (21.1, 14.5, None, 0), '01,06,16,20': (21.7, 14.5, None, 0), '12,16,16,19': (-3.9, 16.1, None, 0), '12,16,16,18': (-3.9, 16.1, None, 0), '12,16,16,11': (-5.6, 16.1, None, 0), '12,16,16,10': (-6.7, 16.1, None, 0), '12,16,16,13': (-3.3, 16.1, None, 0), '12,16,16,12': (-4.4, 16.1, None, 0), '12,16,16,15': (-3.3, 16.1, None, 0), '12,16,16,14': (-3.3, 16.1, None, 0), '12,16,16,17': (-3.9, 16.1, None, 0), '12,16,16,16': (-3.9, 16.1, None, 0), '07,01,16,22': (3.9, 16.1, None, 0), '07,01,16,23': (4.0, None, None, 0), '07,01,16,20': (5.6, 16.1, None, 0), '07,01,16,21': (5.6, 16.1, None, 0), '11,12,16,09': (-0.6, 16.1, None, 0), '09,13,16,12': (26.1, 16.1, None, 0), '03,09,16,22': (19.4, 16.1, None, 0), '03,09,16,23': (19.4, 16.1, None, 0), '03,09,16,20': (20.6, 16.1, None, 0), '03,09,16,21': (21.1, 16.1, None, 0), '08,29,16,21': (26.7, 16.1, None, 0), '08,29,16,20': (27.2, 16.1, None, 0), '08,29,16,23': (25.6, 16.1, None, 0), '08,29,16,22': (26.1, 16.1, None, 0), '10,10,16,17': (15.0, 16.1, None, 0), '09,21,16,00': (22.2, 12.9, None, 0), '09,21,16,01': (22.2, 11.3, None, 0), '09,21,16,02': (21.7, 11.3, None, 0), '09,21,16,03': (21.7, 12.9, None, 0), '09,21,16,04': (21.1, 16.1, None, 0), '09,21,16,05': (20.6, 16.1, None, 0), '09,21,16,06': (20.6, 16.1, None, 0), '09,21,16,07': (22.2, 16.1, None, 0), '09,21,16,08': (22.2, 16.1, None, 0), '09,13,16,18': (23.3, 16.1, None, 0), '12,11,16,18': (8.3, 16.1, None, 0), '12,11,16,19': (8.3, 16.1, None, 0), '12,19,16,21': (-3.9, 16.1, None, 0), '09,13,16,19': (22.8, 16.1, None, 0), '12,19,16,20': (-3.9, 16.1, None, 0), '06,07,16,23': (27.8, 14.5, None, 0), '06,07,16,22': (28.3, 14.5, None, 0), '06,07,16,21': (28.3, 14.5, None, 0), '06,07,16,20': (28.3, 14.5, None, 0), '10,10,16,16': (16.1, 16.1, None, 0), '10,19,16,10': (25.0, 14.5, None, 0), '10,19,16,11': (26.1, 14.5, None, 0), '10,19,16,12': (27.8, 14.5, None, 0), '10,19,16,13': (27.8, 14.5, None, 0), '05,10,16,22': (14.4, 16.1, None, 0), '05,10,16,23': (14.4, 16.1, None, 0), '05,10,16,20': (15.0, 14.5, None, 0), '05,10,16,21': (14.4, 14.5, None, 0), '10,19,16,18': (25.0, 16.1, None, 0), '10,19,16,19': (23.3, 16.1, None, 0), '07,19,16,09': (24.4, 14.5, None, 0), '07,19,16,08': (23.9, 14.5, None, 0), '07,19,16,07': (23.3, 14.5, None, 0), '07,19,16,06': (23.3, 14.5, None, 0), '07,19,16,05': (23.3, 16.1, None, 0), '07,19,16,04': (23.9, 16.1, None, 0), '07,19,16,03': (23.9, 16.1, None, 0), '07,19,16,02': (24.4, 16.1, None, 0), '07,19,16,01': (24.4, 14.5, None, 0), '07,19,16,00': (24.4, 14.5, None, 0), '05,29,16,01': (24.4, 16.1, None, 0), '01,25,16,19': (2.2, 16.1, None, 0), '01,25,16,18': (2.2, 16.1, None, 0), '01,25,16,17': (1.7, 16.1, None, 0), '01,25,16,16': (2.2, 14.5, None, 0), '01,25,16,15': (2.8, 16.1, None, 0), '01,25,16,14': (3.3, 12.9, None, 0), '01,25,16,13': (2.8, 12.9, None, 0), '01,25,16,12': (1.7, 12.9, None, 0), '01,25,16,11': (1.7, 14.5, None, 0), '01,25,16,10': (1.7, 14.5, None, 0), '03,06,16,18': (21.1, 9.7, None, 0), '03,06,16,19': (20.6, 9.7, None, 0), '03,06,16,10': (18.3, 4.8, None, 0), '03,06,16,11': (18.9, 4.8, None, 0), '03,06,16,12': (18.9, 6.4, None, 0), '03,06,16,13': (19.4, 8.0, None, 0), '03,06,16,14': (20.0, 9.7, None, 0), '03,06,16,15': (19.4, 8.0, 0.0, 0), '03,06,16,16': (20.6, 9.7, None, 0), '03,06,16,17': (21.1, 8.0, None, 0), '04,08,16,08': (22.8, 12.9, None, 0), '04,08,16,09': (23.9, 12.9, None, 0), '09,15,16,21': (18.3, 16.1, None, 0), '09,15,16,20': (18.3, 16.1, None, 0), '06,01,16,21': (2.2, 16.1, None, 0), '06,01,16,20': (2.8, 16.1, None, 0), '06,01,16,23': (1.1, 16.1, None, 0), '06,01,16,22': (1.7, 16.1, None, 0), '04,08,16,00': (20.6, 16.1, None, 0), '04,08,16,01': (20.6, 16.1, None, 0), '04,08,16,02': (20.0, 16.1, None, 0), '04,08,16,03': (20.0, 16.1, None, 0), '05,14,16,00': (15.5, None, None, 0), '07,08,16,23': (26.1, 16.1, None, 0), '07,08,16,22': (26.1, 16.1, None, 0), '07,08,16,21': (26.7, 12.9, None, 0), '07,08,16,20': (26.7, 16.1, None, 0), '05,14,16,02': (14.0, None, None, 0), '08,05,16,16': (17.8, 16.1, None, 0), '08,05,16,17': (17.8, 16.1, None, 0), '08,05,16,14': (17.8, 16.1, None, 0), '05,14,16,03': (13.9, None, None, 0), '08,05,16,12': (17.2, 16.1, None, 0), '08,05,16,13': (18.3, 16.1, None, 0), '08,05,16,10': (12.8, 11.3, None, 0), '08,05,16,11': (16.1, 12.9, None, 0), '08,05,16,18': (17.2, 16.1, None, 0), '08,05,16,19': (16.1, 16.1, None, 0), '10,13,16,15': (16.7, 12.9, 0.0, 0), '06,30,16,18': (25.6, 16.1, None, 0), '06,30,16,19': (25.6, 14.5, None, 0), '06,30,16,10': (25.0, 16.1, None, 0), '06,30,16,11': (27.2, 16.1, None, 0), '06,30,16,12': (28.3, 16.1, None, 0), '06,30,16,13': (28.9, 16.1, None, 0), '06,30,16,14': (28.3, 16.1, None, 0), '06,30,16,15': (28.9, 16.1, None, 0), '06,30,16,16': (28.9, 16.1, None, 0), '06,30,16,17': (27.2, 16.1, None, 0), '01,13,16,09': (-4.4, 16.1, None, 0), '01,13,16,08': (-5.0, 16.1, None, 0), '01,13,16,07': (-5.6, 16.1, None, 0), '01,13,16,06': (-5.6, 16.1, None, 0), '01,13,16,05': (-5.0, 16.1, None, 0), '03,21,16,12': (8.3, 16.1, None, 0), '01,13,16,03': (-4.4, 16.1, None, 0), '01,13,16,02': (-3.9, 16.1, None, 0), '01,13,16,01': (-3.3, 16.1, None, 0), '01,13,16,00': (-2.8, 16.1, None, 0), '12,02,16,23': (-5.0, 16.1, None, 0), '12,02,16,22': (-5.6, 16.1, None, 0), '12,02,16,21': (-5.0, 16.1, None, 0), '12,02,16,20': (-5.0, 16.1, None, 0), '03,01,16,18': (4.4, 16.1, None, 0), '05,03,16,19': (2.2, 16.1, None, 0), '05,03,16,18': (2.8, 16.1, None, 0), '05,03,16,17': (3.3, 16.1, None, 0), '05,03,16,16': (3.9, 16.1, None, 0), '05,03,16,15': (4.4, 16.1, None, 0), '05,03,16,14': (3.3, 16.1, None, 0), '05,03,16,13': (3.3, 16.1, None, 0), '05,03,16,12': (2.2, 16.1, None, 0), '05,03,16,11': (2.8, 16.1, None, 0), '05,03,16,10': (1.7, 16.1, None, 0), '01,27,16,20': (2.8, 16.1, None, 0), '01,27,16,21': (2.8, 16.1, None, 0), '01,27,16,22': (1.7, 16.1, None, 0), '01,27,16,23': (1.7, 16.1, None, 0), '06,08,16,15': (29.4, 11.3, None, 0), '06,08,16,14': (29.4, 9.7, None, 0), '06,08,16,17': (26.1, 12.9, 0.0, 0), '06,08,16,16': (24.4, 9.7, 1.3, 0), '06,08,16,11': (27.8, 11.3, None, 0), '07,04,16,08': (12.2, 16.1, None, 0), '06,08,16,13': (29.4, 9.7, None, 0), '06,08,16,12': (27.2, 9.7, None, 0), '07,04,16,05': (11.7, 16.1, None, 0), '07,04,16,04': (11.1, 16.1, None, 0), '07,04,16,07': (12.2, 16.1, None, 0), '07,04,16,06': (12.2, 16.1, None, 0), '06,08,16,19': (26.7, 14.5, None, 0), '07,04,16,00': (9.0, 16.1, None, 0), '07,04,16,03': (9.4, 16.1, None, 0), '07,04,16,02': (8.9, 16.1, None, 0), '01,31,16,21': (12.2, 16.1, None, 0), '01,31,16,20': (11.1, 16.1, None, 0), '01,31,16,23': (10.6, 16.1, None, 0), '01,31,16,22': (10.6, 16.1, None, 0), '03,29,16,02': (7.8, 16.1, None, 0), '03,29,16,03': (7.2, 16.1, None, 0), '03,29,16,00': (8.9, 16.1, None, 0), '03,29,16,01': (8.3, 16.1, None, 0), '03,29,16,06': (6.7, 16.1, None, 0), '03,29,16,07': (6.7, 16.1, None, 0), '03,29,16,04': (7.2, 16.1, None, 0), '03,29,16,05': (7.2, 16.1, None, 0), '03,29,16,08': (6.7, 16.1, None, 0), '03,29,16,09': (7.8, 16.1, None, 0), '02,06,16,08': (18.9, 11.3, None, 0), '02,06,16,09': (19.4, 11.3, None, 0), '02,06,16,00': (18.9, 14.5, None, 0), '02,06,16,01': (18.3, 14.5, None, 0), '02,06,16,02': (17.8, 14.5, None, 0), '02,06,16,03': (17.2, 14.5, None, 0), '02,06,16,04': (17.2, 14.5, None, 0), '02,06,16,05': (17.2, 12.9, None, 0), '02,06,16,06': (17.2, 12.9, None, 0), '02,06,16,07': (17.8, 11.3, None, 0), '04,17,16,22': (12.8, 16.1, None, 0), '04,17,16,23': (12.2, 16.1, None, 0), '04,17,16,20': (14.4, 16.1, None, 0), '04,17,16,21': (13.3, 16.1, None, 0), '08,16,16,23': (28.3, 14.5, None, 0), '08,16,16,22': (27.8, 12.9, None, 0), '08,16,16,21': (27.2, 11.3, None, 0), '08,16,16,20': (27.2, 9.7, 2.3, 0), '09,30,16,20': (13.9, 4.8, 0.5, 0), '09,30,16,21': (13.3, 4.8, 0.5, 0), '09,30,16,22': (13.3, 4.8, 0.5, 0), '09,30,16,23': (13.3, 12.9, None, 0), '05,05,16,20': (12.2, 16.1, None, 0), '05,05,16,21': (12.2, 16.1, None, 0), '05,05,16,22': (12.2, 16.1, None, 0), '05,05,16,23': (11.7, 16.1, None, 0), '07,05,16,13': (12.8, 16.1, None, 0), '07,05,16,12': (13.3, 16.1, None, 0), '07,05,16,11': (12.2, 16.1, None, 0), '07,05,16,10': (11.1, 16.1, None, 0), '07,05,16,17': (14.4, 16.1, None, 0), '07,05,16,16': (13.9, 16.1, None, 0), '07,05,16,15': (13.9, 16.1, None, 0), '07,05,16,14': (13.9, 16.1, None, 0), '07,05,16,19': (13.3, 12.9, None, 0), '07,05,16,18': (14.4, 12.9, None, 0), '12,17,16,05': (-2.8, 1.2, 0.8, 0), '02,15,16,22': (1.1, 3.2, 3.6, 0), '02,15,16,23': (1.7, 4.8, 1.8, 0), '02,15,16,20': (1.1, 2.4, 0.8, 0), '02,15,16,21': (0.6, 2.8, 0.8, 0), '12,17,16,14': (1.7, 8.0, None, 0), '12,17,16,04': (-3.3, 2.0, 1.0, 0), '12,17,16,15': (1.7, 11.3, None, 0), '07,07,16,15': (29.4, 11.3, None, 0), '07,07,16,14': (26.1, 8.0, 1.0, 0), '07,07,16,17': (29.4, 11.3, None, 0), '07,07,16,16': (28.3, 11.3, None, 0), '07,07,16,11': (30.0, 12.9, None, 0), '07,07,16,10': (30.6, 11.3, None, 0), '07,07,16,13': (30.0, 11.3, None, 0), '07,07,16,12': (31.1, 11.3, None, 0), '07,07,16,19': (25.6, 12.9, 0.0, 0), '07,07,16,18': (25.6, 8.0, 0.0, 0), '12,17,16,18': (2.2, 12.9, None, 0), '12,17,16,19': (2.8, 12.9, None, 0), '12,08,16,07': (25.0, 9.7, None, 0), '12,08,16,06': (24.4, 9.7, 0.3, 0), '07,17,16,18': (30.6, 12.9, None, 0), '07,17,16,19': (30.6, 14.5, None, 0), '07,17,16,16': (31.1, 12.9, None, 0), '07,17,16,17': (31.1, 12.9, None, 0), '07,17,16,14': (31.1, 12.9, None, 0), '07,17,16,15': (31.7, 12.9, None, 0), '07,17,16,12': (31.7, 12.9, None, 0), '07,17,16,13': (30.6, 11.3, None, 0), '07,17,16,10': (27.8, 12.9, None, 0), '07,17,16,11': (30.0, 12.9, None, 0), '03,06,16,09': (17.8, 4.8, 0.3, 0), '08,04,16,04': (7.2, 16.1, None, 0), '08,04,16,05': (7.2, 16.1, None, 0), '08,04,16,06': (8.0, 16.1, None, 0), '08,04,16,07': (6.7, 16.1, None, 0), '08,04,16,00': (10.0, 16.1, None, 0), '08,04,16,01': (9.4, 16.1, None, 0), '07,28,16,23': (25.0, 6.4, None, 0), '08,04,16,03': (8.9, 16.1, None, 0), '08,04,16,08': (7.2, 16.1, None, 0), '08,04,16,09': (8.3, 16.1, None, 0), '02,04,16,19': (10.0, 16.1, None, 0), '02,04,16,18': (11.1, 16.1, None, 0), '02,04,16,15': (12.2, 16.1, None, 0), '02,04,16,14': (12.8, 16.1, None, 0), '02,04,16,17': (12.8, 16.1, None, 0), '02,04,16,16': (12.8, 16.1, None, 0), '02,04,16,11': (10.6, 16.1, 0.3, 0), '02,04,16,10': (9.4, 6.4, 1.3, 0), '02,04,16,13': (11.1, 16.1, None, 0), '02,04,16,12': (10.6, 16.1, None, 0), '12,08,16,09': (26.7, 9.7, None, 0), '12,08,16,08': (26.1, 9.7, None, 0), '03,06,16,05': (17.8, 11.3, None, 0), '03,06,16,04': (18.3, 12.9, None, 0), '10,22,16,09': (8.9, 16.1, 0.3, 0), '10,22,16,08': (8.9, 12.9, 1.3, 0), '02,01,16,09': (1.7, 16.1, None, 0), '02,01,16,08': (1.1, 16.1, None, 0), '02,01,16,03': (1.1, 16.1, None, 0), '02,01,16,02': (1.1, 16.1, None, 0), '02,01,16,01': (1.1, 16.1, None, 0), '02,01,16,00': (1.1, 16.1, None, 0), '02,01,16,07': (1.1, 16.1, None, 0), '02,01,16,06': (0.6, 16.1, None, 0), '02,01,16,05': (0.6, 16.1, None, 0), '02,01,16,04': (0.6, 16.1, None, 0), '04,22,16,13': (25.6, 16.1, None, 0), '04,22,16,12': (25.0, 14.5, None, 0), '04,22,16,11': (24.4, 14.5, None, 0), '04,22,16,10': (22.2, 14.5, None, 0), '04,22,16,17': (24.4, 16.1, None, 0), '04,22,16,16': (25.0, 16.1, None, 0), '04,22,16,15': (25.0, 16.1, None, 0), '04,22,16,14': (25.0, 12.9, None, 0), '04,22,16,19': (23.3, 16.1, None, 0), '04,22,16,18': (24.4, 16.1, None, 0), '05,17,16,18': (14.4, 14.5, None, 0), '05,17,16,19': (13.3, 16.1, None, 0), '01,18,16,19': (-6.1, 16.1, None, 0), '01,18,16,18': (-5.6, 16.1, None, 0), '01,18,16,13': (-2.2, 16.1, None, 0), '01,18,16,12': (-3.3, 16.1, None, 0), '01,18,16,11': (-3.3, 16.1, None, 0), '01,18,16,10': (-4.4, 16.1, None, 0), '01,18,16,17': (-5.0, 16.1, None, 0), '01,18,16,16': (-5.0, 16.1, None, 0), '01,18,16,15': (-3.9, 16.1, None, 0), '01,18,16,14': (-3.3, 16.1, None, 0), '01,06,16,01': (22.2, 11.3, None, 0), '01,06,16,00': (22.8, 12.9, None, 0), '01,06,16,03': (21.7, 16.1, None, 0), '01,06,16,02': (21.1, 12.9, None, 0), '01,06,16,05': (21.1, 12.9, None, 0), '01,06,16,04': (21.7, 16.1, None, 0), '01,06,16,07': (22.8, 14.5, None, 0), '01,06,16,06': (22.2, 14.5, None, 0), '01,06,16,09': (25.0, 14.5, None, 0), '01,06,16,08': (23.9, 14.5, None, 0), '04,20,16,15': (19.4, 16.1, None, 0), '04,20,16,14': (18.9, 16.1, None, 0), '04,20,16,17': (19.4, 16.1, None, 0), '04,20,16,16': (20.0, 16.1, None, 0), '04,20,16,11': (16.7, 16.1, None, 0), '04,20,16,10': (15.0, 16.1, None, 0), '04,20,16,13': (18.9, 16.1, None, 0), '04,20,16,12': (17.8, 16.1, None, 0), '04,20,16,19': (13.9, 16.1, None, 0), '04,20,16,18': (16.1, 16.1, None, 0), '02,08,16,19': (22.2, 14.5, None, 0), '02,08,16,18': (22.8, 14.5, None, 0), '10,22,16,04': (10.0, 4.8, 0.3, 0), '08,31,16,06': (23.9, 11.3, None, 0), '09,04,16,11': (6.1, 16.1, None, 0), '02,08,16,11': (24.4, 14.5, None, 0), '02,08,16,10': (22.2, 14.5, None, 0), '02,08,16,13': (24.4, 14.5, None, 0), '02,08,16,12': (25.0, 14.5, None, 0), '02,08,16,15': (23.9, 14.5, None, 0), '02,08,16,14': (25.0, 14.5, None, 0), '02,08,16,17': (23.3, 14.5, None, 0), '02,08,16,16': (23.3, 14.5, None, 0), '09,04,16,13': (3.3, 6.4, 1.0, 0), '09,04,16,14': (3.3, 8.0, 0.5, 0), '09,04,16,15': (3.3, 6.4, 0.8, 0), '09,04,16,16': (3.3, 11.3, 0.3, 0), '09,04,16,17': (3.9, 16.1, 0.3, 0), '06,07,16,09': (28.9, 14.5, None, 0), '06,07,16,08': (27.2, 12.9, None, 0), '12,04,16,01': (11.7, 16.1, None, 0), '12,04,16,00': (12.8, 16.1, None, 0), '12,04,16,07': (13.3, 14.5, 0.5, 0), '12,04,16,06': (13.3, 16.1, 0.0, 0), '12,04,16,05': (13.9, 12.9, 0.3, 0), '12,04,16,04': (12.8, 16.1, None, 0), '06,07,16,01': (26.1, 16.1, None, 0), '06,07,16,00': (26.7, 16.1, None, 0), '06,07,16,03': (24.4, 16.1, None, 0), '06,07,16,02': (25.6, 16.1, None, 0), '06,07,16,05': (24.4, 14.5, None, 0), '06,07,16,04': (25.6, 16.1, None, 0), '06,07,16,07': (25.6, 14.5, None, 0), '06,07,16,06': (25.0, 12.9, None, 0), '07,19,16,21': (26.1, 16.1, None, 0), '07,19,16,20': (26.1, 16.1, None, 0), '07,19,16,23': (24.4, 16.1, None, 0), '07,19,16,22': (25.6, 16.1, None, 0), '08,08,16,00': (26.1, 16.1, None, 0), '08,08,16,01': (24.4, 16.1, None, 0), '08,08,16,02': (23.9, 16.1, None, 0), '08,08,16,03': (23.3, 16.1, None, 0), '08,08,16,04': (22.8, 16.1, None, 0), '08,08,16,05': (21.7, 16.1, None, 0), '08,08,16,06': (22.2, 16.1, None, 0), '08,08,16,07': (23.3, 14.5, None, 0), '05,23,16,08': (17.8, 11.3, None, 0), '06,13,16,23': (18.3, 16.1, None, 0), '10,10,16,19': (13.9, 16.1, None, 0), '10,10,16,18': (15.0, 16.1, None, 0), '09,21,16,22': (21.7, 16.1, None, 0), '09,21,16,23': (21.7, 16.1, None, 0), '09,21,16,20': (23.3, 16.1, None, 0), '09,21,16,21': (22.8, 16.1, None, 0), '10,22,16,07': (8.9, 9.7, 0.5, 0), '10,22,16,06': (9.4, 12.9, 0.5, 0), '02,25,16,19': (3.9, 16.1, None, 0), '10,22,16,01': (13.3, 16.1, None, 0), '10,22,16,00': (14.4, 16.1, 0.0, 0), '10,22,16,03': (12.2, 11.3, 0.0, 0), '10,22,16,02': (12.8, 16.1, None, 0), '12,19,16,18': (-3.3, 16.1, None, 0), '12,19,16,19': (-3.9, 16.1, None, 0), '12,19,16,12': (-2.2, 16.1, None, 0), '12,19,16,13': (-2.2, 16.1, None, 0), '12,19,16,10': (-3.3, 16.1, None, 0), '12,19,16,11': (-2.8, 16.1, None, 0), '12,19,16,16': (-3.3, 16.1, None, 0), '12,19,16,17': (-3.3, 16.1, None, 0), '12,19,16,14': (-2.2, 16.1, None, 0), '12,19,16,15': (-2.8, 16.1, None, 0), '09,15,16,09': (18.9, 16.1, None, 0), '09,15,16,08': (17.8, 16.1, None, 0), '09,15,16,01': (19.4, 16.1, None, 0), '09,15,16,00': (19.4, 16.1, None, 0), '09,15,16,03': (17.8, 16.1, None, 0), '09,15,16,02': (18.9, 16.1, None, 0), '09,15,16,05': (16.7, 16.1, None, 0), '09,15,16,04': (17.2, 16.1, None, 0), '09,15,16,07': (16.7, 16.1, None, 0), '09,15,16,06': (16.7, 16.1, None, 0), '04,08,16,22': (21.7, 16.1, None, 0), '04,08,16,23': (21.7, 16.1, None, 0), '04,08,16,20': (22.2, 16.1, None, 0), '04,08,16,21': (22.2, 16.1, None, 0), '07,08,16,09': (24.4, 14.5, None, 0), '07,08,16,08': (23.3, 14.5, None, 0), '11,05,16,23': (17.8, 16.1, None, 0), '07,08,16,01': (24.4, 16.1, None, 0), '07,08,16,00': (25.0, 16.1, None, 0), '07,08,16,03': (22.8, 16.1, None, 0), '07,08,16,02': (23.9, 16.1, None, 0), '07,08,16,05': (22.2, 16.1, None, 0), '07,08,16,04': (22.2, 16.1, None, 0), '07,08,16,07': (22.2, 14.5, None, 0), '07,08,16,06': (21.1, 14.5, None, 0), '12,24,16,18': (7.2, 16.1, None, 0), '12,24,16,19': (7.8, 16.1, None, 0), '12,24,16,16': (7.8, 16.1, None, 0), '12,24,16,17': (6.7, 16.1, None, 0), '12,24,16,14': (7.2, 16.1, None, 0), '12,24,16,15': (7.8, 16.1, None, 0), '12,24,16,12': (5.6, 6.4, 0.0, 0), '12,24,16,13': (6.1, 12.9, 0.3, 0), '12,24,16,10': (4.4, 2.4, 3.6, 0), '12,24,16,11': (4.4, 4.0, 1.3, 0), '08,11,16,20': (15.6, 16.1, None, 0), '08,11,16,21': (15.6, 16.1, None, 0), '08,11,16,22': (14.4, 16.1, None, 0), '08,11,16,23': (14.4, 16.1, None, 0), '08,01,16,23': (5.0, 16.1, None, 0), '08,01,16,22': (5.6, 16.1, None, 0), '08,01,16,21': (5.6, 16.1, None, 0), '08,01,16,20': (6.7, 16.1, None, 0), '12,14,16,08': (2.8, 14.5, None, 0), '10,20,16,18': (19.4, 11.3, None, 0), '10,20,16,19': (19.4, 9.7, None, 0), '10,20,16,14': (21.1, 12.9, None, 0), '10,20,16,15': (20.6, 11.3, None, 0), '10,20,16,16': (20.0, 9.7, None, 0), '10,20,16,17': (20.0, 11.3, None, 0), '10,20,16,10': (20.0, 16.1, None, 0), '10,20,16,11': (20.0, 16.1, None, 0), '10,20,16,12': (20.6, 16.1, None, 0), '10,20,16,13': (20.6, 14.5, None, 0), '12,05,16,20': (16.2, 16.1, None, 0), '12,05,16,21': (15.2, 16.1, None, 0), '12,05,16,22': (15.0, 16.1, None, 0), '12,05,16,23': (14.7, 16.1, None, 0), '01,13,16,21': (-4.4, 16.1, None, 0), '01,13,16,20': (-4.4, 16.1, None, 0), '01,13,16,23': (-5.0, 16.1, None, 0), '01,13,16,22': (-5.0, 16.1, None, 0), '12,02,16,09': (-7.2, 16.1, None, 0), '12,02,16,08': (-8.3, 16.1, None, 0), '06,19,16,19': (21.1, 14.5, None, 0), '06,19,16,18': (22.8, 14.5, None, 0), '06,19,16,17': (22.8, 12.9, None, 0), '06,19,16,16': (25.0, 14.5, None, 0), '06,19,16,15': (26.7, 14.5, None, 0), '06,19,16,14': (27.8, 14.5, None, 0), '06,19,16,13': (28.9, 12.9, None, 0), '06,19,16,12': (30.6, 14.5, None, 0), '06,19,16,11': (28.3, 14.5, None, 0), '06,19,16,10': (26.1, 14.5, None, 0), '09,23,16,15': (30.0, 16.1, None, 0), '09,23,16,14': (30.0, 16.1, None, 0), '09,23,16,17': (27.8, 14.5, None, 0), '09,23,16,16': (29.4, 16.1, None, 0), '09,23,16,11': (26.7, 14.5, None, 0), '09,23,16,10': (25.0, 16.1, None, 0), '09,23,16,13': (30.0, 16.1, None, 0), '09,23,16,12': (28.3, 16.1, None, 0), '09,23,16,19': (25.0, 16.1, None, 0), '09,23,16,18': (26.1, 14.5, None, 0), '01,27,16,06': (6.1, 16.1, None, 0), '01,27,16,07': (5.6, 16.1, None, 0), '01,27,16,04': (6.7, 16.1, 0.0, 0), '01,27,16,05': (6.1, 16.1, None, 0), '01,27,16,02': (7.2, 16.1, None, 0), '01,27,16,03': (7.2, 12.9, 0.0, 0), '01,27,16,00': (7.8, 16.1, None, 0), '01,27,16,01': (7.8, 16.1, None, 0), '01,27,16,08': (5.0, 16.1, None, 0), '01,27,16,09': (4.4, 16.1, None, 0), '10,03,16,00': (19.4, 16.1, None, 0), '10,03,16,01': (19.4, 16.1, None, 0), '09,04,16,21': (5.6, 16.1, None, 0), '09,04,16,20': (5.6, 16.1, None, 0), '10,03,16,08': (19.4, 16.1, None, 0), '10,03,16,09': (21.7, 16.1, None, 0), '02,06,16,22': (17.8, 11.3, None, 0), '02,06,16,23': (18.3, 11.3, None, 0), '02,06,16,20': (18.3, 12.9, None, 0), '02,06,16,21': (17.8, 11.3, None, 0), '12,23,16,20': (6.1, 16.1, None, 0), '12,23,16,21': (6.1, 16.1, None, 0), '12,23,16,22': (6.1, 16.1, None, 0), '12,23,16,23': (5.6, 16.1, None, 0), '10,05,16,08': (12.8, 16.1, None, 0), '12,07,16,14': (26.7, 14.5, None, 0), '12,07,16,13': (26.7, 14.5, None, 0), '10,05,16,09': (13.9, 16.1, None, 0), '12,07,16,12': (27.2, 14.5, None, 0), '08,16,16,01': (27.2, 14.5, None, 0), '08,16,16,00': (27.2, 14.5, None, 0), '08,16,16,03': (26.7, 14.5, None, 0), '08,16,16,02': (27.2, 14.5, None, 0), '08,16,16,05': (26.1, 12.9, None, 0), '08,16,16,04': (26.7, 14.5, None, 0), '08,16,16,07': (26.7, 11.3, None, 0), '08,16,16,06': (25.6, 11.3, None, 0), '08,16,16,09': (28.3, 12.9, None, 0), '08,16,16,08': (27.2, 11.3, None, 0), '12,07,16,10': (25.0, 16.1, None, 0), '08,06,16,19': (16.7, 14.5, None, 0), '08,06,16,18': (16.1, 14.5, None, 0), '08,06,16,11': (18.3, 16.1, None, 0), '08,06,16,10': (18.9, 14.5, None, 0), '08,06,16,13': (11.7, 2.0, 0.5, 0), '08,06,16,12': (14.4, 2.8, 0.3, 0), '08,06,16,15': (12.2, 12.9, 0.5, 0), '08,06,16,14': (11.1, 4.8, 2.8, 0), '08,06,16,17': (15.0, 16.1, None, 0), '08,06,16,16': (12.8, 14.5, 0.3, 0), '08,30,16,18': (25.6, 14.5, None, 0), '06,05,16,09': (9.4, 2.4, 0.3, 0), '06,05,16,08': (8.9, 9.7, 3.0, 0), '06,05,16,03': (9.4, 11.3, 0.5, 0), '06,05,16,02': (10.0, 12.9, 0.0, 0), '06,05,16,01': (11.1, 16.1, None, 0), '06,05,16,00': (11.1, 16.1, None, 0), '06,05,16,07': (8.9, 14.5, 0.8, 0), '06,05,16,06': (8.9, 8.0, 2.0, 0), '06,05,16,05': (8.9, 8.0, 1.0, 0), '06,05,16,04': (8.9, 16.1, 1.8, 0), '05,05,16,02': (8.9, 16.1, None, 0), '05,05,16,03': (8.3, 16.1, None, 0), '05,05,16,00': (9.4, 16.1, None, 0), '05,05,16,01': (8.9, 16.1, None, 0), '05,05,16,06': (8.3, 8.0, None, 0), '01,08,16,12': (22.8, 12.9, None, 0), '05,05,16,04': (8.3, 16.1, None, 0), '05,05,16,05': (8.3, 16.1, None, 0), '10,31,16,23': (7.8, 16.1, None, 0), '10,31,16,22': (8.3, 16.1, None, 0), '05,05,16,08': (8.9, 9.7, None, 0), '01,08,16,13': (25.0, 11.3, None, 0), '08,30,16,12': (26.1, 16.1, None, 0), '08,30,16,13': (26.1, 14.5, None, 0), '08,30,16,10': (25.6, 16.1, None, 0), '08,30,16,11': (26.1, 14.5, None, 0), '01,08,16,18': (23.3, 12.9, None, 0), '01,08,16,19': (23.3, 12.9, None, 0), '08,30,16,14': (28.9, 16.1, None, 0), '08,30,16,15': (28.9, 14.5, None, 0), '09,24,16,16': (20.6, 16.1, None, 0), '09,24,16,17': (20.0, 16.1, None, 0), '09,24,16,14': (21.1, 16.1, None, 0), '09,24,16,15': (21.1, 16.1, None, 0), '09,24,16,12': (20.0, 16.1, None, 0), '09,24,16,13': (21.7, 16.1, None, 0), '09,24,16,10': (16.1, 16.1, None, 0), '09,24,16,11': (18.3, 16.1, None, 0), '09,24,16,18': (18.9, 16.1, None, 0), '09,24,16,19': (17.2, 16.1, None, 0), '10,05,16,06': (10.6, 16.1, None, 0), '09,30,16,08': (14.4, 12.9, None, 0), '09,30,16,09': (15.0, 14.5, 0.0, 0), '09,30,16,06': (14.4, 16.1, None, 0), '09,30,16,07': (14.4, 14.5, None, 0), '09,30,16,04': (14.4, 16.1, None, 0), '09,30,16,05': (14.4, 16.1, None, 0), '09,30,16,02': (13.9, 16.1, None, 0), '09,30,16,03': (14.4, 16.1, None, 0), '09,30,16,00': (14.4, 16.1, None, 0), '09,30,16,01': (14.4, 16.1, None, 0), '10,05,16,07': (11.7, 16.1, None, 0), '08,04,16,22': (6.1, 16.1, None, 0), '08,04,16,23': (5.0, 16.1, None, 0), '08,04,16,20': (6.7, 16.1, None, 0), '08,04,16,21': (6.1, 16.1, None, 0), '04,19,16,20': (17.2, 16.1, None, 0), '04,19,16,21': (16.1, 16.1, None, 0), '04,19,16,22': (15.0, 16.1, None, 0), '04,19,16,23': (13.9, 16.1, None, 0), '01,26,16,18': (7.8, 16.1, None, 0), '01,26,16,19': (8.3, 16.1, None, 0), '01,26,16,10': (6.1, 16.1, None, 0), '01,26,16,11': (5.6, 14.5, None, 0), '01,26,16,12': (6.7, 14.5, None, 0), '01,26,16,13': (7.2, 14.5, None, 0), '01,26,16,14': (8.3, 14.5, None, 0), '01,26,16,15': (8.9, 16.1, None, 0), '01,26,16,16': (8.3, 16.1, None, 0), '01,26,16,17': (8.3, 16.1, None, 0), '02,18,16,12': (0.0, 16.1, None, 0), '02,18,16,13': (1.7, 16.1, None, 0), '02,18,16,10': (-1.1, 16.1, None, 0), '02,18,16,11': (0.0, 16.1, None, 0), '02,18,16,16': (1.7, 16.1, None, 0), '02,18,16,17': (0.6, 16.1, None, 0), '02,18,16,14': (1.7, 16.1, None, 0), '02,18,16,15': (1.7, 16.1, None, 0), '03,14,16,15': (4.4, 8.0, 0.3, 0), '03,14,16,14': (5.0, 6.4, 0.3, 0), '02,18,16,18': (0.0, 16.1, None, 0), '02,18,16,19': (-0.6, 16.1, None, 0), '03,14,16,11': (6.1, 11.3, 0.0, 0), '03,14,16,10': (6.7, 16.1, 0.3, 0), '03,14,16,13': (5.6, 4.8, 1.0, 0), '03,14,16,12': (6.1, 9.7, 0.0, 0), '02,11,16,19': (19.4, 16.1, None, 0), '02,11,16,18': (20.0, 16.1, None, 0), '02,11,16,13': (19.4, 14.5, None, 0), '02,11,16,12': (18.3, 14.5, None, 0), '02,11,16,11': (16.7, 14.5, None, 0), '02,11,16,10': (15.0, 14.5, None, 0), '02,11,16,17': (20.0, 16.1, None, 0), '02,11,16,16': (20.6, 14.5, None, 0), '02,11,16,15': (20.6, 14.5, None, 0), '02,11,16,14': (20.0, 14.5, None, 0), '02,01,16,21': (2.2, 16.1, None, 0), '02,01,16,20': (1.7, 16.1, None, 0), '02,01,16,23': (2.2, 16.1, None, 0), '02,01,16,22': (1.7, 16.1, None, 0), '11,27,16,18': (7.2, 16.1, None, 0), '11,27,16,19': (7.2, 16.1, None, 0), '03,10,16,06': (16.1, 8.0, None, 0), '03,10,16,07': (16.1, 9.7, None, 0), '03,10,16,04': (16.1, 8.0, None, 0), '03,10,16,05': (16.1, 8.0, None, 0), '06,26,16,19': (23.9, 14.5, None, 0), '06,26,16,18': (24.4, 14.5, None, 0), '12,29,16,08': (5.0, 11.3, 0.0, 0), '06,26,16,15': (27.8, 14.5, None, 0), '06,26,16,14': (28.3, 14.5, None, 0), '06,26,16,17': (26.1, 14.5, None, 0), '06,26,16,16': (26.7, 14.5, None, 0), '06,26,16,11': (28.3, 12.9, None, 0), '06,26,16,10': (26.7, 14.5, None, 0), '06,26,16,13': (29.4, 12.9, None, 0), '03,10,16,03': (16.1, 6.4, None, 0), '04,29,16,14': (13.9, 16.1, None, 0), '04,29,16,15': (12.8, 16.1, None, 0), '04,29,16,16': (12.2, 16.1, None, 0), '04,29,16,17': (11.1, 16.1, None, 0), '04,29,16,10': (12.2, 16.1, None, 0), '03,22,16,14': (12.2, 16.1, None, 0), '04,29,16,12': (13.9, 16.1, None, 0), '04,29,16,13': (13.3, 16.1, None, 0), '03,10,16,01': (16.7, 9.7, None, 0), '04,29,16,18': (11.1, 16.1, None, 0), '04,29,16,19': (8.3, 16.1, 0.3, 0), '12,29,16,09': (5.6, 6.4, 1.3, 0), '12,04,16,21': (8.3, 16.1, None, 0), '12,04,16,20': (9.0, 16.1, None, 0), '12,04,16,23': (7.8, 16.1, None, 0), '12,04,16,22': (7.8, 16.1, None, 0), '12,10,16,13': (17.8, 16.1, None, 0), '12,10,16,12': (17.8, 16.1, None, 0), '12,10,16,11': (17.2, 16.1, None, 0), '12,10,16,10': (16.1, 16.1, None, 0), '12,10,16,17': (16.1, 16.1, None, 0), '12,10,16,16': (17.2, 16.1, None, 0), '12,10,16,15': (17.8, 16.1, None, 0), '11,11,16,20': (6.7, 16.1, 0.0, 0), '12,10,16,19': (15.0, 16.1, None, 0), '12,10,16,18': (15.0, 16.1, None, 0), '12,21,16,19': (4.4, 16.1, None, 0), '12,21,16,18': (4.4, 16.1, None, 0), '12,21,16,13': (3.9, 16.1, None, 0), '12,21,16,12': (3.3, 16.1, None, 0), '12,21,16,11': (2.8, 16.1, None, 0), '12,21,16,10': (2.2, 16.1, None, 0), '12,21,16,17': (3.9, 16.1, None, 0), '12,21,16,16': (4.4, 16.1, None, 0), '12,21,16,15': (4.4, 16.1, None, 0), '12,21,16,14': (4.4, 16.1, None, 0), '12,12,16,15': (7.2, 16.1, None, 0), '12,12,16,14': (7.2, 16.1, None, 0), '12,12,16,17': (6.7, 16.1, None, 0), '12,12,16,16': (6.7, 16.1, None, 0), '12,12,16,11': (5.6, 12.9, None, 0), '12,12,16,10': (5.6, 9.7, None, 0), '12,12,16,13': (7.2, 16.1, None, 0), '12,12,16,12': (6.7, 12.9, None, 0), '12,12,16,19': (5.6, 16.1, None, 0), '12,12,16,18': (5.6, 16.1, None, 0), '08,08,16,22': (23.9, 16.1, None, 0), '08,08,16,23': (24.4, 16.1, None, 0), '08,08,16,20': (24.4, 16.1, None, 0), '08,08,16,21': (23.9, 16.1, None, 0), '12,26,16,17': (8.3, 16.1, None, 0), '08,17,16,17': (27.8, 14.5, None, 0), '08,17,16,16': (27.8, 14.5, None, 0), '08,17,16,15': (29.4, 14.5, None, 0), '08,17,16,14': (29.4, 16.1, None, 0), '08,17,16,13': (29.4, 16.1, None, 0), '08,17,16,12': (27.8, 14.5, None, 0), '08,17,16,11': (27.8, 14.5, None, 0), '08,17,16,10': (26.7, 16.1, None, 0), '08,17,16,19': (27.2, 16.1, None, 0), '08,17,16,18': (28.3, 14.5, None, 0), '04,26,16,04': (10.6, 11.3, 2.5, 0), '04,26,16,05': (11.1, 9.7, None, 0), '04,26,16,06': (11.1, 8.0, None, 0), '04,26,16,07': (11.7, 8.0, None, 0), '04,26,16,00': (13.3, 16.1, None, 0), '04,26,16,01': (12.8, 16.1, None, 0), '04,26,16,02': (12.8, 16.1, None, 0), '04,26,16,03': (11.1, 3.2, 0.8, 0), '02,13,16,20': (-14.4, 16.1, None, 0), '02,13,16,21': (-14.4, 16.1, None, 0), '02,13,16,22': (-14.4, 16.1, None, 0), '02,13,16,23': (-14.4, 16.1, None, 0), '04,26,16,08': (11.7, 8.0, None, 0), '04,26,16,09': (13.3, 6.4, None, 0), '12,30,16,02': (2.2, 16.1, None, 0), '12,30,16,03': (2.2, 16.1, None, 0), '11,12,16,07': (-1.7, 16.1, None, 0), '11,12,16,06': (-1.7, 16.1, None, 0), '11,11,16,21': (6.1, 16.1, None, 0), '01,28,16,05': (1.1, 16.1, None, 0), '10,23,16,10': (12.2, 16.1, None, 0), '01,28,16,04': (0.6, 16.1, None, 0), '11,12,16,03': (-2.2, 16.1, None, 0), '01,28,16,07': (0.6, 16.1, None, 0), '11,12,16,02': (-1.7, 16.1, None, 0), '01,28,16,06': (1.1, 16.1, None, 0), '11,03,16,23': (8.9, 16.1, None, 0), '11,03,16,22': (10.0, 16.1, None, 0), '05,26,16,09': (25.6, 11.3, None, 0), '05,26,16,08': (24.4, 12.9, None, 0), '05,26,16,07': (23.3, 12.9, None, 0), '05,26,16,06': (21.7, 12.9, None, 0), '05,26,16,05': (21.1, 12.9, None, 0), '05,26,16,04': (22.2, 14.5, None, 0), '05,26,16,03': (22.8, 16.1, None, 0), '05,26,16,02': (22.8, 14.5, None, 0), '05,26,16,01': (23.3, 14.5, None, 0), '05,26,16,00': (23.9, 14.5, None, 0), '01,28,16,03': (0.6, 16.1, None, 0), '01,28,16,02': (0.6, 16.1, None, 0), '11,12,16,05': (-2.2, 16.1, None, 0), '09,25,16,04': (12.8, 16.1, None, 0), '09,25,16,05': (13.3, 16.1, None, 0), '09,25,16,06': (12.2, 16.1, None, 0), '09,25,16,07': (12.2, 16.1, None, 0), '09,25,16,00': (15.6, 16.1, None, 0), '09,25,16,01': (14.4, 16.1, None, 0), '09,25,16,02': (13.9, 16.1, None, 0), '09,25,16,03': (13.3, 16.1, None, 0), '11,12,16,08': (-1.1, 16.1, None, 0), '09,25,16,08': (13.9, 16.1, None, 0), '09,25,16,09': (15.0, 16.1, None, 0), '11,12,16,04': (-2.2, 16.1, None, 0), '05,04,16,07': (-2.8, 16.1, None, 0), '05,04,16,06': (-3.3, 16.1, None, 0), '05,04,16,05': (-2.8, 16.1, None, 0), '05,04,16,04': (-2.8, 16.1, None, 0), '05,04,16,03': (-2.2, 16.1, None, 0), '05,04,16,02': (-2.2, 16.1, None, 0), '05,04,16,01': (-1.7, 16.1, None, 0), '05,04,16,00': (-1.1, 16.1, None, 0), '05,04,16,09': (-1.1, 16.1, None, 0), '05,04,16,08': (-2.2, 16.1, None, 0), '08,11,16,08': (8.9, 16.1, None, 0), '08,11,16,09': (10.6, 16.1, None, 0), '08,11,16,02': (6.7, 16.1, None, 0), '08,11,16,03': (6.1, 16.1, None, 0), '08,11,16,00': (8.3, 16.1, None, 0), '08,11,16,01': (6.7, 16.1, None, 0), '08,11,16,06': (5.6, 16.1, None, 0), '08,11,16,07': (6.7, 16.1, None, 0), '08,11,16,04': (6.1, 16.1, None, 0), '08,11,16,05': (5.6, 16.1, None, 0), '08,01,16,09': (4.0, None, None, 0), '08,01,16,05': (2.0, None, None, 0), '08,01,16,04': (2.0, None, None, 0), '08,01,16,07': (3.0, None, None, 0), '08,01,16,06': (2.0, None, None, 0), '08,01,16,01': (3.0, None, None, 0), '08,01,16,00': (3.0, None, None, 0), '08,01,16,03': (2.0, None, None, 0), '08,01,16,02': (3.0, None, None, 0), '12,05,16,08': (18.3, 16.1, None, 0), '12,05,16,09': (19.4, 16.1, None, 0), '12,05,16,06': (14.4, 16.1, None, 0), '12,05,16,07': (17.2, 16.1, None, 0), '12,05,16,04': (15.0, 16.1, None, 0), '12,05,16,05': (13.9, 16.1, None, 0), '12,05,16,02': (16.7, 16.1, None, 0), '12,05,16,03': (15.0, 16.1, None, 0), '12,05,16,00': (17.2, 16.1, None, 0), '12,05,16,01': (16.1, 16.1, None, 0), '11,12,16,01': (-1.7, 16.1, None, 0), '08,02,16,19': (-1.1, 16.1, None, 0), '08,02,16,18': (-0.6, 12.9, None, 0), '08,09,16,23': (29.4, 14.5, None, 0), '08,09,16,22': (29.4, 14.5, None, 0), '08,09,16,21': (27.2, 12.9, None, 0), '08,09,16,20': (27.2, 12.9, None, 0), '11,12,16,00': (-1.7, None, None, 0), '10,21,16,15': (20.6, 14.5, None, 0), '10,21,16,14': (20.0, 14.5, 1.3, 0), '10,21,16,16': (20.0, 11.3, None, 0), '04,05,16,12': (10.0, 16.1, None, 0), '04,05,16,13': (10.0, 12.9, None, 0), '10,21,16,19': (18.9, 8.0, None, 0), '03,01,16,19': (3.9, 16.1, None, 0), '10,21,16,18': (19.4, 12.9, None, 0), '04,05,16,11': (10.0, 14.5, None, 0), '05,11,16,18': (15.0, 16.1, None, 0), '05,11,16,19': (14.4, 16.1, None, 0), '05,11,16,16': (16.1, 16.1, None, 0), '05,11,16,17': (15.6, 16.1, None, 0), '05,11,16,14': (15.6, 16.1, None, 0), '05,11,16,15': (16.1, 16.1, None, 0), '05,11,16,12': (14.4, 16.1, None, 0), '05,11,16,13': (15.6, 16.1, None, 0), '05,11,16,10': (10.6, 16.1, None, 0), '05,11,16,11': (12.8, 16.1, None, 0), '10,27,16,17': (8.9, 6.4, 0.3, 0), '10,27,16,16': (7.8, 4.8, 0.5, 0), '10,27,16,15': (6.7, 8.0, 0.3, 0), '10,27,16,14': (6.1, 11.3, 0.5, 0), '10,27,16,13': (6.1, 6.4, 0.3, 0), '10,27,16,12': (5.6, 16.1, 0.3, 0), '10,27,16,11': (5.0, 11.3, 1.3, 0), '10,27,16,10': (5.0, 8.0, 0.5, 0), '10,27,16,19': (11.7, 2.8, 8.6, 0), '10,27,16,18': (10.0, 2.0, 6.6, 0), '08,18,16,21': (26.1, 14.5, None, 0), '09,12,16,19': (0.0, 16.1, None, 0), '09,12,16,18': (0.6, 16.1, None, 0), '08,18,16,20': (27.2, 16.1, None, 0), '09,12,16,15': (2.8, 16.1, None, 0), '09,12,16,14': (3.9, 16.1, None, 0), '09,12,16,17': (1.7, 16.1, None, 0), '09,12,16,16': (2.2, 16.1, None, 0), '09,12,16,11': (4.0, None, None, 0), '08,18,16,23': (25.6, 16.1, None, 0), '09,12,16,13': (4.0, None, None, 0), '09,12,16,12': (5.0, None, None, 0), '08,18,16,22': (26.1, 16.1, None, 0), '03,01,16,17': (5.0, 16.1, None, 0), '03,01,16,16': (5.0, 16.1, None, 0), '09,29,16,08': (15.6, 14.5, None, 0), '09,29,16,09': (15.6, 14.5, None, 0), '06,14,16,23': (21.1, 16.1, None, 0), '06,14,16,22': (21.7, 16.1, None, 0), '06,14,16,21': (23.3, 16.1, None, 0), '06,14,16,20': (23.9, 16.1, None, 0), '09,29,16,04': (16.1, 16.1, None, 0), '09,29,16,05': (16.1, 16.1, None, 0), '09,29,16,06': (15.6, 16.1, None, 0), '09,29,16,07': (15.6, 14.5, None, 0), '12,23,16,02': (5.0, 16.1, None, 0), '12,23,16,03': (4.4, 16.1, None, 0), '12,23,16,00': (5.0, 16.1, None, 0), '12,23,16,01': (5.0, 16.1, None, 0), '12,23,16,06': (3.9, 16.1, None, 0), '12,23,16,07': (3.9, 16.1, None, 0), '12,23,16,04': (3.9, 16.1, None, 0), '12,23,16,05': (3.9, 16.1, None, 0), '12,23,16,08': (4.4, 16.1, None, 0), '12,23,16,09': (5.0, 16.1, None, 0), '11,29,16,18': (15.6, 6.4, 2.0, 0), '11,29,16,19': (15.6, 6.4, 0.8, 0), '11,29,16,12': (13.9, 1.6, 0.8, 0), '11,29,16,13': (13.9, 2.4, 6.3, 0), '11,29,16,10': (13.3, 2.0, 3.6, 0), '11,29,16,11': (13.3, 2.0, 7.1, 0), '11,29,16,16': (15.0, 3.2, 0.3, 0), '11,29,16,17': (15.0, 3.2, 5.3, 0), '11,29,16,14': (13.9, 2.0, 0.8, 0), '11,29,16,15': (14.4, 1.2, 10.2, 0), '03,24,16,10': (9.4, 16.1, None, 0), '03,24,16,11': (9.4, 16.1, None, 0), '03,24,16,12': (10.6, 16.1, None, 0), '03,24,16,13': (11.7, 16.1, None, 0), '03,24,16,14': (11.7, 16.1, None, 0), '03,24,16,15': (10.6, 16.1, None, 0), '03,24,16,16': (10.0, 16.1, None, 0), '03,24,16,17': (9.4, 14.5, None, 0), '03,24,16,18': (8.3, 11.3, None, 0), '03,24,16,19': (7.8, 11.3, None, 0), '06,11,16,17': (10.0, 16.1, None, 0), '06,11,16,16': (10.6, 16.1, None, 0), '06,11,16,15': (11.1, 16.1, None, 0), '06,11,16,14': (12.2, 16.1, None, 0), '06,11,16,13': (13.9, 16.1, None, 0), '06,11,16,12': (13.9, 16.1, None, 0), '06,11,16,11': (13.9, 16.1, None, 0), '06,11,16,10': (13.3, 16.1, None, 0), '06,05,16,21': (10.0, 11.3, None, 0), '06,05,16,20': (10.0, 8.0, None, 0), '06,05,16,23': (10.0, 12.9, None, 0), '06,05,16,22': (10.0, 11.3, None, 0), '10,31,16,09': (7.8, 16.1, None, 0), '10,31,16,08': (6.7, 16.1, None, 0), '10,31,16,05': (7.8, 16.1, None, 0), '10,31,16,04': (8.3, 16.1, None, 0), '10,31,16,07': (6.7, 16.1, None, 0), '10,31,16,06': (7.2, 16.1, None, 0), '10,31,16,01': (11.1, 16.1, None, 0), '10,31,16,00': (12.2, 16.1, None, 0), '10,31,16,03': (8.9, 16.1, None, 0), '10,31,16,02': (10.0, 16.1, None, 0), '08,20,16,11': (27.2, 12.9, None, 0), '08,20,16,10': (28.3, 12.9, None, 0), '08,20,16,13': (22.8, 6.4, 0.0, 0), '08,20,16,12': (22.2, 1.6, 0.3, 0), '08,20,16,15': (26.1, 14.5, None, 0), '08,20,16,14': (23.9, 11.3, 0.0, 0), '08,20,16,17': (26.1, 14.5, None, 0), '08,20,16,16': (26.7, 14.5, None, 0), '08,20,16,19': (25.0, 16.1, None, 0), '08,20,16,18': (25.6, 14.5, None, 0), '12,11,16,12': (8.3, 16.1, None, 0), '11,13,16,20': (12.2, 16.1, None, 0), '12,11,16,13': (9.4, 16.1, None, 0), '12,11,16,10': (6.1, 16.1, None, 0), '12,11,16,11': (7.2, 16.1, None, 0), '12,11,16,16': (9.4, 16.1, None, 0), '12,11,16,17': (9.4, 16.1, None, 0), '11,13,16,21': (11.1, 16.1, None, 0), '12,11,16,14': (9.4, 16.1, None, 0), '12,11,16,15': (10.0, 16.1, None, 0), '09,21,16,09': (23.3, 16.1, None, 0), '09,20,16,23': (22.8, 14.5, None, 0), '09,20,16,22': (23.3, 14.5, None, 0), '09,20,16,21': (23.3, 12.9, None, 0), '09,20,16,20': (23.3, 12.9, None, 0), '03,17,16,23': (11.7, 16.1, None, 0), '03,17,16,22': (11.7, 16.1, None, 0), '03,17,16,21': (11.7, 16.1, None, 0), '03,17,16,20': (12.2, 16.1, None, 0), '01,09,16,19': (22.2, 9.7, None, 0), '01,09,16,18': (22.2, 6.4, None, 0), '01,09,16,15': (21.7, 4.8, 0.0, 0), '01,09,16,14': (21.1, 2.0, 9.9, 0), '01,09,16,17': (22.2, 6.4, None, 0), '01,09,16,16': (22.2, 6.4, None, 0), '01,09,16,11': (22.8, 11.3, None, 0), '01,09,16,10': (22.2, 8.0, 0.0, 0), '01,09,16,13': (25.6, 12.9, None, 0), '01,09,16,12': (25.0, 12.9, None, 0), '04,19,16,06': (17.8, 16.1, None, 0), '04,19,16,07': (18.3, 16.1, None, 0), '04,19,16,04': (17.2, 16.1, None, 0), '04,19,16,05': (18.3, 16.1, None, 0), '04,19,16,02': (16.7, 16.1, None, 0), '04,19,16,03': (16.1, 16.1, None, 0), '04,19,16,00': (17.8, 16.1, None, 0), '04,19,16,01': (17.8, 16.1, None, 0), '04,19,16,08': (18.9, 16.1, None, 0), '02,20,16,22': (12.2, 16.1, None, 0), '02,20,16,23': (12.2, 16.1, None, 0), '02,20,16,20': (12.8, 16.1, None, 0), '02,20,16,21': (12.2, 16.1, None, 0), '05,02,16,23': (0.0, 16.1, None, 0), '05,02,16,22': (0.6, 16.1, None, 0), '05,02,16,21': (0.6, 16.1, None, 0), '05,02,16,20': (1.1, 16.1, None, 0), '10,12,16,00': (-1.1, 16.1, None, 0), '10,12,16,01': (-1.1, 16.1, None, 0), '10,30,16,13': (23.9, 12.9, None, 0), '10,30,16,12': (23.3, 12.9, None, 0), '10,30,16,11': (22.2, 12.9, None, 0), '10,30,16,10': (20.6, 12.9, None, 0), '10,30,16,17': (16.1, 11.3, 0.0, 0), '10,12,16,02': (-1.1, 16.1, None, 0), '10,30,16,15': (23.3, 14.5, None, 0), '10,30,16,14': (23.9, 14.5, None, 0), '10,30,16,19': (14.4, 9.7, 1.5, 0), '10,12,16,03': (-1.7, 16.1, None, 0), '08,15,16,20': (28.3, 14.5, None, 0), '08,15,16,21': (27.2, 14.5, None, 0), '08,15,16,22': (27.2, 14.5, None, 0), '08,15,16,23': (27.2, 14.5, None, 0), '10,05,16,22': (13.9, 16.1, None, 0), '10,05,16,23': (13.3, 16.1, None, 0), '10,05,16,20': (14.4, 16.1, None, 0), '10,05,16,21': (13.9, 16.1, None, 0), '10,19,16,14': (28.9, 16.1, None, 0), '10,19,16,15': (27.8, 16.1, None, 0), '06,25,16,23': (20.0, 16.1, None, 0), '06,25,16,22': (20.6, 16.1, None, 0), '06,25,16,21': (21.7, 16.1, None, 0), '06,25,16,20': (22.2, 16.1, None, 0), '10,19,16,16': (27.8, 16.1, None, 0), '09,28,16,09': (18.3, 12.9, None, 0), '10,19,16,17': (26.1, 16.1, None, 0), '11,17,16,04': (10.0, 16.1, None, 0), '09,28,16,08': (18.3, 9.7, None, 0), '10,06,16,08': (16.7, 16.1, None, 0), '01,11,16,23': (13.3, 16.1, None, 0), '01,11,16,22': (12.8, 16.1, None, 0), '01,11,16,21': (12.2, 16.1, None, 0), '01,11,16,20': (12.8, 16.1, None, 0), '10,06,16,03': (15.0, 16.1, None, 0), '10,06,16,02': (16.1, 16.1, None, 0), '10,06,16,01': (16.1, 16.1, None, 0), '10,06,16,00': (16.7, 16.1, None, 0), '11,17,16,08': (11.7, 12.9, None, 0), '10,06,16,04': (14.4, 16.1, None, 0), '09,10,16,08': (12.2, 12.9, 0.5, 0), '09,10,16,09': (12.2, 12.9, 0.8, 0), '05,30,16,19': (24.4, 12.9, None, 0), '05,30,16,18': (24.4, 14.5, None, 0), '05,30,16,15': (25.0, 14.5, None, 0), '05,30,16,14': (26.1, 16.1, None, 0), '05,30,16,17': (24.4, 14.5, None, 0), '05,30,16,16': (25.0, 14.5, None, 0), '05,30,16,11': (24.4, 16.1, None, 0), '05,30,16,10': (22.2, 11.3, None, 0), '05,30,16,13': (26.1, 14.5, None, 0), '05,30,16,12': (25.6, 16.1, None, 0), '05,13,16,03': (14.4, None, None, 0), '05,13,16,02': (14.4, None, None, 0), '05,13,16,00': (14.4, None, None, 0), '05,13,16,07': (17.1, None, None, 0), '05,13,16,06': (15.6, None, None, 0), '04,21,16,12': (20.6, 16.1, None, 0), '05,13,16,04': (14.4, None, None, 0), '08,07,16,03': (25.6, 12.9, None, 0), '03,23,16,01': (10.0, 16.1, None, 0), '03,23,16,02': (9.4, 16.1, None, 0), '09,27,16,19': (19.4, 16.1, None, 0), '09,27,16,18': (20.6, 16.1, None, 0), '08,07,16,00': (25.6, 12.9, None, 0), '09,27,16,11': (20.6, 16.1, None, 0), '03,23,16,04': (10.0, 16.1, None, 0), '09,27,16,13': (22.2, 16.1, None, 0), '09,27,16,12': (21.7, 16.1, None, 0), '09,27,16,15': (22.2, 16.1, None, 0), '09,27,16,14': (23.3, 16.1, None, 0), '09,27,16,17': (21.7, 16.1, None, 0), '08,07,16,06': (25.6, 11.3, None, 0), '08,07,16,05': (24.4, 11.3, None, 0), '03,23,16,07': (10.6, 16.1, None, 0), '10,25,16,08': (7.8, 16.1, None, 0), '10,25,16,09': (8.9, 16.1, None, 0), '10,25,16,06': (7.8, 16.1, None, 0), '10,25,16,07': (7.8, 16.1, None, 0), '10,25,16,04': (8.3, 16.1, None, 0), '10,25,16,05': (8.3, 16.1, None, 0), '10,25,16,02': (8.9, 16.1, None, 0), '10,25,16,03': (8.3, 16.1, None, 0), '10,25,16,00': (8.9, 16.1, None, 0), '10,25,16,01': (8.9, 16.1, None, 0), '02,13,16,02': (-6.1, 16.1, None, 0), '02,13,16,03': (-6.1, 16.1, None, 0), '02,13,16,00': (-5.6, 16.1, None, 0), '02,13,16,01': (-6.1, 16.1, None, 0), '02,13,16,06': (-6.1, 16.1, None, 0), '02,13,16,07': (-6.1, 16.1, None, 0), '02,13,16,04': (-6.1, 16.1, None, 0), '02,13,16,05': (-6.1, 16.1, None, 0), '02,13,16,08': (-6.1, 16.1, None, 0), '02,13,16,09': (-6.1, 16.1, None, 0), '11,07,16,19': (25.0, 16.1, None, 0), '05,26,16,21': (24.4, 16.1, None, 0), '05,26,16,20': (25.6, 16.1, None, 0), '05,26,16,23': (24.4, 14.5, None, 0), '05,26,16,22': (24.4, 14.5, None, 0), '02,09,16,10': (22.8, 16.1, None, 0), '02,09,16,11': (25.0, 16.1, None, 0), '02,09,16,12': (26.1, 16.1, None, 0), '02,09,16,13': (26.7, 16.1, None, 0), '02,09,16,14': (26.7, 16.1, None, 0), '02,09,16,15': (26.1, 16.1, None, 0), '02,09,16,16': (26.1, 16.1, None, 0), '02,22,16,12': (9.4, 16.1, None, 0), '02,09,16,18': (25.0, 16.1, None, 0), '02,09,16,19': (24.4, 16.1, None, 0), '03,03,16,22': (1.1, 16.1, None, 0), '03,03,16,23': (1.7, 16.1, None, 0), '02,22,16,19': (6.7, 16.1, None, 0), '02,22,16,18': (6.7, 16.1, None, 0), '09,25,16,22': (16.1, 16.1, None, 0), '09,25,16,23': (15.6, 16.1, None, 0), '09,25,16,20': (17.2, 16.1, None, 0), '09,25,16,21': (16.7, 16.1, None, 0), '04,18,16,18': (21.7, 16.1, None, 0), '04,18,16,19': (18.9, 16.1, None, 0), '04,18,16,10': (22.2, 16.1, None, 0), '04,18,16,11': (23.3, 16.1, None, 0), '04,18,16,12': (25.6, 16.1, None, 0), '04,18,16,13': (25.6, 16.1, None, 0), '04,18,16,14': (27.2, 16.1, None, 0), '04,18,16,15': (27.2, 16.1, None, 0), '04,18,16,16': (25.0, 16.1, None, 0), '04,18,16,17': (23.9, 16.1, None, 0), '02,16,16,18': (8.9, 16.1, None, 0), '02,16,16,19': (7.8, 16.1, None, 0), '10,16,16,19': (18.3, 16.1, None, 0), '10,16,16,18': (18.3, 16.1, None, 0), '12,14,16,00': (4.4, 16.1, None, 0), '12,14,16,01': (4.4, 14.5, None, 0), '12,14,16,02': (4.4, 14.5, None, 0), '12,14,16,03': (3.9, 14.5, None, 0), '02,16,16,10': (11.7, 9.7, 0.3, 0), '05,04,16,20': (3.3, 16.1, None, 0), '02,16,16,12': (11.1, 4.8, 0.3, 0), '02,16,16,13': (11.7, 2.4, 4.6, 0), '02,16,16,14': (11.1, 3.2, 0.3, 0), '02,16,16,15': (11.7, 16.1, 1.5, 0), '02,16,16,16': (11.7, 16.1, 0.3, 0), '02,16,16,17': (10.6, 16.1, None, 0), '11,03,16,09': (13.3, 16.1, None, 0), '11,03,16,08': (14.4, 16.1, None, 0), '11,03,16,01': (17.8, 16.1, None, 0), '11,03,16,00': (19.4, 16.1, 0.0, 0), '11,03,16,03': (13.3, 12.9, 1.5, 0), '11,03,16,02': (14.4, 16.1, 0.0, 0), '11,03,16,05': (13.3, 16.1, 0.0, 0), '11,03,16,04': (13.3, 16.1, 0.0, 0), '11,03,16,07': (14.4, 16.1, None, 0), '11,03,16,06': (13.9, 16.1, None, 0), '09,13,16,13': (27.8, 16.1, None, 0), '08,30,16,19': (24.4, 16.1, None, 0), '12,22,16,14': (9.4, 16.1, None, 0), '08,09,16,05': (22.2, 12.9, None, 0), '08,09,16,04': (22.2, 14.5, None, 0), '08,09,16,07': (23.3, 12.9, None, 0), '08,09,16,06': (21.7, 11.3, None, 0), '08,09,16,01': (22.8, 12.9, None, 0), '08,09,16,00': (22.8, 12.9, None, 0), '08,09,16,03': (22.2, 12.9, None, 0), '08,09,16,02': (22.2, 12.9, None, 0), '12,22,16,15': (8.3, 16.1, None, 0), '08,09,16,09': (25.0, 11.3, None, 0), '08,09,16,08': (24.4, 12.9, None, 0), '12,22,16,16': (6.7, 16.1, None, 0), '12,01,16,20': (2.8, 16.1, None, 0), '12,01,16,21': (0.6, 16.1, 0.0, 0), '12,01,16,22': (0.0, 16.1, None, 0), '12,01,16,23': (-1.1, 16.1, None, 0), '07,21,16,11': (30.0, 14.5, None, 0), '07,21,16,10': (27.8, 12.9, None, 0), '07,21,16,13': (31.1, 12.9, None, 0), '07,21,16,12': (31.7, 12.9, None, 0), '07,21,16,15': (29.4, 12.9, None, 0), '07,21,16,14': (30.0, 12.9, None, 0), '07,21,16,17': (28.3, 12.9, None, 0), '07,21,16,16': (28.9, 12.9, None, 0), '07,21,16,19': (27.2, 12.9, None, 0), '07,21,16,18': (27.8, 12.9, None, 0), '09,29,16,22': (15.6, 16.1, None, 0), '09,29,16,23': (15.6, 16.1, None, 0), '09,29,16,20': (16.7, 16.1, None, 0), '09,29,16,21': (16.1, 16.1, None, 0), '06,14,16,09': (17.8, 16.1, None, 0), '06,14,16,08': (16.7, 16.1, None, 0), '06,14,16,05': (15.0, 16.1, None, 0), '06,14,16,04': (15.6, 16.1, None, 0), '06,14,16,07': (15.6, 16.1, None, 0), '06,14,16,06': (15.0, 16.1, None, 0), '06,14,16,01': (17.8, 16.1, None, 0), '06,14,16,00': (17.8, 16.1, None, 0), '06,14,16,03': (16.1, 16.1, None, 0), '06,14,16,02': (16.7, 16.1, None, 0), '09,06,16,18': (21.1, 16.1, None, 0), '09,06,16,19': (20.6, 16.1, None, 0), '09,06,16,16': (21.7, 14.5, None, 0), '09,06,16,17': (21.7, 16.1, None, 0), '09,06,16,14': (20.6, 14.5, None, 0), '09,06,16,15': (21.1, 14.5, None, 0), '09,06,16,12': (19.4, 14.5, None, 0), '09,06,16,13': (19.4, 14.5, None, 0), '09,06,16,10': (16.7, 14.5, None, 0), '08,24,16,11': (28.3, 14.5, None, 0), '08,30,16,17': (27.2, 14.5, None, 0), '01,17,16,03': (3.9, 16.1, None, 0), '01,17,16,02': (5.0, 16.1, None, 0), '01,17,16,01': (5.0, 16.1, None, 0), '01,17,16,00': (5.6, 16.1, None, 0), '01,17,16,07': (1.7, 16.1, None, 0), '01,17,16,06': (1.7, 16.1, None, 0), '01,17,16,05': (2.2, 16.1, None, 0), '01,17,16,04': (2.8, 16.1, None, 0), '01,17,16,09': (1.7, 16.1, None, 0), '01,17,16,08': (1.7, 16.1, None, 0), '09,08,16,09': (26.7, 14.5, None, 0), '09,08,16,08': (25.6, 14.5, None, 0), '09,08,16,07': (23.3, 12.9, None, 0), '09,08,16,06': (22.8, 12.9, None, 0), '09,08,16,05': (21.7, 16.1, None, 0), '09,08,16,04': (22.8, 16.1, None, 0), '09,08,16,03': (22.8, 16.1, None, 0), '09,08,16,02': (23.3, 16.1, None, 0), '09,08,16,01': (23.9, 16.1, None, 0), '09,08,16,00': (23.9, 16.1, None, 0), '09,20,16,09': (22.2, 14.5, None, 0), '09,20,16,08': (20.6, 11.3, None, 0), '09,20,16,05': (20.0, 14.5, None, 0), '09,20,16,04': (20.6, 14.5, None, 0), '09,20,16,07': (21.1, 11.3, None, 0), '09,20,16,06': (20.6, 12.9, None, 0), '09,20,16,01': (20.6, 9.7, None, 0), '09,20,16,00': (20.6, 11.3, None, 0), '09,20,16,03': (20.0, 14.5, None, 0), '09,20,16,02': (20.6, 14.5, None, 0), '03,17,16,05': (8.3, 16.1, None, 0), '03,17,16,04': (7.8, 16.1, None, 0), '03,17,16,07': (8.9, 12.9, None, 0), '03,17,16,06': (8.9, 16.1, None, 0), '03,17,16,01': (8.9, 16.1, None, 0), '03,17,16,00': (9.4, 16.1, None, 0), '03,17,16,03': (7.8, 16.1, None, 0), '03,17,16,02': (8.3, 16.1, None, 0), '12,08,16,13': (33.9, 12.9, None, 0), '03,17,16,09': (10.6, 12.9, None, 0), '03,17,16,08': (10.0, 14.5, None, 0), '09,28,16,23': (13.9, 9.7, None, 0), '09,28,16,22': (13.9, 6.4, None, 0), '09,28,16,21': (14.4, 4.8, None, 0), '09,28,16,20': (16.1, 11.3, None, 0), '12,08,16,18': (31.7, 12.9, None, 0), '12,08,16,19': (26.1, 14.5, 0.0, 0), '05,02,16,09': (-0.6, 1.2, 0.3, 0), '05,02,16,08': (-0.6, 0.4, 1.0, 1), '05,02,16,01': (4.4, 16.1, 0.0, 0), '05,02,16,00': (5.0, 16.1, 0.3, 0), '05,02,16,03': (1.1, 3.2, 0.0, 0), '05,02,16,02': (2.8, 6.4, 0.5, 0), '05,02,16,05': (0.6, 0.8, 3.0, 1), '05,02,16,04': (0.6, 2.0, 2.0, 0), '05,02,16,07': (0.0, 1.2, 2.3, 0), '05,02,16,06': (0.0, 0.8, 2.3, 1), '09,01,16,20': (7.8, 11.3, None, 0), '09,01,16,21': (7.8, 12.9, None, 0), '09,01,16,22': (7.8, 8.0, None, 0), '09,01,16,23': (7.8, 6.4, None, 0), '10,28,16,14': (7.8, 16.1, None, 0), '10,28,16,15': (8.3, 16.1, None, 0), '10,28,16,16': (7.8, 16.1, None, 0), '10,28,16,17': (7.2, 16.1, None, 0), '10,28,16,10': (7.8, 16.1, None, 0), '10,28,16,11': (7.8, 16.1, None, 0), '10,28,16,12': (7.8, 16.1, None, 0), '10,28,16,13': (7.8, 16.1, None, 0), '10,28,16,18': (7.2, 16.1, None, 0), '10,28,16,19': (7.2, 16.1, None, 0), '01,16,16,20': (7.2, 16.1, None, 0), '01,16,16,21': (6.7, 16.1, None, 0), '01,16,16,22': (6.1, 16.1, None, 0), '01,16,16,23': (5.6, 16.1, None, 0), '06,25,16,05': (18.3, 11.3, None, 0), '06,25,16,04': (18.3, 14.5, None, 0), '06,25,16,07': (20.6, 12.9, None, 0), '06,25,16,06': (19.4, 12.9, None, 0), '06,25,16,01': (19.4, 16.1, None, 0), '06,25,16,00': (20.0, 16.1, None, 0), '06,25,16,03': (18.9, 16.1, None, 0), '06,25,16,02': (19.4, 16.1, None, 0), '06,25,16,09': (22.8, 16.1, None, 0), '06,25,16,08': (22.2, 14.5, None, 0), '01,11,16,09': (8.9, 16.1, None, 0), '01,11,16,08': (7.8, 16.1, None, 0), '01,11,16,05': (4.4, 16.1, None, 0), '01,11,16,04': (5.0, 16.1, None, 0), '01,11,16,07': (6.1, 16.1, None, 0), '01,11,16,06': (5.0, 16.1, None, 0), '01,11,16,01': (6.7, 16.1, None, 0), '01,11,16,00': (7.2, 16.1, None, 0), '01,11,16,03': (6.1, 16.1, None, 0), '01,11,16,02': (6.0, 16.1, None, 0), '03,19,16,03': (3.9, 16.1, None, 0), '03,19,16,02': (5.0, 16.1, None, 0), '03,19,16,01': (5.0, 16.1, None, 0), '03,19,16,00': (5.6, 16.1, None, 0), '03,19,16,07': (2.8, 16.1, None, 0), '03,19,16,06': (2.2, 16.1, None, 0), '03,19,16,05': (2.8, 16.1, None, 0), '03,19,16,04': (3.3, 16.1, None, 0), '03,19,16,09': (4.4, 16.1, None, 0), '03,19,16,08': (3.3, 16.1, None, 0), '08,15,16,08': (26.1, 14.5, None, 0), '08,15,16,09': (27.2, 14.5, None, 0), '08,15,16,06': (25.0, 14.5, None, 0), '08,15,16,07': (25.6, 14.5, None, 0), '08,15,16,04': (25.6, 16.1, None, 0), '08,15,16,05': (25.0, 16.1, None, 0), '08,15,16,02': (25.6, 16.1, None, 0), '08,15,16,03': (25.6, 16.1, None, 0), '08,15,16,00': (26.7, 16.1, None, 0), '08,15,16,01': (26.7, 16.1, None, 0), '01,19,16,23': (-2.2, 16.1, None, 0), '01,19,16,22': (-2.2, 16.1, None, 0), '01,19,16,21': (-2.8, 16.1, None, 0), '01,19,16,20': (-2.8, 16.1, None, 0), '04,08,16,04': (20.0, 16.1, None, 0), '04,08,16,05': (19.4, 16.1, None, 0), '04,08,16,06': (20.0, 14.5, None, 0), '05,23,16,19': (17.2, 16.1, None, 0), '05,23,16,18': (16.7, 16.1, 0.3, 0), '09,10,16,20': (13.3, 16.1, None, 0), '04,08,16,07': (21.7, 12.9, None, 0), '05,23,16,11': (23.3, 14.5, None, 0), '05,23,16,10': (21.1, 12.9, None, 0), '05,23,16,13': (25.0, 16.1, None, 0), '05,23,16,12': (24.4, 16.1, None, 0), '05,23,16,15': (23.3, 16.1, None, 0), '05,23,16,14': (23.9, 16.1, None, 0), '05,23,16,17': (17.8, 8.0, 0.3, 0), '05,23,16,16': (22.2, 16.1, None, 0), '09,04,16,23': (3.3, 16.1, None, 0), '09,04,16,22': (4.4, 16.1, None, 0), '12,28,16,23': (1.1, 16.1, None, 0), '12,28,16,22': (1.7, 16.1, None, 0), '12,28,16,21': (1.7, 16.1, None, 0), '12,28,16,20': (1.7, 16.1, None, 0), '10,22,16,12': (8.3, 12.9, 0.3, 0), '10,22,16,13': (9.4, 16.1, 0.3, 0), '10,22,16,10': (9.4, 16.1, None, 0), '10,22,16,11': (8.3, 11.3, 0.0, 0), '10,22,16,16': (8.9, 16.1, None, 0), '10,22,16,17': (8.3, 16.1, 0.0, 0), '10,22,16,14': (10.0, 16.1, None, 0), '10,22,16,15': (10.0, 16.1, None, 0), '01,24,16,23': (-0.6, 16.1, None, 0), '01,24,16,22': (0.0, 16.1, None, 0), '01,24,16,21': (0.0, 16.1, None, 0), '01,24,16,20': (0.0, 16.1, None, 0), '03,03,16,02': (-2.8, 16.1, None, 0), '03,03,16,03': (-3.3, 16.1, None, 0), '03,03,16,00': (-2.2, 16.1, None, 0), '03,03,16,01': (-2.2, 16.1, None, 0), '03,03,16,06': (-3.3, 16.1, None, 0), '03,03,16,07': (-3.3, 16.1, None, 0), '03,03,16,04': (-3.3, 16.1, None, 0), '03,03,16,05': (-3.3, 16.1, None, 0), '03,03,16,08': (-3.3, 16.1, None, 0), '03,03,16,09': (-2.2, 16.1, None, 0), '10,21,16,20': (18.9, 8.0, None, 0), '10,21,16,21': (18.9, 4.8, None, 0), '10,21,16,22': (18.9, 4.8, None, 0), '10,21,16,23': (16.7, 6.4, 1.3, 0), '07,28,16,10': (30.6, 14.5, None, 0), '08,04,16,16': (7.8, 16.1, None, 0), '07,28,16,12': (33.9, 14.5, None, 0), '07,28,16,13': (35.0, 14.5, None, 0), '07,28,16,14': (33.3, 12.9, None, 0), '07,28,16,15': (30.6, 12.9, None, 0), '08,04,16,11': (7.8, 16.1, None, 0), '07,28,16,17': (28.3, 11.3, None, 0), '09,03,16,19': (21.7, 16.1, None, 0), '09,03,16,18': (22.2, 16.1, None, 0), '09,03,16,13': (24.4, 11.3, None, 0), '09,03,16,12': (23.3, 12.9, None, 0), '09,03,16,11': (20.6, 6.4, None, 0), '09,03,16,10': (18.3, 8.0, None, 0), '09,03,16,17': (20.6, 16.1, None, 0), '09,03,16,16': (22.2, 16.1, None, 0), '09,03,16,15': (21.7, 16.1, None, 0), '09,03,16,14': (22.8, 14.5, None, 0), '12,14,16,22': (1.1, 16.1, None, 0), '12,14,16,23': (1.1, 16.1, None, 0), '12,14,16,20': (1.1, 16.1, None, 0), '12,14,16,21': (1.1, 16.1, None, 0), '12,03,16,00': (8.3, 16.1, None, 0), '12,03,16,01': (7.8, 16.1, None, 0), '12,03,16,02': (6.7, 16.1, None, 0), '12,03,16,03': (6.1, 16.1, None, 0), '12,03,16,04': (5.0, 16.1, None, 0), '12,03,16,05': (4.4, 16.1, None, 0), '12,03,16,06': (5.0, 16.1, None, 0), '12,03,16,07': (6.1, 16.1, None, 0), '12,03,16,08': (8.3, 16.1, None, 0), '12,03,16,09': (9.4, 16.1, None, 0), '05,21,16,04': (14.4, 16.1, None, 0), '05,21,16,05': (13.9, 16.1, None, 0), '05,21,16,06': (15.0, 16.1, None, 0), '05,21,16,07': (16.7, 16.1, None, 0), '05,21,16,00': (16.7, 16.1, None, 0), '05,21,16,01': (16.1, 16.1, None, 0), '05,21,16,02': (15.0, 16.1, None, 0), '05,21,16,03': (15.0, 16.1, None, 0), '05,21,16,08': (16.7, 16.1, None, 0), '05,21,16,09': (16.7, 16.1, None, 0), '03,12,16,08': (6.1, 16.1, None, 0), '03,12,16,09': (6.7, 16.1, None, 0), '03,12,16,04': (5.6, 16.1, None, 0), '03,12,16,05': (5.0, 16.1, None, 0), '03,12,16,06': (5.6, 16.1, None, 0), '03,12,16,07': (5.6, 16.1, None, 0), '03,12,16,00': (6.7, 16.1, None, 0), '03,12,16,01': (6.7, 16.1, None, 0), '03,12,16,02': (6.1, 16.1, 0.0, 0), '03,12,16,03': (6.1, 16.1, None, 0), '10,18,16,19': (22.8, 14.5, None, 0), '10,18,16,18': (23.9, 14.5, None, 0), '12,08,16,05': (23.9, 9.7, 0.0, 0), '12,08,16,04': (23.3, 14.5, None, 0), '12,08,16,03': (22.8, 16.1, None, 0), '12,08,16,02': (22.8, 14.5, 0.8, 0), '12,08,16,01': (22.8, 4.0, 7.4, 0), '12,08,16,00': (23.3, 12.9, 2.8, 0), '10,18,16,11': (25.0, 11.3, None, 0), '10,18,16,10': (23.3, 11.3, None, 0), '10,18,16,13': (27.2, 12.9, None, 0), '10,18,16,12': (26.7, 11.3, None, 0), '10,18,16,15': (26.1, 12.9, None, 0), '10,18,16,14': (26.7, 12.9, None, 0), '10,18,16,17': (24.4, 12.9, None, 0), '10,18,16,16': (25.6, 12.9, None, 0), '12,01,16,08': (-1.7, 16.1, None, 0), '12,01,16,09': (0.6, 16.1, None, 0), '12,01,16,02': (-3.9, 16.1, None, 0), '12,01,16,03': (-3.3, 16.1, None, 0), '12,01,16,00': (-3.9, 16.1, None, 0), '12,01,16,01': (-3.9, 16.1, None, 0), '12,01,16,06': (-2.8, 16.1, None, 0), '12,01,16,07': (-2.2, 16.1, None, 0), '12,01,16,04': (-3.3, 16.1, None, 0), '12,01,16,05': (-3.3, 16.1, None, 0), '06,20,16,08': (22.2, 12.9, None, 0), '06,20,16,09': (24.4, 12.9, None, 0), '06,20,16,04': (17.8, 16.1, None, 0), '06,20,16,05': (18.3, 14.5, None, 0), '06,20,16,06': (19.4, 14.5, None, 0), '06,20,16,07': (20.6, 14.5, None, 0), '06,20,16,00': (18.9, 16.1, None, 0), '06,20,16,01': (18.9, 16.1, None, 0), '06,20,16,02': (18.9, 16.1, None, 0), '06,20,16,03': (18.9, 16.1, None, 0), '02,19,16,00': (-2.8, 16.1, None, 0), '02,19,16,01': (-3.3, 16.1, None, 0), '02,19,16,02': (-3.9, 16.1, None, 0), '02,19,16,03': (-3.9, 16.1, None, 0), '02,19,16,04': (-4.4, 16.1, None, 0), '02,19,16,05': (-3.9, 16.1, None, 0), '02,19,16,06': (-3.9, 16.1, None, 0), '02,19,16,07': (-2.8, 16.1, None, 0), '02,19,16,08': (-1.7, 16.1, None, 0), '02,19,16,09': (-0.6, 16.1, None, 0), '12,07,16,17': (25.6, 16.1, None, 0), '12,07,16,16': (26.1, 14.5, None, 0), '12,07,16,15': (27.2, 14.5, None, 0), '01,13,16,04': (-5.0, 16.1, None, 0), '01,17,16,21': (-1.1, 14.5, None, 0), '01,17,16,20': (-1.1, 12.9, None, 0), '01,17,16,23': (-0.6, 16.1, None, 0), '01,17,16,22': (-0.6, 16.1, None, 0), '12,07,16,06': (21.7, 16.1, None, 0), '12,07,16,19': (23.9, 14.5, None, 0), '12,07,16,18': (24.4, 16.1, None, 0), '05,31,16,14': (28.3, 12.9, None, 0), '05,31,16,15': (26.7, 12.9, None, 0), '05,31,16,16': (26.7, 12.9, None, 0), '05,31,16,17': (25.6, 14.5, None, 0), '05,31,16,10': (25.6, 14.5, None, 0), '05,31,16,11': (27.2, 12.9, None, 0), '05,31,16,12': (27.8, 12.9, None, 0), '05,31,16,13': (29.4, 12.9, None, 0), '05,31,16,18': (25.6, 12.9, None, 0), '05,31,16,19': (23.9, 11.3, None, 0), '08,12,16,12': (7.0, None, None, 0), '08,12,16,13': (7.0, None, None, 0), '08,12,16,10': (7.0, None, None, 0), '08,12,16,11': (7.0, None, None, 0), '08,12,16,16': (6.0, None, None, 0), '08,12,16,17': (6.0, None, None, 0), '08,12,16,14': (7.0, None, None, 0), '08,12,16,15': (7.0, None, None, 0), '08,12,16,18': (5.0, None, None, 0), '08,12,16,19': (4.0, None, None, 0), '10,01,16,11': (13.9, 4.0, 0.5, 0), '10,01,16,10': (13.9, 2.8, 0.3, 0), '12,07,16,08': (23.3, 16.1, None, 0), '12,07,16,09': (24.4, 14.5, None, 0), '04,01,16,16': (-5.0, 16.1, None, 0), '04,01,16,17': (-6.1, 16.1, None, 0), '04,01,16,14': (-2.2, 16.1, None, 0), '04,01,16,15': (-3.3, 16.1, None, 0), '04,01,16,12': (-1.1, 16.1, None, 0), '04,01,16,13': (-2.2, 16.1, None, 0), '04,01,16,10': (-2.2, 16.1, None, 0), '04,01,16,11': (-2.2, 16.1, None, 0), '04,01,16,18': (-6.7, 16.1, None, 0), '04,01,16,19': (-7.2, 16.1, None, 0), '11,21,16,23': (3.3, 16.1, None, 0), '11,21,16,22': (3.3, 16.1, None, 0), '11,21,16,21': (3.9, 16.1, None, 0), '11,21,16,20': (3.9, 16.1, None, 0), '09,08,16,21': (25.0, 16.1, None, 0), '09,08,16,20': (25.0, 16.1, None, 0), '09,08,16,23': (25.0, 16.1, None, 0), '09,08,16,22': (25.0, 16.1, None, 0), '08,26,16,08': (26.0, None, None, 0), '08,26,16,09': (28.0, None, None, 0), '08,26,16,00': (26.0, None, None, 0), '08,26,16,01': (25.0, None, None, 0), '08,26,16,02': (25.0, None, None, 0), '08,26,16,03': (25.0, None, None, 0), '08,26,16,04': (24.0, None, None, 0), '08,26,16,05': (24.0, None, None, 0), '08,26,16,06': (25.0, None, None, 0), '08,26,16,07': (25.0, None, None, 0), '09,28,16,05': (16.1, 12.9, None, 0), '09,28,16,04': (16.7, 9.7, None, 0), '09,28,16,07': (17.2, 8.0, None, 0), '09,28,16,06': (16.1, 12.9, None, 0), '09,28,16,01': (17.2, 11.3, None, 0), '09,28,16,00': (18.3, 12.9, None, 0), '09,28,16,03': (16.7, 6.4, None, 0), '09,28,16,02': (17.2, 8.0, None, 0), '07,14,16,20': (26.1, 12.9, None, 0), '07,14,16,21': (26.7, 11.3, None, 0), '07,14,16,22': (26.7, 11.3, None, 0), '07,14,16,23': (27.8, 14.5, None, 0), '11,24,16,17': (8.3, 14.5, 0.8, 0), '11,24,16,16': (8.9, 16.1, 0.0, 0), '11,24,16,15': (8.9, 16.1, None, 0), '11,24,16,14': (8.3, 16.1, None, 0), '11,24,16,13': (8.3, 16.1, None, 0), '11,24,16,12': (8.9, 16.1, 0.0, 0), '11,24,16,11': (8.3, 16.1, None, 0), '11,24,16,10': (7.8, 16.1, None, 0), '11,24,16,19': (8.3, 14.5, None, 0), '11,24,16,18': (8.3, 16.1, None, 0), '09,01,16,02': (5.0, 16.1, None, 0), '09,01,16,03': (4.4, 16.1, None, 0), '09,01,16,00': (5.0, 16.1, None, 0), '09,01,16,01': (5.0, 16.1, None, 0), '09,01,16,06': (5.0, 16.1, None, 0), '09,01,16,07': (5.6, 14.5, None, 0), '09,01,16,04': (5.0, 16.1, None, 0), '09,01,16,05': (5.0, 16.1, None, 0), '09,01,16,08': (5.6, 14.5, None, 0), '09,01,16,09': (6.7, 14.5, None, 0), '01,16,16,08': (6.1, 12.9, 0.3, 0), '01,16,16,09': (6.7, 14.5, None, 0), '01,16,16,06': (6.1, 11.3, 0.3, 0), '01,16,16,07': (6.1, 9.7, 0.5, 0), '01,16,16,04': (6.1, 9.7, 1.0, 0), '01,16,16,05': (6.1, 16.1, 0.3, 0), '01,16,16,02': (5.6, 6.4, 3.0, 0), '01,16,16,03': (6.1, 11.3, 0.5, 0), '01,16,16,00': (7.2, 11.3, None, 0), '01,16,16,01': (6.1, 3.2, 0.5, 0), '05,24,16,23': (17.8, 16.1, None, 0), '05,24,16,22': (18.9, 16.1, None, 0), '05,24,16,21': (19.4, 16.1, None, 0), '05,24,16,20': (20.6, 16.1, None, 0), '11,27,16,21': (6.1, 16.1, None, 0), '11,27,16,20': (6.1, 16.1, None, 0), '11,27,16,23': (5.6, 16.1, None, 0), '11,27,16,22': (6.1, 16.1, None, 0), '10,29,16,15': (16.7, 16.1, None, 0), '10,29,16,14': (16.1, 16.1, None, 0), '10,29,16,17': (16.7, 16.1, None, 0), '11,06,16,22': (28.9, 16.1, None, 0), '10,29,16,16': (16.7, 16.1, None, 0), '03,19,16,21': (6.7, 16.1, None, 0), '03,19,16,20': (7.2, 16.1, None, 0), '03,19,16,23': (4.4, 16.1, None, 0), '03,19,16,22': (6.1, 16.1, None, 0), '10,29,16,11': (11.1, 16.1, None, 0), '10,29,16,10': (9.4, 16.1, None, 0), '10,29,16,13': (15.0, 16.1, None, 0), '02,17,16,22': (1.7, 16.1, None, 0), '10,29,16,12': (13.3, 16.1, None, 0), '11,06,16,23': (27.2, 16.1, None, 0), '01,19,16,05': (-8.3, 16.1, None, 0), '01,19,16,04': (-8.3, 16.1, None, 0), '01,19,16,07': (-8.9, 16.1, None, 0), '01,19,16,06': (-8.9, 16.1, None, 0), '01,19,16,01': (-8.3, 16.1, None, 0), '01,19,16,00': (-7.8, 16.1, None, 0), '01,19,16,03': (-8.3, 16.1, None, 0), '01,19,16,02': (-8.3, 16.1, None, 0), '01,19,16,09': (-6.7, 16.1, None, 0), '01,19,16,08': (-7.8, 16.1, None, 0), '06,13,16,19': (20.0, 16.1, None, 0), '06,13,16,18': (20.6, 16.1, None, 0), '06,13,16,11': (20.0, 16.1, None, 0), '06,13,16,10': (19.4, 16.1, None, 0), '06,13,16,13': (23.3, 16.1, None, 0), '06,13,16,12': (20.6, 16.1, None, 0), '06,13,16,15': (22.2, 16.1, None, 0), '06,13,16,14': (21.7, 16.1, None, 0), '06,13,16,17': (21.7, 16.1, None, 0), '06,13,16,16': (21.7, 16.1, None, 0), '10,10,16,06': (8.3, 16.1, None, 0), '10,10,16,07': (8.3, 16.1, None, 0), '10,10,16,04': (8.9, 16.1, None, 0), '10,10,16,05': (8.3, 16.1, None, 0), '10,10,16,02': (10.6, 16.1, None, 0), '10,10,16,03': (9.4, 16.1, None, 0), '10,10,16,00': (11.7, 16.1, None, 0), '10,10,16,01': (11.1, 16.1, None, 0), '10,22,16,18': (8.9, 16.1, 0.0, 0), '10,22,16,19': (9.4, 16.1, None, 0), '10,10,16,08': (8.9, 16.1, None, 0), '10,10,16,09': (10.0, 16.1, None, 0), '04,12,16,23': (4.4, 16.1, None, 0), '04,12,16,22': (4.4, 16.1, None, 0), '04,12,16,21': (5.0, 16.1, None, 0), '04,12,16,20': (5.0, 16.1, None, 0), '12,28,16,09': (4.4, 16.1, None, 0), '12,28,16,08': (4.4, 16.1, None, 0), '12,28,16,05': (3.3, 16.1, None, 0), '12,28,16,04': (3.3, 16.1, None, 0), '12,28,16,07': (4.4, 16.1, None, 0), '12,28,16,06': (3.9, 16.1, None, 0), '12,28,16,01': (3.9, 16.1, None, 0), '12,28,16,00': (3.9, 16.1, None, 0), '12,28,16,03': (3.9, 16.1, None, 0), '12,28,16,02': (3.9, 16.1, None, 0), '11,20,16,22': (3.3, 16.1, 0.0, 0), '12,02,16,00': (-7.8, 16.1, None, 0), '11,20,16,23': (3.3, 16.1, None, 0), '12,20,16,23': (0.0, 16.1, None, 0), '12,20,16,22': (0.6, 16.1, None, 0), '12,20,16,21': (0.0, 16.1, None, 0), '12,20,16,20': (0.0, 16.1, None, 0), '11,20,16,20': (4.4, 16.1, None, 0), '11,20,16,21': (3.3, 8.0, 0.0, 0), '03,22,16,08': (2.8, 16.1, None, 0), '01,24,16,02': (-3.3, 16.1, 0.0, 0), '10,01,16,12': (14.4, 6.4, 0.8, 0), '01,24,16,09': (-6.1, 12.9, None, 0), '01,24,16,08': (-6.7, 14.5, None, 0), '10,10,16,14': (17.2, 16.1, None, 0), '04,02,16,08': (10.6, 16.1, None, 0), '10,23,16,01': (8.9, 16.1, None, 0), '01,24,16,01': (-3.3, 8.0, 0.0, 0), '01,24,16,00': (-3.3, 6.4, 0.0, 0), '01,24,16,03': (-4.4, 16.1, None, 0), '01,28,16,15': (5.0, 16.1, None, 0), '01,24,16,05': (-5.6, 16.1, None, 0), '01,24,16,04': (-5.6, 16.1, None, 0), '01,24,16,07': (-6.7, 14.5, None, 0), '01,24,16,06': (-5.6, 16.1, None, 0), '05,08,16,03': (20.6, 16.1, None, 0), '05,08,16,02': (21.1, 16.1, None, 0), '05,08,16,01': (21.1, 16.1, None, 0), '05,08,16,00': (21.1, 16.1, None, 0), '05,08,16,07': (21.7, 14.5, None, 0), '05,08,16,06': (20.6, 14.5, None, 0), '05,08,16,05': (20.6, 16.1, None, 0), '05,08,16,04': (20.6, 16.1, None, 0), '10,23,16,08': (7.8, 16.1, None, 0), '10,23,16,04': (8.3, 16.1, None, 0), '05,08,16,09': (23.9, 14.5, None, 0), '05,08,16,08': (22.8, 14.5, None, 0), '04,02,16,04': (14.4, 16.1, None, 0), '10,23,16,05': (7.8, 16.1, None, 0), '10,15,16,07': (7.8, 16.1, None, 0), '10,15,16,06': (8.3, 16.1, None, 0), '10,15,16,05': (7.8, 16.1, None, 0), '04,02,16,05': (13.9, 8.0, None, 0), '10,15,16,03': (9.4, 16.1, None, 0), '10,15,16,02': (8.9, 16.1, None, 0), '03,20,16,09': (1.1, 16.1, None, 0), '03,20,16,08': (1.1, 16.1, None, 0), '03,20,16,07': (0.0, 16.1, None, 0), '03,20,16,06': (0.6, 16.1, None, 0), '03,20,16,05': (1.1, 16.1, None, 0), '03,20,16,04': (1.7, 16.1, None, 0), '03,20,16,03': (2.2, 16.1, None, 0), '03,20,16,02': (2.8, 16.1, None, 0), '03,20,16,01': (3.3, 16.1, None, 0), '03,20,16,00': (3.9, 16.1, None, 0), '10,21,16,08': (20.0, 6.4, 0.3, 0), '10,21,16,09': (20.0, 0.8, 7.6, 1), '10,23,16,09': (10.0, 16.1, None, 0), '10,21,16,02': (20.0, 14.5, None, 0), '10,21,16,03': (20.0, 14.5, None, 0), '10,21,16,00': (20.0, 12.9, None, 0), '10,21,16,01': (20.6, 12.9, None, 0), '10,21,16,06': (19.4, 14.5, None, 0), '10,21,16,07': (20.0, 11.3, None, 0), '10,21,16,04': (20.0, 14.5, None, 0), '10,21,16,05': (19.4, 14.5, None, 0), '08,21,16,09': (25.6, 11.3, None, 0), '08,21,16,08': (23.9, 3.2, 5.6, 0), '04,09,16,18': (24.4, 16.1, None, 0), '04,09,16,19': (23.3, 16.1, None, 0), '04,09,16,16': (25.6, 16.1, None, 0), '04,09,16,17': (25.0, 16.1, None, 0), '04,09,16,14': (26.1, 16.1, None, 0), '04,09,16,15': (26.1, 16.1, None, 0), '04,09,16,12': (25.0, 16.1, None, 0), '04,09,16,13': (26.1, 16.1, None, 0), '04,09,16,10': (21.7, 16.1, None, 0), '04,09,16,11': (23.3, 16.1, None, 0), '06,16,16,18': (22.2, 14.5, None, 0), '06,16,16,19': (21.7, 12.9, None, 0), '06,16,16,14': (19.4, 9.7, 0.5, 0), '06,16,16,15': (20.6, 12.9, None, 0), '06,16,16,16': (22.2, 12.9, None, 0), '06,16,16,17': (22.2, 12.9, None, 0), '06,16,16,10': (20.6, 12.9, None, 0), '06,16,16,11': (21.1, 12.9, None, 0), '06,16,16,12': (21.7, 12.9, None, 0), '06,16,16,13': (20.0, 4.8, 0.0, 0), '06,10,16,23': (15.6, 12.9, None, 0), '06,10,16,22': (16.1, 12.9, None, 0), '06,10,16,21': (16.1, 12.9, None, 0), '06,10,16,20': (16.7, 12.9, None, 0), '10,15,16,04': (8.3, 16.1, None, 0), '10,15,16,01': (8.9, 16.1, None, 0), '10,15,16,00': (10.0, 16.1, None, 0), '08,28,16,19': (25.0, 16.1, None, 0), '08,28,16,18': (26.1, 14.5, None, 0), '08,28,16,11': (29.4, 14.5, None, 0), '08,28,16,10': (27.8, 14.5, None, 0), '08,28,16,13': (30.6, 14.5, None, 0), '08,28,16,12': (30.6, 14.5, None, 0), '08,28,16,15': (29.4, 14.5, None, 0), '08,28,16,14': (30.0, 14.5, None, 0), '08,28,16,17': (27.2, 14.5, None, 0), '08,28,16,16': (28.3, 14.5, None, 0), '10,15,16,09': (11.7, 16.1, None, 0), '10,15,16,08': (10.0, 16.1, None, 0), '12,03,16,22': (12.2, 16.1, None, 0), '12,03,16,23': (11.7, 16.1, None, 0), '12,03,16,20': (13.3, 16.1, None, 0), '12,03,16,21': (12.8, 16.1, None, 0), '05,21,16,22': (13.3, 16.1, 0.0, 0), '05,21,16,23': (13.3, 14.5, 0.0, 0), '05,21,16,20': (12.8, 16.1, None, 0), '05,21,16,21': (13.3, 16.1, None, 0), '04,07,16,09': (23.9, 14.5, None, 0), '04,07,16,08': (22.8, 14.5, None, 0), '04,07,16,07': (21.1, 14.5, None, 0), '04,07,16,06': (20.0, 14.5, None, 0), '04,07,16,05': (18.9, 14.5, None, 0), '04,07,16,04': (19.4, 16.1, None, 0), '04,07,16,03': (20.0, 16.1, None, 0), '04,07,16,02': (20.6, 16.1, None, 0), '04,07,16,01': (21.7, 16.1, None, 0), '04,07,16,00': (21.7, 16.1, None, 0), '03,12,16,22': (6.1, 16.1, None, 0), '03,12,16,23': (5.6, 16.1, None, 0), '03,12,16,20': (6.1, 16.1, None, 0), '03,12,16,21': (6.1, 16.1, None, 0), '12,08,16,21': (28.9, 16.1, None, 0), '12,08,16,20': (28.3, 16.1, None, 0), '12,08,16,23': (28.3, 16.1, None, 0), '12,08,16,22': (28.9, 16.1, None, 0), '08,21,16,03': (24.4, 14.5, None, 0), '08,21,16,02': (24.4, 16.1, None, 0), '08,21,16,01': (24.4, 16.1, None, 0), '08,21,16,00': (24.4, 16.1, None, 0), '08,21,16,07': (25.0, 12.9, None, 0), '08,21,16,06': (24.4, 12.9, None, 0), '02,29,16,23': (8.3, 16.1, None, 0), '02,29,16,22': (8.9, 16.1, None, 0), '02,29,16,21': (8.9, 16.1, None, 0), '02,29,16,20': (9.4, 16.1, None, 0), '08,21,16,05': (25.0, 14.5, None, 0), '08,21,16,04': (25.0, 14.5, None, 0), '03,01,16,03': (2.2, 16.1, None, 0), '07,27,16,08': (26.7, 14.5, None, 0), '07,27,16,09': (27.8, 14.5, None, 0), '06,20,16,22': (26.7, 14.5, None, 0), '06,20,16,23': (25.6, 16.1, None, 0), '06,20,16,20': (25.0, 14.5, None, 0), '06,20,16,21': (25.6, 14.5, None, 0), '02,19,16,22': (3.9, 16.1, None, 0), '07,04,16,09': (13.3, 16.1, None, 0), '02,19,16,20': (3.3, 16.1, None, 0), '02,19,16,21': (3.3, 16.1, None, 0), '07,27,16,04': (23.9, 16.1, None, 0), '07,27,16,05': (23.9, 14.5, None, 0), '07,27,16,06': (25.0, 14.5, None, 0), '06,08,16,10': (27.2, 11.3, None, 0), '01,14,16,08': (-3.3, 16.1, None, 0), '01,14,16,09': (-2.8, 16.1, None, 0), '10,01,16,08': (10.0, 8.0, 11.7, 0), '10,01,16,09': (13.9, 8.0, 0.3, 0), '10,01,16,00': (7.8, 8.0, None, 0), '07,04,16,01': (8.9, 16.1, None, 0), '10,01,16,02': (7.8, 12.9, 0.0, 0), '10,01,16,03': (7.2, 4.8, 1.3, 0), '10,01,16,04': (7.2, 2.4, 5.1, 0), '10,01,16,05': (7.2, 2.8, 8.1, 0), '10,01,16,06': (7.8, 2.8, 5.1, 0), '06,08,16,18': (26.7, 12.9, None, 0), '11,14,16,18': (14.4, 16.1, None, 0), '11,14,16,19': (14.4, 16.1, None, 0), '11,14,16,16': (15.0, 16.1, None, 0), '11,14,16,17': (14.4, 16.1, None, 0), '11,14,16,14': (15.6, 16.1, None, 0), '11,14,16,15': (15.0, 16.1, None, 0), '11,14,16,12': (16.1, 16.1, None, 0), '11,14,16,13': (16.7, 16.1, None, 0), '11,14,16,10': (13.9, 16.1, None, 0), '11,14,16,11': (15.0, 16.1, None, 0), '05,28,16,23': (25.6, 14.5, None, 0), '05,28,16,22': (26.7, 12.9, None, 0), '05,28,16,21': (26.7, 12.9, None, 0), '05,28,16,20': (27.2, 12.9, None, 0), '07,25,16,18': (24.4, 4.8, 8.4, 0), '11,25,16,16': (10.6, 9.7, 0.3, 0), '11,12,16,21': (0.6, 16.1, None, 0), '11,12,16,20': (0.0, 14.5, None, 0), '11,12,16,23': (1.1, 9.7, None, 0), '11,12,16,22': (1.1, 14.5, None, 0), '07,25,16,16': (26.1, 6.4, 8.1, 0), '11,21,16,09': (2.8, 16.1, None, 0), '11,21,16,08': (2.8, 16.1, None, 0), '11,21,16,05': (2.2, 16.1, None, 0), '11,21,16,04': (2.8, 16.1, None, 0), '11,21,16,07': (2.8, 16.1, None, 0), '11,21,16,06': (2.2, 16.1, None, 0), '11,21,16,01': (3.3, 16.1, None, 0), '11,21,16,00': (3.3, 16.1, None, 0), '11,21,16,03': (2.8, 16.1, None, 0), '11,21,16,02': (2.8, 16.1, None, 0), '07,18,16,20': (23.9, 14.5, None, 0), '07,18,16,21': (25.6, 16.1, None, 0), '07,18,16,22': (24.4, 14.5, None, 0), '07,18,16,23': (24.4, 14.5, None, 0), '12,25,16,18': (6.7, 16.1, None, 0), '08,26,16,22': (27.0, None, None, 0), '08,26,16,23': (27.0, None, None, 0), '08,26,16,20': (29.0, None, None, 0), '08,26,16,21': (28.0, None, None, 0), '03,05,16,19': (11.1, 8.0, None, 0), '03,05,16,18': (11.7, 9.7, None, 0), '03,05,16,17': (12.2, 16.1, None, 0), '03,05,16,16': (12.2, 16.1, None, 0), '03,05,16,15': (11.7, 16.1, None, 0), '03,05,16,14': (11.1, 6.4, None, 0), '03,05,16,13': (10.6, 12.9, None, 0), '03,05,16,12': (11.1, 12.9, None, 0), '03,05,16,11': (11.1, 6.4, 0.3, 0), '03,05,16,10': (10.6, 2.8, 0.5, 0), '07,14,16,06': (25.0, 9.7, None, 0), '07,14,16,07': (25.0, 9.7, None, 0), '07,14,16,04': (24.4, 12.9, None, 0), '07,14,16,05': (24.4, 12.9, None, 0), '07,14,16,02': (24.4, 8.0, 0.0, 0), '07,14,16,03': (24.4, 11.3, 0.0, 0), '07,14,16,00': (23.9, 16.1, None, 0), '07,14,16,01': (24.4, 16.1, None, 0), '07,14,16,08': (25.6, 9.7, None, 0), '07,14,16,09': (26.1, 11.3, None, 0), '05,24,16,09': (16.1, 8.0, 0.5, 0), '05,24,16,08': (15.6, 8.0, 0.3, 0), '05,24,16,05': (14.4, 6.4, 0.8, 0), '05,24,16,04': (14.4, 8.0, 0.5, 0), '05,24,16,07': (15.0, 4.8, 0.8, 0), '05,24,16,06': (15.0, 4.8, 1.0, 0), '05,24,16,01': (17.2, 16.1, None, 0), '05,24,16,00': (16.7, 16.1, None, 0), '05,24,16,03': (15.0, 11.3, 0.0, 0), '05,24,16,02': (14.4, 12.9, 0.8, 0), '01,04,16,13': (22.2, 16.1, None, 0), '01,04,16,14': (23.9, 16.1, None, 0), '01,04,16,15': (25.6, 16.1, None, 0), '01,04,16,16': (25.6, 16.1, None, 0), '01,04,16,17': (25.0, 16.1, None, 0), '01,04,16,18': (21.7, 12.9, 0.0, 0), '01,04,16,19': (18.9, 16.1, 0.3, 0), '01,12,16,20': (7.2, 16.1, None, 0), '01,12,16,21': (6.7, 16.1, None, 0), '01,12,16,22': (6.1, 16.1, None, 0), '01,12,16,23': (5.6, 16.1, None, 0), '09,19,16,16': (21.1, 11.3, None, 0), '09,19,16,17': (21.1, 12.9, None, 0), '09,19,16,14': (21.7, 11.3, None, 0), '05,13,16,19': (17.5, None, None, 0), '09,19,16,18': (20.6, 12.9, None, 0), '09,19,16,19': (20.6, 16.1, None, 0), '07,20,16,09': (23.9, 16.1, None, 0), '07,20,16,08': (23.3, 16.1, None, 0), '07,20,16,03': (22.2, 16.1, None, 0), '07,20,16,02': (22.8, 16.1, None, 0), '07,20,16,01': (22.8, 16.1, None, 0), '07,20,16,00': (23.3, 16.1, None, 0), '07,20,16,07': (22.2, 16.1, None, 0), '07,20,16,06': (21.1, 16.1, None, 0), '07,20,16,05': (21.1, 16.1, None, 0), '07,20,16,04': (21.7, 16.1, None, 0), '04,12,16,01': (5.6, 16.1, None, 0), '04,12,16,00': (5.6, 16.1, None, 0), '04,12,16,03': (5.0, 16.1, None, 0), '04,12,16,02': (5.0, 16.1, None, 0), '04,12,16,05': (4.4, 16.1, None, 0), '04,12,16,04': (5.0, 16.1, None, 0), '04,12,16,07': (3.9, 16.1, None, 0), '04,12,16,06': (3.9, 16.1, None, 0), '04,12,16,09': (5.0, 16.1, None, 0), '04,12,16,08': (3.9, 16.1, None, 0), '07,29,16,19': (26.1, 11.3, None, 0), '07,29,16,18': (27.2, 11.3, None, 0), '05,25,16,11': (28.3, 14.5, None, 0), '05,25,16,10': (25.6, 14.5, None, 0), '05,25,16,17': (29.4, 11.3, None, 0), '05,25,16,16': (30.0, 12.9, None, 0), '05,25,16,15': (30.0, 12.9, None, 0), '05,25,16,14': (30.6, 11.3, None, 0), '07,29,16,11': (24.4, 12.9, None, 0), '07,29,16,10': (22.8, 9.7, None, 0), '07,29,16,13': (25.0, 11.3, None, 0), '07,29,16,12': (24.4, 12.9, None, 0), '07,29,16,15': (27.8, 11.3, None, 0), '07,29,16,14': (27.2, 12.9, None, 0), '07,29,16,17': (28.3, 12.9, None, 0), '07,29,16,16': (28.3, 12.9, None, 0), '12,20,16,05': (-6.1, 16.1, None, 0), '12,20,16,04': (-6.1, 16.1, None, 0), '12,20,16,07': (-6.1, 16.1, None, 0), '12,20,16,06': (-6.7, 16.1, None, 0), '12,20,16,01': (-5.0, 16.1, None, 0), '12,20,16,00': (-5.0, 16.1, None, 0), '12,20,16,03': (-5.6, 16.1, None, 0), '12,20,16,02': (-5.6, 16.1, None, 0), '12,20,16,09': (-3.3, 16.1, None, 0), '12,20,16,08': (-5.0, 16.1, None, 0), '08,31,16,19': (26.1, 16.1, None, 0), '08,31,16,18': (26.7, 12.9, None, 0), '10,13,16,23': (12.8, 16.1, None, 0), '10,13,16,22': (13.9, 16.1, None, 0), '10,13,16,21': (15.0, 16.1, None, 0), '10,13,16,20': (16.1, 16.1, None, 0), '08,31,16,13': (30.6, 14.5, None, 0), '08,31,16,12': (30.0, 12.9, None, 0), '08,31,16,11': (29.4, 11.3, None, 0), '08,31,16,10': (27.8, 11.3, None, 0), '08,31,16,17': (27.2, 12.9, None, 0), '08,31,16,16': (30.0, 14.5, None, 0), '08,31,16,15': (29.4, 14.5, None, 0), '08,31,16,14': (31.1, 14.5, None, 0), '05,27,16,15': (26.1, 11.3, None, 0), '05,27,16,14': (27.8, 9.7, None, 0), '05,27,16,17': (27.2, 11.3, None, 0), '05,27,16,16': (26.1, 11.3, None, 0), '05,27,16,11': (28.9, 9.7, None, 0), '05,27,16,10': (27.8, 9.7, None, 0), '05,27,16,13': (29.4, 9.7, None, 0), '05,27,16,12': (30.0, 9.7, None, 0), '05,27,16,19': (25.6, 11.3, None, 0), '05,27,16,18': (26.7, 11.3, None, 0), '05,29,16,22': (21.7, 16.1, None, 0), '05,29,16,23': (21.7, 16.1, 0.0, 0), '08,08,16,13': (30.0, 14.5, None, 0), '08,08,16,12': (27.2, 14.5, None, 0), '07,19,16,16': (28.3, 14.5, None, 0), '07,19,16,17': (27.8, 14.5, None, 0), '10,23,16,22': (13.9, 16.1, None, 0), '07,19,16,10': (26.1, 14.5, None, 0), '10,23,16,20': (14.4, 16.1, None, 0), '10,23,16,21': (14.4, 16.1, None, 0), '07,19,16,11': (26.7, 14.5, None, 0), '05,08,16,21': (25.0, 16.1, None, 0), '08,08,16,15': (27.8, 14.5, None, 0), '05,08,16,23': (24.4, 16.1, None, 0), '05,08,16,22': (24.4, 16.1, None, 0), '08,08,16,14': (27.8, 14.5, None, 0), '03,20,16,21': (0.6, 2.4, 0.0, 0), '03,20,16,20': (1.7, 2.4, 0.0, 0), '03,20,16,23': (1.1, 2.8, 0.3, 0), '03,20,16,22': (0.6, 4.8, 0.0, 0), '01,05,16,11': (8.3, 8.0, 0.3, 0), '01,05,16,10': (8.9, 9.7, 0.8, 0), '01,05,16,13': (8.9, 16.1, 0.0, 0), '01,05,16,12': (8.3, 11.3, 0.8, 0), '01,05,16,15': (9.4, 16.1, None, 0), '01,05,16,14': (8.9, 16.1, None, 0), '01,05,16,17': (8.9, 3.2, 0.0, 0), '01,05,16,16': (8.9, 11.3, 0.0, 0), '06,15,16,13': (28.9, 16.1, None, 0), '06,15,16,12': (27.8, 16.1, None, 0), '06,15,16,11': (26.1, 16.1, None, 0), '06,15,16,10': (24.4, 16.1, None, 0), '06,15,16,17': (26.1, 16.1, None, 0), '06,15,16,16': (27.2, 16.1, None, 0), '06,15,16,15': (28.3, 16.1, None, 0), '06,15,16,14': (28.3, 16.1, None, 0), '06,15,16,19': (25.0, 14.5, None, 0), '06,15,16,18': (25.0, 16.1, None, 0), '08,21,16,21': (23.9, 12.9, None, 0), '08,21,16,20': (24.4, 9.7, 0.3, 0), '08,21,16,23': (23.9, 14.5, None, 0), '08,21,16,22': (23.9, 12.9, None, 0), '06,10,16,01': (13.9, 16.1, None, 0), '06,10,16,00': (14.4, 16.1, None, 0), '06,10,16,03': (13.3, 14.5, None, 0), '06,10,16,02': (13.9, 16.1, None, 0), '06,10,16,05': (13.3, 12.9, None, 0), '06,10,16,04': (13.3, 14.5, None, 0), '06,10,16,07': (13.9, 9.7, None, 0), '06,10,16,06': (13.3, 12.9, None, 0), '06,10,16,09': (16.1, 11.3, None, 0), '06,10,16,08': (15.0, 11.3, None, 0), '01,02,16,18': (10.6, 16.1, None, 0), '01,02,16,19': (10.0, 16.1, 0.0, 0), '11,07,16,16': (26.1, 16.1, None, 0), '11,07,16,17': (26.1, 16.1, None, 0), '11,07,16,14': (26.1, 16.1, None, 0), '11,07,16,15': (26.1, 16.1, None, 0), '11,08,16,14': (31.7, 11.3, None, 0), '10,15,16,21': (13.9, 16.1, None, 0), '10,15,16,20': (13.9, 16.1, None, 0), '10,15,16,23': (12.8, 16.1, None, 0), '10,15,16,22': (13.3, 16.1, None, 0), '10,30,16,07': (17.8, 14.5, None, 0), '10,07,16,11': (25.0, 16.1, None, 0), '10,07,16,10': (23.3, 14.5, None, 0), '10,07,16,13': (25.0, 16.1, None, 0), '10,07,16,12': (26.1, 16.1, None, 0), '10,07,16,15': (25.6, 16.1, 0.0, 0), '10,07,16,14': (25.0, 16.1, None, 0), '10,07,16,17': (26.1, 16.1, None, 0), '10,07,16,16': (25.6, 16.1, None, 0), '10,07,16,19': (24.4, 16.1, None, 0), '10,07,16,18': (25.6, 16.1, None, 0), '04,07,16,21': (20.6, 9.7, 2.3, 0), '04,07,16,20': (21.1, 2.4, 0.8, 0), '04,07,16,23': (20.6, 2.4, 1.8, 0), '04,07,16,22': (20.6, 4.8, None, 0), '11,20,16,04': (3.3, 16.1, None, 0), '01,23,16,19': (-3.9, 0.4, 1.8, 1), '01,23,16,18': (-3.3, 0.8, 1.8, 1), '01,23,16,15': (-2.8, 0.4, 3.8, 1), '01,23,16,14': (-2.8, 0.4, 3.8, 1), '01,23,16,17': (-2.8, 0.4, 2.5, 1), '01,23,16,16': (-2.8, 0.4, 3.6, 1), '01,23,16,11': (-2.8, 0.4, 4.1, 1), '01,23,16,10': (-2.8, 0.4, 2.5, 1), '01,23,16,13': (-2.8, 0.4, 3.3, 1), '01,23,16,12': (-2.8, 0.4, 4.8, 1), '02,29,16,05': (10.6, 16.1, None, 0), '02,29,16,04': (10.0, 16.1, None, 0), '02,29,16,07': (10.0, 16.1, None, 0), '02,29,16,06': (10.0, 16.1, None, 0), '02,29,16,01': (10.6, 16.1, None, 0), '02,29,16,00': (10.6, 16.1, None, 0), '02,29,16,03': (10.0, 16.1, None, 0), '02,29,16,02': (10.0, 16.1, None, 0), '11,20,16,06': (3.9, 16.1, None, 0), '02,29,16,09': (11.1, 16.1, None, 0), '02,29,16,08': (11.1, 16.1, None, 0), '10,17,16,00': (17.8, 16.1, None, 0), '05,12,16,20': (7.2, 16.1, None, 0), '05,12,16,21': (7.2, 16.1, None, 0), '05,12,16,22': (6.1, 16.1, None, 0), '05,12,16,23': (6.1, 16.1, None, 0), '07,27,16,22': (27.2, 16.1, None, 0), '07,27,16,23': (26.7, 14.5, None, 0), '07,27,16,20': (28.3, 16.1, None, 0), '07,27,16,21': (28.3, 16.1, None, 0), '06,03,16,23': (3.9, 16.1, None, 0), '06,03,16,22': (3.9, 16.1, None, 0), '06,03,16,21': (4.4, 16.1, None, 0), '06,03,16,20': (4.4, 16.1, None, 0), '10,01,16,22': (5.0, 16.1, None, 0), '10,01,16,23': (5.0, 16.1, None, 0), '10,01,16,20': (8.3, 16.1, None, 0), '10,01,16,21': (6.1, 16.1, None, 0), '11,10,16,23': (12.8, 16.1, None, 0), '11,10,16,22': (12.8, 16.1, None, 0), '11,10,16,21': (12.8, 16.1, None, 0), '11,10,16,20': (12.8, 16.1, None, 0), '05,28,16,09': (25.6, 11.3, None, 0), '05,28,16,08': (24.4, 12.9, None, 0), '05,28,16,01': (23.9, 14.5, None, 0), '05,28,16,00': (23.9, 12.9, None, 0), '05,28,16,03': (22.2, 14.5, None, 0), '05,28,16,02': (22.8, 14.5, None, 0), '05,28,16,05': (21.7, 12.9, None, 0), '05,28,16,04': (21.7, 14.5, None, 0), '05,28,16,07': (22.8, 12.9, None, 0), '05,28,16,06': (22.2, 12.9, None, 0), '05,20,16,23': (17.2, 16.1, None, 0), '05,20,16,22': (17.8, 16.1, None, 0), '05,20,16,21': (17.8, 16.1, None, 0), '05,20,16,20': (18.3, 16.1, None, 0), '12,13,16,08': (2.8, 16.1, None, 0), '12,13,16,02': (2.8, 16.1, None, 0), '10,27,16,09': (5.6, 11.3, 0.0, 0), '07,18,16,08': (26.7, 11.3, None, 0), '07,18,16,09': (28.3, 11.3, None, 0), '07,18,16,02': (26.7, 16.1, None, 0), '07,18,16,03': (26.1, 14.5, None, 0), '07,18,16,00': (27.2, 16.1, None, 0), '07,18,16,01': (27.2, 16.1, None, 0), '07,18,16,06': (25.0, 11.3, None, 0), '07,18,16,07': (25.6, 11.3, None, 0), '07,18,16,04': (25.0, 14.5, None, 0), '07,18,16,05': (25.0, 12.9, None, 0), '11,28,16,08': (6.1, 16.1, None, 0), '11,28,16,09': (6.7, 14.5, None, 0), '11,28,16,00': (5.0, 16.1, None, 0), '11,28,16,01': (4.4, 16.1, None, 0), '11,28,16,02': (3.9, 16.1, None, 0), '11,28,16,03': (5.0, 16.1, None, 0), '11,28,16,04': (4.4, 16.1, None, 0), '11,28,16,05': (4.4, 16.1, None, 0), '11,28,16,06': (3.9, 16.1, None, 0), '11,28,16,07': (3.9, 16.1, None, 0), '10,26,16,16': (8.9, 16.1, None, 0), '10,26,16,17': (8.3, 16.1, None, 0), '10,26,16,14': (9.4, 16.1, None, 0), '10,26,16,15': (10.0, 16.1, None, 0), '10,26,16,12': (9.4, 16.1, None, 0), '10,26,16,13': (9.4, 16.1, None, 0), '10,26,16,10': (6.7, 16.1, None, 0), '10,26,16,11': (8.3, 16.1, None, 0), '10,26,16,18': (8.3, 16.1, None, 0), '10,26,16,19': (7.8, 16.1, None, 0), '05,19,16,23': (15.0, 16.1, None, 0), '05,19,16,22': (13.9, 16.1, None, 0), '05,19,16,21': (13.9, 16.1, None, 0), '05,19,16,20': (14.4, 16.1, None, 0), '07,26,16,23': (26.7, 16.1, None, 0), '07,26,16,22': (27.8, 16.1, None, 0), '07,26,16,21': (28.3, 16.1, None, 0), '07,26,16,20': (29.4, 16.1, None, 0), '07,12,16,19': (6.7, 16.1, None, 0), '07,12,16,18': (6.7, 16.1, None, 0), '07,12,16,13': (6.1, 12.9, None, 0), '07,12,16,12': (5.6, 6.4, None, 0), '07,12,16,11': (5.6, 9.7, None, 0), '07,12,16,10': (5.0, 9.7, None, 0), '07,12,16,17': (7.2, 16.1, None, 0), '07,12,16,16': (7.2, 16.1, None, 0), '07,12,16,15': (7.2, 16.1, None, 0), '07,12,16,14': (6.7, 14.5, None, 0), '08,19,16,20': (26.1, 14.5, None, 0), '08,19,16,21': (24.4, 11.3, 0.3, 0), '08,19,16,22': (25.0, 12.9, None, 0), '08,19,16,23': (25.0, 14.5, None, 0), '08,05,16,15': (17.8, 16.1, None, 0), '01,10,16,00': (13.3, 16.1, None, 0), '01,10,16,01': (13.3, 14.5, None, 0), '01,10,16,02': (13.3, 16.1, None, 0), '01,10,16,03': (13.3, 16.1, None, 0), '01,10,16,04': (13.3, 16.1, None, 0), '01,10,16,05': (13.9, 14.5, None, 0), '01,10,16,06': (13.9, 16.1, None, 0), '01,10,16,07': (13.9, 11.3, None, 0), '01,10,16,08': (14.4, 14.5, None, 0), '01,10,16,09': (15.0, 16.1, None, 0), '07,27,16,01': (26.7, 16.1, None, 0), '09,19,16,08': (21.1, 8.0, 0.5, 0), '01,21,16,08': (-2.2, 16.1, None, 0), '01,21,16,09': (-1.1, 16.1, None, 0), '01,21,16,00': (-1.1, 16.1, None, 0), '01,21,16,01': (-1.1, 16.1, None, 0), '01,21,16,02': (-1.7, 16.1, None, 0), '01,21,16,03': (-2.2, 16.1, None, 0), '01,21,16,04': (-2.8, 16.1, None, 0), '01,21,16,05': (-2.8, 16.1, None, 0), '01,21,16,06': (-2.8, 16.1, None, 0), '01,21,16,07': (-2.8, 16.1, None, 0), '03,25,16,19': (17.2, 16.1, None, 0), '03,25,16,18': (20.0, 16.1, None, 0), '03,25,16,11': (19.4, 14.5, None, 0), '03,25,16,10': (18.9, 14.5, None, 0), '03,25,16,13': (20.0, 16.1, 0.0, 0), '03,25,16,12': (18.3, 4.8, 0.0, 0), '07,20,16,21': (23.9, 16.1, None, 0), '07,20,16,20': (24.4, 16.1, None, 0), '07,20,16,23': (23.3, 16.1, None, 0), '07,20,16,22': (23.9, 16.1, None, 0), '08,27,16,05': (23.0, None, None, 0), '08,27,16,04': (24.0, None, None, 0), '08,27,16,07': (24.0, None, None, 0), '08,27,16,06': (24.0, None, None, 0), '08,27,16,01': (24.0, None, None, 0), '08,27,16,00': (25.0, None, None, 0), '08,27,16,03': (24.0, None, None, 0), '08,27,16,02': (23.0, None, None, 0), '08,27,16,09': (27.0, None, None, 0), '08,27,16,08': (25.0, None, None, 0), '04,30,16,05': (8.3, 16.1, None, 0), '04,30,16,04': (8.3, 16.1, None, 0), '04,30,16,07': (9.4, 16.1, None, 0), '04,30,16,06': (8.9, 16.1, None, 0), '01,12,16,08': (11.1, 16.1, None, 0), '01,12,16,09': (11.7, 16.1, None, 0), '01,12,16,02': (10.6, 4.8, None, 0), '01,12,16,03': (11.1, 16.1, None, 0), '01,12,16,00': (11.1, 3.2, 1.3, 0), '01,12,16,01': (11.1, 4.0, 0.3, 0), '01,12,16,06': (10.6, 16.1, None, 0), '01,12,16,07': (11.1, 16.1, None, 0), '01,12,16,04': (11.1, 16.1, 0.0, 0), '01,12,16,05': (10.6, 16.1, 0.3, 0), '10,13,16,09': (16.7, 11.3, None, 0), '10,13,16,08': (14.4, 11.3, None, 0), '10,13,16,01': (14.4, 16.1, None, 0), '10,13,16,00': (14.4, 16.1, None, 0), '10,13,16,03': (13.3, 14.5, None, 0), '10,13,16,02': (13.9, 14.5, None, 0), '10,13,16,05': (12.8, 8.0, None, 0), '10,13,16,04': (13.3, 12.9, None, 0), '10,13,16,07': (13.3, 8.0, None, 0), '10,13,16,06': (12.8, 9.7, None, 0), '09,11,16,18': (11.7, 8.0, 0.3, 0), '09,11,16,19': (10.6, 16.1, 0.3, 0), '09,11,16,12': (12.2, 4.8, 0.5, 0), '09,11,16,13': (12.2, 6.4, 0.3, 0), '09,11,16,10': (12.2, 11.3, None, 0), '09,11,16,11': (12.2, 6.4, 0.3, 0), '09,11,16,16': (12.8, 9.7, None, 0), '09,11,16,17': (12.2, 6.4, 0.0, 0), '09,11,16,14': (12.2, 6.4, 0.0, 0), '09,11,16,15': (12.2, 6.4, None, 0), '01,14,16,17': (2.8, 16.1, None, 0), '01,14,16,16': (2.8, 16.1, None, 0), '01,14,16,15': (2.8, 16.1, None, 0), '01,14,16,14': (2.2, 16.1, None, 0), '01,14,16,13': (1.7, 16.1, None, 0), '01,14,16,12': (0.6, 16.1, None, 0), '01,14,16,11': (-0.6, 16.1, None, 0), '01,14,16,10': (-1.7, 16.1, None, 0), '01,14,16,19': (3.3, 16.1, None, 0), '01,14,16,18': (2.8, 16.1, None, 0), '11,26,16,19': (6.7, 16.1, None, 0), '11,26,16,18': (6.7, 16.1, None, 0), '11,26,16,11': (9.4, 16.1, None, 0), '11,26,16,10': (8.3, 16.1, None, 0), '11,26,16,13': (9.4, 16.1, None, 0), '11,26,16,12': (8.9, 16.1, None, 0), '11,26,16,15': (8.9, 16.1, None, 0), '11,26,16,14': (10.0, 16.1, None, 0), '11,26,16,17': (7.2, 16.1, None, 0), '11,26,16,16': (7.8, 16.1, None, 0), '11,02,16,19': (-6.1, 16.1, None, 0), '11,02,16,18': (-5.6, 16.1, None, 0), '11,02,16,17': (-5.0, 16.1, None, 0), '11,02,16,16': (-5.0, 16.1, None, 0), '11,02,16,15': (-4.4, 16.1, None, 0), '11,02,16,14': (-4.4, 16.1, None, 0), '11,02,16,13': (-3.9, 16.1, None, 0), '11,02,16,12': (-4.4, 16.1, None, 0), '11,02,16,11': (-3.3, 16.1, None, 0), '11,02,16,10': (-4.4, 16.1, None, 0), '06,12,16,10': (7.8, 16.1, None, 0), '06,12,16,11': (6.7, 16.1, None, 0), '06,12,16,12': (7.2, 16.1, None, 0), '06,12,16,13': (7.2, 16.1, None, 0), '06,12,16,14': (7.2, 16.1, None, 0), '06,12,16,15': (7.2, 16.1, None, 0), '06,12,16,16': (7.2, 16.1, None, 0), '06,12,16,17': (7.2, 16.1, None, 0), '06,12,16,18': (5.0, 14.5, 1.0, 0), '06,12,16,19': (4.4, 8.0, 3.0, 0), '02,05,16,07': (8.3, 4.8, None, 0), '02,05,16,06': (7.8, 6.4, None, 0), '02,05,16,05': (7.8, 4.8, None, 0), '02,05,16,04': (7.8, 4.8, None, 0), '02,05,16,03': (7.2, 4.8, None, 0), '02,05,16,02': (7.2, 4.8, None, 0), '02,05,16,01': (7.2, 6.4, None, 0), '02,05,16,00': (7.8, 6.4, None, 0), '02,05,16,09': (9.4, 6.4, None, 0), '02,05,16,08': (8.9, 4.0, None, 0), '12,28,16,12': (3.9, 16.1, None, 0), '12,28,16,13': (3.9, 16.1, None, 0), '12,28,16,10': (4.4, 16.1, None, 0), '12,28,16,11': (3.9, 16.1, None, 0), '07,28,16,21': (26.1, 4.8, 0.0, 0), '07,28,16,20': (26.1, 11.3, None, 0), '08,04,16,02': (8.9, 16.1, None, 0), '07,28,16,22': (26.1, 4.8, None, 0), '11,16,16,00': (8.3, 16.1, None, 0), '09,02,16,23': (1.1, 14.5, None, 0), '09,02,16,22': (1.1, 14.5, None, 0), '09,02,16,21': (1.1, 16.1, None, 0), '09,02,16,20': (1.1, 14.5, None, 0), '07,27,16,00': (26.7, 16.1, None, 0), '02,19,16,23': (3.9, 16.1, None, 0), '07,27,16,02': (25.0, 16.1, None, 0), '03,27,16,04': (6.1, 16.1, None, 0), '03,27,16,05': (6.1, 16.1, None, 0), '03,27,16,06': (6.1, 16.1, None, 0), '07,27,16,03': (24.4, 16.1, None, 0), '03,27,16,00': (6.1, 16.1, None, 0), '03,27,16,01': (6.1, 16.1, None, 0), '07,30,16,19': (22.8, 4.8, 0.3, 0), '07,30,16,18': (23.3, 3.2, 1.0, 0), '07,30,16,17': (23.3, 1.6, 1.5, 0), '07,30,16,16': (23.3, 3.2, 1.8, 0), '07,30,16,15': (23.9, 2.0, 1.0, 0), '07,30,16,14': (26.7, 9.7, None, 0), '07,30,16,13': (26.1, 9.7, 0.0, 0), '07,30,16,12': (26.7, 9.7, None, 0), '07,30,16,11': (28.3, 11.3, None, 0), '07,30,16,10': (26.7, 9.7, None, 0), '11,23,16,18': (5.6, 16.1, None, 0), '11,23,16,19': (5.0, 16.1, None, 0), '12,04,16,09': (13.9, 6.4, 1.5, 0), '11,23,16,14': (6.7, 16.1, None, 0), '11,23,16,15': (6.7, 16.1, None, 0), '11,23,16,16': (6.1, 16.1, None, 0), '07,27,16,07': (25.6, 14.5, None, 0), '11,23,16,10': (3.9, 16.1, None, 0), '11,23,16,11': (5.0, 16.1, None, 0), '11,23,16,12': (5.6, 16.1, None, 0), '11,23,16,13': (7.2, 16.1, None, 0), '11,25,16,23': (10.0, 9.7, None, 0), '11,25,16,22': (10.0, 9.7, None, 0), '11,25,16,21': (10.0, 9.7, None, 0), '11,25,16,20': (10.0, 9.7, None, 0), '09,05,16,05': (12.8, 16.1, None, 0), '05,12,16,06': (3.9, 6.4, 0.8, 0), '05,12,16,07': (4.4, 9.7, 0.5, 0), '05,12,16,04': (3.9, 4.8, 1.5, 0), '05,12,16,05': (3.9, 4.8, 1.0, 0), '05,12,16,02': (5.0, 16.1, 0.0, 0), '05,12,16,03': (4.4, 8.0, 1.0, 0), '05,12,16,00': (5.0, 16.1, None, 0), '05,12,16,01': (5.0, 16.1, None, 0), '05,12,16,08': (5.6, 12.9, None, 0), '05,12,16,09': (6.1, 12.9, None, 0), '10,02,16,14': (3.3, 16.1, None, 0), '10,02,16,15': (3.3, 16.1, None, 0), '10,02,16,16': (2.8, 16.1, None, 0), '10,02,16,17': (2.2, 16.1, None, 0), '10,02,16,10': (1.7, 12.9, None, 0), '10,02,16,11': (2.8, 16.1, None, 0), '10,02,16,12': (3.3, 16.1, None, 0), '10,02,16,13': (3.3, 16.1, None, 0), '10,02,16,18': (1.1, 16.1, None, 0), '10,02,16,19': (0.6, 16.1, None, 0), '06,03,16,05': (0.6, 16.1, None, 0), '03,31,16,13': (21.1, 16.1, None, 0), '06,03,16,07': (1.1, 16.1, None, 0), '06,03,16,06': (0.6, 16.1, None, 0), '06,03,16,01': (1.1, 16.1, None, 0), '06,03,16,00': (1.7, 16.1, None, 0), '06,03,16,03': (0.6, 16.1, None, 0), '03,31,16,15': (22.2, 16.1, None, 0), '03,31,16,18': (18.3, 16.1, None, 0), '03,31,16,19': (17.8, 16.1, None, 0), '06,03,16,09': (2.8, 16.1, None, 0), '06,03,16,08': (2.2, 16.1, None, 0), '11,10,16,05': (9.4, 16.1, None, 0), '11,10,16,04': (8.3, 16.1, None, 0), '11,10,16,07': (8.9, 16.1, None, 0), '11,10,16,06': (8.3, 16.1, None, 0), '11,10,16,01': (9.4, 16.1, None, 0), '11,10,16,00': (10.0, 16.1, None, 0), '11,10,16,03': (8.9, 16.1, None, 0), '11,10,16,02': (8.9, 16.1, None, 0), '11,10,16,09': (11.1, 16.1, None, 0), '11,10,16,08': (10.0, 16.1, None, 0), '08,25,16,09': (26.0, None, None, 0), '10,01,16,01': (7.8, 11.3, 0.0, 0), '08,25,16,08': (24.0, None, None, 0), '11,28,16,18': (8.9, 16.1, None, 0), '05,20,16,01': (14.4, 16.1, None, 0), '05,20,16,00': (15.0, 16.1, None, 0), '05,20,16,03': (14.4, 16.1, None, 0), '05,20,16,02': (14.4, 16.1, None, 0), '05,20,16,05': (12.2, 16.1, None, 0), '05,20,16,04': (12.2, 16.1, None, 0), '05,20,16,07': (13.9, 16.1, None, 0), '05,20,16,06': (12.8, 16.1, None, 0), '05,20,16,09': (17.8, 16.1, None, 0), '05,20,16,08': (15.0, 16.1, None, 0), '10,01,16,07': (8.9, 2.0, 11.9, 0), '12,07,16,07': (22.2, 16.1, None, 0), '10,11,16,09': (7.2, 16.1, None, 0), '10,11,16,08': (6.1, 16.1, None, 0), '10,11,16,03': (5.6, 16.1, None, 0), '10,11,16,02': (6.7, 16.1, None, 0), '10,11,16,01': (7.8, 16.1, None, 0), '10,11,16,00': (8.3, 16.1, None, 0), '10,11,16,07': (5.0, 16.1, None, 0), '10,11,16,06': (5.0, 16.1, None, 0), '10,11,16,05': (5.0, 16.1, None, 0), '10,11,16,04': (5.0, 16.1, None, 0), '04,14,16,18': (12.2, 16.1, None, 0), '04,14,16,19': (10.0, 16.1, None, 0), '04,14,16,14': (15.6, 16.1, None, 0), '04,14,16,15': (16.1, 16.1, None, 0), '04,14,16,16': (16.7, 16.1, None, 0), '04,14,16,17': (13.9, 16.1, None, 0), '04,14,16,10': (10.6, 16.1, None, 0), '04,14,16,11': (12.2, 16.1, None, 0), '04,14,16,12': (13.9, 16.1, None, 0), '04,14,16,13': (15.6, 16.1, None, 0), '03,30,16,00': (4.4, 16.1, None, 0), '03,30,16,01': (3.9, 16.1, None, 0), '03,30,16,02': (3.3, 16.1, None, 0), '03,30,16,03': (3.3, 16.1, None, 0), '03,30,16,04': (3.3, 16.1, None, 0), '03,30,16,05': (2.8, 16.1, None, 0), '03,30,16,06': (2.8, 16.1, None, 0), '03,30,16,07': (3.3, 16.1, None, 0), '03,30,16,08': (5.6, 16.1, None, 0), '03,30,16,09': (7.8, 16.1, None, 0), '03,28,16,07': (6.1, 4.0, 1.3, 0), '03,28,16,06': (5.6, 4.0, None, 0), '03,28,16,05': (5.6, 4.8, 0.5, 0), '03,28,16,04': (5.6, 8.0, 0.3, 0), '03,28,16,03': (5.6, 8.0, 0.0, 0), '03,28,16,02': (6.7, 16.1, None, 0), '03,28,16,01': (7.2, 16.1, None, 0), '03,28,16,00': (6.7, 16.1, None, 0), '03,28,16,09': (6.7, 2.8, 2.0, 0), '03,28,16,08': (6.7, 2.8, 0.8, 0), '05,19,16,01': (12.8, 16.1, None, 0), '05,19,16,00': (12.8, 16.1, None, 0), '05,19,16,03': (12.8, 16.1, None, 0), '05,19,16,02': (12.8, 16.1, None, 0), '05,19,16,05': (12.8, 16.1, None, 0), '05,19,16,04': (12.8, 16.1, None, 0), '05,19,16,07': (14.4, 16.1, None, 0), '05,19,16,06': (13.9, 16.1, None, 0), '05,19,16,09': (16.7, 16.1, None, 0), '05,19,16,08': (15.6, 16.1, None, 0), '07,26,16,05': (22.2, 16.1, None, 0), '07,26,16,04': (22.2, 16.1, None, 0), '07,26,16,07': (23.3, 12.9, None, 0), '07,26,16,06': (22.2, 14.5, None, 0), '07,26,16,01': (22.8, 12.9, None, 0), '07,26,16,00': (23.3, 9.7, None, 0), '07,26,16,03': (22.2, 16.1, None, 0), '07,26,16,02': (22.2, 14.5, None, 0), '07,26,16,09': (26.1, 12.9, None, 0), '07,26,16,08': (24.4, 12.9, None, 0), '11,28,16,17': (8.3, 16.1, None, 0), '08,19,16,02': (25.0, 16.1, None, 0), '08,19,16,03': (23.9, 16.1, None, 0), '08,19,16,00': (25.0, 16.1, None, 0), '08,19,16,01': (25.0, 16.1, None, 0), '08,19,16,06': (23.9, 12.9, None, 0), '08,19,16,07': (24.4, 12.9, None, 0), '08,19,16,04': (23.9, 16.1, None, 0), '08,19,16,05': (23.9, 16.1, None, 0), '03,22,16,23': (9.4, 16.1, None, 0), '03,22,16,22': (10.6, 16.1, None, 0), '03,22,16,21': (11.1, 16.1, None, 0), '03,22,16,20': (11.7, 16.1, None, 0), '10,29,16,06': (3.9, 16.1, None, 0), '10,29,16,07': (5.0, 16.1, None, 0), '01,10,16,22': (15.0, 8.0, None, 0), '01,10,16,23': (14.4, 9.7, None, 0), '01,10,16,20': (15.6, 16.1, None, 0), '01,10,16,21': (15.6, 16.1, None, 0), '05,19,16,19': (15.6, 16.1, None, 0), '10,29,16,08': (7.2, 16.1, None, 0), '07,02,16,03': (1.7, 16.1, None, 0), '07,02,16,02': (2.2, 16.1, None, 0), '07,02,16,01': (2.2, 16.1, None, 0), '07,02,16,00': (2.2, 16.1, None, 0), '07,02,16,07': (1.7, 16.1, None, 0), '07,02,16,06': (1.7, 16.1, None, 0), '07,02,16,05': (1.1, 16.1, None, 0), '07,02,16,04': (1.7, 16.1, None, 0), '07,02,16,09': (3.9, 16.1, None, 0), '07,02,16,08': (2.8, 16.1, None, 0), '04,05,16,23': (9.4, 16.1, None, 0), '04,05,16,22': (9.4, 16.1, None, 0), '04,05,16,21': (10.0, 16.1, None, 0), '04,05,16,20': (10.0, 16.1, None, 0), '09,18,16,13': (27.2, 12.9, None, 0), '09,18,16,12': (26.1, 12.9, None, 0), '09,18,16,11': (25.0, 12.9, None, 0), '09,18,16,10': (24.4, 12.9, None, 0), '09,18,16,17': (26.7, 12.9, None, 0), '09,18,16,16': (26.7, 14.5, None, 0), '09,18,16,15': (27.2, 14.5, None, 0), '09,18,16,14': (27.2, 12.9, None, 0), '09,18,16,19': (26.1, 14.5, None, 0), '09,18,16,18': (25.6, 12.9, None, 0), '10,01,16,13': (15.0, 11.3, None, 0), '12,29,16,00': (1.1, 16.1, None, 0), '12,29,16,01': (1.1, 16.1, None, 0), '12,29,16,02': (1.7, 16.1, None, 0), '12,29,16,03': (1.7, 16.1, None, 0), '12,29,16,04': (2.2, 16.1, None, 0), '12,29,16,05': (2.8, 16.1, None, 0), '08,03,16,09': (14.4, 16.1, None, 0), '08,03,16,08': (12.2, 16.1, None, 0), '08,03,16,07': (10.0, 16.1, None, 0), '08,03,16,06': (9.4, 16.1, None, 0), '08,03,16,05': (8.9, 16.1, None, 0), '08,03,16,04': (10.0, 16.1, None, 0), '08,03,16,03': (11.1, 16.1, None, 0), '08,03,16,02': (10.6, 16.1, None, 0), '08,03,16,01': (11.7, 16.1, None, 0), '08,03,16,00': (11.7, 16.1, None, 0), '09,18,16,23': (24.4, 16.1, None, 0), '12,22,16,07': (5.6, 16.1, None, 0), '05,17,16,14': (17.0, None, None, 0), '12,22,16,05': (3.9, 16.1, None, 0), '12,22,16,04': (3.9, 16.1, None, 0), '12,22,16,03': (3.3, 16.1, None, 0), '12,22,16,02': (3.3, 16.1, None, 0), '09,18,16,20': (25.0, 14.5, None, 0), '05,17,16,15': (16.0, None, None, 0), '05,17,16,16': (15.6, 16.1, None, 0), '12,22,16,09': (7.2, 16.1, None, 0), '12,22,16,08': (6.7, 16.1, None, 0), '05,17,16,17': (14.4, 16.1, None, 0), '05,17,16,10': (17.0, None, None, 0), '05,17,16,11': (16.0, None, None, 0), '03,16,16,08': (11.7, 16.1, None, 0), '03,16,16,09': (13.3, 16.1, None, 0), '09,18,16,21': (25.0, 14.5, None, 0), '05,17,16,12': (18.0, None, None, 0), '03,16,16,00': (11.7, 16.1, None, 0), '03,16,16,01': (11.1, 16.1, None, 0), '03,16,16,02': (10.6, 16.1, None, 0), '03,16,16,03': (10.0, 16.1, None, 0), '03,16,16,04': (9.4, 16.1, None, 0), '03,16,16,05': (9.4, 16.1, None, 0), '03,16,16,06': (9.4, 16.1, None, 0), '03,16,16,07': (10.0, 16.1, None, 0), '02,03,16,18': (1.7, 16.1, None, 0), '02,03,16,19': (1.1, 16.1, None, 0), '02,03,16,16': (3.9, 16.1, None, 0), '02,03,16,17': (2.8, 16.1, None, 0), '02,03,16,14': (4.4, 16.1, None, 0), '02,03,16,15': (4.4, 16.1, None, 0), '02,03,16,12': (4.4, 16.1, None, 0), '02,03,16,13': (5.6, 16.1, None, 0), '02,03,16,10': (5.6, 16.1, None, 0), '02,03,16,11': (4.4, 16.1, None, 0), '06,06,16,08': (21.7, 12.9, None, 0), '06,06,16,09': (22.2, 14.5, None, 0), '06,06,16,04': (18.9, 8.0, None, 0), '06,06,16,05': (18.9, 6.4, None, 0), '06,06,16,06': (19.4, 8.0, None, 0), '06,06,16,07': (20.6, 9.7, None, 0), '06,06,16,00': (18.9, 9.7, None, 0), '06,06,16,01': (18.9, 9.7, None, 0), '06,06,16,02': (18.9, 8.0, None, 0), '06,06,16,03': (18.9, 8.0, None, 0), '02,05,16,21': (13.9, 11.3, None, 0), '02,05,16,20': (13.3, 11.3, None, 0), '02,05,16,23': (13.9, 9.7, 0.0, 0), '02,05,16,22': (13.9, 11.3, None, 0), '06,24,16,08': (22.2, 16.1, None, 0), '06,24,16,09': (22.8, 16.1, None, 0), '06,24,16,00': (21.7, 12.9, None, 0), '06,24,16,01': (21.7, 9.7, None, 0), '06,24,16,02': (21.1, 9.7, None, 0), '06,24,16,03': (21.7, 9.7, None, 0), '06,24,16,04': (20.6, 14.5, None, 0), '06,24,16,05': (21.1, 16.1, None, 0), '06,24,16,06': (21.1, 16.1, None, 0), '06,24,16,07': (22.2, 16.1, None, 0), '01,03,16,13': (10.6, 16.1, None, 0), '01,03,16,12': (9.4, 16.1, None, 0), '01,03,16,11': (8.3, 16.1, None, 0), '01,03,16,10': (6.7, 16.1, None, 0), '01,03,16,17': (7.2, 16.1, None, 0), '01,03,16,16': (7.2, 16.1, None, 0), '01,03,16,15': (8.3, 16.1, None, 0), '01,03,16,14': (8.9, 16.1, None, 0), '10,15,16,10': (13.3, 16.1, None, 0), '01,03,16,19': (7.8, 16.1, None, 0), '01,03,16,18': (7.2, 16.1, None, 0), '10,15,16,11': (15.6, 16.1, None, 0), '05,18,16,17': (15.0, None, None, 0), '05,18,16,16': (17.0, None, None, 0), '05,18,16,15': (18.0, None, None, 0), '05,18,16,14': (19.0, None, None, 0), '05,18,16,13': (20.0, None, None, 0), '05,18,16,12': (18.0, None, None, 0), '05,18,16,11': (17.0, None, None, 0), '05,18,16,10': (16.0, None, None, 0), '05,18,16,19': (14.4, 16.1, None, 0), '05,18,16,18': (14.4, None, None, 0), '01,01,16,15': (3.9, 16.1, None, 0), '01,01,16,14': (3.9, 16.1, None, 0), '01,01,16,17': (3.3, 16.1, None, 0), '01,01,16,16': (3.3, 16.1, None, 0), '01,01,16,11': (4.4, 16.1, None, 0), '01,01,16,10': (4.4, 16.1, None, 0), '01,01,16,13': (4.4, 16.1, None, 0), '01,01,16,12': (4.4, 16.1, None, 0), '10,15,16,18': (13.9, 16.1, None, 0), '01,01,16,19': (2.8, 16.1, None, 0), '01,01,16,18': (2.8, 16.1, None, 0), '10,15,16,19': (13.9, 16.1, None, 0), '07,15,16,18': (30.0, 14.5, None, 0), '07,15,16,19': (29.4, 14.5, None, 0), '07,15,16,10': (30.0, 12.9, None, 0), '07,15,16,11': (30.6, 12.9, None, 0), '07,15,16,12': (29.4, 12.9, None, 0), '07,15,16,13': (28.9, 12.9, None, 0), '07,15,16,14': (30.6, 12.9, None, 0), '07,15,16,15': (30.6, 14.5, None, 0), '07,15,16,16': (30.0, 14.5, None, 0), '07,15,16,17': (30.6, 14.5, None, 0), '04,27,16,16': (15.0, 16.1, None, 0), '04,27,16,17': (14.4, 16.1, None, 0), '04,27,16,14': (15.0, 16.1, None, 0), '04,27,16,15': (16.7, 16.1, None, 0), '03,18,16,20': (9.4, 16.1, None, 0), '03,18,16,21': (8.9, 16.1, None, 0), '03,18,16,22': (7.2, 16.1, None, 0), '03,18,16,23': (6.1, 16.1, None, 0), '04,27,16,18': (12.8, 16.1, None, 0), '04,27,16,19': (12.2, 16.1, None, 0), '09,02,16,05': (-2.8, 16.1, None, 0), '09,02,16,04': (-2.8, 16.1, None, 0), '09,02,16,07': (-2.2, 16.1, None, 0), '09,02,16,06': (-2.2, 16.1, None, 0), '09,02,16,01': (-2.2, 16.1, None, 0), '09,02,16,00': (-2.2, 16.1, None, 0), '09,02,16,03': (-2.2, 8.0, None, 0), '09,02,16,02': (-2.2, 11.3, None, 0), '09,02,16,09': (-1.7, 16.1, None, 0), '09,02,16,08': (-2.2, 16.1, None, 0), '03,27,16,22': (7.2, 16.1, None, 0), '03,27,16,23': (7.2, 14.5, None, 0), '03,27,16,20': (7.2, 16.1, None, 0), '03,27,16,21': (7.2, 16.1, None, 0), '11,20,16,13': (5.0, 16.1, None, 0), '11,20,16,12': (5.0, 16.1, None, 0), '11,20,16,11': (5.0, 16.1, None, 0), '11,20,16,10': (4.4, 16.1, None, 0), '11,20,16,17': (3.9, 16.1, None, 0), '11,20,16,16': (4.4, 16.1, None, 0), '11,20,16,15': (5.0, 16.1, None, 0), '11,20,16,14': (3.9, 16.1, None, 0), '11,20,16,19': (4.4, 16.1, None, 0), '11,20,16,18': (3.9, 16.1, None, 0), '11,08,16,09': (28.3, 11.3, None, 0), '11,25,16,01': (7.8, 12.9, None, 0), '11,25,16,00': (7.8, 12.9, None, 0), '11,25,16,03': (7.2, 12.9, None, 0), '11,25,16,02': (7.2, 12.9, None, 0), '02,14,16,23': (-10.0, 16.1, None, 0), '02,14,16,22': (-10.0, 16.1, None, 0), '02,14,16,21': (-10.0, 16.1, None, 0), '02,14,16,20': (-10.0, 16.1, None, 0), '11,25,16,09': (10.0, 9.7, None, 0), '11,25,16,08': (8.3, 9.7, None, 0), '07,09,16,08': (22.8, 14.5, None, 0), '07,09,16,09': (23.3, 16.1, None, 0), '07,09,16,04': (21.7, 16.1, None, 0), '07,09,16,05': (22.2, 16.1, None, 0), '07,09,16,06': (22.2, 16.1, None, 0), '07,09,16,07': (22.8, 14.5, None, 0), '07,09,16,00': (21.7, 9.7, None, 0), '07,09,16,01': (22.2, 11.3, None, 0), '07,09,16,02': (21.7, 16.1, None, 0), '07,09,16,03': (22.2, 16.1, None, 0), '01,20,16,05': (-2.2, 16.1, None, 0), '01,20,16,04': (-2.8, 16.1, None, 0), '01,20,16,07': (-1.7, 16.1, None, 0), '08,18,16,07': (22.8, 16.1, None, 0), '08,18,16,06': (22.2, 14.5, None, 0), '08,18,16,05': (22.8, 16.1, 0.5, 0), '01,20,16,06': (-2.2, 16.1, None, 0), '08,18,16,03': (25.6, 16.1, None, 0), '08,18,16,02': (25.6, 16.1, None, 0), '08,18,16,01': (25.6, 16.1, None, 0), '08,18,16,00': (26.1, 16.1, None, 0), '01,20,16,01': (-2.2, 16.1, None, 0), '08,18,16,09': (24.4, 14.5, None, 0), '01,20,16,00': (-1.7, 16.1, None, 0), '01,20,16,03': (-2.2, 16.1, None, 0), '11,08,16,05': (26.7, 14.5, None, 0), '01,20,16,02': (-2.2, 16.1, None, 0), '07,04,16,16': (13.9, 16.1, None, 0), '07,04,16,17': (13.9, 16.1, None, 0), '07,04,16,14': (12.8, 11.3, 0.3, 0), '07,04,16,15': (14.4, 16.1, 0.0, 0), '05,14,16,19': (17.0, None, None, 0), '05,14,16,18': (18.0, None, None, 0), '05,14,16,13': (22.0, None, None, 0), '05,14,16,17': (21.0, None, None, 0), '05,14,16,16': (21.0, None, None, 0), '05,14,16,15': (19.0, None, None, 0), '05,14,16,14': (20.0, None, None, 0), '04,03,16,03': (-0.6, 2.8, 0.0, 0), '04,03,16,02': (-0.6, 1.6, 0.3, 0), '04,03,16,01': (0.0, 6.4, None, 0), '04,03,16,00': (0.6, 11.3, None, 0), '04,03,16,07': (-1.1, 1.2, 0.3, 0), '04,03,16,06': (-1.1, 2.4, 0.0, 0), '04,03,16,05': (-1.1, 4.0, 0.3, 0), '04,03,16,04': (-0.6, 1.6, 0.0, 0), '04,03,16,09': (-1.1, 1.2, 0.3, 0), '04,03,16,08': (-1.1, 1.2, 0.5, 0), '10,08,16,12': (26.7, 6.4, 0.3, 0), '10,08,16,13': (26.7, 8.0, 1.8, 0), '10,08,16,10': (26.7, 12.9, None, 0), '10,08,16,11': (27.8, 11.3, None, 0), '10,08,16,16': (29.4, 11.3, None, 0), '10,08,16,17': (30.0, 12.9, None, 0), '10,08,16,14': (28.3, 11.3, None, 0), '10,08,16,15': (28.9, 11.3, None, 0), '10,08,16,18': (29.4, 12.9, None, 0), '10,08,16,19': (29.4, 14.5, None, 0), '12,04,16,03': (12.2, 16.1, None, 0), '12,04,16,02': (11.7, 16.1, None, 0), '10,11,16,21': (11.7, 16.1, None, 0), '10,11,16,20': (12.2, 16.1, None, 0), '10,11,16,23': (11.1, 16.1, None, 0), '10,11,16,22': (11.7, 16.1, None, 0), '12,05,16,19': (18.9, 16.1, None, 0), '03,30,16,22': (8.3, 16.1, None, 0), '03,30,16,23': (9.4, 16.1, None, 0), '03,30,16,20': (9.4, 16.1, None, 0), '03,30,16,21': (9.4, 16.1, None, 0), '11,30,16,09': (13.9, 8.0, None, 0), '11,30,16,08': (13.9, 11.3, None, 0), '11,30,16,07': (12.8, 8.0, None, 0), '11,30,16,06': (12.2, 11.3, None, 0), '11,30,16,05': (12.2, 12.9, None, 0), '11,30,16,04': (12.2, 12.9, None, 0), '11,30,16,03': (12.8, 11.3, None, 0), '11,30,16,02': (12.8, 11.3, None, 0), '11,30,16,01': (12.8, 14.5, None, 0), '11,30,16,00': (13.9, 16.1, None, 0), '12,04,16,08': (13.3, 6.4, 2.3, 0), '12,05,16,18': (22.2, 16.1, None, 0), '10,12,16,23': (-1.1, 16.1, None, 0), '10,12,16,06': (-1.7, 16.1, None, 0), '06,28,16,17': (23.3, 12.9, None, 0), '06,28,16,16': (23.9, 12.9, None, 0), '06,28,16,15': (23.3, 12.9, None, 0), '06,28,16,14': (23.3, 11.3, None, 0), '06,28,16,13': (22.2, 9.7, None, 0), '06,28,16,12': (21.7, 8.0, None, 0), '06,28,16,11': (21.7, 8.0, None, 0), '06,28,16,10': (21.7, 9.7, None, 0), '06,28,16,19': (22.2, 8.0, None, 0), '06,28,16,18': (22.2, 11.3, None, 0), '05,01,16,11': (-5.6, 16.1, None, 0), '05,01,16,10': (-7.2, 16.1, None, 0), '05,01,16,13': (-2.8, 16.1, None, 0), '05,01,16,12': (-3.9, 16.1, None, 0), '05,01,16,15': (-2.2, 16.1, None, 0), '05,01,16,14': (-2.2, 16.1, None, 0), '05,01,16,17': (-2.8, 16.1, None, 0), '05,01,16,16': (-2.2, 16.1, None, 0), '03,28,16,21': (11.1, 16.1, None, 0), '03,28,16,20': (12.8, 16.1, None, 0), '03,28,16,23': (10.0, 16.1, None, 0), '03,28,16,22': (10.6, 16.1, None, 0), '03,10,16,11': (20.0, 14.5, None, 0), '03,10,16,10': (17.8, 11.3, None, 0), '03,10,16,13': (21.1, 14.5, None, 0), '03,10,16,12': (20.0, 14.5, None, 0), '03,10,16,15': (21.7, 14.5, None, 0), '03,10,16,14': (21.1, 14.5, None, 0), '03,10,16,17': (20.0, 12.9, None, 0), '03,10,16,16': (21.7, 14.5, None, 0), '03,10,16,19': (18.9, 16.1, None, 0), '03,10,16,18': (19.4, 16.1, None, 0), '03,22,16,07': (1.7, 16.1, None, 0), '03,22,16,06': (1.7, 16.1, None, 0), '03,22,16,01': (2.2, 16.1, None, 0), '03,22,16,00': (2.8, 16.1, None, 0), '03,22,16,03': (2.2, 16.1, None, 0), '03,22,16,02': (2.2, 16.1, None, 0), '12,30,16,11': (3.9, 16.1, None, 0), '12,30,16,10': (3.9, 16.1, None, 0), '12,30,16,13': (4.4, 16.1, None, 0), '12,30,16,12': (3.9, 16.1, None, 0), '12,30,16,15': (4.4, 16.1, None, 0), '12,30,16,14': (3.9, 16.1, None, 0), '12,30,16,17': (1.7, 16.1, 0.3, 0), '12,30,16,16': (1.1, 14.5, None, 0), '12,30,16,19': (1.7, 16.1, None, 0), '12,30,16,18': (1.7, 16.1, None, 0), '04,02,16,20': (8.3, 16.1, 0.0, 0), '04,02,16,21': (7.8, 16.1, 0.0, 0), '04,02,16,22': (6.7, 16.1, 0.0, 0), '04,02,16,23': (6.7, 16.1, 0.0, 0), '07,02,16,21': (3.9, 16.1, None, 0), '07,02,16,20': (3.9, 16.1, None, 0), '07,02,16,23': (3.9, 16.1, None, 0), '07,02,16,22': (4.4, 16.1, None, 0), '08,22,16,04': (21.1, 16.1, None, 0), '08,22,16,05': (20.6, 16.1, None, 0), '08,22,16,06': (20.6, 14.5, None, 0), '08,22,16,07': (20.6, 16.1, None, 0), '08,22,16,00': (23.3, 16.1, None, 0), '08,22,16,01': (22.8, 16.1, None, 0), '08,22,16,02': (22.2, 16.1, None, 0), '08,22,16,03': (21.7, 16.1, None, 0), '04,05,16,09': (10.6, 16.1, None, 0), '04,05,16,08': (10.6, 16.1, None, 0), '04,05,16,05': (10.0, 16.1, None, 0), '04,05,16,04': (10.0, 16.1, None, 0), '04,05,16,07': (10.0, 16.1, 0.0, 0), '04,05,16,06': (9.4, 4.8, 0.3, 0), '04,05,16,01': (10.6, 6.4, None, 0), '04,05,16,00': (10.6, 8.0, None, 0), '04,05,16,03': (10.0, 11.3, None, 0), '04,05,16,02': (10.0, 8.0, None, 0), '06,22,16,11': (28.3, 14.5, None, 0), '06,22,16,10': (26.7, 14.5, None, 0), '06,22,16,13': (27.8, 16.1, None, 0), '06,22,16,12': (28.9, 16.1, None, 0), '06,22,16,15': (28.3, 16.1, None, 0), '06,22,16,14': (28.9, 16.1, None, 0), '06,22,16,17': (28.3, 16.1, None, 0), '06,22,16,16': (28.9, 16.1, None, 0), '06,22,16,19': (26.7, 16.1, None, 0), '06,22,16,18': (27.8, 16.1, None, 0), '12,29,16,22': (3.3, 16.1, None, 0), '12,29,16,23': (3.3, 16.1, None, 0), '12,29,16,20': (4.4, 16.1, None, 0), '12,29,16,21': (3.3, 16.1, None, 0), '08,03,16,21': (10.0, 11.3, None, 0), '08,03,16,20': (10.0, 11.3, None, 0), '08,03,16,23': (8.9, 9.7, None, 0), '08,03,16,22': (9.4, 11.3, None, 0), '11,17,16,15': (15.6, 16.1, None, 0), '11,17,16,14': (15.6, 16.1, None, 0), '11,17,16,17': (12.8, 16.1, None, 0), '11,17,16,16': (14.4, 16.1, None, 0), '11,17,16,19': (11.7, 16.1, None, 0), '11,17,16,18': (12.2, 16.1, None, 0), '09,13,16,14': (26.1, 16.1, None, 0), '09,13,16,15': (25.6, 16.1, None, 0), '09,13,16,16': (25.0, 16.1, None, 0), '09,13,16,17': (24.4, 16.1, None, 0), '09,13,16,10': (22.8, 14.5, None, 0), '09,13,16,11': (25.6, 14.5, None, 0), '04,21,16,09': (13.9, 16.1, None, 0), '04,21,16,08': (12.2, 16.1, None, 0), '04,21,16,07': (10.6, 16.1, None, 0), '04,21,16,06': (10.0, 16.1, None, 0), '04,21,16,05': (10.0, 16.1, None, 0), '04,21,16,04': (9.4, 16.1, None, 0), '04,21,16,03': (10.0, 16.1, None, 0), '04,21,16,02': (11.1, 16.1, None, 0), '04,21,16,01': (11.1, 16.1, None, 0), '04,21,16,00': (11.7, 16.1, None, 0), '03,23,16,13': (18.3, 16.1, None, 0), '03,23,16,12': (16.7, 16.1, None, 0), '03,23,16,11': (15.6, 16.1, None, 0), '03,23,16,10': (14.4, 16.1, None, 0), '03,23,16,17': (21.1, 16.1, None, 0), '03,23,16,16': (21.7, 16.1, None, 0), '03,23,16,15': (20.6, 16.1, None, 0), '03,23,16,14': (19.4, 16.1, None, 0), '03,23,16,19': (18.9, 16.1, None, 0), '03,23,16,18': (20.6, 16.1, None, 0), '12,22,16,21': (4.4, 16.1, None, 0), '12,22,16,20': (5.0, 16.1, None, 0), '12,22,16,23': (4.4, 16.1, None, 0), '12,22,16,22': (4.4, 16.1, None, 0), '03,21,16,15': (9.4, 16.1, None, 0), '03,21,16,14': (8.9, 16.1, None, 0), '03,21,16,17': (7.8, 16.1, None, 0), '03,21,16,16': (8.3, 16.1, None, 0), '03,21,16,11': (6.7, 16.1, None, 0), '03,21,16,10': (4.4, 16.1, None, 0), '03,21,16,13': (8.9, 16.1, None, 0), '08,08,16,09': (25.6, 14.5, None, 0), '03,21,16,19': (6.1, 16.1, None, 0), '03,21,16,18': (6.7, 16.1, None, 0), '03,16,16,22': (10.0, 16.1, None, 0), '03,16,16,23': (10.0, 16.1, None, 0), '03,16,16,20': (11.1, 16.1, None, 0), '03,16,16,21': (10.0, 16.1, None, 0), '02,07,16,23': (22.0, 16.1, None, 0), '02,07,16,22': (23.0, 16.1, None, 0), '02,07,16,21': (23.0, 16.1, None, 0), '02,07,16,20': (23.0, 16.1, None, 0), '08,26,16,14': (32.0, None, None, 0), '04,28,16,20': (10.0, 16.1, None, 0), '04,28,16,21': (10.0, 16.1, None, 0), '04,28,16,22': (10.0, 16.1, None, 0), '04,28,16,23': (9.4, 16.1, None, 0), '06,06,16,22': (25.6, 14.5, None, 0), '06,06,16,23': (25.0, 16.1, None, 0), '06,06,16,20': (26.1, 16.1, None, 0), '06,06,16,21': (25.6, 16.1, None, 0), '08,24,16,19': (27.0, None, None, 0), '08,24,16,18': (28.0, None, None, 0), '08,24,16,15': (30.0, None, None, 0), '08,24,16,14': (31.0, None, None, 0), '08,24,16,17': (29.0, None, None, 0), '08,24,16,16': (29.0, None, None, 0), '08,08,16,08': (25.0, 16.1, None, 0), '08,24,16,10': (26.7, 14.5, None, 0), '08,24,16,13': (30.0, 14.5, None, 0), '08,24,16,12': (29.4, 14.5, None, 0), '04,30,16,23': (10.0, 16.1, None, 0), '04,30,16,22': (10.0, 16.1, None, 0), '04,30,16,21': (10.6, 16.1, None, 0), '04,30,16,20': (11.1, 16.1, None, 0), '06,24,16,22': (21.7, 14.5, None, 0), '06,24,16,23': (20.6, 14.5, None, 0), '06,24,16,20': (21.7, 14.5, None, 0), '06,24,16,21': (21.1, 14.5, None, 0), '11,05,16,15': (23.3, 16.1, None, 0), '11,05,16,16': (23.3, 16.1, None, 0), '01,08,16,14': (25.6, 12.9, None, 0), '01,08,16,15': (25.6, 14.5, None, 0), '01,08,16,16': (25.6, 12.9, None, 0), '01,08,16,17': (24.4, 12.9, None, 0), '01,08,16,10': (22.8, 12.9, None, 0), '01,08,16,11': (22.8, 12.9, None, 0), '03,18,16,08': (9.4, 16.1, None, 0), '03,18,16,09': (10.6, 16.1, None, 0), '03,18,16,06': (8.9, 16.1, None, 0), '03,18,16,07': (8.9, 16.1, None, 0), '03,18,16,04': (9.4, 16.1, None, 0), '03,18,16,05': (8.9, 16.1, None, 0), '03,18,16,02': (10.0, 16.1, None, 0), '03,18,16,03': (10.0, 16.1, None, 0), '03,18,16,00': (11.1, 16.1, None, 0), '03,18,16,01': (10.6, 16.1, None, 0), '12,31,16,09': (1.7, 16.1, None, 0), '12,31,16,08': (1.1, 16.1, None, 0), '12,31,16,03': (0.0, 16.1, None, 0), '12,31,16,02': (0.0, 16.1, None, 0), '12,31,16,01': (0.6, 16.1, None, 0), '12,31,16,00': (0.6, 16.1, None, 0), '12,31,16,07': (0.0, 16.1, None, 0), '12,31,16,06': (0.0, 16.1, None, 0), '12,31,16,05': (0.0, 16.1, None, 0), '12,31,16,04': (0.0, 16.1, None, 0), '09,09,16,20': (30.0, 16.1, None, 0), '09,09,16,21': (27.2, 2.8, 0.3, 0), '09,09,16,22': (25.0, 14.5, 1.8, 0), '09,09,16,23': (24.4, 8.0, 3.8, 0), '11,27,16,10': (8.3, 16.1, None, 0), '11,27,16,11': (9.4, 16.1, None, 0), '11,27,16,12': (10.0, 16.1, None, 0), '11,27,16,13': (9.4, 16.1, None, 0), '11,27,16,14': (8.9, 16.1, None, 0), '11,27,16,15': (8.3, 16.1, None, 0), '11,27,16,16': (7.8, 16.1, None, 0), '11,27,16,17': (7.8, 16.1, None, 0), '10,29,16,20': (17.2, 16.1, None, 0), '10,29,16,21': (17.8, 16.1, None, 0), '10,29,16,22': (17.2, 16.1, None, 0), '10,29,16,23': (17.2, 16.1, None, 0), '10,04,16,18': (7.2, 16.1, None, 0), '10,04,16,19': (6.7, 16.1, None, 0), '10,04,16,16': (9.4, 16.1, None, 0), '10,04,16,17': (8.3, 16.1, None, 0), '10,04,16,14': (8.9, 16.1, None, 0), '10,04,16,15': (9.4, 16.1, None, 0), '10,04,16,12': (6.7, 16.1, None, 0), '10,04,16,13': (7.8, 16.1, None, 0), '10,04,16,10': (4.4, 16.1, None, 0), '10,04,16,11': (5.6, 16.1, None, 0), '07,09,16,22': (22.8, 14.5, None, 0), '07,09,16,23': (22.8, 14.5, None, 0), '07,09,16,20': (25.0, 16.1, None, 0), '07,09,16,21': (23.9, 14.5, None, 0), '11,03,16,21': (10.6, 16.1, None, 0), '12,15,16,16': (-5.6, 16.1, None, 0), '12,15,16,17': (-6.1, 16.1, None, 0), '12,15,16,14': (-5.6, 16.1, None, 0), '12,15,16,15': (-5.6, 16.1, None, 0), '12,15,16,12': (-5.0, 16.1, None, 0), '12,15,16,13': (-5.0, 16.1, None, 0), '12,15,16,10': (-3.9, 16.1, None, 0), '12,15,16,11': (-4.4, 16.1, None, 0), '12,15,16,18': (-6.1, 16.1, None, 0), '12,15,16,19': (-6.1, 16.1, None, 0), '01,07,16,04': (21.7, 16.1, None, 0), '01,07,16,05': (21.7, 14.5, None, 0), '01,07,16,06': (22.8, 14.5, None, 0), '01,07,16,07': (22.8, 12.9, None, 0), '01,07,16,00': (23.3, 16.1, None, 0), '01,07,16,01': (23.3, 16.1, None, 0), '01,07,16,02': (22.8, 16.1, None, 0), '01,07,16,03': (22.2, 16.1, None, 0), '03,01,16,13': (6.7, 16.1, None, 0), '03,01,16,12': (6.7, 16.1, None, 0), '03,01,16,11': (6.7, 16.1, None, 0), '03,01,16,10': (6.1, 16.1, None, 0), '01,07,16,08': (23.9, 12.9, None, 0), '01,07,16,09': (25.0, 12.9, None, 0), '03,01,16,15': (5.0, 16.1, None, 0), '03,01,16,14': (5.6, 16.1, None, 0), '09,22,16,09': (23.9, 16.1, None, 0), '09,22,16,08': (21.7, 16.1, None, 0), '09,22,16,07': (20.6, 16.1, None, 0), '09,22,16,06': (18.3, 16.1, None, 0), '09,22,16,05': (18.9, 16.1, None, 0), '09,22,16,04': (19.4, 16.1, None, 0), '09,22,16,03': (20.0, 16.1, None, 0), '09,22,16,02': (21.1, 16.1, None, 0), '09,22,16,01': (20.6, 16.1, None, 0), '09,22,16,00': (20.6, 16.1, None, 0), '02,14,16,09': (-16.7, 16.1, None, 0), '02,14,16,08': (-17.8, 16.1, None, 0), '02,14,16,01': (-15.0, 16.1, None, 0), '02,14,16,00': (-14.4, 16.1, None, 0), '02,14,16,03': (-16.1, 16.1, None, 0), '02,14,16,02': (-15.0, 16.1, None, 0), '02,14,16,05': (-17.2, 16.1, None, 0), '02,14,16,04': (-16.1, 16.1, None, 0), '02,14,16,07': (-18.3, 16.1, None, 0), '02,14,16,06': (-17.8, 16.1, None, 0), '11,15,16,08': (8.9, 8.0, 4.8, 0), '11,15,16,09': (8.9, 3.2, 7.4, 0), '11,15,16,04': (10.0, 11.3, 1.8, 0), '11,15,16,05': (10.6, 6.4, 0.3, 0), '11,15,16,06': (10.0, 8.0, 2.5, 0), '11,15,16,07': (8.9, 2.8, 5.1, 0), '11,15,16,00': (12.8, 16.1, None, 0), '11,15,16,01': (12.2, 16.1, 0.0, 0), '11,15,16,02': (12.2, 16.1, 0.0, 0), '11,15,16,03': (11.1, 4.8, 0.0, 0), '11,05,16,18': (21.7, 16.1, None, 0), '02,12,16,14': (10.0, 16.1, None, 0), '02,12,16,15': (10.0, 16.1, None, 0), '02,12,16,16': (9.4, 16.1, None, 0), '02,12,16,17': (8.9, 16.1, None, 0), '02,12,16,10': (8.3, 16.1, None, 0), '02,12,16,11': (9.4, 16.1, None, 0), '02,12,16,12': (10.0, 16.1, None, 0), '02,12,16,13': (10.0, 16.1, None, 0), '02,12,16,18': (8.3, 16.1, None, 0), '02,12,16,19': (8.3, 16.1, None, 0), '11,05,16,19': (20.0, 16.1, None, 0), '04,03,16,21': (1.1, 16.1, None, 0), '04,03,16,20': (1.7, 16.1, None, 0), '04,03,16,23': (0.6, 16.1, None, 0), '04,03,16,22': (1.1, 16.1, None, 0), '03,26,16,23': (6.7, 16.1, None, 0), '03,26,16,22': (6.1, 16.1, None, 0), '03,26,16,21': (6.1, 16.1, None, 0), '03,26,16,20': (6.7, 16.1, None, 0), '02,24,16,04': (2.8, 4.8, 0.5, 0), '02,24,16,05': (3.3, 4.0, 0.3, 0), '02,24,16,06': (3.3, 4.8, 0.5, 0), '02,24,16,07': (3.3, 4.0, 0.0, 0), '02,24,16,00': (2.2, 4.8, 0.5, 0), '02,24,16,01': (2.2, 6.4, 0.5, 0), '02,24,16,02': (2.2, 4.0, 0.5, 0), '02,24,16,03': (2.8, 4.0, 0.5, 0), '02,24,16,08': (3.9, 2.8, 0.5, 0), '02,24,16,09': (4.4, 6.4, 0.5, 0), '07,23,16,08': (28.9, 12.9, None, 0), '07,23,16,09': (29.4, 12.9, None, 0), '07,23,16,04': (27.8, 14.5, None, 0), '07,23,16,05': (27.2, 14.5, None, 0), '07,23,16,06': (27.2, 12.9, None, 0), '07,23,16,07': (27.2, 12.9, None, 0), '07,23,16,00': (28.9, 12.9, None, 0), '07,23,16,01': (28.3, 14.5, None, 0), '07,23,16,02': (27.8, 14.5, None, 0), '07,23,16,03': (27.8, 14.5, None, 0), '11,30,16,21': (10.6, 4.0, 0.5, 0), '11,30,16,20': (10.6, 12.9, 3.0, 0), '11,30,16,23': (10.6, 8.0, 2.3, 0), '11,30,16,22': (10.0, 4.0, 2.0, 0), '10,12,16,19': (0.0, 16.1, None, 0), '12,06,16,23': (17.2, 16.1, None, 0), '12,06,16,22': (17.8, 16.1, None, 0), '12,06,16,21': (18.3, 16.1, None, 0), '12,06,16,20': (19.4, 16.1, None, 0), '07,31,16,23': (21.7, 9.7, 1.0, 0), '07,31,16,22': (22.2, 4.8, 1.0, 0), '07,31,16,21': (22.2, 4.0, 0.3, 0), '07,31,16,20': (23.9, 16.1, None, 0), '10,09,16,22': (27.8, 12.9, None, 0), '10,09,16,23': (27.2, 12.9, None, 0), '10,09,16,20': (27.8, 12.9, None, 0), '10,09,16,21': (27.8, 12.9, None, 0), '10,12,16,16': (1.1, 16.1, None, 0), '01,28,16,12': (5.0, 16.1, None, 0), '01,28,16,13': (5.0, 16.1, None, 0), '01,28,16,10': (3.9, 16.1, None, 0), '01,28,16,11': (4.4, 16.1, None, 0), '01,28,16,16': (4.4, 16.1, None, 0), '01,28,16,17': (4.4, 16.1, None, 0), '01,28,16,14': (5.6, 16.1, None, 0), '04,02,16,09': (11.1, 16.1, None, 0), '04,02,16,06': (13.3, 6.4, None, 0), '04,02,16,07': (12.2, 14.5, None, 0), '01,28,16,18': (5.0, 16.1, None, 0), '01,28,16,19': (4.4, 16.1, None, 0), '04,02,16,02': (14.4, 16.1, None, 0), '04,02,16,03': (14.4, 16.1, None, 0), '04,02,16,00': (14.4, 16.1, None, 0), '04,02,16,01': (14.4, 16.1, None, 0), '09,19,16,11': (22.2, 4.8, 1.8, 0), '08,22,16,22': (20.6, 16.1, None, 0), '08,22,16,23': (20.0, 16.1, None, 0), '08,22,16,20': (21.7, 16.1, None, 0), '08,22,16,21': (21.1, 16.1, None, 0), '09,19,16,15': (21.1, 9.7, 0.8, 0), '12,09,16,11': (23.9, 16.1, None, 0), '12,09,16,10': (21.1, 16.1, None, 0), '07,25,16,19': (23.9, 8.0, 0.0, 0), '03,07,16,17': (24.4, 16.1, None, 0), '07,25,16,15': (32.8, 11.3, None, 0), '07,25,16,14': (33.3, 11.3, None, 0), '07,25,16,17': (24.4, 2.0, 8.9, 0), '03,07,16,16': (24.4, 16.1, None, 0), '07,25,16,11': (31.1, 11.3, None, 0), '07,25,16,10': (28.9, 11.3, None, 0), '07,25,16,13': (33.9, 11.3, None, 0), '07,25,16,12': (31.1, 11.3, None, 0), '03,07,16,19': (23.9, 16.1, None, 0), '12,25,16,19': (5.6, 16.1, None, 0), '03,07,16,18': (24.4, 16.1, None, 0), '12,25,16,17': (7.2, 16.1, None, 0), '12,25,16,16': (7.8, 16.1, None, 0), '12,25,16,15': (8.9, 16.1, None, 0), '12,25,16,14': (10.0, 16.1, None, 0), '12,25,16,13': (10.0, 16.1, None, 0), '12,25,16,12': (8.9, 16.1, None, 0), '12,25,16,11': (8.9, 16.1, None, 0), '12,25,16,10': (7.8, 16.1, None, 0), '10,23,16,07': (7.8, 16.1, None, 0), '12,09,16,12': (25.6, 16.1, None, 0), '10,06,16,18': (23.9, 16.1, None, 0), '10,06,16,19': (22.8, 16.1, None, 0), '10,06,16,10': (18.9, 16.1, None, 0), '10,06,16,11': (20.6, 16.1, None, 0), '10,06,16,12': (22.2, 16.1, None, 0), '10,06,16,13': (22.8, 16.1, None, 0), '10,06,16,14': (23.3, 16.1, None, 0), '10,06,16,15': (24.4, 16.1, None, 0), '10,06,16,16': (24.4, 16.1, None, 0), '10,06,16,17': (24.4, 16.1, None, 0), '04,21,16,21': (20.6, 16.1, None, 0), '04,21,16,20': (20.6, 16.1, None, 0), '04,21,16,23': (19.4, 16.1, None, 0), '04,21,16,22': (20.0, 16.1, None, 0), '05,13,16,10': (17.3, None, None, 0), '05,13,16,11': (17.6, None, None, 0), '05,13,16,12': (17.4, None, None, 0), '05,13,16,13': (17.4, None, None, 0), '05,13,16,14': (16.6, None, None, 0), '05,13,16,15': (16.1, None, None, 0), '05,13,16,16': (16.1, None, None, 0), '05,13,16,17': (16.4, None, None, 0), '08,07,16,10': (28.3, 12.9, None, 0), '08,07,16,11': (28.9, 11.3, None, 0), '08,07,16,12': (28.9, 11.3, None, 0), '08,07,16,13': (29.4, 11.3, None, 0), '08,07,16,14': (28.3, 9.7, None, 0), '08,07,16,15': (28.3, 9.7, None, 0), '08,07,16,16': (26.7, 9.7, None, 0), '08,07,16,17': (25.0, 11.3, None, 0), '08,07,16,18': (22.2, 8.0, 0.5, 0), '08,07,16,19': (22.2, 9.7, 0.0, 0), '03,15,16,14': (11.7, 16.1, None, 0), '03,15,16,15': (12.2, 16.1, None, 0), '03,15,16,16': (12.2, 16.1, None, 0), '03,15,16,17': (13.3, 16.1, None, 0), '03,15,16,10': (8.9, 16.1, None, 0), '03,15,16,11': (10.0, 16.1, None, 0), '03,15,16,12': (11.1, 16.1, None, 0), '03,15,16,13': (11.7, 16.1, None, 0), '03,15,16,18': (13.3, 16.1, None, 0), '03,15,16,19': (12.8, 16.1, None, 0), '07,13,16,18': (25.6, 14.5, None, 0), '07,13,16,19': (24.4, 14.5, None, 0), '07,13,16,12': (28.3, 14.5, None, 0), '07,13,16,13': (27.2, 14.5, None, 0), '07,13,16,10': (27.2, 14.5, None, 0), '07,13,16,11': (28.3, 14.5, None, 0), '07,13,16,16': (26.7, 14.5, None, 0), '07,13,16,17': (26.1, 14.5, None, 0), '07,13,16,14': (27.2, 14.5, None, 0), '07,13,16,15': (26.7, 14.5, None, 0), '02,07,16,05': (19.0, 16.1, None, 0), '02,07,16,04': (21.0, 16.1, None, 0), '02,07,16,07': (20.0, 16.1, None, 0), '02,07,16,06': (19.0, 16.1, None, 0), '02,07,16,01': (22.0, 16.1, None, 0), '02,07,16,00': (22.0, 16.1, None, 0), '02,07,16,03': (22.0, 16.1, None, 0), '02,07,16,02': (22.0, 16.1, None, 0), '12,27,16,15': (15.0, 16.1, None, 0), '05,14,16,01': (15.0, None, None, 0), '02,07,16,09': (23.0, 16.1, None, 0), '02,07,16,08': (21.0, 16.1, None, 0), '08,27,16,23': (24.4, 16.1, None, 0), '12,13,16,09': (3.9, 16.1, None, 0), '08,27,16,22': (25.0, 16.1, None, 0), '12,13,16,07': (2.8, 16.1, None, 0), '12,13,16,06': (2.8, 16.1, None, 0), '12,13,16,05': (2.2, 16.1, None, 0), '12,13,16,04': (2.2, 16.1, None, 0), '12,13,16,03': (2.2, 16.1, None, 0), '08,27,16,21': (25.0, 16.1, None, 0), '12,13,16,01': (3.3, 16.1, None, 0), '12,13,16,00': (3.9, 16.1, None, 0), '04,28,16,02': (10.6, 14.5, None, 0), '04,28,16,03': (10.6, 16.1, None, 0), '04,28,16,00': (11.7, 14.5, None, 0), '04,28,16,01': (11.1, 14.5, None, 0), '04,28,16,06': (8.9, 16.1, None, 0), '04,28,16,07': (9.4, 16.1, None, 0), '04,28,16,04': (9.4, 16.1, None, 0), '04,28,16,05': (8.9, 16.1, None, 0), '04,28,16,08': (10.0, 16.1, None, 0), '04,28,16,09': (11.7, 16.1, None, 0), '06,27,16,14': (26.7, 14.5, None, 0), '06,27,16,15': (26.1, 14.5, None, 0), '06,27,16,16': (25.6, 14.5, None, 0), '06,27,16,17': (25.0, 14.5, None, 0), '06,27,16,10': (25.0, 14.5, None, 0), '06,27,16,11': (26.1, 14.5, None, 0), '06,27,16,12': (27.8, 14.5, None, 0), '06,27,16,13': (28.3, 14.5, None, 0), '06,27,16,18': (24.4, 12.9, None, 0), '06,27,16,19': (23.3, 12.9, None, 0), '04,30,16,09': (11.7, 16.1, None, 0), '04,30,16,08': (10.6, 16.1, None, 0), '04,30,16,01': (8.9, 16.1, None, 0), '04,30,16,00': (8.3, 16.1, None, 0), '04,30,16,03': (8.3, 16.1, None, 0), '04,30,16,02': (8.9, 16.1, None, 0), '03,07,16,20': (23.3, 16.1, None, 0), '03,07,16,21': (22.8, 16.1, None, 0), '03,07,16,22': (22.8, 16.1, None, 0), '03,07,16,23': (22.2, 16.1, None, 0), '12,27,16,20': (7.8, 16.1, None, 0), '12,27,16,21': (6.1, 16.1, None, 0), '12,27,16,22': (5.0, 16.1, None, 0), '12,27,16,23': (4.4, 16.1, None, 0), '12,31,16,21': (6.1, 16.1, None, 0), '12,31,16,20': (6.1, 16.1, None, 0), '12,31,16,23': (6.7, 16.1, None, 0), '12,31,16,22': (6.7, 16.1, None, 0), '10,29,16,02': (5.0, 16.1, None, 0), '10,29,16,03': (5.0, 16.1, None, 0), '10,29,16,00': (5.6, 16.1, None, 0), '10,29,16,01': (5.6, 16.1, None, 0), '08,10,16,18': (18.3, 2.4, 3.8, 0), '08,10,16,19': (18.3, 4.8, 1.5, 0), '10,29,16,04': (5.0, 16.1, None, 0), '10,29,16,05': (4.4, 16.1, None, 0), '08,10,16,14': (19.4, 8.0, 0.5, 0), '08,10,16,15': (19.4, 8.0, 0.0, 0), '08,10,16,16': (19.4, 8.0, None, 0), '08,10,16,17': (19.4, 6.4, None, 0), '08,10,16,10': (18.9, 14.5, None, 0), '08,10,16,11': (19.4, 14.5, None, 0), '08,10,16,12': (20.0, 14.5, None, 0), '08,10,16,13': (20.0, 11.3, 0.0, 0), '11,06,16,08': (21.1, 16.1, None, 0), '11,06,16,09': (21.7, 16.1, None, 0), '11,06,16,00': (17.2, 16.1, None, 0), '11,06,16,01': (17.2, 16.1, None, 0), '11,06,16,02': (16.7, 16.1, None, 0), '11,06,16,03': (16.1, 16.1, None, 0), '11,06,16,04': (16.1, 16.1, None, 0), '11,06,16,05': (15.6, 16.1, None, 0), '11,06,16,06': (17.2, 16.1, None, 0), '11,06,16,07': (20.0, 16.1, None, 0), '12,06,16,09': (27.2, 14.5, None, 0), '09,09,16,08': (27.8, 12.9, None, 0), '09,09,16,09': (28.9, 14.5, None, 0), '09,09,16,02': (28.3, 14.5, None, 0), '09,09,16,03': (28.3, 14.5, None, 0), '09,09,16,00': (28.9, 14.5, None, 0), '09,09,16,01': (28.3, 14.5, None, 0), '09,09,16,06': (27.2, 16.1, None, 0), '09,09,16,07': (27.2, 12.9, None, 0), '09,09,16,04': (27.8, 16.1, None, 0), '09,09,16,05': (27.2, 14.5, None, 0), '09,22,16,21': (22.2, 16.1, None, 0), '09,22,16,20': (22.8, 16.1, None, 0), '09,22,16,23': (20.6, 16.1, None, 0), '09,22,16,22': (21.1, 16.1, None, 0), '05,25,16,13': (30.0, 12.9, None, 0), '05,25,16,12': (29.4, 12.9, None, 0), '04,16,16,05': (6.7, 16.1, None, 0), '06,09,16,06': (22.8, 16.1, None, 0), '04,16,16,07': (8.9, 16.1, None, 0), '06,09,16,04': (22.8, 16.1, None, 0), '11,15,16,22': (8.3, 16.1, None, 0), '11,15,16,23': (8.9, 16.1, None, 0), '11,15,16,20': (9.4, 16.1, None, 0), '11,15,16,21': (9.4, 16.1, None, 0), '06,09,16,03': (23.9, 16.1, None, 0), '06,09,16,02': (24.4, 16.1, None, 0), '06,09,16,01': (24.4, 16.1, None, 0), '06,09,16,00': (25.0, 16.1, None, 0), '05,25,16,19': (28.3, 12.9, None, 0), '08,25,16,14': (30.0, None, None, 0), '05,25,16,18': (28.3, 12.9, None, 0), '08,25,16,15': (29.0, None, None, 0), '01,07,16,22': (19.4, 12.9, 11.2, 0), '01,07,16,23': (19.4, 6.4, None, 0), '01,07,16,20': (21.1, 9.7, 0.0, 0), '01,07,16,21': (20.6, 11.3, None, 0), '08,25,16,13': (30.0, None, None, 0), '02,21,16,12': (11.7, 16.1, None, 0), '02,21,16,13': (12.2, 16.1, None, 0), '02,21,16,10': (11.7, 16.1, None, 0), '02,21,16,11': (11.7, 16.1, None, 0), '02,21,16,16': (12.2, 16.1, None, 0), '02,21,16,17': (11.7, 16.1, None, 0), '02,21,16,14': (12.8, 16.1, None, 0), '02,21,16,15': (12.2, 16.1, None, 0), '02,21,16,18': (10.0, 16.1, 0.3, 0), '02,21,16,19': (10.6, 16.1, 0.0, 0), '11,08,16,13': (31.7, 11.3, None, 0), '11,08,16,12': (32.2, 12.9, None, 0), '08,25,16,18': (27.0, None, None, 0), '08,25,16,19': (28.0, None, None, 0), '02,28,16,19': (13.9, 16.1, None, 0), '02,28,16,18': (14.4, 16.1, None, 0), '11,08,16,17': (31.1, 12.9, None, 0), '02,28,16,13': (14.4, 16.1, None, 0), '02,28,16,12': (13.9, 16.1, None, 0), '02,28,16,11': (11.7, 16.1, None, 0), '02,28,16,10': (9.4, 16.1, None, 0), '02,28,16,17': (15.0, 16.1, None, 0), '02,28,16,16': (15.6, 16.1, None, 0), '02,28,16,15': (15.6, 16.1, None, 0), '02,28,16,14': (15.6, 16.1, None, 0), '11,04,16,19': (12.8, 16.1, 0.3, 0), '11,04,16,18': (12.8, 8.0, 0.0, 0), '11,04,16,15': (16.7, 16.1, None, 0), '11,04,16,14': (16.1, 16.1, None, 0), '11,04,16,17': (14.4, 14.5, 0.0, 0), '11,04,16,16': (15.6, 16.1, None, 0), '11,04,16,11': (12.8, 16.1, None, 0), '11,04,16,10': (11.1, 16.1, None, 0), '11,04,16,13': (16.1, 16.1, None, 0), '11,04,16,12': (16.1, 16.1, None, 0), '03,26,16,01': (6.1, 16.1, None, 0), '03,26,16,00': (6.7, 16.1, None, 0), '03,26,16,03': (5.0, 16.1, None, 0), '03,26,16,02': (4.4, 16.1, None, 0), '03,26,16,05': (3.9, 16.1, None, 0), '03,26,16,04': (4.4, 16.1, None, 0), '03,26,16,07': (3.9, 16.1, None, 0), '03,26,16,06': (3.3, 16.1, None, 0), '03,26,16,09': (6.1, 16.1, None, 0), '03,26,16,08': (5.0, 16.1, None, 0), '02,24,16,22': (14.4, 4.8, 2.0, 0), '02,24,16,23': (15.0, 16.1, 2.3, 0), '02,24,16,20': (14.4, 8.0, 1.0, 0), '02,24,16,21': (13.9, 6.4, 1.0, 0), '07,23,16,22': (30.0, 16.1, None, 0), '07,23,16,23': (29.4, 16.1, None, 0), '07,23,16,20': (32.2, 16.1, None, 0), '07,23,16,21': (31.1, 16.1, None, 0), '12,02,16,05': (-8.9, 16.1, None, 0), '12,02,16,04': (-8.9, 16.1, None, 0), '09,19,16,12': (22.2, 8.0, 0.0, 0), '12,02,16,07': (-8.9, 16.1, None, 0), '11,01,16,09': (-0.6, 16.1, None, 0), '11,01,16,08': (-1.1, 16.1, None, 0), '11,01,16,03': (1.1, 16.1, None, 0), '11,01,16,02': (2.2, 16.1, None, 0), '11,01,16,01': (3.9, 16.1, None, 0), '11,01,16,00': (3.9, 16.1, None, 0), '11,01,16,07': (-1.1, 16.1, None, 0), '11,01,16,06': (-0.6, 16.1, None, 0), '11,01,16,05': (0.0, 16.1, None, 0), '11,01,16,04': (0.6, 16.1, None, 0), '12,02,16,03': (-8.3, 16.1, None, 0), '09,19,16,13': (22.2, 11.3, None, 0), '12,02,16,02': (-8.3, 16.1, None, 0), '12,18,16,19': (2.8, 16.1, None, 0), '12,18,16,18': (3.3, 16.1, None, 0), '12,18,16,13': (14.4, 12.9, 0.3, 0), '12,18,16,12': (13.9, 11.3, None, 0), '12,18,16,11': (13.9, 12.9, None, 0), '12,18,16,10': (13.3, 11.3, None, 0), '12,18,16,17': (4.4, 16.1, None, 0), '12,18,16,16': (5.6, 16.1, None, 0), '12,18,16,15': (6.1, 16.1, None, 0), '12,18,16,14': (7.8, 16.1, 0.3, 0), '12,06,16,01': (26.1, 16.1, None, 0), '12,06,16,00': (27.8, 16.1, None, 0), '12,06,16,03': (26.1, 16.1, None, 0), '12,06,16,02': (26.1, 16.1, None, 0), '12,06,16,05': (25.6, 12.9, None, 0), '12,06,16,04': (25.6, 16.1, None, 0), '12,06,16,07': (26.1, 14.5, None, 0), '12,06,16,06': (25.6, 12.9, None, 0), '09,19,16,10': (21.1, 2.4, 4.6, 0), '12,06,16,08': (27.2, 14.5, None, 0), '07,31,16,09': (24.4, 11.3, None, 0), '07,31,16,08': (23.9, 6.4, 0.0, 0), '08,25,16,16': (28.0, None, None, 0), '08,25,16,17': (27.0, None, None, 0), '08,25,16,10': (26.0, None, None, 0), '08,25,16,11': (28.0, None, None, 0), '08,25,16,12': (29.0, None, None, 0), '03,14,16,21': (5.6, 4.8, 0.8, 0), '07,31,16,01': (23.3, 4.8, None, 0), '07,31,16,00': (23.3, 4.8, None, 0), '07,31,16,03': (23.3, 9.7, None, 0), '07,31,16,02': (23.3, 8.0, None, 0), '07,31,16,05': (23.3, 8.0, 0.3, 0), '07,31,16,04': (23.3, 9.7, None, 0), '07,31,16,07': (23.9, 6.4, None, 0), '07,31,16,06': (23.3, 8.0, None, 0), '03,14,16,23': (6.7, 11.3, None, 0), '10,05,16,13': (16.7, 16.1, None, 0), '10,05,16,12': (16.7, 16.1, None, 0), '10,05,16,11': (16.1, 16.1, None, 0), '10,05,16,10': (15.0, 16.1, None, 0), '06,17,16,15': (24.4, 16.1, None, 0), '06,17,16,14': (24.4, 16.1, None, 0), '06,17,16,17': (22.2, 16.1, None, 0), '06,17,16,16': (23.9, 16.1, None, 0), '06,17,16,11': (23.3, 11.3, None, 0), '06,17,16,10': (21.7, 11.3, None, 0), '06,17,16,13': (22.2, 16.1, None, 0), '06,17,16,12': (23.3, 12.9, None, 0), '06,17,16,19': (20.0, 16.1, None, 0), '06,17,16,18': (21.1, 16.1, None, 0), '05,07,16,08': (22.2, 9.7, None, 0), '05,07,16,09': (23.9, 14.5, None, 0), '05,07,16,00': (20.6, 2.0, 6.1, 0), '05,07,16,01': (21.1, 3.2, 2.3, 0), '05,07,16,02': (21.7, 1.6, 1.8, 0), '05,07,16,03': (21.7, 4.8, 12.7, 0), '05,07,16,04': (21.7, 11.3, 0.3, 0), '05,07,16,05': (21.7, 9.7, 0.5, 0), '05,07,16,06': (21.7, 8.0, None, 0), '05,07,16,07': (21.7, 9.7, None, 0), '09,14,16,08': (22.2, 14.5, None, 0), '09,14,16,09': (23.9, 14.5, None, 0), '09,14,16,04': (21.1, 16.1, None, 0), '09,14,16,05': (21.1, 16.1, None, 0), '09,14,16,06': (21.1, 16.1, None, 0), '09,14,16,07': (21.7, 14.5, None, 0), '09,14,16,00': (21.7, 16.1, None, 0), '09,14,16,01': (21.1, 16.1, None, 0), '09,14,16,02': (21.1, 16.1, None, 0), '09,14,16,03': (21.1, 16.1, None, 0), '04,10,16,10': (16.7, 16.1, None, 0), '04,10,16,11': (17.8, 16.1, None, 0), '04,10,16,12': (18.3, 16.1, None, 0), '04,10,16,13': (20.0, 16.1, None, 0), '04,10,16,14': (20.0, 16.1, None, 0), '04,10,16,15': (20.0, 16.1, None, 0), '04,10,16,16': (19.4, 16.1, None, 0), '04,10,16,17': (19.4, 16.1, None, 0), '04,10,16,18': (18.9, 16.1, None, 0), '04,10,16,19': (18.9, 16.1, None, 0), '04,06,16,20': (19.4, 4.8, 6.1, 0), '04,06,16,21': (20.0, 6.4, 0.0, 0), '04,06,16,22': (18.9, 9.7, None, 0), '04,06,16,23': (19.4, 9.7, None, 0), '02,26,16,20': (-1.1, 16.1, None, 0), '02,26,16,21': (-1.7, 16.1, None, 0), '07,16,16,19': (26.1, 14.5, None, 0), '02,26,16,23': (-2.2, 16.1, None, 0), '07,16,16,17': (25.6, 12.9, None, 0), '07,16,16,16': (25.0, 11.3, 0.0, 0), '07,16,16,15': (29.4, 12.9, None, 0), '07,16,16,14': (31.1, 12.9, None, 0), '07,16,16,13': (31.1, 12.9, None, 0), '07,16,16,12': (31.7, 14.5, None, 0), '07,16,16,11': (30.6, 16.1, None, 0), '07,16,16,10': (29.4, 14.5, None, 0), '05,17,16,21': (13.0, None, None, 0), '01,20,16,18': (1.1, 16.1, None, 0), '01,20,16,19': (0.6, 16.1, None, 0), '05,17,16,20': (13.3, 16.1, None, 0), '01,20,16,12': (2.2, 16.1, None, 0), '01,20,16,13': (2.2, 16.1, None, 0), '01,20,16,10': (0.6, 16.1, None, 0), '01,20,16,11': (1.7, 16.1, None, 0), '01,20,16,16': (1.7, 16.1, None, 0), '05,17,16,23': (13.0, None, None, 0), '01,20,16,14': (2.2, 16.1, None, 0), '01,20,16,15': (2.2, 16.1, None, 0), '05,17,16,22': (13.0, None, None, 0), '10,23,16,23': (13.3, 16.1, None, 0), '12,13,16,21': (5.6, 16.1, None, 0), '12,13,16,20': (5.0, 16.1, None, 0), '12,13,16,23': (5.0, 16.1, None, 0), '12,13,16,22': (5.6, 16.1, None, 0), '05,08,16,20': (25.0, 16.1, None, 0), '09,16,16,11': (21.1, 16.1, None, 0), '09,16,16,10': (20.0, 16.1, None, 0), '09,16,16,13': (21.7, 16.1, None, 0), '09,16,16,12': (20.6, 16.1, None, 0), '09,16,16,15': (22.2, 16.1, None, 0), '09,16,16,14': (22.8, 16.1, None, 0), '09,16,16,17': (20.0, 16.1, None, 0), '09,16,16,16': (20.6, 16.1, None, 0), '09,16,16,19': (18.3, 16.1, None, 0), '09,16,16,18': (18.9, 16.1, None, 0), '03,07,16,06': (19.4, 16.1, None, 0), '03,07,16,07': (20.6, 16.1, None, 0), '03,07,16,04': (18.9, 16.1, None, 0), '03,07,16,05': (18.3, 16.1, None, 0), '03,07,16,02': (20.0, 16.1, None, 0), '03,07,16,03': (19.4, 16.1, None, 0), '03,07,16,00': (21.1, 16.1, None, 0), '03,07,16,01': (20.6, 16.1, None, 0), '03,07,16,08': (21.1, 16.1, None, 0), '03,07,16,09': (22.2, 16.1, None, 0), '04,11,16,19': (12.2, 16.1, None, 0), '01,05,16,19': (8.3, 4.8, None, 0), '12,27,16,04': (12.8, 16.1, None, 0), '12,27,16,05': (12.8, 16.1, None, 0), '12,27,16,02': (11.7, 16.1, None, 0), '12,27,16,03': (12.8, 16.1, None, 0), '12,27,16,00': (10.6, 16.1, None, 0), '01,05,16,18': (8.3, 2.8, 0.3, 0), '04,11,16,11': (13.9, 16.1, None, 0), '04,11,16,10': (13.9, 16.1, None, 0), '04,11,16,13': (15.0, 16.1, None, 0), '04,11,16,12': (15.6, 16.1, None, 0), '04,11,16,15': (15.0, 16.1, None, 0), '04,11,16,14': (15.0, 16.1, None, 0), '04,11,16,17': (13.3, 16.1, None, 0), '04,11,16,16': (13.9, 16.1, None, 0), '02,23,16,09': (3.9, 16.1, None, 0), '02,23,16,08': (3.9, 16.1, None, 0), '02,23,16,07': (3.9, 16.1, None, 0), '02,23,16,06': (3.3, 16.1, None, 0), '02,23,16,05': (2.8, 16.1, None, 0), '02,23,16,04': (2.2, 16.1, None, 0), '02,23,16,03': (2.2, 16.1, None, 0), '02,23,16,02': (2.2, 16.1, None, 0), '02,23,16,01': (2.8, 16.1, None, 0), '02,23,16,00': (3.3, 16.1, None, 0), '04,16,16,12': (16.1, 16.1, None, 0), '04,16,16,13': (17.8, 16.1, None, 0), '04,16,16,10': (13.3, 16.1, None, 0), '04,16,16,11': (14.4, 16.1, None, 0), '06,09,16,18': (26.1, 16.1, None, 0), '04,16,16,17': (17.2, 16.1, None, 0), '04,16,16,14': (18.9, 16.1, None, 0), '04,16,16,15': (17.8, 16.1, None, 0), '06,09,16,14': (26.1, 14.5, None, 0), '06,09,16,15': (25.6, 16.1, None, 0), '04,16,16,18': (16.7, 16.1, None, 0), '04,16,16,19': (11.7, 16.1, None, 0), '06,09,16,10': (24.4, 16.1, None, 0), '06,09,16,11': (25.0, 16.1, None, 0), '06,09,16,12': (25.6, 16.1, None, 0), '06,09,16,13': (26.1, 16.1, None, 0), '07,10,16,20': (17.2, 16.1, None, 0), '07,10,16,21': (16.7, 16.1, None, 0), '07,10,16,22': (16.1, 16.1, None, 0), '07,10,16,23': (16.1, 16.1, None, 0), '08,14,16,03': (28.3, 16.1, None, 0), '08,14,16,02': (28.3, 16.1, None, 0), '08,14,16,01': (28.9, 16.1, None, 0), '08,14,16,00': (30.0, 16.1, None, 0), '08,14,16,07': (28.3, 12.9, None, 0), '08,14,16,06': (28.3, 12.9, None, 0), '08,14,16,05': (28.3, 16.1, None, 0), '08,14,16,04': (28.3, 16.1, None, 0), '08,14,16,09': (30.0, 14.5, None, 0), '08,14,16,08': (29.4, 14.5, None, 0), '03,02,16,07': (8.9, 9.7, 0.0, 0), '03,02,16,06': (8.9, 16.1, None, 0), '03,02,16,05': (7.8, 16.1, None, 0), '03,02,16,04': (7.2, 16.1, None, 0), '03,02,16,03': (6.7, 16.1, None, 0), '03,02,16,02': (6.1, 16.1, None, 0), '03,02,16,01': (6.7, 16.1, None, 0), '03,02,16,00': (5.6, 16.1, None, 0), '03,02,16,09': (10.0, 16.1, None, 0), '03,02,16,08': (10.0, 16.1, 0.3, 0), '05,09,16,19': (26.7, 16.1, None, 0), '05,09,16,18': (27.2, 16.1, None, 0), '05,09,16,11': (22.8, 16.1, None, 0), '05,09,16,10': (21.7, 16.1, None, 0), '05,09,16,13': (27.2, 16.1, None, 0), '05,09,16,12': (23.9, 16.1, None, 0), '05,09,16,15': (27.8, 16.1, None, 0), '05,09,16,14': (27.2, 16.1, None, 0), '05,09,16,17': (27.8, 16.1, None, 0), '05,09,16,16': (28.3, 16.1, None, 0), '06,26,16,20': (23.3, 16.1, None, 0), '06,26,16,21': (23.9, 16.1, None, 0), '06,26,16,22': (23.3, 16.1, None, 0), '06,26,16,23': (22.8, 16.1, None, 0), '11,28,16,19': (8.3, 16.1, None, 0), '09,26,16,10': (18.9, 16.1, None, 0), '09,26,16,11': (21.1, 16.1, None, 0), '09,26,16,12': (21.1, 16.1, None, 0), '09,26,16,13': (21.7, 16.1, None, 0), '09,26,16,14': (21.7, 16.1, None, 0), '09,26,16,15': (21.1, 16.1, None, 0), '09,26,16,16': (20.6, 16.1, None, 0), '09,26,16,17': (19.4, 16.1, None, 0), '09,26,16,18': (19.4, 16.1, None, 0), '09,26,16,19': (19.4, 16.1, None, 0), '07,06,16,18': (23.9, 14.5, None, 0), '07,06,16,19': (22.8, 16.1, None, 0), '07,06,16,14': (28.9, 12.9, None, 0), '07,06,16,15': (25.6, 14.5, None, 0), '07,06,16,16': (23.3, 14.5, 0.0, 0), '07,06,16,17': (24.4, 14.5, None, 0), '07,06,16,10': (26.1, 12.9, None, 0), '07,06,16,11': (27.2, 12.9, None, 0), '07,06,16,12': (28.3, 12.9, None, 0), '07,06,16,13': (28.3, 12.9, None, 0), '11,11,16,22': (5.6, 16.1, None, 0), '03,08,16,23': (21.1, 16.1, None, 0), '03,08,16,22': (21.1, 16.1, None, 0), '03,08,16,21': (22.2, 16.1, None, 0), '03,08,16,20': (21.7, 16.1, None, 0), '11,28,16,16': (8.9, 16.1, None, 0), '11,11,16,23': (5.6, 16.1, None, 0), '01,02,16,12': (15.0, 16.1, None, 0), '01,02,16,13': (14.4, 16.1, 0.0, 0), '01,02,16,10': (12.8, 16.1, None, 0), '07,24,16,14': (33.9, 14.5, None, 0), '07,24,16,15': (31.7, 12.9, None, 0), '07,24,16,16': (31.1, 14.5, None, 0), '07,24,16,17': (30.0, 12.9, None, 0), '07,24,16,10': (29.4, 14.5, None, 0), '07,24,16,11': (31.1, 14.5, None, 0), '07,24,16,12': (32.8, 14.5, None, 0), '07,24,16,13': (33.3, 14.5, None, 0), '01,02,16,16': (11.1, 16.1, 0.3, 0), '07,24,16,18': (29.4, 12.9, None, 0), '07,24,16,19': (28.9, 12.9, None, 0), '01,02,16,17': (11.1, 16.1, None, 0), '01,02,16,14': (13.3, 16.1, 0.0, 0), '01,02,16,15': (11.7, 8.0, 0.0, 0), '11,07,16,12': (25.6, 16.1, None, 0), '09,17,16,09': (20.6, 16.1, None, 0), '09,17,16,08': (18.9, 14.5, None, 0), '11,07,16,13': (26.7, 16.1, None, 0), '09,17,16,03': (16.1, 16.1, None, 0), '09,17,16,02': (16.7, 16.1, None, 0), '09,17,16,01': (16.7, 16.1, None, 0), '09,17,16,00': (16.7, 16.1, None, 0), '09,17,16,07': (17.2, 16.1, None, 0), '09,17,16,06': (15.6, 16.1, None, 0), '09,17,16,05': (15.0, 16.1, None, 0), '09,17,16,04': (16.1, 16.1, None, 0), '11,07,16,11': (23.9, 16.1, None, 0), '04,23,16,23': (13.9, 16.1, None, 0), '04,23,16,22': (14.4, 16.1, None, 0), '04,23,16,21': (15.0, 16.1, None, 0), '04,23,16,20': (16.1, 16.1, None, 0), '12,26,16,18': (8.3, 16.1, None, 0), '12,26,16,19': (8.9, 12.9, None, 0), '12,26,16,10': (2.8, 16.1, None, 0), '10,26,16,05': (3.9, 16.1, None, 0), '12,26,16,12': (3.9, 16.1, None, 0), '12,26,16,13': (4.4, 11.3, None, 0), '12,26,16,14': (3.9, 6.4, 0.5, 0), '12,26,16,15': (4.4, 8.0, 0.0, 0), '12,26,16,16': (4.4, 12.9, None, 0), '10,26,16,04': (4.4, 16.1, None, 0), '11,18,16,12': (16.1, 16.1, None, 0), '10,26,16,09': (5.6, 16.1, None, 0), '11,18,16,10': (12.2, 16.1, None, 0), '11,18,16,11': (14.4, 16.1, None, 0), '10,14,16,19': (12.2, 16.1, None, 0), '10,14,16,18': (13.3, 16.1, None, 0), '11,18,16,14': (17.2, 16.1, None, 0), '10,26,16,08': (4.4, 16.1, None, 0), '10,14,16,15': (16.1, 16.1, None, 0), '10,14,16,14': (16.1, 16.1, None, 0), '10,14,16,17': (13.9, 16.1, None, 0), '10,14,16,16': (16.1, 16.1, None, 0), '10,14,16,11': (12.8, 16.1, None, 0), '10,14,16,10': (11.1, 16.1, None, 0), '10,14,16,13': (15.0, 16.1, None, 0), '10,14,16,12': (13.9, 16.1, None, 0), '12,04,16,16': (13.9, 16.1, None, 0), '12,04,16,17': (13.9, 16.1, None, 0), '12,04,16,18': (12.2, 16.1, None, 0), '11,11,16,19': (7.2, 16.1, 0.0, 0), '11,11,16,18': (8.3, 16.1, 0.0, 0), '12,04,16,19': (11.1, 16.1, None, 0), '11,11,16,13': (15.0, 16.1, None, 0), '11,11,16,12': (15.6, 16.1, None, 0), '11,11,16,11': (16.7, 16.1, None, 0), '11,11,16,10': (16.1, 16.1, None, 0), '11,11,16,17': (9.4, 16.1, 0.0, 0), '11,11,16,16': (11.1, 16.1, None, 0), '11,11,16,15': (11.7, 16.1, None, 0), '11,11,16,14': (13.3, 16.1, None, 0), '11,01,16,21': (-2.8, 16.1, None, 0), '11,01,16,20': (-2.2, 16.1, None, 0), '11,01,16,23': (-3.3, 16.1, None, 0), '11,01,16,22': (-2.8, 16.1, None, 0), '10,22,16,05': (10.0, 16.1, 1.0, 0), '05,15,16,18': (12.0, None, None, 0), '05,15,16,19': (10.0, None, None, 0), '05,15,16,12': (11.8, None, None, 0), '05,15,16,13': (13.0, None, None, 0), '05,15,16,10': (14.0, None, None, 0), '05,15,16,11': (12.2, None, None, 0), '05,15,16,16': (13.0, None, None, 0), '05,15,16,17': (12.0, None, None, 0), '05,15,16,14': (13.0, None, None, 0), '05,15,16,15': (13.0, None, None, 0), '06,02,16,08': (0.6, 16.1, None, 0), '06,02,16,09': (1.1, 16.1, None, 0), '09,15,16,23': (17.8, 16.1, None, 0), '06,02,16,00': (0.0, 16.1, None, 0), '06,02,16,01': (-0.6, 16.1, None, 0), '06,02,16,02': (-0.6, 16.1, None, 0), '06,02,16,03': (-0.6, 16.1, None, 0), '06,02,16,04': (-0.6, 16.1, None, 0), '06,02,16,05': (-0.6, 16.1, None, 0), '06,02,16,06': (-0.6, 16.1, None, 0), '06,02,16,07': (-0.6, 16.1, None, 0), '05,07,16,22': (27.8, 16.1, None, 0), '05,07,16,23': (27.2, 16.1, None, 0), '05,07,16,20': (28.3, 16.1, None, 0), '05,07,16,21': (28.3, 16.1, None, 0), '01,29,16,17': (3.3, 16.1, None, 0), '01,29,16,16': (3.9, 16.1, None, 0), '01,29,16,15': (4.4, 16.1, None, 0), '01,29,16,14': (4.4, 16.1, None, 0), '01,29,16,19': (1.7, 16.1, None, 0), '01,29,16,18': (2.2, 16.1, None, 0), '09,15,16,22': (18.3, 16.1, None, 0), '09,14,16,22': (22.2, 16.1, None, 0), '09,14,16,23': (21.1, 16.1, None, 0), '09,14,16,20': (22.8, 16.1, None, 0), '09,14,16,21': (22.2, 16.1, None, 0), '03,13,16,18': (15.6, 16.1, None, 0), '03,13,16,19': (13.9, 16.1, None, 0), '03,13,16,16': (16.1, 16.1, None, 0), '03,13,16,17': (16.1, 16.1, None, 0), '03,13,16,14': (16.1, 16.1, None, 0), '03,13,16,15': (16.7, 16.1, None, 0), '03,13,16,12': (16.1, 16.1, None, 0), '03,13,16,13': (16.1, 16.1, None, 0), '03,13,16,10': (15.6, 16.1, None, 0), '03,13,16,11': (15.6, 16.1, None, 0), '04,04,16,01': (2.8, 16.1, None, 0), '04,04,16,02': (2.2, 16.1, None, 0), '04,04,16,03': (2.2, 16.1, None, 0), '04,04,16,04': (2.8, 16.1, None, 0), '04,04,16,05': (3.3, 16.1, None, 0), '04,04,16,06': (2.8, 6.4, 0.3, 0), '04,04,16,07': (3.9, 14.5, 0.0, 0), '04,04,16,08': (3.9, 16.1, 0.5, 0), '04,04,16,09': (4.4, 8.0, 0.5, 0), '02,26,16,22': (-2.2, 16.1, None, 0), '07,16,16,18': (25.6, 12.9, None, 0), '02,26,16,08': (0.0, 16.1, None, 0), '02,26,16,09': (0.6, 16.1, None, 0), '02,26,16,06': (0.0, 16.1, None, 0), '02,26,16,07': (-0.6, 16.1, None, 0), '02,26,16,04': (1.1, 16.1, None, 0), '02,26,16,05': (0.6, 16.1, None, 0), '02,26,16,02': (2.2, 16.1, None, 0), '02,26,16,03': (1.7, 16.1, None, 0), '02,26,16,00': (3.3, 16.1, None, 0), '02,26,16,01': (2.2, 16.1, None, 0), '02,02,16,08': (4.4, 16.1, None, 0), '02,02,16,09': (6.1, 16.1, None, 0), '06,21,16,18': (26.7, 12.9, None, 0), '06,21,16,19': (26.7, 12.9, None, 0), '06,21,16,16': (29.4, 14.5, None, 0), '06,21,16,17': (27.2, 14.5, None, 0), '06,21,16,14': (30.0, 16.1, None, 0), '06,21,16,15': (30.0, 16.1, None, 0), '06,21,16,12': (28.3, 16.1, None, 0), '06,21,16,13': (29.4, 16.1, None, 0), '06,21,16,10': (26.1, 16.1, None, 0), '06,21,16,11': (28.3, 16.1, None, 0), '01,20,16,17': (1.1, 16.1, None, 0), '04,06,16,08': (22.2, 8.0, None, 0), '04,06,16,09': (23.3, 8.0, None, 0), '04,06,16,02': (20.0, 11.3, None, 0), '04,06,16,03': (20.0, 11.3, None, 0), '04,06,16,00': (19.4, 12.9, None, 0), '04,06,16,01': (19.4, 12.9, None, 0), '04,06,16,06': (20.6, 6.4, None, 0), '04,06,16,07': (21.1, 8.0, None, 0), '04,06,16,04': (19.4, 11.3, None, 0), '04,06,16,05': (20.0, 9.7, None, 0), '05,06,16,23': (18.9, 12.9, None, 0), '05,06,16,22': (18.9, 12.9, None, 0), '05,06,16,21': (19.4, 12.9, None, 0), '05,06,16,20': (18.9, 14.5, 0.5, 0), '06,18,16,18': (25.0, 14.5, None, 0), '06,18,16,19': (23.9, 14.5, None, 0), '06,18,16,16': (27.2, 14.5, None, 0), '06,18,16,17': (26.7, 14.5, None, 0), '06,18,16,14': (30.0, 16.1, None, 0), '06,18,16,15': (27.8, 14.5, None, 0), '06,18,16,12': (28.9, 16.1, None, 0), '06,18,16,13': (30.0, 16.1, None, 0), '06,18,16,10': (23.9, 16.1, None, 0), '06,18,16,11': (27.2, 14.5, None, 0), '12,19,16,23': (-5.0, 16.1, None, 0), '12,19,16,22': (-4.4, 16.1, None, 0), '02,23,16,21': (1.7, 4.8, 1.3, 0), '02,23,16,20': (1.7, 6.4, 2.0, 0), '02,23,16,23': (2.2, 4.0, 1.0, 0), '02,23,16,22': (1.7, 4.0, 0.5, 0), '09,07,16,19': (21.1, 9.7, None, 0), '09,07,16,18': (21.1, 9.7, None, 0), '09,07,16,17': (21.7, 11.3, None, 0), '09,07,16,16': (21.1, 11.3, None, 0), '09,07,16,15': (21.7, 12.9, None, 0), '09,07,16,14': (21.7, 12.9, None, 0), '09,07,16,13': (22.2, 12.9, None, 0), '09,07,16,12': (22.2, 12.9, None, 0), '09,07,16,11': (21.7, 12.9, None, 0), '09,07,16,10': (21.1, 12.9, None, 0), '04,25,16,03': (11.7, 16.1, None, 0), '04,25,16,02': (11.1, 16.1, None, 0), '04,25,16,01': (10.6, 16.1, None, 0), '04,25,16,00': (10.6, 16.1, None, 0), '04,25,16,07': (12.8, 16.1, None, 0), '04,25,16,06': (12.2, 16.1, None, 0), '04,25,16,05': (11.7, 16.1, None, 0), '04,25,16,04': (11.1, 16.1, None, 0), '04,25,16,09': (15.0, 16.1, None, 0), '04,25,16,08': (13.9, 16.1, None, 0), '03,04,16,23': (3.3, 16.1, None, 0), '03,04,16,21': (3.3, 16.1, None, 0), '03,04,16,20': (3.3, 16.1, None, 0), '07,10,16,02': (14.4, 11.3, None, 0), '07,10,16,03': (14.4, 11.3, None, 0), '07,10,16,00': (15.0, 12.9, None, 0), '07,10,16,01': (15.0, 12.9, None, 0), '07,10,16,06': (13.9, 8.0, None, 0), '07,10,16,07': (14.4, 4.8, None, 0), '07,10,16,04': (14.4, 11.3, None, 0), '07,10,16,05': (14.4, 9.7, None, 0), '07,10,16,08': (16.1, 6.4, None, 0), '07,10,16,09': (17.8, 8.0, None, 0), '07,03,16,20': (13.3, 16.1, None, 0), '07,03,16,21': (12.8, 16.1, None, 0), '07,03,16,22': (12.8, 16.1, None, 0), '07,03,16,23': (12.2, 16.1, None, 0), '01,15,16,23': (7.8, 14.5, None, 0), '01,15,16,22': (7.8, 16.1, None, 0), '01,15,16,21': (7.8, 16.1, 0.0, 0), '01,15,16,20': (8.9, 16.1, None, 0), '08,23,16,18': (25.0, 16.1, None, 0), '08,23,16,19': (24.4, 16.1, None, 0), '08,23,16,16': (26.7, 14.5, None, 0), '08,23,16,17': (26.1, 16.1, None, 0), '08,23,16,14': (26.7, 16.1, None, 0), '08,23,16,15': (26.7, 14.5, None, 0), '08,23,16,12': (26.1, 16.1, None, 0), '08,23,16,13': (26.7, 16.1, None, 0), '08,23,16,10': (23.3, 16.1, None, 0), '08,23,16,11': (25.0, 16.1, None, 0), '08,14,16,21': (25.6, 16.1, None, 0), '08,14,16,20': (25.6, 14.5, None, 0), '08,14,16,23': (26.7, 16.1, None, 0), '08,14,16,22': (26.1, 16.1, None, 0), '10,24,16,10': (13.9, 16.1, None, 0), '10,24,16,11': (15.0, 16.1, None, 0), '10,24,16,12': (16.1, 16.1, None, 0), '10,24,16,13': (16.1, 16.1, None, 0), '10,24,16,14': (16.1, 16.1, None, 0), '10,24,16,15': (15.6, 16.1, None, 0), '10,24,16,16': (15.6, 16.1, None, 0), '10,24,16,17': (14.4, 16.1, None, 0), '10,24,16,18': (12.2, 16.1, None, 0), '10,24,16,19': (11.1, 16.1, None, 0), '02,10,16,18': (16.7, 14.5, None, 0), '02,10,16,19': (17.2, 12.9, None, 0), '02,10,16,12': (16.1, 14.5, None, 0), '02,10,16,13': (16.7, 12.9, None, 0), '02,10,16,10': (15.6, 16.1, None, 0), '02,10,16,11': (16.1, 16.1, None, 0), '02,10,16,16': (16.7, 12.9, None, 0), '02,10,16,17': (17.2, 12.9, None, 0), '02,10,16,14': (16.7, 12.9, None, 0), '02,10,16,15': (16.7, 12.9, None, 0), '03,02,16,21': (13.9, 16.1, None, 0), '03,02,16,20': (14.4, 16.1, 0.3, 0), '03,02,16,23': (14.4, 16.1, None, 0), '03,02,16,22': (14.4, 16.1, None, 0), '09,05,16,20': (18.3, 16.1, None, 0), '09,05,16,21': (17.8, 16.1, None, 0), '09,05,16,22': (16.7, 16.1, None, 0), '09,05,16,23': (15.0, 16.1, None, 0), '05,05,16,07': (8.9, 16.1, None, 0), '03,08,16,09': (22.2, 14.5, None, 0), '03,08,16,08': (21.1, 14.5, None, 0), '03,08,16,05': (18.9, 14.5, None, 0), '03,08,16,04': (18.9, 16.1, None, 0), '03,08,16,07': (20.6, 12.9, None, 0), '03,08,16,06': (19.4, 12.9, None, 0), '03,08,16,01': (19.4, 16.1, None, 0), '03,08,16,00': (20.0, 16.1, None, 0), '03,08,16,03': (19.4, 16.1, None, 0), '03,08,16,02': (19.4, 16.1, None, 0), '10,31,16,21': (8.3, 16.1, None, 0), '05,05,16,09': (10.0, 16.1, None, 0), '03,11,16,18': (17.8, 16.1, None, 0), '03,11,16,19': (17.2, 16.1, None, 0), '04,24,16,20': (12.2, 16.1, None, 0), '04,24,16,21': (11.7, 16.1, None, 0), '04,24,16,22': (11.1, 16.1, None, 0), '04,24,16,23': (11.1, 16.1, None, 0), '03,11,16,10': (18.9, 9.7, None, 0), '03,11,16,11': (19.4, 9.7, None, 0), '03,11,16,12': (20.0, 11.3, None, 0), '03,11,16,13': (21.7, 14.5, None, 0), '03,11,16,14': (22.2, 14.5, None, 0), '03,11,16,15': (22.2, 16.1, None, 0), '03,11,16,16': (21.7, 16.1, None, 0), '03,11,16,17': (19.4, 16.1, None, 0), '10,17,16,23': (21.7, 14.5, None, 0), '10,17,16,22': (22.8, 16.1, None, 0), '10,17,16,21': (22.8, 16.1, None, 0), '10,17,16,20': (23.3, 16.1, None, 0), '12,09,16,19': (20.6, 16.1, None, 0), '12,09,16,18': (21.1, 16.1, None, 0), '12,09,16,15': (23.9, 16.1, None, 0), '12,09,16,14': (22.2, 16.1, None, 0), '12,09,16,17': (22.2, 16.1, None, 0), '12,09,16,16': (23.0, 16.1, None, 0), '09,17,16,21': (21.1, 16.1, None, 0), '09,17,16,20': (21.7, 16.1, None, 0), '09,17,16,23': (21.1, 16.1, None, 0), '09,17,16,22': (21.7, 16.1, None, 0), '04,23,16,09': (16.1, 16.1, 0.0, 0), '04,23,16,08': (16.1, 9.7, 0.3, 0), '04,23,16,05': (16.7, 6.4, 0.3, 0), '04,23,16,04': (17.2, 6.4, 0.0, 0), '04,23,16,07': (16.1, 8.0, 0.0, 0), '04,23,16,06': (16.7, 12.9, 0.0, 0), '04,23,16,01': (17.8, 6.4, 1.3, 0), '04,23,16,00': (19.4, 12.9, 0.0, 0), '04,23,16,03': (17.2, 4.8, 0.0, 0), '04,23,16,02': (17.8, 6.4, 0.3, 0), '06,04,16,11': (6.7, 16.1, None, 0), '06,04,16,10': (6.1, 16.1, None, 0), '06,04,16,13': (7.2, 16.1, None, 0), '06,04,16,12': (7.2, 16.1, None, 0), '06,04,16,15': (6.7, 16.1, None, 0), '06,04,16,14': (7.2, 16.1, None, 0), '06,04,16,17': (7.2, 16.1, None, 0), '06,04,16,16': (6.1, 16.1, None, 0), '06,04,16,19': (6.7, 16.1, None, 0), '06,04,16,18': (6.7, 16.1, None, 0), '06,23,16,18': (25.0, 12.9, None, 0), '06,23,16,19': (23.9, 12.9, None, 0), '06,23,16,10': (25.0, 12.9, None, 0), '06,23,16,11': (24.4, 12.9, None, 0), '06,23,16,12': (25.6, 12.9, None, 0), '06,23,16,13': (26.1, 12.9, None, 0), '06,23,16,14': (26.7, 12.9, None, 0), '06,23,16,15': (27.2, 12.9, None, 0), '06,23,16,16': (26.1, 12.9, None, 0), '06,23,16,17': (25.6, 12.9, None, 0), '07,01,16,17': (7.2, 16.1, None, 0), '07,01,16,16': (7.2, 16.1, None, 0), '07,01,16,15': (7.8, 16.1, None, 0), '07,01,16,14': (7.2, 16.1, None, 0), '07,01,16,13': (7.2, 16.1, None, 0), '07,01,16,12': (6.7, 16.1, None, 0), '07,01,16,11': (5.6, 16.1, None, 0), '07,01,16,10': (5.6, 16.1, None, 0), '07,01,16,19': (5.6, 16.1, None, 0), '07,01,16,18': (6.7, 16.1, None, 0), '03,09,16,13': (22.2, 16.1, None, 0), '03,09,16,12': (22.2, 16.1, None, 0), '03,09,16,11': (22.2, 16.1, None, 0), '03,09,16,10': (21.1, 16.1, None, 0), '03,09,16,17': (22.0, 16.1, None, 0), '03,09,16,16': (23.3, 16.1, None, 0), '03,09,16,15': (23.3, 16.1, None, 0), '03,09,16,14': (23.3, 16.1, None, 0), '03,09,16,19': (21.7, 16.1, None, 0), '03,09,16,18': (22.2, 16.1, None, 0), '10,23,16,00': (8.9, 16.1, None, 0), '12,11,16,23': (6.7, 16.1, None, 0), '12,11,16,22': (7.2, 16.1, None, 0), '12,11,16,21': (7.2, 16.1, None, 0), '12,11,16,20': (8.3, 16.1, None, 0), '12,26,16,00': (1.7, 16.1, None, 0), '05,10,16,19': (15.6, 16.1, None, 0), '05,10,16,18': (16.1, 16.1, None, 0), '05,10,16,17': (17.2, 16.1, None, 0), '05,10,16,16': (18.3, 16.1, None, 0), '05,10,16,15': (18.9, 16.1, None, 0), '05,10,16,14': (18.9, 16.1, None, 0), '05,10,16,13': (18.3, 16.1, None, 0), '05,10,16,12': (17.8, 16.1, None, 0), '05,10,16,11': (16.7, 16.1, None, 0), '05,10,16,10': (15.0, 16.1, None, 0), '10,23,16,02': (8.3, 16.1, None, 0), '01,30,16,20': (3.9, 16.1, None, 0), '01,30,16,21': (3.3, 16.1, None, 0), '01,30,16,22': (3.3, 16.1, None, 0), '01,30,16,23': (2.8, 16.1, None, 0), '10,23,16,03': (8.9, 16.1, None, 0), '10,23,16,06': (7.8, 16.1, None, 0), '06,02,16,22': (2.8, 16.1, None, 0), '06,02,16,23': (2.8, 16.1, None, 0), '06,02,16,20': (3.3, 16.1, None, 0), '06,02,16,21': (3.3, 16.1, None, 0), '07,11,16,07': (6.1, 16.1, None, 0), '07,11,16,06': (5.6, 16.1, None, 0), '07,11,16,05': (5.6, 16.1, None, 0), '07,11,16,04': (5.0, 16.1, None, 0), '07,11,16,03': (6.1, 16.1, None, 0), '07,11,16,02': (5.6, 16.1, None, 0), '07,11,16,01': (6.1, 16.1, None, 0), '07,11,16,00': (6.7, 16.1, None, 0), '02,17,16,20': (2.2, 16.1, None, 0), '02,17,16,21': (2.2, 16.1, None, 0), '07,11,16,09': (7.8, 16.1, None, 0), '07,11,16,08': (7.2, 16.1, None, 0), '11,18,16,06': (6.7, 16.1, None, 0), '08,27,16,20': (25.6, 16.1, None, 0), '11,13,16,02': (6.1, 16.1, None, 0), '11,13,16,03': (5.6, 16.1, None, 0), '11,13,16,00': (6.7, 16.1, None, 0), '11,13,16,01': (6.7, 16.1, None, 0), '11,13,16,06': (5.6, 16.1, None, 0), '11,13,16,07': (6.1, 16.1, None, 0), '11,13,16,04': (5.6, 16.1, None, 0), '11,13,16,05': (5.0, 16.1, None, 0), '04,04,16,22': (0.0, 16.1, None, 0), '04,04,16,23': (-0.6, 16.1, None, 0), '04,04,16,20': (0.6, 16.1, None, 0), '04,04,16,21': (0.6, 16.1, None, 0), '01,22,16,14': (-1.7, 16.1, None, 0), '01,22,16,15': (-1.7, 16.1, None, 0), '01,22,16,16': (-1.7, 16.1, None, 0), '01,22,16,17': (-1.7, 16.1, None, 0), '01,22,16,10': (-3.3, 16.1, None, 0), '01,22,16,11': (-2.2, 16.1, None, 0), '01,22,16,12': (-1.7, 16.1, None, 0), '01,22,16,13': (-1.7, 16.1, None, 0), '08,05,16,23': (13.9, 16.1, None, 0), '08,05,16,22': (14.4, 16.1, None, 0), '08,05,16,21': (13.9, 16.1, None, 0), '08,05,16,20': (15.0, 16.1, None, 0), '11,09,16,10': (26.1, 16.1, None, 0), '11,09,16,11': (25.6, 16.1, None, 0), '11,09,16,12': (26.1, 16.1, None, 0), '11,09,16,13': (26.7, 16.1, None, 0), '11,09,16,14': (27.8, 16.1, None, 0), '11,09,16,15': (27.2, 16.1, None, 0), '11,09,16,16': (27.8, 16.1, None, 0), '11,09,16,17': (26.7, 16.1, None, 0), '10,03,16,20': (22.2, 16.1, None, 0), '10,03,16,21': (20.6, 16.1, None, 0), '10,03,16,22': (20.6, 16.1, None, 0), '10,03,16,23': (20.0, 16.1, None, 0), '11,22,16,19': (2.8, 16.1, None, 0), '11,22,16,18': (2.8, 16.1, None, 0), '05,16,16,20': (16.0, None, None, 0), '05,16,16,21': (16.1, 16.1, None, 0), '05,16,16,22': (15.6, 16.1, None, 0), '05,16,16,23': (16.1, 16.1, None, 0), '11,16,16,18': (13.3, 16.1, None, 0), '11,16,16,19': (12.8, 16.1, None, 0), '02,02,16,22': (6.1, 16.1, None, 0), '02,02,16,23': (6.1, 16.1, None, 0), '02,02,16,20': (6.7, 16.1, None, 0), '11,16,16,10': (12.2, 14.5, None, 0), '11,16,16,11': (14.4, 14.5, None, 0), '11,16,16,12': (15.0, 16.1, None, 0), '11,16,16,13': (16.1, 16.1, None, 0), '11,16,16,14': (16.1, 16.1, None, 0), '11,16,16,15': (15.6, 14.5, None, 0), '11,16,16,16': (15.0, 14.5, None, 0), '11,16,16,17': (14.4, 16.1, None, 0), '06,29,16,16': (27.8, 16.1, None, 0), '06,29,16,17': (27.8, 16.1, None, 0), '06,29,16,14': (27.2, 16.1, None, 0), '06,29,16,15': (27.2, 16.1, None, 0), '06,29,16,12': (26.7, 14.5, None, 0), '06,29,16,13': (27.8, 16.1, None, 0), '06,29,16,10': (23.9, 14.5, None, 0), '06,29,16,11': (25.6, 14.5, None, 0), '06,29,16,18': (27.2, 16.1, None, 0), '06,29,16,19': (26.1, 16.1, None, 0), '12,27,16,06': (13.3, 16.1, None, 0), '04,11,16,18': (12.8, 16.1, None, 0), '07,22,16,18': (33.3, 11.3, None, 0), '07,22,16,19': (31.7, 9.7, None, 0), '07,22,16,16': (34.4, 11.3, None, 0), '07,22,16,17': (33.9, 11.3, None, 0), '07,22,16,14': (33.9, 11.3, None, 0), '07,22,16,15': (33.3, 11.3, None, 0), '07,22,16,12': (32.2, 11.3, None, 0), '07,22,16,13': (33.9, 11.3, None, 0), '07,22,16,10': (29.4, 11.3, None, 0), '07,22,16,11': (31.7, 9.7, None, 0), '12,27,16,01': (11.1, 16.1, None, 0), '05,06,16,05': (18.9, 14.5, None, 0), '05,06,16,04': (18.9, 14.5, None, 0), '05,06,16,07': (19.4, 12.9, None, 0), '05,06,16,06': (18.9, 12.9, None, 0), '05,06,16,01': (18.9, 12.9, None, 0), '05,06,16,00': (19.4, 11.3, None, 0), '05,06,16,03': (19.4, 16.1, None, 0), '05,06,16,02': (19.4, 16.1, None, 0), '03,25,16,20': (15.0, 16.1, None, 0), '05,06,16,09': (19.4, 12.9, 0.0, 0), '05,06,16,08': (18.9, 6.4, 0.0, 0), '03,25,16,21': (12.8, 16.1, None, 0), '03,25,16,22': (11.1, 16.1, None, 0), '03,25,16,23': (8.9, 16.1, None, 0), '12,27,16,08': (13.9, 16.1, None, 0), '12,27,16,09': (13.9, 16.1, None, 0), '02,27,16,03': (-3.3, 16.1, None, 0), '02,27,16,02': (-2.8, 16.1, None, 0), '02,27,16,01': (-2.8, 16.1, None, 0), '02,27,16,00': (-2.8, 16.1, None, 0), '02,27,16,07': (-2.2, 16.1, None, 0), '02,27,16,06': (-2.8, 16.1, None, 0), '02,27,16,05': (-2.8, 16.1, None, 0), '02,27,16,04': (-2.8, 16.1, None, 0), '02,27,16,09': (-0.6, 16.1, None, 0), '02,27,16,08': (-1.1, 16.1, None, 0), '02,20,16,00': (4.4, 16.1, None, 0), '02,20,16,01': (5.0, 16.1, None, 0), '02,20,16,02': (5.0, 16.1, None, 0), '02,20,16,03': (6.1, 16.1, None, 0), '02,20,16,04': (6.1, 16.1, None, 0), '02,20,16,05': (6.1, 16.1, None, 0), '02,20,16,06': (6.1, 16.1, None, 0), '02,20,16,07': (6.7, 16.1, None, 0), '02,20,16,08': (7.2, 16.1, None, 0), '02,20,16,09': (9.4, 16.1, None, 0), '02,25,16,16': (4.4, 16.1, 0.0, 0), '03,04,16,08': (1.1, 16.1, None, 0), '02,25,16,14': (8.3, 16.1, None, 0), '02,25,16,15': (7.2, 16.1, 0.0, 0), '04,25,16,21': (15.0, 16.1, None, 0), '04,25,16,20': (15.0, 16.1, None, 0), '02,25,16,10': (10.0, 16.1, None, 0), '02,25,16,11': (9.4, 16.1, None, 0), '03,04,16,01': (6.1, 16.1, 2.3, 0), '03,04,16,00': (10.0, 12.9, 0.0, 0), '03,04,16,03': (5.6, 16.1, None, 0), '03,04,16,02': (5.0, 16.1, 0.0, 0), '03,04,16,05': (2.8, 16.1, 0.3, 0), '03,04,16,04': (5.0, 16.1, None, 0), '02,25,16,18': (4.4, 16.1, None, 0), '03,04,16,06': (2.8, 16.1, None, 0), '04,17,16,13': (20.0, 16.1, None, 0), '04,17,16,12': (18.3, 16.1, None, 0), '04,17,16,11': (17.8, 16.1, None, 0), '04,17,16,10': (15.6, 16.1, None, 0), '04,17,16,17': (20.6, 16.1, None, 0), '04,17,16,16': (23.3, 16.1, None, 0), '04,17,16,15': (22.8, 16.1, None, 0), '04,17,16,14': (21.7, 16.1, None, 0), '04,17,16,19': (16.1, 16.1, None, 0), '04,17,16,18': (18.9, 16.1, None, 0), '05,22,16,03': (12.2, 16.1, None, 0), '05,22,16,02': (12.2, 16.1, None, 0), '05,22,16,01': (12.2, 16.1, None, 0), '05,22,16,00': (12.2, 16.1, 0.0, 0), '05,22,16,07': (12.2, 16.1, None, 0), '05,22,16,06': (11.7, 14.5, 0.0, 0), '07,03,16,08': (4.4, 8.0, None, 0), '07,03,16,09': (6.7, 9.7, None, 0), '07,03,16,06': (2.8, 11.3, None, 0), '07,03,16,07': (3.3, 8.0, None, 0), '07,03,16,04': (3.9, 16.1, None, 0), '07,03,16,05': (2.2, 14.5, None, 0), '07,03,16,02': (2.8, 16.1, None, 0), '07,03,16,03': (2.8, 16.1, None, 0), '07,03,16,00': (3.3, 16.1, None, 0), '07,03,16,01': (3.3, 16.1, None, 0), '01,15,16,01': (2.8, 16.1, None, 0), '01,15,16,00': (2.2, 16.1, None, 0), '01,15,16,03': (1.7, 16.1, None, 0), '01,15,16,02': (2.2, 16.1, None, 0), '01,15,16,05': (2.8, 16.1, None, 0), '01,15,16,04': (1.7, 16.1, None, 0), '01,15,16,07': (2.8, 12.9, None, 0), '01,15,16,06': (2.8, 16.1, None, 0), '01,15,16,09': (5.0, 12.9, None, 0), '01,15,16,08': (3.9, 11.3, None, 0), '04,15,16,15': (17.8, 16.1, None, 0), '04,15,16,14': (16.7, 16.1, None, 0), '04,15,16,17': (16.7, 16.1, None, 0), '04,15,16,16': (17.2, 16.1, None, 0), '04,15,16,11': (13.9, 16.1, None, 0), '04,15,16,10': (11.7, 16.1, None, 0), '04,15,16,13': (15.6, 16.1, None, 0), '04,15,16,12': (13.9, 16.1, None, 0), '04,15,16,19': (13.3, 16.1, None, 0), '04,15,16,18': (15.0, 16.1, None, 0), '12,17,16,03': (-3.9, 1.2, 1.0, 0), '12,17,16,02': (-1.7, 16.1, None, 0), '12,17,16,01': (-2.2, 16.1, None, 0), '12,17,16,00': (-2.8, 16.1, None, 0), '12,17,16,07': (-2.2, 1.2, 2.3, 0), '12,17,16,06': (-2.8, 1.2, 1.8, 0), '02,15,16,19': (0.6, 4.0, 0.0, 0), '02,15,16,18': (-1.1, 4.8, 0.0, 0), '02,15,16,17': (-1.7, 1.2, 1.3, 0), '02,15,16,16': (-2.8, 0.8, 0.5, 1), '02,15,16,15': (-3.3, 0.8, 0.8, 0), '02,15,16,14': (-3.9, 0.8, 0.0, 0), '02,15,16,13': (-4.4, 9.7, None, 0), '02,15,16,12': (-5.0, 16.1, None, 0), '02,15,16,11': (-5.0, 14.5, None, 0), '02,15,16,10': (-6.1, 16.1, None, 0), '04,16,16,16': (18.9, 16.1, None, 0), '06,09,16,19': (25.6, 16.1, None, 0), '07,17,16,23': (27.2, 16.1, None, 0), '07,17,16,22': (27.8, 16.1, None, 0), '07,17,16,21': (28.3, 16.1, None, 0), '07,17,16,20': (29.4, 16.1, None, 0), '06,09,16,16': (26.1, 16.1, 0.0, 0), '09,05,16,06': (12.8, 16.1, None, 0), '09,05,16,07': (13.3, 16.1, None, 0), '09,05,16,04': (12.2, 16.1, None, 0), '06,09,16,17': (26.1, 16.1, None, 0), '09,05,16,02': (12.2, 16.1, None, 0), '07,29,16,08': (21.1, 2.8, 0.0, 0), '09,05,16,00': (12.8, 16.1, None, 0), '09,05,16,01': (12.2, 16.1, None, 0), '08,16,16,15': (30.6, 12.9, None, 0), '09,05,16,08': (14.4, 16.1, None, 0), '09,05,16,09': (16.7, 16.1, None, 0), '05,25,16,08': (21.1, 14.5, None, 0), '05,25,16,09': (22.8, 14.5, None, 0), '08,16,16,12': (30.6, 14.5, None, 0), '11,08,16,08': (27.8, 11.3, None, 0), '04,24,16,08': (10.0, 16.1, None, 0), '08,16,16,13': (29.4, 14.5, None, 0), '04,24,16,06': (8.9, 16.1, None, 0), '04,24,16,07': (8.9, 16.1, None, 0), '04,24,16,04': (9.4, 16.1, None, 0), '04,24,16,05': (8.3, 16.1, None, 0), '04,24,16,02': (10.6, 16.1, None, 0), '04,24,16,03': (10.0, 16.1, None, 0), '04,24,16,00': (12.8, 16.1, None, 0), '04,24,16,01': (11.7, 16.1, None, 0), '11,08,16,06': (26.7, 12.9, None, 0), '11,08,16,07': (27.2, 11.3, None, 0), '11,08,16,04': (26.7, 14.5, None, 0), '10,17,16,05': (17.2, 12.9, None, 0), '10,17,16,04': (17.2, 14.5, None, 0), '10,17,16,07': (17.8, 11.3, None, 0), '10,17,16,06': (17.2, 12.9, None, 0), '10,17,16,01': (17.2, 14.5, None, 0), '08,16,16,10': (28.9, 12.9, None, 0), '10,17,16,03': (17.8, 14.5, None, 0), '10,17,16,02': (17.8, 14.5, None, 0), '11,08,16,02': (27.2, 14.5, None, 0), '10,17,16,09': (19.4, 9.7, None, 0), '10,17,16,08': (17.8, 9.7, None, 0), '11,08,16,03': (26.7, 14.5, None, 0), '11,08,16,00': (28.3, 14.5, None, 0), '11,08,16,01': (27.8, 14.5, None, 0), '08,16,16,11': (30.0, 12.9, None, 0), '08,02,16,20': (-1.7, 16.1, None, 0), '08,02,16,21': (-2.2, 14.5, None, 0), '08,02,16,22': (-1.7, 16.1, None, 0), '08,02,16,23': (-2.2, 12.9, 0.0, 0), '08,31,16,00': (23.9, 16.1, None, 0), '12,16,16,20': (-3.9, 16.1, None, 0), '12,16,16,21': (-3.3, 16.1, None, 0), '12,16,16,22': (-3.3, 16.1, None, 0), '08,31,16,01': (23.3, 14.5, None, 0), '12,02,16,16': (-3.9, 16.1, None, 0), '08,31,16,02': (23.9, 14.5, None, 0), '12,02,16,17': (-4.4, 16.1, None, 0), '08,31,16,03': (23.9, 12.9, None, 0), '08,31,16,04': (23.9, 12.9, None, 0), '08,31,16,05': (23.9, 11.3, None, 0), '08,29,16,10': (29.4, 12.9, None, 0), '08,29,16,11': (31.1, 12.9, None, 0), '08,29,16,12': (31.7, 14.5, None, 0), '08,29,16,13': (32.2, 14.5, None, 0), '08,29,16,14': (31.7, None, None, 0), '08,29,16,15': (32.2, None, None, 0), '08,29,16,16': (31.1, 16.1, None, 0), '08,29,16,17': (31.1, 16.1, None, 0), '08,29,16,18': (30.0, 16.1, None, 0), '08,29,16,19': (28.9, 16.1, None, 0), '08,31,16,07': (24.4, 11.3, None, 0), '12,02,16,18': (-4.4, 16.1, None, 0), '09,21,16,13': (27.8, 16.1, None, 0), '09,21,16,12': (27.2, 16.1, None, 0), '09,21,16,11': (25.6, 16.1, None, 0), '09,21,16,10': (23.3, 16.1, None, 0), '09,21,16,17': (27.2, 16.1, None, 0), '09,21,16,16': (27.8, 16.1, None, 0), '09,21,16,15': (28.3, 16.1, None, 0), '09,21,16,14': (28.9, 16.1, None, 0), '12,11,16,05': (2.8, 16.1, None, 0), '12,11,16,04': (3.3, 16.1, None, 0), '09,21,16,19': (25.0, 16.1, None, 0), '09,21,16,18': (26.1, 16.1, None, 0), '12,11,16,01': (4.4, 16.1, None, 0), '12,11,16,00': (4.4, 16.1, None, 0), '12,11,16,03': (3.3, 16.1, None, 0), '12,11,16,02': (3.9, 16.1, None, 0), '10,19,16,03': (21.1, 14.5, None, 0), '10,19,16,02': (21.7, 14.5, None, 0), '10,19,16,01': (21.1, 14.5, None, 0), '10,19,16,00': (21.7, 14.5, None, 0), '10,19,16,07': (21.1, 12.9, None, 0), '10,19,16,06': (20.6, 14.5, None, 0), '10,19,16,05': (21.1, 14.5, None, 0), '10,19,16,04': (21.7, 14.5, None, 0), '10,19,16,09': (23.3, 12.9, None, 0), '10,19,16,08': (21.7, 12.9, None, 0), '03,14,16,19': (5.6, 8.0, 0.3, 0), '03,14,16,18': (5.6, 4.8, 0.3, 0), '01,30,16,06': (-2.2, 16.1, None, 0), '01,30,16,07': (-1.7, 16.1, None, 0), '01,30,16,04': (-2.2, 16.1, None, 0), '01,30,16,05': (-2.2, 16.1, None, 0), '01,30,16,02': (-2.2, 16.1, None, 0), '01,30,16,03': (-2.2, 16.1, None, 0), '01,30,16,00': (-1.7, 16.1, None, 0), '01,30,16,01': (-2.2, 16.1, None, 0), '01,30,16,08': (-1.1, 16.1, None, 0), '01,30,16,09': (-0.6, 16.1, None, 0), '10,05,16,04': (10.6, 16.1, None, 0), '05,29,16,08': (25.0, 14.5, None, 0), '05,29,16,09': (26.1, 12.9, None, 0), '10,05,16,05': (10.6, 16.1, None, 0), '05,29,16,04': (22.8, 16.1, None, 0), '05,29,16,05': (22.2, 14.5, None, 0), '05,29,16,06': (22.8, 14.5, None, 0), '05,29,16,07': (23.3, 14.5, None, 0), '05,29,16,00': (25.0, 16.1, None, 0), '03,14,16,17': (5.0, 12.9, 0.0, 0), '05,29,16,02': (23.9, 16.1, None, 0), '05,29,16,03': (23.3, 16.1, None, 0), '03,14,16,16': (4.4, 8.0, 0.3, 0), '10,05,16,00': (13.3, 16.1, None, 0), '10,05,16,01': (12.2, 16.1, None, 0), '10,05,16,02': (11.7, 16.1, None, 0), '10,05,16,03': (10.6, 16.1, None, 0), '06,01,16,14': (4.4, 16.1, None, 0), '06,01,16,15': (3.9, 16.1, None, 0), '06,01,16,16': (3.3, 16.1, None, 0), '06,01,16,17': (3.3, 16.1, None, 0), '06,01,16,10': (0.6, 16.1, None, 0), '06,01,16,11': (2.2, 16.1, None, 0), '06,01,16,12': (3.3, 16.1, None, 0), '06,01,16,13': (4.4, 16.1, None, 0), '06,01,16,18': (2.8, 16.1, None, 0), '06,01,16,19': (2.2, 16.1, None, 0), '09,23,16,01': (20.6, 16.1, None, 0), '07,11,16,21': (9.4, 16.1, None, 0), '07,11,16,20': (9.4, 16.1, None, 0), '07,11,16,23': (8.3, 16.1, None, 0), '07,11,16,22': (8.3, 16.1, None, 0), '02,17,16,06': (2.8, 16.1, None, 0), '02,17,16,07': (2.8, 16.1, None, 0), '02,17,16,04': (2.8, 16.1, None, 0), '02,17,16,05': (2.8, 16.1, None, 0), '02,17,16,02': (2.8, 16.1, None, 0), '02,17,16,03': (2.8, 16.1, None, 0), '02,17,16,00': (3.3, 16.1, None, 0), '02,17,16,01': (2.8, 16.1, None, 0), '03,06,16,03': (17.8, 12.9, None, 0), '03,06,16,02': (17.8, 14.5, None, 0), '03,06,16,01': (17.8, 12.9, None, 0), '03,06,16,00': (18.3, 11.3, None, 0), '03,06,16,07': (17.8, 6.4, 0.3, 0), '03,06,16,06': (17.8, 8.0, None, 0), '02,17,16,08': (3.9, 16.1, None, 0), '02,17,16,09': (3.9, 16.1, None, 0), '09,04,16,18': (4.4, 16.1, None, 0), '09,04,16,19': (5.0, 16.1, None, 0), '04,08,16,19': (23.3, 14.5, None, 0), '04,08,16,18': (24.4, 14.5, None, 0), '04,08,16,17': (25.0, 14.5, None, 0), '04,08,16,16': (25.6, 14.5, None, 0), '04,08,16,15': (25.0, 14.5, None, 0), '04,08,16,14': (26.7, 14.5, None, 0), '04,08,16,13': (26.1, 14.5, None, 0), '04,08,16,12': (26.1, 14.5, None, 0), '04,08,16,11': (23.9, 12.9, None, 0), '04,08,16,10': (23.9, 11.3, None, 0), '08,05,16,01': (11.1, 16.1, None, 0), '08,05,16,00': (10.6, 16.1, None, 0), '08,05,16,03': (10.0, 11.3, None, 0), '08,05,16,02': (10.0, 16.1, None, 0), '08,05,16,05': (10.6, 9.7, None, 0), '08,05,16,04': (10.0, 8.0, None, 0), '08,05,16,07': (10.0, 1.6, 2.8, 0), '08,05,16,06': (11.1, 14.5, None, 0), '08,05,16,09': (11.7, 8.0, 0.0, 0), '08,05,16,08': (11.1, 6.4, 0.0, 0), '12,24,16,23': (5.6, 16.1, None, 0), '12,24,16,22': (6.7, 16.1, None, 0), '12,24,16,21': (7.2, 16.1, None, 0), '12,24,16,20': (7.8, 16.1, None, 0), '11,20,16,05': (3.9, 16.1, None, 0), '10,03,16,02': (18.9, 16.1, None, 0), '10,03,16,03': (18.3, 16.1, None, 0), '06,30,16,09': (23.9, 16.1, None, 0), '06,30,16,08': (22.2, 16.1, None, 0), '10,03,16,06': (17.8, 16.1, None, 0), '10,03,16,07': (17.8, 16.1, None, 0), '10,03,16,04': (18.3, 16.1, None, 0), '10,03,16,05': (17.8, 16.1, None, 0), '06,30,16,03': (20.6, 16.1, None, 0), '06,30,16,02': (20.6, 16.1, None, 0), '06,30,16,01': (21.7, 16.1, None, 0), '06,30,16,00': (21.7, 16.1, None, 0), '06,30,16,07': (21.1, 16.1, None, 0), '06,30,16,06': (20.0, 16.1, None, 0), '06,30,16,05': (20.0, 16.1, None, 0), '06,30,16,04': (20.0, 16.1, None, 0), '05,16,16,02': (7.0, None, None, 0), '05,16,16,03': (6.0, None, None, 0), '05,16,16,00': (8.0, None, None, 0), '05,16,16,01': (7.0, None, None, 0), '05,16,16,06': (8.0, None, None, 0), '05,16,16,07': (8.0, None, None, 0), '05,16,16,04': (6.0, None, None, 0), '05,16,16,05': (6.0, None, None, 0), '05,16,16,08': (9.0, None, None, 0), '05,16,16,09': (9.0, None, None, 0), '11,06,16,20': (29.4, 16.1, None, 0), '11,06,16,21': (30.0, 16.1, None, 0), '11,26,16,23': (5.0, 16.1, None, 0), '11,01,16,19': (-1.7, 16.1, None, 0), '12,20,16,19': (0.6, 16.1, None, 0), '05,17,16,13': (18.0, None, None, 0), '06,08,16,20': (26.7, 16.1, None, 0), '06,08,16,21': (27.2, 16.1, None, 0), '06,08,16,22': (26.7, 16.1, None, 0), '06,08,16,23': (25.6, 16.1, None, 0), '01,31,16,18': (7.8, 16.1, None, 0), '01,31,16,19': (8.9, 16.1, None, 0), '01,31,16,10': (7.2, 16.1, None, 0), '01,31,16,11': (8.9, 16.1, None, 0), '01,31,16,12': (11.1, 16.1, None, 0), '01,31,16,13': (11.7, 16.1, None, 0), '01,31,16,14': (12.8, 16.1, None, 0), '01,31,16,15': (12.8, 16.1, None, 0), '01,31,16,16': (9.4, 16.1, None, 0), '01,31,16,17': (8.3, 16.1, None, 0), '02,27,16,21': (3.9, 16.1, None, 0), '02,27,16,20': (3.9, 16.1, None, 0), '02,27,16,23': (3.9, 16.1, None, 0), '02,27,16,22': (3.9, 16.1, None, 0), '03,29,16,15': (11.1, 16.1, None, 0), '03,29,16,14': (11.1, 16.1, None, 0), '03,29,16,17': (10.0, 16.1, None, 0), '03,29,16,16': (11.1, 16.1, None, 0), '03,29,16,11': (9.4, 16.1, None, 0), '03,29,16,10': (8.9, 16.1, None, 0), '03,29,16,13': (10.6, 16.1, None, 0), '03,29,16,12': (10.0, 16.1, None, 0), '02,06,16,19': (18.9, 11.3, None, 0), '02,06,16,18': (20.6, 12.9, None, 0), '02,06,16,13': (24.4, 9.7, None, 0), '02,06,16,12': (23.9, 11.3, None, 0), '02,06,16,11': (21.7, 11.3, None, 0), '02,06,16,10': (20.6, 11.3, None, 0), '02,06,16,17': (22.2, 14.5, None, 0), '02,06,16,16': (23.3, 11.3, None, 0), '02,06,16,15': (23.3, 9.7, None, 0), '02,06,16,14': (23.9, 9.7, None, 0), '05,22,16,21': (17.2, 16.1, None, 0), '05,22,16,20': (17.2, 16.1, None, 0), '05,22,16,23': (15.0, 16.1, None, 0), '05,22,16,22': (16.1, 16.1, None, 0), '11,19,16,00': (11.7, 16.1, None, 0), '11,19,16,01': (11.7, 16.1, None, 0), '11,19,16,02': (10.6, 16.1, None, 0), '11,19,16,03': (10.6, 16.1, None, 0), '11,19,16,04': (9.4, 16.1, None, 0), '11,19,16,05': (10.0, 16.1, None, 0), '11,19,16,06': (10.0, 16.1, None, 0), '11,19,16,07': (10.6, 16.1, None, 0), '11,19,16,08': (11.7, 16.1, None, 0), '11,19,16,09': (12.8, 14.5, None, 0), '12,17,16,21': (2.8, 11.3, None, 0), '12,17,16,20': (2.8, 11.3, None, 0), '12,17,16,23': (3.9, 11.3, None, 0), '12,17,16,22': (3.9, 11.3, None, 0), '07,07,16,20': (25.6, 12.9, None, 0), '07,07,16,21': (25.6, 12.9, None, 0), '07,07,16,22': (26.1, 12.9, None, 0), '07,07,16,23': (26.1, 12.9, None, 0), '09,24,16,23': (16.1, 16.1, None, 0), '09,24,16,22': (16.1, 16.1, None, 0), '09,24,16,21': (17.8, 16.1, None, 0), '09,24,16,20': (17.2, 16.1, None, 0), '07,17,16,09': (26.1, 12.9, None, 0), '07,17,16,08': (25.0, 12.9, None, 0), '07,17,16,01': (25.0, 16.1, None, 0), '07,17,16,00': (25.0, 16.1, None, 0), '07,17,16,03': (24.4, 16.1, None, 0), '07,17,16,02': (23.9, 16.1, None, 0), '07,17,16,05': (23.9, 16.1, None, 0), '07,17,16,04': (24.4, 16.1, None, 0), '07,17,16,07': (24.4, 12.9, None, 0), '07,17,16,06': (24.4, 12.9, None, 0), '08,04,16,17': (8.0, 16.1, None, 0), '07,28,16,11': (32.2, 12.9, None, 0), '08,04,16,15': (6.7, 16.1, None, 0), '08,04,16,14': (7.2, 16.1, None, 0), '08,04,16,13': (6.7, 16.1, None, 0), '08,04,16,12': (8.3, 16.1, None, 0), '07,28,16,16': (28.9, 11.3, None, 0), '08,04,16,10': (7.8, 16.1, 0.3, 0), '07,28,16,18': (26.7, 9.7, 0.0, 0), '07,28,16,19': (26.7, 12.9, 0.0, 0), '06,26,16,12': (30.0, 12.9, None, 0), '08,04,16,19': (7.2, 16.1, None, 0), '08,04,16,18': (7.8, 16.1, None, 0), '04,13,16,04': (5.0, 16.1, None, 0), '04,13,16,05': (4.4, 16.1, None, 0), '04,13,16,06': (4.4, 16.1, None, 0), '04,13,16,07': (5.6, 16.1, None, 0), '04,13,16,00': (7.2, 16.1, None, 0), '04,13,16,01': (6.7, 16.1, None, 0), '04,13,16,02': (6.1, 16.1, None, 0), '04,13,16,03': (5.6, 16.1, None, 0), '02,04,16,20': (10.0, 16.1, None, 0), '02,04,16,21': (10.6, 16.1, None, 0), '04,13,16,08': (6.7, 16.1, None, 0), '04,13,16,09': (7.2, 16.1, None, 0), '04,29,16,11': (12.8, 16.1, None, 0), '11,08,16,11': (32.8, 12.9, None, 0), '02,18,16,23': (-2.2, 16.1, None, 0), '02,18,16,22': (-2.2, 16.1, None, 0), '02,18,16,21': (-1.7, 16.1, None, 0), '02,18,16,20': (-1.1, 16.1, None, 0), '08,13,16,00': (28.3, 16.1, None, 0), '08,13,16,01': (27.8, 16.1, None, 0), '08,13,16,02': (27.8, 14.5, None, 0), '08,13,16,03': (27.8, 12.9, None, 0), '08,13,16,04': (27.8, 14.5, None, 0), '08,13,16,05': (27.2, 12.9, None, 0), '08,13,16,06': (27.8, 11.3, None, 0), '08,13,16,07': (27.8, 11.3, None, 0), '08,13,16,08': (28.9, 11.3, None, 0), '08,13,16,09': (30.6, 11.3, None, 0), '05,17,16,07': (14.0, None, None, 0), '05,17,16,06': (13.0, None, None, 0), '05,17,16,05': (13.0, None, None, 0), '05,17,16,04': (13.0, None, None, 0), '05,17,16,03': (13.0, None, None, 0), '05,17,16,02': (13.0, None, None, 0), '05,17,16,01': (13.9, 16.1, None, 0), '05,17,16,00': (14.4, 16.1, None, 0), '05,17,16,09': (16.0, None, None, 0), '05,17,16,08': (15.0, None, None, 0), '08,02,16,08': (2.8, 16.1, None, 0), '08,02,16,09': (1.1, 2.0, 0.0, 0), '03,14,16,20': (5.6, 6.4, 0.8, 0), '08,02,16,02': (3.3, 16.1, None, 0), '08,02,16,03': (3.3, 16.1, None, 0), '08,02,16,00': (3.9, 16.1, None, 0), '08,02,16,01': (3.3, 16.1, None, 0), '08,02,16,06': (3.3, 16.1, None, 0), '08,02,16,07': (3.3, 16.1, None, 0), '08,02,16,04': (3.3, 16.1, None, 0), '08,02,16,05': (3.3, 16.1, None, 0), '04,20,16,20': (13.3, 16.1, None, 0), '04,20,16,21': (13.9, 16.1, None, 0), '04,20,16,22': (13.9, 16.1, None, 0), '04,20,16,23': (12.2, 16.1, None, 0), '12,16,16,08': (-7.8, 16.1, None, 0), '12,16,16,09': (-7.2, 16.1, None, 0), '12,16,16,06': (-8.3, 16.1, None, 0), '12,16,16,07': (-8.3, 16.1, None, 0), '12,16,16,04': (-8.3, 16.1, None, 0), '12,16,16,05': (-8.3, 16.1, None, 0), '12,16,16,02': (-7.8, 16.1, None, 0), '12,16,16,03': (-7.8, 16.1, None, 0), '12,16,16,00': (-7.2, 16.1, None, 0), '12,16,16,01': (-7.2, 16.1, None, 0), '03,14,16,22': (6.1, 9.7, 0.3, 0), '02,08,16,20': (21.1, 16.1, None, 0), '02,08,16,21': (21.1, 16.1, None, 0), '02,08,16,22': (20.6, 16.1, None, 0), '02,08,16,23': (20.6, 16.1, None, 0), '10,19,16,21': (21.7, 16.1, None, 0), '10,19,16,20': (22.2, 16.1, None, 0), '10,19,16,23': (19.4, 16.1, None, 0), '10,19,16,22': (20.6, 16.1, None, 0), '12,19,16,05': (-3.3, 16.1, None, 0), '12,19,16,04': (-2.8, 16.1, None, 0), '12,19,16,07': (-4.4, 16.1, None, 0), '12,19,16,06': (-3.9, 16.1, None, 0), '12,19,16,01': (-1.1, 16.1, None, 0), '12,19,16,00': (-0.6, 16.1, None, 0), '12,19,16,03': (-2.2, 16.1, None, 0), '12,19,16,02': (-1.7, 16.1, None, 0), '12,10,16,14': (17.2, 16.1, None, 0), '12,19,16,09': (-3.9, 16.1, None, 0), '12,19,16,08': (-4.4, 16.1, None, 0), '08,08,16,19': (25.6, 14.5, None, 0), '08,08,16,18': (28.3, 14.5, None, 0), '07,19,16,18': (27.2, 14.5, None, 0), '07,19,16,19': (26.1, 16.1, None, 0), '05,29,16,20': (22.8, 16.1, None, 0), '05,29,16,21': (22.2, 16.1, None, 0), '07,19,16,14': (26.7, 14.5, None, 0), '07,19,16,15': (27.8, 14.5, None, 0), '08,08,16,11': (28.3, 14.5, None, 0), '08,08,16,10': (26.7, 14.5, None, 0), '08,08,16,17': (27.8, 14.5, None, 0), '08,08,16,16': (28.3, 14.5, None, 0), '07,19,16,12': (27.2, 16.1, None, 0), '07,19,16,13': (27.8, 14.5, None, 0), '01,25,16,08': (-0.6, 16.1, None, 0), '01,25,16,09': (0.0, 16.1, None, 0), '01,25,16,04': (-1.1, 16.1, None, 0), '01,25,16,05': (-1.7, 16.1, None, 0), '01,25,16,06': (-1.7, 16.1, None, 0), '01,25,16,07': (-1.7, 14.5, None, 0), '01,25,16,00': (-0.6, 16.1, None, 0), '01,25,16,01': (-0.6, 16.1, None, 0), '01,25,16,02': (-1.1, 16.1, None, 0), '01,25,16,03': (-1.1, 16.1, None, 0), '03,06,16,21': (20.0, 11.3, None, 0), '03,06,16,20': (20.0, 12.9, None, 0), '03,06,16,23': (19.4, 12.9, None, 0), '03,06,16,22': (20.0, 12.9, None, 0), '12,23,16,19': (6.1, 16.1, None, 0), '12,23,16,18': (6.7, 16.1, None, 0), '12,24,16,09': (3.9, 3.2, 2.5, 0), '12,24,16,08': (3.9, 2.8, 2.0, 0), '12,24,16,01': (5.0, 16.1, None, 0), '12,24,16,00': (5.6, 16.1, None, 0), '12,24,16,03': (5.6, 16.1, None, 0), '12,24,16,02': (5.6, 16.1, None, 0), '12,24,16,05': (5.6, 16.1, None, 0), '12,24,16,04': (5.6, 16.1, None, 0), '12,24,16,07': (3.3, 8.0, 1.8, 0), '12,24,16,06': (3.9, 8.0, 0.5, 0), '10,20,16,09': (18.9, 16.1, None, 0), '10,20,16,08': (17.8, 16.1, None, 0), '10,20,16,07': (17.2, 16.1, None, 0), '10,20,16,06': (16.7, 16.1, None, 0), '10,20,16,05': (17.2, 16.1, None, 0), '10,20,16,04': (17.2, 16.1, None, 0), '10,20,16,03': (17.2, 16.1, None, 0), '10,20,16,02': (17.2, 16.1, None, 0), '10,20,16,01': (17.8, 16.1, None, 0), '10,20,16,00': (18.3, 16.1, None, 0), '06,30,16,21': (24.4, 16.1, None, 0), '06,30,16,20': (25.0, 16.1, None, 0), '06,30,16,23': (24.4, 16.1, None, 0), '06,30,16,22': (24.4, 16.1, None, 0), '01,13,16,18': (-3.9, 16.1, None, 0), '01,13,16,19': (-4.4, 16.1, None, 0), '01,13,16,14': (-2.2, 16.1, None, 0), '01,13,16,15': (-2.2, 16.1, None, 0), '01,13,16,16': (-2.8, 16.1, None, 0), '01,13,16,17': (-3.3, 16.1, None, 0), '01,13,16,10': (-3.9, 16.1, None, 0), '01,13,16,11': (-3.3, 16.1, None, 0), '01,13,16,12': (-2.2, 16.1, None, 0), '01,13,16,13': (-2.2, 16.1, None, 0), '12,30,16,06': (2.2, 16.1, None, 0), '05,25,16,07': (18.9, 14.5, None, 0), '11,08,16,15': (32.2, 11.3, None, 0), '12,30,16,07': (1.7, 16.1, None, 0), '05,03,16,08': (-1.1, 16.1, None, 0), '05,03,16,09': (0.0, 16.1, None, 0), '05,03,16,04': (-1.1, 16.1, None, 0), '05,03,16,05': (-1.7, 16.1, None, 0), '05,03,16,06': (-2.2, 16.1, None, 0), '05,03,16,07': (-1.7, 16.1, None, 0), '05,03,16,00': (0.0, 16.1, None, 0), '05,03,16,01': (-0.6, 16.1, None, 0), '05,03,16,02': (-0.6, 16.1, None, 0), '05,03,16,03': (-1.1, 16.1, None, 0), '09,23,16,20': (25.0, 14.5, None, 0), '09,23,16,21': (25.0, 14.5, None, 0), '09,23,16,22': (25.0, 16.1, None, 0), '09,23,16,23': (22.8, 16.1, None, 0), '08,29,16,02': (23.9, 16.1, None, 0), '01,27,16,11': (6.1, 16.1, None, 0), '01,27,16,10': (5.0, 16.1, None, 0), '01,27,16,13': (6.7, 16.1, None, 0), '01,27,16,12': (6.7, 16.1, None, 0), '01,27,16,15': (6.7, 16.1, None, 0), '01,27,16,14': (6.7, 16.1, None, 0), '01,27,16,17': (5.0, 16.1, None, 0), '01,27,16,16': (5.6, 16.1, None, 0), '01,27,16,19': (3.9, 16.1, None, 0), '01,27,16,18': (5.0, 16.1, None, 0), '02,02,16,17': (7.8, 16.1, None, 0), '02,02,16,16': (8.9, 16.1, None, 0), '02,02,16,15': (9.4, 16.1, None, 0), '08,16,16,16': (27.2, 8.0, 0.5, 0), '02,02,16,14': (9.4, 16.1, None, 0), '08,16,16,17': (28.9, 12.9, 0.0, 0), '02,02,16,13': (9.4, 16.1, None, 0), '08,16,16,14': (30.6, 12.9, None, 0), '02,02,16,12': (8.9, 16.1, None, 0), '06,08,16,08': (24.4, 12.9, None, 0), '06,08,16,09': (26.1, 11.3, None, 0), '02,02,16,11': (8.9, 16.1, None, 0), '06,08,16,02': (22.8, 16.1, None, 0), '06,08,16,03': (22.8, 16.1, None, 0), '06,08,16,00': (23.9, 16.1, None, 0), '06,08,16,01': (22.8, 16.1, None, 0), '06,08,16,06': (23.9, 14.5, None, 0), '06,08,16,07': (23.9, 12.9, None, 0), '06,08,16,04': (22.8, 16.1, None, 0), '06,08,16,05': (23.3, 16.1, None, 0), '07,04,16,12': (12.8, 9.7, 0.0, 0), '07,04,16,13': (11.7, 11.3, 2.0, 0), '07,04,16,10': (12.8, 16.1, None, 0), '07,04,16,11': (12.8, 14.5, None, 0), '05,11,16,23': (13.3, 16.1, None, 0), '05,11,16,22': (13.3, 16.1, None, 0), '05,11,16,21': (12.8, 16.1, None, 0), '05,11,16,20': (13.3, 16.1, None, 0), '07,04,16,18': (13.9, 16.1, None, 0), '07,04,16,19': (13.3, 16.1, None, 0), '08,06,16,20': (16.1, 16.1, None, 0), '08,06,16,21': (15.6, 16.1, None, 0), '08,06,16,22': (15.6, 16.1, None, 0), '08,06,16,23': (15.0, 16.1, None, 0), '10,12,16,22': (-1.1, 16.1, None, 0), '08,29,16,05': (23.3, 16.1, None, 0), '10,12,16,20': (0.0, 16.1, None, 0), '10,12,16,21': (-0.6, 16.1, None, 0), '08,29,16,04': (23.9, 16.1, None, 0), '10,25,16,20': (8.3, 16.1, None, 0), '10,25,16,21': (7.8, 16.1, None, 0), '10,25,16,22': (7.2, 16.1, None, 0), '10,25,16,23': (6.7, 16.1, None, 0), '11,29,16,23': (13.9, 14.5, None, 0), '11,29,16,22': (15.0, 16.1, None, 0), '11,29,16,21': (15.0, 11.3, None, 0), '11,29,16,20': (15.0, 9.7, 1.0, 0), '03,18,16,19': (10.6, 16.1, None, 0), '11,19,16,22': (7.8, 16.1, 1.0, 0), '11,19,16,23': (3.3, 4.0, 2.8, 0), '11,19,16,20': (12.8, 16.1, None, 0), '11,19,16,21': (10.6, 6.4, 1.3, 0), '05,05,16,19': (12.8, 16.1, None, 0), '05,05,16,18': (13.3, 16.1, None, 0), '05,05,16,15': (13.3, 16.1, None, 0), '05,05,16,14': (13.9, 16.1, None, 0), '05,05,16,17': (13.3, 16.1, None, 0), '05,05,16,16': (13.3, 16.1, None, 0), '05,05,16,11': (11.1, 16.1, None, 0), '05,05,16,10': (10.6, 16.1, None, 0), '05,05,16,13': (12.2, 16.1, None, 0), '05,05,16,12': (12.2, 16.1, None, 0), '07,05,16,00': (10.0, 6.4, None, 0), '07,05,16,01': (10.0, 4.8, None, 0), '07,05,16,02': (9.4, 2.8, None, 0), '07,05,16,03': (9.4, 2.8, None, 0), '07,05,16,04': (9.4, 6.4, None, 0), '07,05,16,05': (8.9, 8.0, None, 0), '07,05,16,06': (9.4, 12.9, None, 0), '07,05,16,07': (9.4, 12.9, None, 0), '07,05,16,08': (10.0, 9.7, None, 0), '07,05,16,09': (10.6, 16.1, None, 0), '07,07,16,08': (30.0, 9.7, None, 0), '07,07,16,09': (30.0, 11.3, None, 0), '07,07,16,02': (27.2, 12.9, None, 0), '07,07,16,03': (27.2, 12.9, None, 0), '07,07,16,00': (27.2, 14.5, None, 0), '07,07,16,01': (27.2, 12.9, None, 0), '07,07,16,06': (27.2, 11.3, None, 0), '07,07,16,07': (28.3, 11.3, None, 0), '07,07,16,04': (26.7, 12.9, None, 0), '07,07,16,05': (26.1, 11.3, None, 0), '09,24,16,01': (16.7, 6.4, 4.6, 0), '09,24,16,00': (18.3, 8.0, 0.0, 0), '09,24,16,03': (16.1, 16.1, None, 0), '09,24,16,02': (16.7, 16.1, 0.0, 0), '09,24,16,05': (15.0, 16.1, 0.8, 0), '09,24,16,04': (15.6, 16.1, 0.0, 0), '09,24,16,07': (14.4, 6.4, None, 0), '09,24,16,06': (15.0, 14.5, None, 0), '09,24,16,09': (15.6, 16.1, None, 0), '09,24,16,08': (15.0, 16.1, None, 0), '09,30,16,19': (13.9, 4.0, 0.8, 0), '09,30,16,18': (14.4, 3.2, 1.0, 0), '09,30,16,11': (14.4, 3.2, 0.3, 0), '09,30,16,10': (14.4, 6.4, 0.5, 0), '09,30,16,13': (15.0, 2.8, 0.0, 0), '09,30,16,12': (15.0, 4.0, 0.3, 0), '09,30,16,15': (15.0, 2.4, 1.3, 0), '09,30,16,14': (15.0, 2.0, 2.5, 0), '09,30,16,17': (14.4, 2.4, 0.5, 0), '09,30,16,16': (14.4, 2.8, 0.8, 0), '02,25,16,01': (15.6, 16.1, 0.3, 0), '02,04,16,02': (14.4, 16.1, 0.0, 0), '02,04,16,03': (13.3, 16.1, 0.0, 0), '02,04,16,00': (16.1, 16.1, None, 0), '02,04,16,01': (15.6, 16.1, None, 0), '02,04,16,07': (12.2, 16.1, None, 0), '02,04,16,04': (12.2, 16.1, 0.0, 0), '02,04,16,05': (12.2, 16.1, None, 0), '02,04,16,08': (11.1, 12.9, 0.5, 0), '02,04,16,09': (10.0, 6.4, 1.8, 0), '02,25,16,00': (15.0, 14.5, 0.3, 0), '02,25,16,03': (13.3, 14.5, None, 0), '01,26,16,09': (5.6, 16.1, None, 0), '01,26,16,08': (5.0, 16.1, None, 0), '01,26,16,03': (3.9, 16.1, None, 0), '01,26,16,02': (3.9, 16.1, None, 0), '01,26,16,01': (3.9, 16.1, None, 0), '01,26,16,00': (4.4, 16.1, None, 0), '01,26,16,07': (5.0, 16.1, None, 0), '01,26,16,06': (3.9, 16.1, None, 0), '01,26,16,05': (4.4, 16.1, None, 0), '01,26,16,04': (3.9, 16.1, None, 0), '02,18,16,09': (-1.7, 16.1, None, 0), '02,18,16,08': (-1.7, 16.1, None, 0), '10,05,16,19': (14.4, 16.1, None, 0), '10,05,16,18': (15.0, 16.1, None, 0), '02,18,16,05': (-1.7, 16.1, None, 0), '02,18,16,04': (-1.1, 16.1, None, 0), '02,18,16,07': (-2.8, 16.1, None, 0), '02,18,16,06': (-2.2, 16.1, None, 0), '02,18,16,01': (0.6, 16.1, None, 0), '02,18,16,00': (1.1, 16.1, None, 0), '02,18,16,03': (-0.6, 16.1, None, 0), '02,18,16,02': (0.0, 16.1, None, 0), '04,13,16,22': (8.3, 16.1, None, 0), '04,13,16,23': (8.3, 16.1, None, 0), '02,01,16,18': (2.2, 16.1, None, 0), '02,01,16,19': (2.2, 16.1, None, 0), '02,01,16,10': (2.8, 16.1, None, 0), '02,01,16,11': (2.8, 16.1, None, 0), '02,01,16,12': (3.3, 16.1, None, 0), '02,01,16,13': (3.9, 16.1, None, 0), '02,01,16,14': (3.9, 16.1, None, 0), '02,01,16,15': (4.4, 16.1, None, 0), '02,01,16,16': (3.9, 16.1, None, 0), '02,01,16,17': (2.8, 16.1, None, 0), '04,22,16,00': (18.9, 16.1, None, 0), '04,22,16,01': (18.9, 16.1, None, 0), '04,22,16,02': (18.9, 16.1, None, 0), '04,22,16,03': (18.3, 16.1, None, 0), '04,22,16,04': (18.3, 16.1, None, 0), '04,22,16,05': (17.2, 16.1, None, 0), '04,22,16,06': (17.2, 16.1, None, 0), '04,22,16,07': (18.3, 16.1, None, 0), '04,22,16,08': (19.4, 14.5, None, 0), '04,22,16,09': (20.6, 12.9, None, 0), '01,18,16,08': (-5.0, 16.1, None, 0), '01,18,16,09': (-5.0, 16.1, None, 0), '01,18,16,00': (-0.6, 16.1, None, 0), '01,18,16,01': (-0.6, 12.9, None, 0), '01,18,16,02': (-1.1, 12.9, None, 0), '01,18,16,03': (-1.1, 16.1, None, 0), '01,18,16,04': (-1.7, 16.1, None, 0), '01,18,16,05': (-2.8, 16.1, None, 0), '01,18,16,06': (-5.0, 14.5, 0.0, 0), '01,18,16,07': (-5.6, 16.1, None, 0), '01,06,16,16': (26.7, 12.9, None, 0), '01,06,16,17': (25.6, 12.9, None, 0), '01,06,16,14': (27.8, 12.9, None, 0), '01,06,16,15': (27.2, 12.9, None, 0), '01,06,16,12': (26.7, 12.9, None, 0), '01,06,16,13': (26.7, 12.9, None, 0), '01,06,16,10': (25.0, 12.9, None, 0), '01,06,16,11': (26.1, 12.9, None, 0), '01,06,16,18': (24.4, 12.9, None, 0), '01,06,16,19': (23.9, 12.9, None, 0), '02,25,16,06': (11.7, 16.1, None, 0), '03,18,16,17': (11.7, 16.1, None, 0), '02,08,16,08': (21.7, 14.5, None, 0), '02,08,16,09': (22.2, 14.5, None, 0), '02,08,16,06': (21.7, 14.5, None, 0), '02,08,16,07': (22.2, 14.5, None, 0), '02,08,16,04': (21.7, 16.1, None, 0), '02,08,16,05': (21.7, 16.1, None, 0), '02,08,16,02': (21.7, 16.1, None, 0), '02,08,16,03': (21.7, 16.1, None, 0), '02,08,16,00': (21.7, 16.1, None, 0), '02,08,16,01': (21.7, 16.1, None, 0), '04,29,16,07': (9.4, 16.1, None, 0), '04,29,16,06': (10.0, 16.1, None, 0), '04,29,16,05': (9.4, 16.1, None, 0), '04,29,16,04': (10.0, 16.1, None, 0), '04,29,16,03': (10.0, 16.1, None, 0), '04,29,16,02': (9.4, 16.1, None, 0), '04,29,16,01': (9.4, 16.1, None, 0), '04,29,16,00': (9.4, 16.1, None, 0), '11,03,16,20': (11.7, 16.1, None, 0), '04,29,16,09': (11.1, 16.1, None, 0), '04,29,16,08': (10.0, 16.1, None, 0), '08,13,16,22': (31.1, 16.1, None, 0), '08,13,16,23': (30.0, 16.1, None, 0), '08,13,16,20': (32.2, 16.1, None, 0), '08,13,16,21': (32.2, 16.1, None, 0), '12,04,16,10': (8.3, 16.1, 0.5, 0), '12,04,16,11': (7.2, 11.3, 0.0, 0), '12,04,16,12': (7.8, 16.1, 0.0, 0), '12,04,16,13': (8.9, 16.1, None, 0), '12,04,16,14': (12.8, 16.1, None, 0), '12,04,16,15': (13.9, 16.1, None, 0), '06,07,16,18': (30.0, 14.5, None, 0), '06,07,16,19': (28.9, 12.9, None, 0), '06,07,16,16': (32.2, 14.5, None, 0), '06,07,16,17': (30.6, 14.5, None, 0), '06,07,16,14': (32.2, 14.5, None, 0), '06,07,16,15': (32.2, 14.5, None, 0), '06,07,16,12': (32.2, 12.9, None, 0), '06,07,16,13': (32.8, 14.5, None, 0), '06,07,16,10': (30.0, 14.5, None, 0), '06,07,16,11': (31.7, 14.5, None, 0), '12,26,16,11': (3.3, 16.1, None, 0), '11,07,16,18': (25.6, 16.1, None, 0), '04,20,16,08': (12.2, 16.1, None, 0), '04,20,16,09': (13.9, 16.1, None, 0), '04,20,16,02': (11.7, 16.1, None, 0), '04,20,16,03': (11.1, 16.1, None, 0), '04,20,16,00': (12.8, 16.1, None, 0), '04,20,16,01': (11.7, 16.1, None, 0), '04,20,16,06': (10.0, 16.1, None, 0), '04,20,16,07': (10.5, 16.1, None, 0), '04,20,16,04': (10.6, 16.1, None, 0), '04,20,16,05': (10.0, 16.1, None, 0), '12,12,16,20': (5.6, 16.1, None, 0), '12,12,16,21': (5.0, 16.1, None, 0), '12,12,16,22': (4.4, 16.1, None, 0), '12,12,16,23': (4.4, 16.1, None, 0), '08,30,16,16': (27.8, 16.1, None, 0), '04,26,16,17': (10.6, 8.0, 0.5, 0), '04,26,16,16': (11.1, 3.2, 0.3, 0), '04,26,16,15': (13.3, 9.7, 0.3, 0), '04,26,16,14': (15.6, 11.3, None, 0), '04,26,16,13': (13.9, 11.3, None, 0), '04,26,16,12': (13.9, 9.7, None, 0), '04,26,16,11': (13.3, 6.4, None, 0), '04,26,16,10': (13.3, 8.0, None, 0), '04,26,16,19': (9.4, 12.9, None, 0), '04,26,16,18': (10.6, 8.0, None, 0), '01,25,16,22': (3.3, 16.1, None, 0), '01,25,16,23': (3.9, 16.1, None, 0), '01,25,16,20': (2.2, 16.1, None, 0), '01,25,16,21': (2.2, 16.1, None, 0), '11,18,16,16': (15.0, 16.1, None, 0), '11,18,16,17': (15.0, 16.1, None, 0), '11,18,16,15': (17.8, 16.1, None, 0), '11,18,16,18': (15.0, 16.1, None, 0), '11,18,16,19': (16.1, 16.1, None, 0), '09,15,16,18': (20.0, 16.1, None, 0), '09,15,16,19': (18.9, 16.1, None, 0), '09,15,16,16': (22.2, 16.1, None, 0), '09,15,16,17': (21.1, 16.1, None, 0), '09,15,16,14': (22.8, 16.1, None, 0), '09,15,16,15': (22.8, 16.1, None, 0), '09,15,16,12': (21.7, 16.1, None, 0), '09,15,16,13': (21.7, 16.1, None, 0), '09,15,16,10': (19.4, 16.1, None, 0), '09,15,16,11': (21.1, 16.1, None, 0), '09,25,16,17': (18.9, 16.1, None, 0), '09,25,16,16': (19.4, 16.1, None, 0), '09,25,16,15': (20.0, 16.1, None, 0), '09,25,16,14': (20.6, 16.1, None, 0), '09,25,16,13': (20.0, 16.1, None, 0), '09,25,16,12': (18.9, 16.1, None, 0), '09,25,16,11': (17.8, 16.1, None, 0), '09,25,16,10': (16.1, 16.1, None, 0), '09,25,16,19': (17.2, 16.1, None, 0), '09,25,16,18': (17.8, 16.1, None, 0), '07,08,16,18': (28.9, 16.1, None, 0), '07,08,16,19': (28.3, 16.1, None, 0), '07,08,16,16': (29.4, 16.1, None, 0), '07,08,16,17': (28.9, 14.5, None, 0), '07,08,16,14': (29.4, 16.1, None, 0), '07,08,16,15': (29.4, 16.1, None, 0), '07,08,16,12': (29.4, 14.5, None, 0), '07,08,16,13': (29.4, 16.1, None, 0), '07,08,16,10': (26.7, 14.5, None, 0), '07,08,16,11': (28.9, 16.1, None, 0), '08,11,16,15': (18.3, 16.1, None, 0), '08,11,16,14': (18.9, 16.1, None, 0), '08,11,16,17': (16.1, 16.1, None, 0), '08,11,16,16': (16.7, 16.1, None, 0), '08,11,16,11': (15.6, 16.1, None, 0), '08,11,16,10': (13.3, 16.1, None, 0), '08,11,16,13': (18.3, 16.1, None, 0), '08,11,16,12': (17.2, 16.1, None, 0), '08,11,16,19': (16.1, 16.1, None, 0), '08,11,16,18': (16.1, 16.1, None, 0), '10,20,16,21': (19.4, 9.7, None, 0), '10,20,16,20': (18.9, 9.7, None, 0), '10,20,16,23': (20.0, 11.3, None, 0), '10,20,16,22': (19.4, 9.7, None, 0), '12,05,16,11': (23.3, 16.1, None, 0), '12,05,16,10': (20.6, 16.1, None, 0), '12,05,16,13': (26.1, 16.1, None, 0), '12,05,16,12': (25.0, 16.1, None, 0), '12,05,16,17': (23.3, 16.1, None, 0), '12,05,16,16': (23.3, 16.1, None, 0), '12,02,16,12': (-3.9, 16.1, None, 0), '12,02,16,13': (-3.9, 16.1, None, 0), '12,02,16,10': (-5.6, 16.1, None, 0), '12,02,16,11': (-3.9, 16.1, None, 0), '06,19,16,08': (22.2, 14.5, None, 0), '06,19,16,09': (23.9, 14.5, None, 0), '12,02,16,14': (-3.3, 16.1, None, 0), '12,02,16,15': (-3.3, 16.1, None, 0), '06,19,16,04': (20.0, 16.1, None, 0), '06,19,16,05': (20.0, 16.1, None, 0), '06,19,16,06': (20.0, 16.1, None, 0), '06,19,16,07': (20.6, 14.5, None, 0), '06,19,16,00': (21.7, 16.1, None, 0), '06,19,16,01': (21.7, 16.1, None, 0), '06,19,16,02': (20.6, 16.1, None, 0), '06,19,16,03': (20.6, 16.1, None, 0), '09,23,16,08': (20.6, 14.5, None, 0), '09,23,16,09': (22.2, 14.5, None, 0), '05,03,16,22': (1.7, 16.1, None, 0), '05,03,16,23': (1.1, 16.1, None, 0), '05,03,16,20': (1.7, 16.1, None, 0), '05,03,16,21': (2.2, 16.1, None, 0), '09,23,16,02': (19.4, 16.1, None, 0), '09,23,16,03': (18.9, 16.1, None, 0), '09,23,16,00': (20.0, 16.1, None, 0), '09,04,16,10': (5.6, 16.1, None, 0), '09,23,16,06': (17.8, 14.5, None, 0), '09,23,16,07': (18.9, 12.9, None, 0), '09,23,16,04': (18.9, 14.5, None, 0), '09,23,16,05': (17.8, 16.1, None, 0), '04,27,16,06': (8.3, 16.1, None, 0), '03,25,16,15': (21.7, 16.1, None, 0), '03,25,16,14': (21.7, 16.1, None, 0), '03,25,16,17': (21.1, 16.1, None, 0), '03,25,16,16': (21.7, 16.1, None, 0), '09,04,16,12': (3.9, 11.3, 0.0, 0), '05,11,16,09': (9.4, 16.1, None, 0), '05,11,16,08': (8.3, 16.1, None, 0), '05,11,16,01': (8.3, 16.1, None, 0), '05,11,16,00': (8.9, 16.1, None, 0), '05,11,16,03': (6.7, 16.1, None, 0), '05,11,16,02': (7.8, 16.1, None, 0), '05,11,16,05': (7.2, 16.1, None, 0), '05,11,16,04': (7.8, 16.1, None, 0), '05,11,16,07': (7.2, 16.1, None, 0), '05,11,16,06': (6.7, 16.1, None, 0), '09,12,16,20': (-0.6, 16.1, None, 0), '09,12,16,21': (-0.6, 16.1, None, 0), '09,12,16,22': (-0.6, 16.1, None, 0), '09,12,16,23': (-1.1, 16.1, None, 0), '09,29,16,19': (16.7, 16.1, None, 0), '09,29,16,18': (17.2, 16.1, None, 0), '09,29,16,13': (17.2, 16.1, None, 0), '09,29,16,12': (16.7, 16.1, None, 0), '09,29,16,11': (16.1, 16.1, None, 0), '09,29,16,10': (16.1, 14.5, None, 0), '09,29,16,17': (17.2, 14.5, None, 0), '09,29,16,16': (17.8, 14.5, None, 0), '09,29,16,15': (17.8, 16.1, None, 0), '09,29,16,14': (17.2, 16.1, None, 0), '09,06,16,23': (17.2, 16.1, None, 0), '09,06,16,22': (17.8, 16.1, None, 0), '09,06,16,21': (18.9, 16.1, None, 0), '09,06,16,20': (19.4, 16.1, None, 0), '12,23,16,15': (7.2, 16.1, None, 0), '12,23,16,14': (7.8, 16.1, None, 0), '12,23,16,17': (6.7, 16.1, None, 0), '12,23,16,16': (7.2, 16.1, None, 0), '12,23,16,11': (6.7, 16.1, None, 0), '12,23,16,10': (5.6, 16.1, None, 0), '12,23,16,13': (7.8, 16.1, None, 0), '12,23,16,12': (7.2, 16.1, None, 0), '11,29,16,05': (12.2, 16.1, None, 0), '11,29,16,04': (11.7, 16.1, None, 0), '11,29,16,07': (13.9, 16.1, None, 0), '11,29,16,06': (12.8, 16.1, None, 0), '11,29,16,01': (10.6, 16.1, None, 0), '11,29,16,00': (10.6, 16.1, None, 0), '11,29,16,03': (11.7, 16.1, None, 0), '11,29,16,02': (11.1, 16.1, None, 0), '11,29,16,09': (12.8, 4.0, 2.0, 0), '11,29,16,08': (13.3, 6.4, 0.8, 0), '03,24,16,03': (7.2, 16.1, None, 0), '03,24,16,02': (7.8, 16.1, None, 0), '03,24,16,01': (10.0, 16.1, None, 0), '03,24,16,00': (11.7, 16.1, None, 0), '03,24,16,07': (6.7, 16.1, None, 0), '03,24,16,06': (6.7, 16.1, None, 0), '03,24,16,05': (6.7, 16.1, None, 0), '03,24,16,04': (7.2, 16.1, None, 0), '03,24,16,09': (8.3, 16.1, None, 0), '03,24,16,08': (7.2, 16.1, None, 0), '08,16,16,18': (28.9, 12.9, None, 0), '08,16,16,19': (28.9, 14.5, None, 0), '08,06,16,08': (17.2, 16.1, None, 0), '08,06,16,09': (17.8, 16.1, None, 0), '08,06,16,06': (16.1, 16.1, None, 0), '08,06,16,07': (16.1, 16.1, None, 0), '08,06,16,04': (16.1, 16.1, None, 0), '08,06,16,05': (15.6, 16.1, None, 0), '08,06,16,02': (17.2, 16.1, None, 0), '08,06,16,03': (16.7, 16.1, None, 0), '08,06,16,00': (17.8, 16.1, None, 0), '08,06,16,01': (17.8, 16.1, None, 0), '06,05,16,18': (11.1, 11.3, None, 0), '06,05,16,19': (10.6, 9.7, None, 0), '06,05,16,10': (9.4, 6.4, 3.0, 0), '06,05,16,11': (9.4, 16.1, 0.8, 0), '06,05,16,12': (10.0, 6.4, 0.0, 0), '06,05,16,13': (10.6, 9.7, 0.3, 0), '06,05,16,14': (11.1, 16.1, None, 0), '06,05,16,15': (11.7, 16.1, None, 0), '06,05,16,16': (11.7, 16.1, None, 0), '06,05,16,17': (11.7, 12.9, None, 0), '07,05,16,22': (11.1, 12.9, None, 0), '07,05,16,23': (10.6, 16.1, None, 0), '07,05,16,20': (12.2, 12.9, None, 0), '07,05,16,21': (11.1, 12.9, None, 0), '08,20,16,20': (25.0, 16.1, None, 0), '08,20,16,21': (25.0, 16.1, None, 0), '08,20,16,22': (24.4, 16.1, None, 0), '08,20,16,23': (25.0, 16.1, None, 0), '10,05,16,17': (15.6, 16.1, None, 0), '10,05,16,16': (15.6, 16.1, None, 0), '10,05,16,15': (15.0, 16.1, None, 0), '11,24,16,20': (8.3, 14.5, None, 0), '01,09,16,20': (22.2, 9.7, None, 0), '01,09,16,21': (22.8, 11.3, None, 0), '01,09,16,22': (22.2, 16.1, None, 0), '01,09,16,23': (21.1, 16.1, None, 0), '04,19,16,11': (21.1, 16.1, None, 0), '04,19,16,10': (20.0, 16.1, None, 0), '04,19,16,13': (21.1, 16.1, None, 0), '04,19,16,12': (21.7, 16.1, None, 0), '04,19,16,15': (21.7, 16.1, None, 0), '04,19,16,14': (21.1, 16.1, None, 0), '04,19,16,17': (20.6, 16.1, None, 0), '04,19,16,16': (21.1, 16.1, None, 0), '04,19,16,19': (18.3, 16.1, None, 0), '04,19,16,18': (19.4, 16.1, None, 0), '01,26,16,21': (8.3, 16.1, None, 0), '01,26,16,20': (8.3, 16.1, None, 0), '01,26,16,23': (8.3, 16.1, None, 0), '01,26,16,22': (8.3, 16.1, None, 0), '03,14,16,02': (10.6, 16.1, None, 0), '03,14,16,03': (10.6, 16.1, None, 0), '03,14,16,00': (10.0, 16.1, 0.0, 0), '03,14,16,01': (10.6, 16.1, 0.0, 0), '03,14,16,06': (8.3, 16.1, 0.0, 0), '03,14,16,07': (7.8, 16.1, 0.3, 0), '03,14,16,04': (10.0, 16.1, 0.0, 0), '03,14,16,05': (8.9, 16.1, 0.3, 0), '03,14,16,08': (6.1, 8.0, 1.0, 0), '03,14,16,09': (6.1, 11.3, 1.5, 0), '02,11,16,08': (12.8, 14.5, None, 0), '02,11,16,09': (13.9, 14.5, None, 0), '02,11,16,00': (13.3, 16.1, None, 0), '02,11,16,01': (13.3, 16.1, None, 0), '02,11,16,02': (13.3, 16.1, None, 0), '02,11,16,03': (12.8, 16.1, None, 0), '02,11,16,04': (12.2, 16.1, None, 0), '02,11,16,05': (12.2, 16.1, None, 0), '02,11,16,06': (12.2, 16.1, None, 0), '02,11,16,07': (12.2, 14.5, None, 0), '04,22,16,22': (21.7, 16.1, None, 0), '04,22,16,23': (21.7, 16.1, None, 0), '04,22,16,20': (23.3, 16.1, None, 0), '04,22,16,21': (22.2, 16.1, None, 0), '01,18,16,22': (-7.2, 16.1, None, 0), '01,18,16,23': (-7.8, 16.1, None, 0), '01,18,16,20': (-6.7, 16.1, None, 0), '01,18,16,21': (-6.7, 16.1, None, 0), '09,27,16,20': (18.9, 12.9, None, 0), '09,27,16,21': (18.9, 14.5, None, 0), '09,27,16,22': (19.4, 12.9, None, 0), '09,27,16,23': (18.3, 14.5, None, 0), '02,02,16,04': (3.9, 16.1, None, 0), '06,26,16,02': (20.0, 16.1, None, 0), '06,26,16,03': (20.6, 16.1, None, 0), '06,26,16,00': (20.6, 16.1, None, 0), '06,26,16,01': (20.0, 16.1, None, 0), '06,26,16,06': (20.6, 14.5, None, 0), '06,26,16,07': (22.2, 11.3, None, 0), '06,26,16,04': (20.6, 16.1, None, 0), '06,26,16,05': (20.0, 14.5, None, 0), '04,29,16,21': (9.4, 16.1, None, 0), '04,29,16,20': (8.9, 16.1, 0.3, 0), '04,29,16,23': (7.2, 16.1, 0.3, 0), '04,29,16,22': (7.8, 12.9, 0.5, 0), '09,10,16,19': (13.9, 16.1, None, 0), '09,10,16,18': (14.4, 16.1, None, 0), '02,02,16,05': (3.9, 16.1, None, 0), '05,30,16,20': (23.9, 16.1, None, 0), '05,30,16,21': (23.3, 16.1, None, 0), '05,30,16,22': (22.8, 16.1, None, 0), '05,30,16,23': (22.8, 16.1, None, 0), '09,10,16,17': (14.4, 16.1, None, 0), '09,10,16,16': (14.4, 16.1, None, 0), '09,10,16,15': (13.3, 16.1, None, 0), '09,10,16,14': (12.2, 16.1, None, 0), '12,10,16,00': (12.2, 16.1, None, 0), '12,10,16,01': (12.2, 16.1, None, 0), '12,10,16,02': (12.8, 16.1, None, 0), '12,10,16,03': (11.7, 16.1, None, 0), '12,10,16,04': (11.7, 16.1, None, 0), '12,10,16,05': (11.7, 16.1, None, 0), '12,10,16,06': (11.7, 14.5, None, 0), '12,10,16,07': (12.2, 12.9, None, 0), '12,10,16,08': (14.4, 16.1, None, 0), '12,10,16,09': (15.6, 14.5, None, 0), '12,21,16,08': (0.0, 16.1, None, 0), '12,21,16,09': (1.1, 16.1, None, 0), '12,21,16,00': (-0.6, 16.1, None, 0), '12,21,16,01': (-0.6, 16.1, None, 0), '12,21,16,02': (-1.1, 16.1, None, 0), '12,21,16,03': (-1.1, 16.1, None, 0), '12,21,16,04': (-1.1, 16.1, None, 0), '12,21,16,05': (-0.6, 16.1, None, 0), '12,21,16,06': (-0.6, 16.1, None, 0), '12,21,16,07': (0.0, 16.1, None, 0), '11,07,16,10': (22.8, 16.1, None, 0), '10,25,16,19': (8.3, 16.1, None, 0), '10,25,16,18': (9.4, 16.1, None, 0), '10,25,16,11': (10.0, 16.1, None, 0), '10,25,16,10': (8.3, 16.1, None, 0), '10,25,16,13': (10.6, 16.1, None, 0), '10,25,16,12': (10.0, 16.1, None, 0), '10,25,16,15': (10.6, 16.1, None, 0), '10,25,16,14': (10.6, 16.1, None, 0), '10,25,16,17': (10.0, 16.1, None, 0), '10,25,16,16': (10.6, 16.1, None, 0), '08,17,16,04': (25.0, 16.1, None, 0), '08,17,16,05': (25.0, 16.1, None, 0), '08,17,16,06': (25.0, 14.5, None, 0), '08,17,16,07': (25.0, 14.5, None, 0), '08,17,16,00': (28.3, 14.5, None, 0), '08,17,16,01': (25.0, 16.1, 0.3, 0), '08,17,16,02': (25.6, 16.1, None, 0), '08,17,16,03': (26.1, 16.1, None, 0), '08,17,16,08': (25.6, 14.5, None, 0), '08,17,16,09': (26.1, 16.1, None, 0), '02,13,16,19': (-13.9, 16.1, None, 0), '02,13,16,18': (-12.8, 16.1, None, 0), '02,13,16,15': (-9.4, 16.1, None, 0), '02,13,16,14': (-8.3, 16.1, None, 0), '02,13,16,17': (-12.2, 16.1, None, 0), '02,13,16,16': (-11.1, 16.1, None, 0), '02,13,16,11': (-6.7, 16.1, None, 0), '02,13,16,10': (-6.7, 16.1, None, 0), '02,13,16,13': (-7.8, 16.1, None, 0), '02,13,16,12': (-7.8, 16.1, None, 0), '12,12,16,08': (5.0, 8.0, 0.0, 0), '12,12,16,09': (5.6, 8.0, None, 0), '12,12,16,02': (1.7, 2.4, 1.8, 0), '12,12,16,03': (2.8, 1.2, 0.3, 0), '12,12,16,00': (1.7, 11.3, None, 0), '12,12,16,01': (1.7, 4.8, 0.3, 0), '12,12,16,06': (5.0, 6.4, 1.0, 0), '12,12,16,07': (5.0, 8.0, 1.8, 0), '12,12,16,04': (3.3, 2.4, 4.1, 0), '12,12,16,05': (3.9, 2.0, 1.8, 0), '05,26,16,18': (28.3, 12.9, None, 0), '05,26,16,19': (27.2, 12.9, None, 0), '05,26,16,14': (31.1, 12.9, None, 0), '05,26,16,15': (30.6, 12.9, None, 0), '05,26,16,16': (29.4, 12.9, None, 0), '05,26,16,17': (28.3, 12.9, None, 0), '05,26,16,10': (28.3, 11.3, None, 0), '05,26,16,11': (30.0, 11.3, None, 0), '05,26,16,12': (31.1, 12.9, None, 0), '05,26,16,13': (31.7, 12.9, None, 0), '02,09,16,03': (19.4, 16.1, None, 0), '02,09,16,02': (20.0, 16.1, None, 0), '02,09,16,01': (20.0, 16.1, None, 0), '02,09,16,00': (20.6, 16.1, None, 0), '02,09,16,07': (19.4, 16.1, None, 0), '02,09,16,06': (18.9, 16.1, None, 0), '02,09,16,05': (19.4, 16.1, None, 0), '02,09,16,04': (19.4, 16.1, None, 0), '02,09,16,09': (21.7, 16.1, None, 0), '02,09,16,08': (20.0, 16.1, None, 0), '04,18,16,09': (20.0, 16.1, None, 0), '04,18,16,08': (18.3, 16.1, None, 0), '04,18,16,03': (11.1, 16.1, None, 0), '04,18,16,02': (11.7, 16.1, None, 0), '04,18,16,01': (11.1, 16.1, None, 0), '04,18,16,00': (11.1, 16.1, None, 0), '04,18,16,07': (15.0, 16.1, None, 0), '04,18,16,06': (11.1, 16.1, None, 0), '04,18,16,05': (11.1, 16.1, None, 0), '04,18,16,04': (10.6, 16.1, None, 0), '12,14,16,17': (3.3, 16.1, None, 0), '12,14,16,16': (3.9, 16.1, None, 0), '02,16,16,09': (11.1, 4.8, 0.0, 0), '02,16,16,08': (11.1, 9.7, None, 0), '12,14,16,13': (5.0, 16.1, None, 0), '12,14,16,12': (5.6, 16.1, None, 0), '12,14,16,11': (5.0, 16.1, None, 0), '12,14,16,10': (3.9, 16.1, None, 0), '02,16,16,03': (8.3, 11.3, 0.3, 0), '02,16,16,02': (6.7, 8.0, 0.0, 0), '02,16,16,01': (3.3, 1.6, 0.0, 0), '02,16,16,00': (1.7, 2.8, 0.3, 0), '02,16,16,07': (10.6, 9.7, None, 0), '02,16,16,06': (9.4, 11.3, None, 0), '02,16,16,05': (8.9, 11.3, None, 0), '02,16,16,04': (8.9, 11.3, None, 0), '05,04,16,14': (3.9, 16.1, None, 0), '05,04,16,15': (5.6, 16.1, None, 0), '05,04,16,16': (5.0, 16.1, None, 0), '05,04,16,17': (5.0, 16.1, None, 0), '05,04,16,10': (0.0, 16.1, None, 0), '05,04,16,11': (1.1, 16.1, None, 0), '05,04,16,12': (2.2, 16.1, None, 0), '05,04,16,13': (3.9, 16.1, None, 0), '05,04,16,18': (4.4, 16.1, None, 0), '05,04,16,19': (3.9, 16.1, None, 0), '08,01,16,12': (6.0, None, None, 0), '08,01,16,13': (6.0, None, None, 0), '08,01,16,10': (5.0, None, None, 0), '08,01,16,11': (6.0, None, None, 0), '08,01,16,16': (6.7, 16.1, None, 0), '08,01,16,17': (6.7, 16.1, None, 0), '08,01,16,14': (6.1, 16.1, None, 0), '08,01,16,15': (6.1, 16.1, None, 0), '08,01,16,18': (6.7, 16.1, None, 0), '08,01,16,19': (6.7, 16.1, None, 0), '11,05,16,07': (14.4, 16.1, None, 0), '11,05,16,06': (11.7, 16.1, None, 0), '11,05,16,05': (10.0, 16.1, None, 0), '11,05,16,04': (10.6, 16.1, None, 0), '11,05,16,03': (11.1, 16.1, None, 0), '11,05,16,02': (11.1, 16.1, None, 0), '11,05,16,01': (11.7, 16.1, None, 0), '11,05,16,00': (12.8, 16.1, None, 0), '11,05,16,09': (17.8, 16.1, None, 0), '11,05,16,08': (16.7, 16.1, None, 0), '06,19,16,22': (20.0, 16.1, None, 0), '06,19,16,23': (19.4, 16.1, None, 0), '06,19,16,20': (20.6, 16.1, None, 0), '06,19,16,21': (20.0, 16.1, None, 0), '07,21,16,20': (26.7, 14.5, None, 0), '07,21,16,21': (26.1, 14.5, None, 0), '07,21,16,22': (25.6, 14.5, None, 0), '07,21,16,23': (25.6, 14.5, None, 0), '10,27,16,04': (6.1, 16.1, None, 0), '01,29,16,13': (4.4, 16.1, None, 0), '10,27,16,06': (6.1, 16.1, None, 0), '10,27,16,07': (6.7, 16.1, None, 0), '10,27,16,00': (6.7, 16.1, None, 0), '10,27,16,01': (6.1, 16.1, None, 0), '10,27,16,02': (6.1, 16.1, None, 0), '01,29,16,12': (4.4, 16.1, None, 0), '10,27,16,08': (6.1, 12.9, 0.0, 0), '01,29,16,11': (4.4, 12.9, None, 0), '09,12,16,02': (1.0, None, None, 0), '09,12,16,03': (1.0, None, None, 0), '09,12,16,00': (2.0, None, None, 0), '01,29,16,10': (3.3, 11.3, None, 0), '09,12,16,06': (1.0, None, None, 0), '09,12,16,07': (1.0, None, None, 0), '09,12,16,04': (1.0, None, None, 0), '09,12,16,05': (1.0, None, None, 0), '09,12,16,08': (2.0, None, None, 0), '09,12,16,09': (3.0, None, None, 0), '09,06,16,09': (15.0, 14.5, None, 0), '09,06,16,08': (13.9, 14.5, None, 0), '09,06,16,01': (13.9, 16.1, None, 0), '09,06,16,00': (14.4, 16.1, None, 0), '09,06,16,03': (13.3, 16.1, None, 0), '09,06,16,02': (13.3, 16.1, None, 0), '09,06,16,05': (12.2, 16.1, None, 0), '09,06,16,04': (12.8, 16.1, None, 0), '09,06,16,07': (12.8, 16.1, None, 0), '09,06,16,06': (12.2, 16.1, None, 0), '10,28,16,04': (7.2, 16.1, None, 0), '03,24,16,21': (7.8, 9.7, None, 0), '03,24,16,20': (7.8, 9.7, None, 0), '03,24,16,23': (7.8, 8.0, None, 0), '03,24,16,22': (7.2, 6.4, None, 0), '08,12,16,23': (2.0, None, None, 0), '08,12,16,22': (2.0, None, None, 0), '08,12,16,21': (3.0, None, None, 0), '08,12,16,20': (3.0, None, None, 0), '06,11,16,04': (12.2, 16.1, None, 0), '06,11,16,05': (11.7, 16.1, None, 0), '06,11,16,06': (11.7, 16.1, None, 0), '06,11,16,07': (11.7, 16.1, None, 0), '06,11,16,00': (13.3, 16.1, None, 0), '06,11,16,01': (12.8, 16.1, None, 0), '06,11,16,02': (12.8, 16.1, None, 0), '06,11,16,03': (13.3, 16.1, None, 0), '06,11,16,08': (12.2, 16.1, None, 0), '06,11,16,09': (12.8, 16.1, None, 0), '10,31,16,12': (10.6, 16.1, None, 0), '10,31,16,13': (12.2, 16.1, None, 0), '10,31,16,10': (8.3, 16.1, None, 0), '10,31,16,11': (9.4, 16.1, None, 0), '10,31,16,16': (11.7, 16.1, None, 0), '10,31,16,17': (11.1, 16.1, None, 0), '10,31,16,14': (11.7, 16.1, None, 0), '10,31,16,15': (12.2, 16.1, None, 0), '10,31,16,18': (10.6, 16.1, None, 0), '10,31,16,19': (10.0, 16.1, None, 0), '08,20,16,06': (23.3, 8.0, None, 0), '08,20,16,07': (24.4, 9.7, None, 0), '08,20,16,04': (23.3, 11.3, None, 0), '08,20,16,05': (23.9, 12.9, None, 0), '08,20,16,02': (23.9, 12.9, None, 0), '08,20,16,03': (22.8, 11.3, None, 0), '08,20,16,00': (25.0, 14.5, None, 0), '08,20,16,01': (24.4, 12.9, None, 0), '04,01,16,21': (-8.3, 16.1, None, 0), '04,01,16,20': (-7.8, 16.1, None, 0), '10,05,16,14': (15.0, 16.1, None, 0), '06,26,16,08': (23.3, 11.3, None, 0), '06,26,16,09': (25.0, 12.9, None, 0), '01,09,16,02': (23.9, 11.3, 0.0, 0), '01,09,16,03': (23.3, 14.5, 0.3, 0), '01,09,16,00': (25.0, 14.5, 0.0, 0), '01,09,16,01': (23.3, 14.5, 0.0, 0), '01,09,16,06': (22.2, 11.3, 0.0, 0), '01,09,16,07': (21.7, 6.4, 0.5, 0), '01,09,16,04': (22.2, 12.9, 0.0, 0), '01,09,16,05': (22.2, 12.9, 0.3, 0), '01,09,16,08': (21.7, 6.4, 0.0, 0), '01,09,16,09': (21.7, 6.4, 1.8, 0), '11,13,16,22': (10.6, 16.1, None, 0), '11,13,16,23': (10.6, 16.1, None, 0), '12,14,16,04': (3.3, 14.5, None, 0), '10,30,16,00': (16.7, 16.1, None, 0), '09,10,16,13': (11.1, 14.5, 0.5, 0), '10,30,16,02': (16.7, 16.1, None, 0), '10,30,16,03': (17.2, 16.1, None, 0), '10,30,16,04': (17.8, 16.1, None, 0), '10,30,16,05': (17.2, 16.1, None, 0), '10,30,16,06': (17.8, 16.1, None, 0), '09,10,16,12': (10.6, 4.8, 0.5, 0), '10,30,16,08': (18.3, 14.5, None, 0), '10,30,16,09': (18.9, 12.9, None, 0), '09,10,16,11': (11.1, 4.8, 1.8, 0), '10,28,16,07': (7.2, 16.1, None, 0), '10,28,16,06': (7.2, 16.1, None, 0), '10,28,16,05': (7.8, 16.1, None, 0), '09,10,16,10': (10.6, 9.7, 1.0, 0), '10,28,16,03': (7.2, 16.1, None, 0), '10,28,16,02': (7.8, 16.1, None, 0), '10,28,16,01': (10.0, 11.3, None, 0), '10,28,16,00': (10.6, 6.4, None, 0), '10,28,16,09': (7.8, 16.1, None, 0), '10,28,16,08': (7.2, 16.1, None, 0), '02,11,16,22': (18.3, 14.5, None, 0), '02,11,16,23': (17.8, 14.5, None, 0), '02,11,16,20': (19.4, 16.1, None, 0), '02,11,16,21': (18.9, 16.1, None, 0), '09,12,16,10': (4.0, None, None, 0), '08,15,16,19': (29.4, 14.5, None, 0), '08,15,16,18': (31.1, 14.5, None, 0), '08,15,16,11': (30.6, 14.5, None, 0), '08,15,16,10': (28.9, 14.5, None, 0), '08,15,16,13': (32.8, 14.5, None, 0), '08,15,16,12': (32.2, 14.5, None, 0), '08,15,16,15': (32.8, 14.5, None, 0), '08,15,16,14': (30.6, 14.5, None, 0), '08,15,16,17': (31.7, 14.5, None, 0), '08,15,16,16': (31.7, 14.5, None, 0), '05,30,16,02': (21.1, 3.2, 10.2, 0), '05,30,16,03': (21.1, 4.0, 0.5, 0), '05,30,16,00': (21.7, 14.5, 0.0, 0), '05,30,16,01': (20.6, 1.2, 0.8, 0), '05,30,16,06': (21.1, 6.4, 2.8, 0), '05,30,16,07': (20.0, 8.0, 0.0, 0), '05,30,16,04': (21.1, 2.8, 5.3, 0), '05,30,16,05': (21.1, 6.4, 2.8, 0), '10,22,16,23': (8.9, 16.1, None, 0), '10,22,16,22': (9.4, 16.1, None, 0), '05,30,16,08': (20.6, 6.4, None, 0), '05,30,16,09': (20.6, 11.3, None, 0), '05,23,16,20': (17.8, 16.1, None, 0), '05,23,16,21': (17.8, 16.1, None, 0), '05,23,16,22': (17.2, 16.1, 0.0, 0), '05,23,16,23': (17.2, 16.1, None, 0), '12,10,16,22': (14.4, 16.1, None, 0), '12,10,16,23': (14.4, 16.1, None, 0), '12,10,16,20': (15.0, 16.1, None, 0), '12,10,16,21': (15.0, 16.1, None, 0), '12,21,16,22': (3.9, 16.1, None, 0), '12,21,16,23': (3.9, 16.1, None, 0), '12,21,16,20': (3.9, 16.1, None, 0), '12,21,16,21': (3.9, 16.1, None, 0), '09,27,16,08': (17.8, 11.3, None, 0), '09,27,16,09': (18.3, 12.9, None, 0), '09,27,16,06': (17.8, 8.0, 0.3, 0), '09,27,16,07': (17.8, 9.7, 0.0, 0), '09,27,16,04': (18.9, 6.4, 0.8, 0), '09,27,16,05': (18.3, 9.7, 0.0, 0), '09,27,16,02': (18.9, 3.2, 2.8, 0), '09,27,16,03': (18.9, 4.8, 0.0, 0), '09,27,16,00': (20.6, 16.1, None, 0), '09,27,16,01': (20.6, 16.1, None, 0), '09,29,16,00': (13.9, 14.5, None, 0), '09,29,16,01': (13.9, 9.7, None, 0), '09,29,16,02': (15.0, 16.1, None, 0), '09,29,16,03': (15.6, 16.1, None, 0), '08,17,16,22': (26.7, 16.1, None, 0), '08,17,16,23': (26.7, 16.1, None, 0), '08,17,16,20': (27.2, 16.1, None, 0), '08,17,16,21': (27.2, 16.1, None, 0), '02,22,16,08': (5.6, 16.1, None, 0), '02,22,16,09': (6.1, 16.1, None, 0), '02,22,16,02': (5.6, 16.1, None, 0), '02,22,16,03': (4.4, 16.1, None, 0), '02,22,16,00': (6.7, 16.1, None, 0), '02,22,16,01': (6.1, 16.1, None, 0), '02,22,16,06': (3.3, 16.1, None, 0), '02,22,16,07': (4.4, 16.1, None, 0), '02,22,16,04': (4.4, 16.1, None, 0), '02,22,16,05': (3.9, 16.1, None, 0), '03,03,16,19': (1.7, 16.1, None, 0), '02,09,16,20': (24.4, 16.1, None, 0), '02,09,16,23': (22.2, 16.1, None, 0), '02,09,16,22': (22.2, 16.1, None, 0), '03,03,16,15': (1.7, 16.1, None, 0), '03,03,16,14': (1.1, 16.1, None, 0), '03,03,16,17': (1.1, 16.1, None, 0), '03,03,16,16': (1.7, 16.1, None, 0), '03,03,16,11': (0.0, 16.1, None, 0), '03,03,16,10': (-0.6, 16.1, None, 0), '03,03,16,13': (1.1, 16.1, None, 0), '03,03,16,12': (1.1, 16.1, None, 0), '04,09,16,23': (21.7, 16.1, None, 0), '04,09,16,22': (22.2, 16.1, None, 0), '04,09,16,21': (22.8, 16.1, None, 0), '04,09,16,20': (22.2, 16.1, None, 0), '04,18,16,21': (18.3, 16.1, None, 0), '04,18,16,20': (17.8, 16.1, None, 0), '04,18,16,23': (18.3, 16.1, None, 0), '04,18,16,22': (18.3, 16.1, None, 0), '10,16,16,08': (13.3, 12.9, None, 0), '10,16,16,09': (14.4, 12.9, None, 0), '10,16,16,00': (12.8, 16.1, None, 0), '10,16,16,01': (12.2, 16.1, None, 0), '10,16,16,02': (12.2, 16.1, None, 0), '10,16,16,03': (12.2, 16.1, None, 0), '02,16,16,21': (5.6, 16.1, None, 0), '02,16,16,20': (7.2, 16.1, None, 0), '02,16,16,23': (3.3, 16.1, None, 0), '02,16,16,22': (3.9, 16.1, None, 0), '11,03,16,18': (13.9, 16.1, None, 0), '11,03,16,19': (12.8, 16.1, None, 0), '11,03,16,16': (16.1, 16.1, None, 0), '11,03,16,17': (15.0, 16.1, None, 0), '11,03,16,14': (17.2, 16.1, None, 0), '11,03,16,15': (17.2, 16.1, None, 0), '11,03,16,12': (15.0, 16.1, None, 0), '11,03,16,13': (16.7, 16.1, None, 0), '11,03,16,10': (14.4, 16.1, None, 0), '11,03,16,11': (15.0, 16.1, None, 0), '08,09,16,18': (28.3, 12.9, None, 0), '08,09,16,19': (27.2, 12.9, None, 0), '08,09,16,12': (30.0, 12.9, None, 0), '08,09,16,13': (31.1, 12.9, None, 0), '08,09,16,10': (27.2, 12.9, None, 0), '08,09,16,11': (28.3, 12.9, None, 0), '08,09,16,16': (29.4, 12.9, None, 0), '08,09,16,17': (29.4, 12.9, None, 0), '08,09,16,14': (31.1, 12.9, None, 0), '08,09,16,15': (30.6, 12.9, None, 0), '10,16,16,13': (19.4, 16.1, None, 0), '12,03,16,13': (14.4, 16.1, None, 0), '12,03,16,12': (13.9, 16.1, None, 0), '12,03,16,11': (13.3, 16.1, None, 0), '12,03,16,10': (11.7, 16.1, None, 0), '12,03,16,17': (13.3, 16.1, None, 0), '12,03,16,16': (13.3, 16.1, None, 0), '12,03,16,15': (12.8, 16.1, None, 0), '12,03,16,14': (13.3, 16.1, None, 0), '12,03,16,19': (13.3, 16.1, None, 0), '12,03,16,18': (13.9, 16.1, None, 0), '05,21,16,17': (17.2, 16.1, None, 0), '05,21,16,16': (17.2, 16.1, None, 0), '05,21,16,15': (17.2, 16.1, None, 0), '05,21,16,14': (17.2, 16.1, None, 0), '05,21,16,13': (17.8, 16.1, None, 0), '05,21,16,12': (18.9, 16.1, None, 0), '05,21,16,11': (17.8, 16.1, None, 0), '05,21,16,10': (17.2, 14.5, None, 0), '10,16,16,12': (18.3, 14.5, None, 0), '05,21,16,19': (13.3, 11.3, 1.0, 0), '05,21,16,18': (15.0, 12.9, 0.0, 0), '12,01,16,15': (6.1, 16.1, None, 0), '12,01,16,14': (6.7, 16.1, None, 0), '12,01,16,17': (2.2, 16.1, None, 0), '12,01,16,16': (2.8, 16.1, None, 0), '12,01,16,11': (4.4, 16.1, None, 0), '12,01,16,10': (3.3, 16.1, None, 0), '10,16,16,11': (16.7, 16.1, None, 0), '12,01,16,12': (5.6, 16.1, None, 0), '12,01,16,19': (3.3, 16.1, None, 0), '12,01,16,18': (2.8, 16.1, None, 0), '03,12,16,19': (6.1, 16.1, None, 0), '03,12,16,18': (6.7, 16.1, None, 0), '03,12,16,17': (7.2, 16.1, None, 0), '03,12,16,16': (7.2, 16.1, None, 0), '03,12,16,15': (7.2, 16.1, None, 0), '03,12,16,14': (7.8, 16.1, None, 0), '03,12,16,13': (8.3, 16.1, None, 0), '03,12,16,12': (8.3, 16.1, None, 0), '03,12,16,11': (7.2, 16.1, None, 0), '03,12,16,10': (6.7, 16.1, None, 0), '10,16,16,10': (16.7, 14.5, None, 0), '07,21,16,06': (22.2, 12.9, None, 0), '07,21,16,07': (23.3, 12.9, None, 0), '07,21,16,04': (21.7, 16.1, None, 0), '07,21,16,05': (22.2, 14.5, None, 0), '07,21,16,02': (22.8, 16.1, None, 0), '07,21,16,03': (22.2, 16.1, None, 0), '07,21,16,00': (22.8, 16.1, None, 0), '07,21,16,01': (22.2, 16.1, None, 0), '02,02,16,06': (3.9, 16.1, None, 0), '07,21,16,08': (24.4, 12.9, None, 0), '07,21,16,09': (26.1, 12.9, None, 0), '02,02,16,07': (3.9, 16.1, None, 0), '02,02,16,00': (6.1, 16.1, None, 0), '02,02,16,01': (5.6, 16.1, None, 0), '02,02,16,02': (5.0, 16.1, None, 0), '02,02,16,03': (4.4, 16.1, None, 0), '10,27,16,22': (12.2, 4.8, 0.3, 0), '10,27,16,23': (12.2, 2.4, 0.3, 0), '10,27,16,20': (12.2, 2.0, 8.4, 0), '10,27,16,21': (12.2, 4.0, 5.1, 0), '12,22,16,01': (3.3, 16.1, None, 0), '11,14,16,23': (13.3, 16.1, None, 0), '11,14,16,22': (13.9, 16.1, None, 0), '11,14,16,21': (14.4, 16.1, None, 0), '11,14,16,20': (13.9, 16.1, None, 0), '06,14,16,12': (23.3, 16.1, None, 0), '06,14,16,13': (24.4, 16.1, None, 0), '06,14,16,10': (20.0, 16.1, None, 0), '06,14,16,11': (21.7, 16.1, None, 0), '06,14,16,16': (25.6, 16.1, None, 0), '06,14,16,17': (25.6, 16.1, None, 0), '06,20,16,19': (25.6, 12.9, None, 0), '06,20,16,18': (25.6, 12.9, None, 0), '06,20,16,17': (25.6, 12.9, None, 0), '06,20,16,16': (26.1, 12.9, None, 0), '06,14,16,18': (25.0, 16.1, None, 0), '06,14,16,19': (24.4, 16.1, None, 0), '06,20,16,13': (27.8, 12.9, None, 0), '06,20,16,12': (27.2, 12.9, None, 0), '06,20,16,11': (26.7, 12.9, None, 0), '06,20,16,10': (26.1, 12.9, None, 0), '02,19,16,13': (1.7, 16.1, None, 0), '02,19,16,12': (2.2, 16.1, None, 0), '02,19,16,11': (1.7, 16.1, None, 0), '02,19,16,10': (0.0, 16.1, None, 0), '02,19,16,17': (1.7, 16.1, None, 0), '02,19,16,16': (1.1, 16.1, None, 0), '02,19,16,15': (1.7, 16.1, None, 0), '02,19,16,14': (1.7, 16.1, None, 0), '02,19,16,19': (2.8, 16.1, None, 0), '02,19,16,18': (2.2, 16.1, None, 0), '01,17,16,10': (1.7, 16.1, None, 0), '01,17,16,11': (2.2, 16.1, None, 0), '01,17,16,12': (2.2, 16.1, None, 0), '01,17,16,13': (1.7, 16.1, None, 0), '01,17,16,14': (1.1, 16.1, None, 0), '01,17,16,15': (-0.6, 1.2, 0.0, 0), '01,17,16,16': (-1.1, 0.8, 0.5, 1), '01,17,16,17': (-1.1, 1.6, 0.5, 0), '01,17,16,18': (-1.1, 4.0, 0.3, 0), '01,17,16,19': (-1.1, 11.3, 0.0, 0), '05,31,16,07': (22.8, 11.3, None, 0), '05,31,16,06': (22.2, 9.7, None, 0), '05,31,16,05': (22.2, 11.3, None, 0), '05,31,16,04': (22.2, 14.5, None, 0), '05,31,16,03': (22.2, 14.5, None, 0), '05,31,16,02': (22.2, 16.1, None, 0), '05,31,16,01': (22.8, 16.1, None, 0), '05,31,16,00': (22.2, 16.1, None, 0), '05,31,16,09': (24.4, 12.9, None, 0), '05,31,16,08': (23.3, 11.3, None, 0), '08,12,16,09': (7.0, None, None, 0), '08,12,16,05': (5.0, 16.1, None, 0), '08,12,16,04': (5.0, 16.1, None, 0), '08,12,16,07': (4.4, 14.5, None, 0), '08,12,16,06': (4.4, 16.1, None, 0), '08,12,16,01': (5.6, 16.1, None, 0), '08,12,16,00': (5.6, 16.1, None, 0), '08,12,16,03': (5.0, 16.1, None, 0), '08,12,16,02': (5.0, 16.1, None, 0), '06,11,16,22': (7.8, 16.1, None, 0), '06,11,16,20': (8.3, 16.1, None, 0), '06,11,16,21': (7.8, 16.1, None, 0), '09,17,16,18': (21.7, 16.1, None, 0), '09,17,16,19': (21.1, 16.1, None, 0), '04,01,16,01': (2.2, 16.1, None, 0), '04,01,16,00': (2.2, 16.1, None, 0), '04,01,16,03': (1.1, 16.1, None, 0), '04,01,16,02': (1.7, 16.1, None, 0), '04,01,16,05': (-0.6, 16.1, None, 0), '04,01,16,04': (0.6, 16.1, None, 0), '04,01,16,07': (-1.7, 16.1, None, 0), '04,01,16,06': (-1.1, 16.1, None, 0), '04,01,16,09': (-2.2, 16.1, None, 0), '04,01,16,08': (-1.7, 16.1, None, 0), '12,09,16,20': (20.0, 16.1, None, 0), '03,27,16,07': (6.1, 16.1, None, 0), '12,09,16,21': (20.0, 16.1, None, 0), '12,09,16,22': (19.4, 16.1, None, 0), '12,09,16,23': (18.9, 16.1, None, 0), '09,08,16,18': (26.7, 14.5, None, 0), '03,27,16,02': (6.1, 16.1, None, 0), '09,08,16,14': (30.0, 14.5, None, 0), '09,08,16,15': (28.9, 14.5, None, 0), '09,08,16,16': (28.3, 14.5, None, 0), '03,27,16,03': (6.1, 16.1, None, 0), '09,08,16,10': (26.7, 14.5, None, 0), '09,08,16,11': (28.3, 14.5, None, 0), '09,08,16,12': (30.0, 14.5, None, 0), '09,08,16,13': (30.0, 14.5, None, 0), '09,20,16,12': (26.7, 16.1, None, 0), '09,20,16,13': (26.7, 16.1, None, 0), '09,20,16,10': (23.3, 14.5, None, 0), '09,20,16,11': (25.6, 16.1, None, 0), '09,20,16,16': (26.7, 16.1, None, 0), '09,20,16,17': (25.6, 16.1, None, 0), '09,20,16,14': (27.8, 16.1, None, 0), '09,20,16,15': (27.2, 16.1, None, 0), '09,20,16,18': (24.4, 12.9, None, 0), '09,20,16,19': (23.9, 12.9, None, 0), '03,27,16,08': (6.1, 16.1, None, 0), '03,27,16,09': (7.8, 16.1, None, 0), '03,17,16,18': (11.7, 16.1, None, 0), '03,17,16,19': (12.2, 16.1, None, 0), '03,17,16,12': (16.1, 16.1, None, 0), '03,17,16,13': (15.6, 16.1, None, 0), '03,17,16,10': (12.8, 14.5, None, 0), '03,17,16,11': (14.4, 16.1, None, 0), '03,17,16,16': (15.0, 16.1, None, 0), '03,17,16,17': (10.6, 16.1, 0.0, 0), '03,17,16,14': (12.8, 16.1, None, 0), '03,17,16,15': (15.6, 16.1, None, 0), '06,11,16,19': (8.9, 16.1, None, 0), '06,11,16,18': (9.4, 16.1, None, 0), '05,02,16,18': (2.2, 16.1, None, 0), '05,02,16,19': (1.7, 16.1, None, 0), '05,02,16,16': (3.3, 16.1, None, 0), '05,02,16,17': (2.8, 16.1, None, 0), '05,02,16,14': (3.9, 16.1, None, 0), '05,02,16,15': (3.9, 16.1, None, 0), '05,02,16,12': (0.6, 8.0, None, 0), '05,02,16,13': (2.8, 16.1, None, 0), '05,02,16,10': (-0.6, 0.8, 0.3, 1), '05,02,16,11': (0.0, 4.0, 0.0, 0), '11,23,16,17': (5.6, 16.1, None, 0), '10,30,16,22': (13.3, 16.1, None, 0), '10,30,16,23': (13.3, 16.1, None, 0), '10,30,16,20': (14.4, 11.3, None, 0), '10,30,16,21': (13.9, 14.5, None, 0), '09,01,16,19': (8.3, 16.1, None, 0), '09,01,16,18': (7.8, 16.1, None, 0), '09,01,16,15': (7.2, 12.9, None, 0), '09,01,16,14': (7.8, 12.9, None, 0), '09,01,16,17': (7.8, 16.1, None, 0), '09,01,16,16': (7.2, 14.5, None, 0), '09,01,16,11': (7.8, 14.5, None, 0), '09,01,16,10': (6.7, 14.5, None, 0), '09,01,16,13': (7.8, 12.9, 0.0, 0), '09,01,16,12': (7.8, 8.0, 0.0, 0), '01,16,16,19': (7.8, 16.1, None, 0), '01,16,16,18': (7.8, 16.1, None, 0), '01,16,16,11': (8.3, 16.1, None, 0), '01,16,16,10': (7.2, 16.1, None, 0), '01,16,16,13': (10.0, 16.1, None, 0), '01,16,16,12': (10.0, 16.1, None, 0), '01,16,16,15': (10.0, 16.1, None, 0), '01,16,16,14': (10.6, 16.1, None, 0), '01,16,16,17': (8.3, 16.1, None, 0), '01,16,16,16': (10.0, 16.1, None, 0), '06,25,16,18': (24.4, 16.1, None, 0), '06,25,16,19': (22.8, 16.1, None, 0), '06,25,16,12': (28.3, 16.1, None, 0), '06,25,16,13': (28.9, 16.1, None, 0), '06,25,16,10': (24.4, 14.5, None, 0), '06,25,16,11': (26.7, 14.5, None, 0), '06,25,16,16': (26.7, 14.5, None, 0), '06,25,16,17': (25.0, 14.5, None, 0), '06,25,16,14': (29.4, 14.5, None, 0), '06,25,16,15': (27.2, 14.5, None, 0), '01,11,16,12': (13.3, 16.1, None, 0), '01,11,16,13': (13.9, 16.1, None, 0), '01,11,16,10': (10.0, 16.1, None, 0), '01,11,16,11': (12.2, 16.1, None, 0), '01,11,16,16': (13.3, 16.1, None, 0), '01,11,16,17': (13.3, 16.1, None, 0), '01,11,16,14': (14.4, 16.1, None, 0), '01,11,16,15': (14.4, 16.1, None, 0), '01,11,16,18': (12.2, 16.1, None, 0), '01,11,16,19': (12.8, 16.1, None, 0), '03,19,16,10': (4.4, 16.1, None, 0), '03,19,16,11': (5.6, 16.1, None, 0), '03,19,16,12': (6.7, 16.1, None, 0), '03,19,16,13': (6.7, 16.1, None, 0), '03,19,16,14': (7.2, 16.1, None, 0), '03,19,16,15': (7.2, 16.1, None, 0), '03,19,16,16': (7.2, 16.1, None, 0), '03,19,16,17': (7.8, 16.1, None, 0), '03,19,16,18': (7.8, 16.1, None, 0), '03,19,16,19': (7.2, 16.1, None, 0), '12,02,16,19': (-5.0, 16.1, None, 0), '10,28,16,21': (6.7, 16.1, None, 0), '10,28,16,20': (6.7, 16.1, None, 0), '10,28,16,23': (6.1, 16.1, None, 0), '10,28,16,22': (6.1, 16.1, None, 0), '09,19,16,23': (21.1, 14.5, None, 0), '09,19,16,22': (21.1, 14.5, None, 0), '09,19,16,21': (20.6, 12.9, None, 0), '09,19,16,20': (20.6, 12.9, None, 0), '10,10,16,11': (13.9, 16.1, None, 0), '10,10,16,10': (11.7, 16.1, None, 0), '10,10,16,13': (16.1, 16.1, None, 0), '10,10,16,12': (15.6, 16.1, None, 0), '06,13,16,20': (18.9, 16.1, None, 0), '06,13,16,21': (18.9, 16.1, None, 0), '06,13,16,22': (18.3, 16.1, None, 0), '05,23,16,09': (18.9, 14.5, None, 0), '05,23,16,06': (14.4, 11.3, None, 0), '05,23,16,07': (16.1, 11.3, None, 0), '05,23,16,04': (13.9, 16.1, None, 0), '05,23,16,05': (13.3, 12.9, None, 0), '05,23,16,02': (13.9, 16.1, None, 0), '05,23,16,03': (13.9, 16.1, None, 0), '05,23,16,00': (14.4, 16.1, None, 0), '05,23,16,01': (14.4, 16.1, None, 0), '02,22,16,20': (7.2, 16.1, None, 0), '02,22,16,21': (5.0, 16.1, None, 0), '02,22,16,22': (5.0, 16.1, None, 0), '03,22,16,16': (12.8, 16.1, None, 0), '02,22,16,23': (3.9, 16.1, None, 0), '10,14,16,00': (11.7, 16.1, None, 0), '10,23,16,13': (16.1, 16.1, None, 0), '10,23,16,12': (14.4, 16.1, None, 0), '10,23,16,11': (14.4, 16.1, None, 0), '10,14,16,01': (11.1, 16.1, None, 0), '10,23,16,17': (15.6, 16.1, None, 0), '10,23,16,16': (15.6, 16.1, None, 0), '10,23,16,15': (16.1, 16.1, None, 0), '10,23,16,14': (15.6, 16.1, None, 0), '10,23,16,19': (15.0, 16.1, None, 0), '10,23,16,18': (15.0, 16.1, None, 0), '08,28,16,20': (25.0, 16.1, None, 0), '08,28,16,21': (24.4, 16.1, None, 0), '08,28,16,22': (23.9, 16.1, None, 0), '08,28,16,23': (23.9, 16.1, None, 0), '10,14,16,08': (10.0, 16.1, None, 0), '04,09,16,09': (20.6, 16.1, None, 0), '04,09,16,08': (20.0, 16.1, None, 0), '10,21,16,17': (19.4, 6.4, None, 0), '10,14,16,09': (10.6, 16.1, None, 0), '10,21,16,11': (19.4, 1.6, 3.3, 0), '10,21,16,10': (20.0, 2.4, 6.6, 0), '10,21,16,13': (19.4, 4.0, 3.8, 0), '10,21,16,12': (19.4, 2.0, 0.8, 0), '04,09,16,01': (18.9, 16.1, None, 0), '04,09,16,00': (19.4, 16.1, None, 0), '04,09,16,03': (18.9, 16.1, None, 0), '04,09,16,02': (18.9, 16.1, None, 0), '04,09,16,05': (18.3, 16.1, None, 0), '04,09,16,04': (18.3, 16.1, None, 0), '04,09,16,07': (18.9, 16.1, None, 0), '04,09,16,06': (18.3, 16.1, None, 0), '06,16,16,09': (19.4, 8.0, None, 0), '06,16,16,08': (19.4, 6.4, None, 0), '06,16,16,07': (18.9, 4.8, 2.3, 0), '06,16,16,06': (19.4, 2.0, 2.3, 0), '06,16,16,05': (20.0, 4.8, 0.0, 0), '06,16,16,04': (20.0, 8.0, 0.3, 0), '06,16,16,03': (20.6, 9.7, 0.3, 0), '06,16,16,02': (22.8, 16.1, None, 0), '06,16,16,01': (22.8, 16.1, None, 0), '06,16,16,00': (23.9, 16.1, None, 0), '10,16,16,22': (18.3, 16.1, None, 0), '10,16,16,23': (18.3, 14.5, None, 0), '10,16,16,20': (18.3, 16.1, None, 0), '10,16,16,21': (18.9, 16.1, None, 0), '01,02,16,23': (6.7, 16.1, None, 0), '01,02,16,22': (7.8, 16.1, None, 0), '01,02,16,21': (8.3, 16.1, None, 0), '01,02,16,20': (8.9, 16.1, None, 0), '11,07,16,23': (21.1, 16.1, None, 0), '11,07,16,22': (21.1, 16.1, None, 0), '11,07,16,21': (21.7, 16.1, None, 0), '11,07,16,20': (22.2, 16.1, None, 0), '11,05,16,13': (23.3, 16.1, None, 0), '12,14,16,15': (4.4, 16.1, None, 0), '12,14,16,14': (5.0, 16.1, None, 0), '09,03,16,08': (12.8, 8.0, None, 0), '09,03,16,09': (15.0, 9.7, None, 0), '09,03,16,00': (8.3, 9.7, None, 0), '09,03,16,01': (8.3, 8.0, None, 0), '09,03,16,02': (7.8, 8.0, None, 0), '09,03,16,03': (7.8, 8.0, None, 0), '09,03,16,04': (7.2, 8.0, None, 0), '09,03,16,05': (7.2, 8.0, None, 0), '09,03,16,06': (7.2, 6.4, None, 0), '09,03,16,07': (9.4, 8.0, None, 0), '12,14,16,19': (2.2, 16.1, None, 0), '12,14,16,18': (2.2, 16.1, None, 0), '08,27,16,12': (31.0, None, None, 0), '08,27,16,13': (31.1, 14.5, None, 0), '08,27,16,10': (28.0, None, None, 0), '08,27,16,11': (28.0, None, None, 0), '08,27,16,16': (28.3, 14.5, None, 0), '08,27,16,17': (27.8, 14.5, None, 0), '08,27,16,14': (31.1, 14.5, None, 0), '08,27,16,15': (28.9, 14.5, None, 0), '12,08,16,14': (33.9, 12.9, None, 0), '12,08,16,15': (32.8, 12.9, None, 0), '12,08,16,16': (32.8, 12.9, None, 0), '12,08,16,17': (32.8, 12.9, None, 0), '12,08,16,10': (28.9, 11.3, None, 0), '12,08,16,11': (31.7, 11.3, None, 0), '10,18,16,08': (21.1, 9.7, None, 0), '10,18,16,09': (22.8, 9.7, None, 0), '10,18,16,06': (19.4, 12.9, None, 0), '10,18,16,07': (20.0, 11.3, None, 0), '10,18,16,04': (20.0, 14.5, None, 0), '10,18,16,05': (19.4, 14.5, None, 0), '10,18,16,02': (20.6, 14.5, None, 0), '10,18,16,03': (20.0, 12.9, None, 0), '10,18,16,00': (21.7, 14.5, None, 0), '10,18,16,01': (21.1, 14.5, None, 0), '12,14,16,09': (3.3, 16.1, None, 0), '07,27,16,19': (28.9, 12.9, None, 0), '07,27,16,18': (30.0, 14.5, None, 0), '07,27,16,13': (32.2, 14.5, None, 0), '07,27,16,12': (32.2, 14.5, None, 0), '07,27,16,11': (31.1, 14.5, None, 0), '07,27,16,10': (28.9, 14.5, None, 0), '07,27,16,17': (30.6, 14.5, None, 0), '07,27,16,16': (30.6, 14.5, None, 0), '07,27,16,15': (31.7, 14.5, None, 0), '07,27,16,14': (31.1, 14.5, None, 0), '12,07,16,04': (20.6, 16.1, None, 0), '12,07,16,05': (20.6, 16.1, None, 0), '10,01,16,19': (11.1, 16.1, None, 0), '10,01,16,18': (12.8, 16.1, None, 0), '12,07,16,00': (21.1, 16.1, None, 0), '12,07,16,01': (20.6, 16.1, None, 0), '12,07,16,02': (20.6, 16.1, None, 0), '12,07,16,03': (20.6, 16.1, None, 0), '05,31,16,21': (23.3, 12.9, None, 0), '05,31,16,20': (23.3, 12.9, None, 0), '05,31,16,23': (23.3, 12.9, None, 0), '05,31,16,22': (23.3, 12.9, None, 0), '10,01,16,17': (13.3, 16.1, None, 0), '10,01,16,16': (13.9, 16.1, 0.5, 0), '10,01,16,15': (13.9, 4.8, 0.3, 0), '10,01,16,14': (13.9, 8.0, None, 0), '11,14,16,09': (11.1, 16.1, None, 0), '11,14,16,08': (10.0, 16.1, None, 0), '12,29,16,10': (6.1, 6.4, 1.3, 0), '11,14,16,01': (10.0, 16.1, None, 0), '11,14,16,00': (10.6, 16.1, None, 0), '11,14,16,03': (9.4, 16.1, None, 0), '11,14,16,02': (10.0, 16.1, None, 0), '11,14,16,05': (8.3, 16.1, None, 0), '11,14,16,04': (8.9, 16.1, None, 0), '11,14,16,07': (8.9, 16.1, None, 0), '11,14,16,06': (8.3, 16.1, None, 0), '11,12,16,14': (1.1, 16.1, None, 0), '11,12,16,15': (0.6, 16.1, None, 0), '11,12,16,16': (0.0, 12.9, 0.0, 0), '11,12,16,17': (-1.1, 1.6, 0.3, 0), '11,12,16,10': (0.6, 16.1, None, 0), '11,12,16,11': (1.1, 16.1, None, 0), '11,12,16,12': (1.1, 16.1, None, 0), '11,12,16,13': (1.1, 16.1, None, 0), '11,12,16,18': (-0.6, 2.8, 0.5, 0), '11,12,16,19': (0.0, 14.5, 0.0, 0), '03,31,16,12': (20.6, 16.1, None, 0), '06,03,16,04': (0.0, 16.1, None, 0), '03,31,16,10': (18.3, 16.1, None, 0), '03,31,16,11': (19.4, 16.1, None, 0), '03,31,16,16': (20.0, 16.1, None, 0), '03,31,16,17': (19.4, 16.1, None, 0), '03,31,16,14': (22.2, 16.1, None, 0), '06,03,16,02': (1.1, 16.1, None, 0), '10,26,16,23': (6.7, 16.1, None, 0), '10,26,16,22': (6.7, 16.1, None, 0), '10,26,16,21': (6.7, 16.1, None, 0), '10,26,16,20': (7.2, 16.1, None, 0), '09,28,16,18': (16.7, 16.1, None, 0), '09,28,16,19': (15.6, 8.0, None, 0), '09,28,16,12': (19.4, 16.1, None, 0), '09,28,16,13': (20.0, 16.1, None, 0), '09,28,16,10': (19.4, 16.1, None, 0), '09,28,16,11': (19.4, 16.1, None, 0), '09,28,16,16': (18.3, 16.1, None, 0), '09,28,16,17': (17.8, 16.1, None, 0), '09,28,16,14': (20.0, 16.1, None, 0), '09,28,16,15': (18.9, 14.5, None, 0), '07,14,16,11': (29.4, 11.3, None, 0), '07,14,16,10': (27.2, 11.3, None, 0), '07,14,16,13': (30.0, 9.7, None, 0), '07,14,16,12': (28.3, 11.3, None, 0), '07,14,16,15': (28.9, 2.8, 0.0, 0), '07,14,16,14': (30.6, 9.7, None, 0), '07,14,16,17': (26.7, 12.9, None, 0), '07,14,16,16': (23.9, 8.0, 15.7, 0), '07,14,16,19': (26.7, 11.3, None, 0), '07,14,16,18': (27.2, 12.9, None, 0), '08,30,16,22': (24.4, 16.1, None, 0), '11,24,16,04': (4.4, 16.1, None, 0), '11,24,16,05': (4.4, 16.1, None, 0), '11,24,16,06': (4.4, 16.1, None, 0), '11,24,16,07': (5.0, 16.1, None, 0), '11,24,16,00': (4.4, 16.1, None, 0), '11,24,16,01': (4.4, 16.1, None, 0), '11,24,16,02': (4.4, 16.1, None, 0), '11,24,16,03': (4.4, 16.1, None, 0), '11,24,16,08': (5.6, 16.1, None, 0), '11,24,16,09': (7.2, 16.1, None, 0), '08,30,16,20': (24.4, 16.1, None, 0), '10,30,16,16': (16.1, 4.8, 0.0, 0), '01,04,16,03': (18.9, 16.1, None, 0), '01,04,16,02': (18.9, 16.1, None, 0), '01,04,16,01': (18.3, 16.1, None, 0), '01,04,16,00': (17.8, 16.1, None, 0), '01,04,16,05': (17.8, 16.1, None, 0), '01,04,16,04': (19.4, 16.1, None, 0), '10,30,16,18': (15.0, 12.9, 2.0, 0), '08,31,16,23': (25.6, 16.1, None, 0), '07,29,16,20': (25.6, 14.5, None, 0), '07,29,16,21': (25.0, 14.5, None, 0), '07,29,16,22': (25.6, 12.9, None, 0), '07,29,16,23': (25.0, 12.9, None, 0), '09,19,16,05': (22.8, 1.6, 3.6, 0), '09,19,16,04': (24.4, 14.5, None, 0), '09,19,16,07': (21.7, 6.4, 0.8, 0), '09,19,16,06': (21.7, 12.9, 1.8, 0), '09,19,16,01': (23.9, 16.1, None, 0), '09,19,16,00': (23.9, 16.1, None, 0), '09,19,16,03': (24.4, 16.1, None, 0), '09,19,16,02': (24.4, 16.1, None, 0), '06,13,16,08': (16.1, 16.1, None, 0), '06,13,16,09': (17.2, 16.1, None, 0), '06,13,16,06': (14.4, 16.1, None, 0), '06,13,16,07': (15.0, 16.1, None, 0), '06,13,16,04': (14.4, 16.1, None, 0), '06,13,16,05': (13.9, 16.1, None, 0), '06,13,16,02': (15.6, 16.1, None, 0), '06,13,16,03': (15.0, 16.1, None, 0), '06,13,16,00': (16.7, 16.1, None, 0), '06,13,16,01': (16.1, 16.1, None, 0), '09,11,16,23': (9.4, 16.1, None, 0), '09,11,16,22': (10.0, 16.1, None, 0), '09,11,16,21': (10.0, 16.1, None, 0), '09,11,16,20': (10.6, 16.1, None, 0), '12,28,16,16': (3.3, 16.1, None, 0), '12,28,16,17': (2.8, 16.1, None, 0), '12,28,16,14': (3.3, 16.1, None, 0), '12,28,16,15': (3.3, 16.1, None, 0), '12,28,16,18': (2.2, 16.1, None, 0), '12,28,16,19': (2.2, 16.1, None, 0), '01,19,16,18': (-2.8, 16.1, None, 0), '01,19,16,19': (-2.8, 16.1, None, 0), '01,19,16,12': (-3.9, 16.1, None, 0), '01,19,16,13': (-3.3, 16.1, None, 0), '01,19,16,10': (-5.0, 16.1, None, 0), '01,19,16,11': (-4.4, 16.1, None, 0), '01,19,16,16': (-2.2, 16.1, None, 0), '01,19,16,17': (-2.2, 16.1, None, 0), '01,19,16,14': (-2.8, 16.1, None, 0), '01,19,16,15': (-2.2, 16.1, None, 0), '05,27,16,20': (25.6, 12.9, None, 0), '05,27,16,21': (25.6, 12.9, None, 0), '05,27,16,22': (25.0, 12.9, None, 0), '05,27,16,23': (24.4, 12.9, None, 0), '01,24,16,18': (0.6, 16.1, None, 0), '01,24,16,19': (0.0, 16.1, None, 0), '01,24,16,16': (1.7, 16.1, None, 0), '01,24,16,17': (1.7, 16.1, None, 0), '01,24,16,14': (0.6, 16.1, None, 0), '01,24,16,15': (1.7, 16.1, None, 0), '01,24,16,12': (-1.1, 16.1, None, 0), '01,24,16,13': (0.0, 16.1, None, 0), '01,24,16,10': (-4.4, 12.9, None, 0), '01,24,16,11': (-2.8, 12.9, None, 0), '05,08,16,10': (25.6, 14.5, None, 0), '05,08,16,11': (26.7, 12.9, None, 0), '05,08,16,12': (27.8, 12.9, None, 0), '05,08,16,13': (27.8, 12.9, None, 0), '05,08,16,14': (27.8, 12.9, None, 0), '05,08,16,15': (26.1, 12.9, None, 0), '05,08,16,16': (25.0, 14.5, None, 0), '05,08,16,17': (26.1, 14.5, None, 0), '05,08,16,18': (25.6, 14.5, None, 0), '05,08,16,19': (25.6, 14.5, None, 0), '10,15,16,14': (17.2, 16.1, None, 0), '10,15,16,15': (16.7, 16.1, None, 0), '10,15,16,16': (16.1, 16.1, None, 0), '10,15,16,17': (14.4, 16.1, None, 0), '03,20,16,18': (3.9, 16.1, None, 0), '03,20,16,19': (3.9, 16.1, None, 0), '10,15,16,12': (17.2, 16.1, None, 0), '10,15,16,13': (18.3, 16.1, None, 0), '03,20,16,14': (5.0, 16.1, None, 0), '03,20,16,15': (4.4, 16.1, None, 0), '03,20,16,16': (3.9, 16.1, None, 0), '03,20,16,17': (3.9, 16.1, None, 0), '03,20,16,10': (1.1, 16.1, None, 0), '03,20,16,11': (2.2, 16.1, None, 0), '03,20,16,12': (2.8, 16.1, None, 0), '03,20,16,13': (3.9, 16.1, None, 0), '01,14,16,07': (-4.4, 16.1, None, 0), '01,05,16,20': (7.2, 9.7, 0.0, 0), '01,05,16,21': (7.2, 12.9, None, 0), '01,05,16,22': (7.2, 14.5, None, 0), '01,05,16,23': (7.8, 4.8, None, 0), '08,21,16,18': (23.9, 6.4, 1.3, 0), '08,21,16,19': (24.4, 4.8, 0.8, 0), '08,21,16,10': (25.6, 11.3, None, 0), '08,21,16,11': (27.8, 12.9, None, 0), '08,21,16,12': (28.9, 12.9, None, 0), '08,21,16,13': (29.4, 14.5, None, 0), '08,21,16,14': (27.8, 12.9, None, 0), '08,21,16,15': (26.7, 12.9, None, 0), '08,21,16,16': (26.7, 12.9, None, 0), '08,21,16,17': (25.6, 11.3, None, 0), '06,16,16,21': (20.6, 14.5, None, 0), '06,16,16,20': (21.1, 16.1, None, 0), '06,16,16,23': (20.0, 14.5, None, 0), '06,16,16,22': (20.0, 16.1, None, 0), '01,02,16,09': (11.1, 16.1, None, 0), '01,02,16,08': (10.6, 16.1, None, 0), '01,02,16,05': (10.0, 16.1, None, 0), '01,02,16,04': (10.0, 16.1, None, 0), '01,02,16,07': (10.0, 16.1, None, 0), '01,02,16,06': (9.4, 16.1, None, 0), '01,02,16,01': (10.0, 16.1, None, 0), '01,02,16,00': (10.0, 16.1, None, 0), '01,02,16,03': (10.0, 16.1, None, 0), '01,02,16,02': (10.0, 16.1, None, 0), '11,07,16,05': (18.9, 16.1, None, 0), '11,07,16,04': (18.9, 16.1, None, 0), '11,07,16,07': (20.0, 16.1, None, 0), '11,07,16,06': (18.9, 16.1, None, 0), '11,07,16,01': (20.6, 16.1, None, 0), '11,07,16,00': (20.6, 16.1, None, 0), '11,07,16,03': (19.4, 16.1, None, 0), '11,07,16,02': (20.0, 16.1, None, 0), '11,07,16,09': (21.1, 16.1, None, 0), '11,07,16,08': (21.1, 16.1, None, 0), '08,28,16,08': (25.0, 14.5, None, 0), '08,28,16,09': (26.1, 12.9, None, 0), '08,28,16,06': (22.8, 14.5, None, 0), '08,28,16,07': (23.3, 14.5, None, 0), '08,28,16,04': (22.8, 16.1, None, 0), '08,28,16,05': (22.2, 16.1, None, 0), '08,28,16,02': (23.3, 16.1, None, 0), '08,28,16,03': (22.8, 16.1, None, 0), '08,28,16,00': (23.9, 16.1, None, 0), '08,28,16,01': (23.3, 16.1, None, 0), '09,03,16,22': (20.6, 16.1, None, 0), '09,03,16,23': (20.6, 16.1, None, 0), '09,03,16,20': (22.2, 16.1, None, 0), '09,03,16,21': (21.1, 16.1, None, 0), '10,07,16,20': (23.9, 16.1, None, 0), '10,07,16,21': (22.8, 16.1, None, 0), '10,07,16,22': (22.2, 16.1, None, 0), '10,07,16,23': (21.1, 16.1, None, 0), '04,07,16,18': (24.4, 12.9, None, 0), '04,07,16,19': (24.4, 14.5, None, 0), '04,07,16,14': (27.2, 14.5, None, 0), '04,07,16,15': (25.6, 14.5, None, 0), '04,07,16,16': (25.6, 14.5, None, 0), '04,07,16,17': (24.4, 12.9, None, 0), '04,07,16,10': (25.6, 16.1, None, 0), '04,07,16,11': (27.2, 14.5, None, 0), '04,07,16,12': (28.3, 14.5, None, 0), '04,07,16,13': (27.8, 14.5, None, 0), '01,23,16,20': (-4.4, 0.8, 1.3, 1), '01,23,16,21': (-3.3, 3.2, 0.3, 0), '01,23,16,22': (-2.8, 8.0, 0.0, 0), '01,23,16,23': (-2.8, 6.4, 0.0, 0), '11,22,16,11': (4.4, 16.1, None, 0), '03,31,16,23': (17.8, 16.1, None, 0), '03,31,16,22': (16.7, 16.1, None, 0), '03,31,16,21': (16.7, 16.1, None, 0), '03,31,16,20': (17.8, 16.1, None, 0), '06,06,16,19': (27.2, 14.5, None, 0), '06,06,16,18': (26.7, 14.5, None, 0), '06,21,16,06': (23.9, 9.7, 0.0, 0), '06,06,16,17': (27.2, 14.5, None, 0), '06,15,16,23': (23.9, 16.1, None, 0), '06,06,16,15': (27.8, 12.9, None, 0), '06,06,16,14': (27.8, 14.5, None, 0), '12,07,16,22': (23.3, 16.1, None, 0), '12,07,16,23': (22.8, 16.1, None, 0), '12,07,16,20': (23.9, 16.1, None, 0), '12,07,16,21': (23.3, 16.1, None, 0), '01,28,16,01': (1.1, 16.1, None, 0), '11,21,16,12': (3.9, 16.1, None, 0), '11,21,16,13': (4.4, 16.1, None, 0), '11,21,16,10': (3.3, 16.1, None, 0), '11,21,16,11': (3.9, 16.1, None, 0), '11,21,16,16': (3.9, 16.1, None, 0), '11,21,16,17': (3.9, 16.1, None, 0), '11,21,16,14': (4.4, 16.1, None, 0), '11,21,16,15': (4.4, 16.1, None, 0), '11,21,16,18': (3.9, 16.1, None, 0), '11,21,16,19': (4.4, 16.1, None, 0), '07,18,16,15': (32.2, 12.9, None, 0), '07,18,16,14': (32.8, 12.9, None, 0), '07,18,16,17': (22.8, 12.9, 8.9, 0), '07,18,16,16': (27.8, 0.8, 0.0, 0), '07,18,16,11': (32.2, 12.9, None, 0), '07,18,16,10': (30.0, 12.9, None, 0), '07,18,16,13': (33.3, 12.9, None, 0), '07,18,16,12': (32.2, 12.9, None, 0), '11,28,16,13': (10.6, 16.1, None, 0), '11,28,16,12': (10.6, 16.1, None, 0), '11,28,16,11': (9.4, 16.1, None, 0), '11,28,16,10': (8.3, 14.5, None, 0), '07,18,16,19': (23.9, 14.5, None, 0), '07,18,16,18': (23.3, 12.9, None, 0), '11,28,16,15': (10.0, 16.1, None, 0), '11,28,16,14': (10.6, 16.1, None, 0), '10,26,16,01': (5.6, 16.1, None, 0), '10,26,16,00': (6.1, 16.1, None, 0), '10,26,16,03': (4.4, 16.1, None, 0), '10,26,16,02': (5.0, 16.1, None, 0), '03,05,16,08': (11.1, 8.0, 0.3, 0), '03,05,16,09': (11.1, 4.8, 0.5, 0), '10,26,16,07': (3.3, 16.1, None, 0), '10,26,16,06': (3.9, 16.1, None, 0), '03,05,16,04': (11.7, 3.2, 3.3, 0), '03,05,16,05': (11.1, 4.0, 2.8, 0), '03,05,16,06': (11.1, 6.4, 2.8, 0), '03,05,16,07': (11.1, 8.0, 0.3, 0), '03,05,16,00': (12.8, 3.2, 1.0, 0), '03,05,16,01': (11.7, 4.0, 0.0, 0), '03,05,16,02': (11.7, 3.2, 0.5, 0), '03,05,16,03': (11.7, 4.0, 2.0, 0), '11,28,16,22': (10.0, 16.1, None, 0), '11,28,16,23': (10.6, 16.1, None, 0), '11,28,16,20': (8.9, 16.1, None, 0), '11,22,16,10': (3.9, 16.1, None, 0), '11,28,16,21': (9.4, 16.1, None, 0), '10,27,16,05': (6.1, 16.1, None, 0), '11,24,16,22': (8.3, 12.9, None, 0), '11,24,16,23': (7.8, 11.3, None, 0), '11,22,16,13': (4.4, 16.1, None, 0), '11,24,16,21': (8.9, 14.5, None, 0), '10,27,16,03': (6.1, 16.1, None, 0), '09,10,16,00': (17.8, 8.0, None, 0), '09,10,16,01': (17.8, 2.8, 0.0, 0), '09,10,16,02': (17.8, 4.8, 0.5, 0), '09,10,16,03': (16.1, 9.7, 0.5, 0), '09,10,16,04': (13.9, 8.0, 1.3, 0), '09,10,16,05': (13.9, 8.0, 1.0, 0), '09,10,16,06': (13.3, 9.7, 1.0, 0), '09,10,16,07': (12.8, 14.5, 1.0, 0), '05,24,16,12': (18.9, 12.9, None, 0), '05,24,16,13': (21.1, 12.9, None, 0), '05,24,16,10': (17.2, 8.0, 0.0, 0), '05,24,16,11': (17.8, 14.5, 0.0, 0), '05,24,16,16': (21.1, 16.1, None, 0), '05,24,16,17': (20.0, 16.1, None, 0), '05,24,16,14': (22.8, 16.1, None, 0), '05,24,16,15': (21.7, 16.1, None, 0), '05,24,16,18': (20.6, 16.1, None, 0), '05,24,16,19': (20.0, 16.1, None, 0), '09,12,16,01': (1.0, None, None, 0), '01,04,16,21': (20.6, 16.1, None, 0), '01,04,16,20': (20.6, 16.1, None, 0), '01,04,16,23': (16.7, 16.1, None, 0), '01,04,16,22': (21.0, 16.1, None, 0), '01,10,16,13': (16.1, 16.1, None, 0), '01,10,16,12': (16.1, 12.9, None, 0), '01,10,16,11': (15.6, 14.5, None, 0), '01,10,16,10': (15.6, 16.1, None, 0), '01,10,16,17': (16.1, 16.1, None, 0), '01,10,16,16': (16.1, 16.1, None, 0), '01,10,16,15': (16.7, 16.1, None, 0), '01,10,16,14': (16.1, 16.1, None, 0), '01,10,16,19': (15.6, 16.1, None, 0), '01,10,16,18': (16.1, 16.1, None, 0), '01,21,16,19': (-1.1, 16.1, None, 0), '01,21,16,18': (-0.6, 16.1, None, 0), '01,21,16,13': (1.7, 16.1, None, 0), '01,21,16,12': (1.7, 16.1, None, 0), '01,21,16,11': (0.6, 16.1, None, 0), '01,21,16,10': (0.0, 16.1, None, 0), '01,21,16,17': (-0.6, 16.1, None, 0), '01,21,16,16': (0.0, 16.1, None, 0), '01,21,16,15': (1.1, 16.1, None, 0), '01,21,16,14': (1.7, 16.1, None, 0), '01,12,16,15': (10.0, 16.1, None, 0), '01,12,16,14': (10.0, 16.1, None, 0), '01,12,16,17': (9.4, 16.1, None, 0), '01,12,16,16': (9.4, 16.1, None, 0), '01,12,16,11': (11.7, 16.1, None, 0), '01,12,16,10': (11.7, 16.1, None, 0), '01,12,16,13': (10.6, 16.1, None, 0), '01,12,16,12': (11.1, 16.1, None, 0), '01,12,16,19': (8.3, 16.1, None, 0), '01,12,16,18': (8.9, 16.1, None, 0), '07,20,16,18': (25.6, 14.5, None, 0), '07,20,16,19': (24.4, 14.5, None, 0), '08,22,16,18': (23.3, 16.1, None, 0), '07,20,16,10': (24.4, 16.1, None, 0), '07,20,16,11': (26.7, 16.1, None, 0), '07,20,16,12': (27.8, 14.5, None, 0), '07,20,16,13': (28.3, 14.5, None, 0), '07,20,16,14': (28.3, 14.5, None, 0), '07,20,16,15': (27.2, 14.5, None, 0), '07,20,16,16': (26.7, 14.5, None, 0), '07,20,16,17': (26.7, 14.5, None, 0), '04,12,16,16': (6.1, 16.1, None, 0), '04,12,16,17': (5.6, 16.1, None, 0), '04,12,16,14': (7.2, 16.1, None, 0), '04,12,16,15': (6.7, 16.1, None, 0), '04,12,16,12': (7.2, 16.1, None, 0), '04,12,16,13': (7.8, 16.1, None, 0), '04,12,16,10': (5.6, 16.1, None, 0), '04,12,16,11': (6.7, 16.1, None, 0), '04,12,16,18': (5.6, 16.1, None, 0), '04,12,16,19': (5.6, 16.1, None, 0), '09,11,16,05': (13.9, 16.1, None, 0), '09,11,16,04': (13.9, 16.1, None, 0), '09,11,16,07': (13.9, 14.5, None, 0), '09,11,16,06': (13.3, 16.1, None, 0), '09,11,16,01': (15.0, 16.1, None, 0), '09,11,16,00': (15.0, 16.1, None, 0), '09,11,16,03': (13.9, 16.1, None, 0), '09,11,16,02': (13.9, 16.1, None, 0), '09,11,16,09': (12.8, 12.9, 0.0, 0), '09,11,16,08': (13.9, 14.5, None, 0), '08,22,16,16': (24.4, 16.1, None, 0), '05,25,16,00': (17.8, 16.1, None, 0), '05,25,16,01': (17.8, 16.1, None, 0), '05,25,16,02': (17.2, 16.1, None, 0), '05,25,16,03': (17.2, 16.1, None, 0), '05,25,16,04': (16.1, 16.1, None, 0), '05,25,16,05': (16.7, 16.1, None, 0), '05,25,16,06': (17.8, 14.5, None, 0), '07,29,16,09': (21.1, 6.4, 0.5, 0), '07,29,16,06': (21.7, 6.4, 0.3, 0), '07,29,16,07': (21.1, 4.0, 0.3, 0), '07,29,16,04': (22.2, 4.0, 3.3, 0), '07,29,16,05': (21.1, 6.4, 15.7, 0), '07,29,16,02': (23.9, 4.8, 0.5, 0), '07,29,16,03': (22.8, 4.8, 1.8, 0), '07,29,16,00': (24.4, 8.0, 0.0, 0), '07,29,16,01': (23.9, 6.4, 0.5, 0), '02,03,16,23': (-1.7, 16.1, None, 0), '02,03,16,22': (-1.1, 16.1, None, 0), '02,03,16,21': (-0.6, 16.1, None, 0), '02,03,16,20': (0.0, 16.1, None, 0), '08,31,16,08': (24.4, 11.3, None, 0), '08,31,16,09': (25.6, 8.0, None, 0), '05,27,16,08': (24.4, 9.7, None, 0), '05,27,16,09': (26.1, 9.7, None, 0), '05,27,16,02': (23.3, 14.5, None, 0), '05,27,16,03': (23.3, 14.5, None, 0), '05,27,16,00': (24.4, 14.5, None, 0), '05,27,16,01': (23.9, 14.5, None, 0), '05,27,16,06': (23.9, 11.3, None, 0), '05,27,16,07': (23.9, 9.7, None, 0), '05,27,16,04': (23.3, 14.5, None, 0), '05,27,16,05': (23.3, 11.3, None, 0), '11,22,16,20': (3.3, 16.1, None, 0), '11,26,16,20': (6.1, 16.1, None, 0), '11,26,16,21': (5.6, 16.1, None, 0), '11,26,16,22': (5.0, 16.1, None, 0), '11,22,16,21': (3.3, 16.1, None, 0), '11,22,16,22': (3.3, 16.1, None, 0), '12,20,16,18': (0.0, 16.1, None, 0), '11,22,16,23': (3.3, 16.1, None, 0), '12,20,16,12': (-1.1, 16.1, None, 0), '12,20,16,13': (-0.6, 16.1, None, 0), '12,20,16,10': (-2.8, 16.1, None, 0), '12,20,16,11': (-1.7, 16.1, None, 0), '12,20,16,16': (-0.6, 16.1, None, 0), '12,20,16,17': (0.0, 16.1, None, 0), '12,20,16,14': (0.0, 16.1, None, 0), '12,20,16,15': (0.0, 16.1, None, 0), '01,05,16,08': (8.9, 9.7, 0.3, 0), '01,05,16,09': (8.3, 8.0, 1.3, 0), '01,05,16,06': (10.0, 16.1, None, 0), '01,05,16,07': (9.4, 16.1, None, 0), '01,05,16,04': (10.0, 16.1, None, 0), '01,05,16,05': (10.0, 16.1, None, 0), '01,05,16,02': (10.0, 16.1, None, 0), '01,05,16,03': (10.0, 16.1, None, 0), '01,05,16,00': (10.0, 16.1, None, 0), '01,05,16,01': (10.0, 16.1, None, 0), '06,12,16,03': (4.4, 16.1, None, 0), '06,12,16,02': (4.4, 16.1, None, 0), '06,12,16,01': (4.4, 16.1, None, 0), '06,12,16,00': (5.0, 16.1, None, 0), '06,12,16,07': (3.9, 16.1, None, 0), '06,12,16,06': (3.3, 16.1, None, 0), '06,12,16,05': (3.9, 16.1, None, 0), '06,12,16,04': (4.4, 16.1, None, 0), '12,17,16,09': (0.0, 1.6, 4.6, 0), '06,12,16,09': (6.7, 16.1, None, 0), '06,12,16,08': (6.1, 16.1, None, 0), '06,15,16,00': (19.4, 16.1, None, 0), '06,15,16,01': (19.4, 16.1, None, 0), '06,15,16,02': (18.9, 16.1, None, 0), '06,15,16,03': (19.4, 16.1, None, 0), '06,15,16,04': (17.8, 16.1, None, 0), '06,15,16,05': (16.7, 16.1, None, 0), '06,15,16,06': (18.3, 16.1, None, 0), '06,15,16,07': (19.4, 16.1, None, 0), '06,15,16,08': (20.6, 16.1, None, 0), '06,15,16,09': (22.8, 16.1, None, 0), '06,10,16,16': (21.7, 14.5, None, 0), '06,10,16,17': (20.0, 12.9, None, 0), '06,10,16,14': (22.8, 14.5, None, 0), '06,10,16,15': (22.2, 14.5, None, 0), '06,10,16,12': (21.7, 12.9, None, 0), '06,10,16,13': (21.7, 14.5, None, 0), '06,10,16,10': (17.8, 12.9, None, 0), '06,10,16,11': (19.4, 12.9, None, 0), '06,10,16,18': (18.3, 14.5, None, 0), '06,10,16,19': (16.7, 14.5, None, 0), '09,27,16,10': (19.4, 14.5, None, 0), '09,27,16,16': (22.8, 16.1, None, 0), '10,07,16,06': (19.4, 4.0, None, 0), '10,07,16,07': (20.6, 9.7, None, 0), '10,07,16,04': (19.4, 6.4, None, 0), '10,07,16,05': (18.9, 4.0, None, 0), '10,07,16,02': (20.0, 9.7, None, 0), '10,07,16,03': (19.4, 8.0, None, 0), '10,07,16,00': (19.4, 16.1, None, 0), '10,07,16,01': (20.0, 8.0, None, 0), '10,07,16,08': (21.1, 12.9, None, 0), '10,07,16,09': (21.7, 14.5, None, 0), '04,27,16,23': (11.7, 16.1, None, 0), '04,27,16,22': (12.2, 16.1, None, 0), '04,27,16,21': (12.2, 16.1, None, 0), '04,27,16,20': (12.2, 16.1, None, 0), '03,27,16,17': (8.3, 16.1, None, 0), '03,27,16,16': (8.9, 16.1, None, 0), '03,27,16,15': (10.0, 16.1, None, 0), '03,27,16,14': (10.6, 16.1, None, 0), '03,27,16,13': (12.2, 16.1, None, 0), '03,27,16,12': (10.6, 16.1, None, 0), '03,27,16,11': (10.6, 16.1, None, 0), '03,27,16,10': (8.3, 16.1, None, 0), '03,27,16,19': (7.2, 16.1, None, 0), '03,27,16,18': (7.2, 16.1, None, 0), '11,23,16,09': (2.8, 16.1, None, 0), '11,23,16,08': (2.2, 16.1, None, 0), '11,23,16,07': (1.7, 16.1, None, 0), '11,23,16,06': (1.7, 16.1, None, 0), '11,23,16,05': (2.2, 16.1, None, 0), '11,23,16,04': (2.2, 16.1, None, 0), '11,23,16,03': (2.2, 16.1, None, 0), '11,23,16,02': (2.2, 16.1, None, 0), '11,23,16,01': (2.2, 16.1, None, 0), '11,23,16,00': (2.8, 16.1, None, 0), '08,30,16,23': (23.9, 16.1, None, 0), '04,27,16,00': (8.3, 16.1, None, 0), '08,30,16,21': (23.9, 16.1, None, 0), '01,23,16,02': (-3.9, 2.4, 1.0, 0), '01,23,16,03': (-4.4, 0.8, 0.5, 0), '01,23,16,00': (-3.9, 0.8, 0.8, 0), '01,23,16,01': (-4.4, 0.8, 1.5, 1), '01,23,16,06': (-3.9, 0.4, 3.8, 1), '01,23,16,07': (-3.9, 0.4, 3.6, 1), '01,23,16,04': (-4.4, 0.4, 2.0, 1), '01,23,16,05': (-4.4, 0.4, 2.8, 1), '01,23,16,08': (-3.3, 0.4, 4.3, 1), '01,23,16,09': (-2.8, 0.4, 4.8, 1), '02,29,16,18': (11.7, 16.1, None, 0), '02,29,16,19': (10.6, 16.1, None, 0), '02,29,16,12': (11.1, 16.1, 0.0, 0), '02,29,16,13': (13.9, 16.1, None, 0), '02,29,16,10': (10.0, 12.9, 0.0, 0), '02,29,16,11': (8.3, 6.4, 1.3, 0), '02,29,16,16': (14.4, 16.1, None, 0), '02,29,16,17': (12.8, 16.1, None, 0), '02,29,16,14': (15.6, 16.1, None, 0), '02,29,16,15': (15.6, 16.1, None, 0), '05,12,16,11': (7.2, 16.1, None, 0), '05,12,16,10': (6.1, 14.5, None, 0), '05,12,16,13': (8.9, 16.1, None, 0), '05,12,16,12': (8.9, 16.1, None, 0), '05,12,16,15': (8.9, 16.1, None, 0), '05,12,16,14': (8.9, 16.1, None, 0), '05,12,16,17': (7.8, 16.1, None, 0), '05,12,16,16': (8.3, 16.1, None, 0), '05,12,16,19': (7.2, 16.1, None, 0), '05,12,16,18': (7.2, 16.1, None, 0), '10,02,16,07': (0.6, 2.8, 0.0, 0), '10,02,16,06': (0.6, 9.7, None, 0), '10,02,16,05': (0.6, 12.9, None, 0), '10,02,16,04': (0.6, 12.9, None, 0), '10,02,16,03': (0.6, 8.0, None, 0), '10,02,16,02': (0.6, 6.4, 0.0, 0), '10,02,16,01': (0.6, 3.2, 0.3, 0), '10,02,16,00': (0.6, 11.3, None, 0), '10,02,16,09': (1.7, 9.7, None, 0), '10,02,16,08': (1.1, 4.8, None, 0), '03,31,16,09': (16.7, 16.1, None, 0), '03,31,16,08': (14.4, 16.1, None, 0), '03,31,16,05': (11.1, 16.1, None, 0), '03,31,16,04': (10.6, 16.1, None, 0), '03,31,16,07': (12.8, 16.1, None, 0), '03,31,16,06': (11.1, 16.1, None, 0), '03,31,16,01': (10.0, 16.1, None, 0), '03,31,16,00': (10.0, 16.1, None, 0), '03,31,16,03': (10.0, 16.1, None, 0), '03,31,16,02': (10.0, 16.1, None, 0), '05,28,16,18': (28.3, 11.3, None, 0), '05,28,16,19': (27.8, 11.3, None, 0), '05,28,16,16': (31.1, 11.3, None, 0), '05,28,16,17': (30.0, 11.3, None, 0), '05,28,16,14': (32.2, 9.7, None, 0), '05,28,16,15': (31.1, 11.3, None, 0), '05,28,16,12': (31.7, 11.3, None, 0), '05,28,16,13': (32.2, 11.3, None, 0), '05,28,16,10': (28.3, 11.3, None, 0), '05,28,16,11': (30.6, 11.3, None, 0), '10,08,16,23': (28.9, 16.1, None, 0), '10,08,16,22': (28.9, 16.1, None, 0), '10,08,16,21': (29.4, 16.1, None, 0), '10,08,16,20': (30.0, 16.1, None, 0), '04,14,16,09': (8.9, 16.1, None, 0), '04,14,16,08': (8.3, 16.1, None, 0), '04,14,16,07': (7.2, 16.1, None, 0), '04,14,16,06': (7.0, 16.1, None, 0), '04,14,16,05': (7.2, 16.1, None, 0), '04,14,16,04': (7.2, 16.1, None, 0), '04,14,16,03': (7.2, 16.1, None, 0), '04,14,16,02': (7.2, 16.1, None, 0), '04,14,16,01': (7.8, 16.1, None, 0), '04,14,16,00': (7.8, 16.1, None, 0), '03,30,16,13': (11.7, 16.1, None, 0), '03,30,16,12': (10.6, 16.1, None, 0), '03,30,16,11': (11.1, 16.1, None, 0), '03,30,16,10': (8.9, 16.1, None, 0), '03,30,16,17': (10.0, 16.1, None, 0), '03,30,16,16': (8.9, 16.1, None, 0), '03,30,16,15': (10.0, 16.1, None, 0), '03,30,16,14': (11.1, 16.1, None, 0), '03,30,16,19': (9.4, 16.1, None, 0), '03,30,16,18': (9.4, 16.1, None, 0), '08,19,16,08': (25.0, 12.9, None, 0), '08,19,16,09': (26.1, 14.5, None, 0), '03,05,16,22': (11.1, 9.7, None, 0), '03,05,16,23': (11.1, 6.4, None, 0), '03,05,16,20': (11.1, 11.3, None, 0), '03,05,16,21': (11.1, 9.7, None, 0), '07,12,16,08': (4.4, 4.0, 0.0, 0), '07,12,16,09': (5.0, 8.0, 0.0, 0), '07,12,16,01': (5.0, 12.9, 0.3, 0), '07,12,16,02': (4.4, 4.0, 0.3, 0), '07,12,16,03': (4.4, 4.8, 1.5, 0), '07,12,16,04': (4.4, 9.7, 0.0, 0), '07,12,16,06': (4.4, 16.1, None, 0), '07,12,16,07': (4.4, 12.9, None, 0), '08,19,16,19': (27.2, 12.9, None, 0), '08,19,16,18': (27.8, 12.9, None, 0), '08,19,16,15': (29.4, 12.9, None, 0), '08,19,16,14': (30.6, 12.9, None, 0), '08,19,16,17': (29.4, 12.9, None, 0), '08,19,16,16': (30.0, 12.9, None, 0), '08,19,16,11': (28.3, 12.9, None, 0), '08,19,16,10': (27.2, 12.9, None, 0), '08,19,16,13': (30.6, 12.9, None, 0), '08,19,16,12': (28.9, 12.9, None, 0), '03,29,16,19': (8.9, 16.1, None, 0), '03,29,16,18': (9.4, 16.1, None, 0), '08,20,16,08': (25.6, 9.7, None, 0), '08,20,16,09': (26.7, 11.3, None, 0), '10,04,16,21': (8.3, 16.1, None, 0), '12,02,16,06': (-8.9, 16.1, None, 0), '10,04,16,20': (8.3, 16.1, None, 0), '12,27,16,07': (13.9, 16.1, None, 0), '08,27,16,18': (27.2, 14.5, None, 0), '08,27,16,19': (25.6, 16.1, None, 0), '03,25,16,08': (16.1, 16.1, None, 0), '03,25,16,09': (17.8, 16.1, None, 0), '03,25,16,06': (11.1, 9.7, None, 0), '03,25,16,07': (11.7, 8.0, 0.0, 0), '03,25,16,04': (10.0, 9.7, None, 0), '03,25,16,05': (10.6, 11.3, None, 0), '03,25,16,02': (8.3, 6.4, None, 0), '03,25,16,03': (10.0, 9.7, None, 0), '03,25,16,00': (7.8, 6.4, None, 0), '03,25,16,01': (8.3, 6.4, None, 0), '01,21,16,22': (-2.8, 16.1, None, 0), '01,21,16,23': (-3.3, 16.1, None, 0), '01,21,16,20': (-1.7, 16.1, None, 0), '12,29,16,13': (7.2, 4.0, 0.0, 0), '12,29,16,12': (6.7, 4.0, 2.0, 0), '12,29,16,11': (6.1, 4.0, 1.5, 0), '01,21,16,21': (-2.2, 16.1, None, 0), '12,29,16,17': (5.0, 16.1, None, 0), '12,29,16,16': (5.6, 16.1, 0.3, 0), '12,29,16,15': (6.1, 12.9, 1.0, 0), '12,29,16,14': (7.8, 3.2, 0.5, 0), '12,29,16,19': (4.4, 16.1, None, 0), '12,29,16,18': (4.4, 16.1, None, 0), '02,22,16,15': (11.1, 16.1, None, 0), '02,22,16,14': (10.6, 16.1, None, 0), '05,25,16,22': (25.6, 14.5, None, 0), '05,25,16,23': (25.0, 14.5, None, 0), '05,25,16,20': (26.7, 14.5, None, 0), '05,25,16,21': (26.7, 14.5, None, 0), '02,22,16,17': (9.4, 16.1, None, 0), '02,22,16,16': (10.6, 16.1, None, 0), '02,22,16,11': (8.3, 16.1, None, 0), '10,29,16,09': (8.9, 16.1, None, 0), '02,22,16,10': (6.7, 16.1, None, 0), '02,22,16,13': (10.6, 16.1, None, 0), '10,13,16,18': (16.7, 14.5, None, 0), '10,13,16,19': (16.1, 14.5, None, 0), '10,13,16,16': (16.7, 11.3, None, 0), '10,13,16,17': (17.2, 12.9, None, 0), '10,13,16,14': (16.7, 12.9, 0.0, 0), '02,09,16,17': (25.6, 16.1, None, 0), '10,13,16,12': (19.4, 14.5, None, 0), '10,13,16,13': (19.4, 16.1, None, 0), '10,13,16,10': (17.8, 11.3, None, 0), '10,13,16,11': (18.9, 12.9, None, 0), '08,31,16,22': (26.1, 16.1, None, 0), '03,03,16,20': (1.1, 16.1, None, 0), '08,31,16,20': (26.7, 16.1, None, 0), '08,31,16,21': (26.1, 16.1, None, 0), '03,03,16,21': (1.1, 16.1, None, 0), '12,02,16,01': (-7.8, 16.1, None, 0), '01,14,16,04': (-5.0, 16.1, None, 0), '01,14,16,05': (-4.4, 16.1, None, 0), '01,14,16,06': (-4.4, 16.1, None, 0), '03,16,16,18': (11.7, 4.8, 0.5, 0), '01,14,16,00': (-5.0, 16.1, None, 0), '01,14,16,01': (-5.6, 16.1, None, 0), '01,14,16,02': (-5.0, 16.1, None, 0), '01,14,16,03': (-5.0, 16.1, None, 0), '03,16,16,13': (17.8, 12.9, None, 0), '03,16,16,12': (15.6, 14.5, None, 0), '03,16,16,11': (15.0, 16.1, None, 0), '03,16,16,10': (14.4, 16.1, None, 0), '03,16,16,17': (13.3, 16.1, None, 0), '03,16,16,16': (15.0, 16.1, None, 0), '03,16,16,15': (16.7, 16.1, None, 0), '03,16,16,14': (17.0, 16.1, None, 0), '11,26,16,08': (7.8, 12.9, None, 0), '11,26,16,09': (7.8, 12.9, None, 0), '11,26,16,06': (7.2, 9.7, None, 0), '11,26,16,07': (6.7, 8.0, None, 0), '11,26,16,04': (7.8, 12.9, None, 0), '11,26,16,05': (7.8, 12.9, None, 0), '11,26,16,02': (8.9, 11.3, None, 0), '11,26,16,03': (8.9, 12.9, None, 0), '11,26,16,00': (9.4, 11.3, None, 0), '11,26,16,01': (9.4, 11.3, None, 0), '02,03,16,09': (6.1, 16.1, None, 0), '02,03,16,08': (6.7, 16.1, None, 0), '02,03,16,01': (11.1, 14.5, 0.3, 0), '02,03,16,00': (11.1, 12.9, None, 0), '02,03,16,03': (11.7, 12.9, 1.8, 0), '02,03,16,02': (10.6, 6.4, 0.0, 0), '02,03,16,05': (10.0, 8.0, 0.5, 0), '02,03,16,04': (12.2, 16.1, 0.5, 0), '02,03,16,07': (8.3, 16.1, None, 0), '02,03,16,06': (10.6, 16.1, 0.5, 0), '11,02,16,08': (-5.0, 16.1, None, 0), '11,02,16,09': (-4.4, 16.1, None, 0), '11,02,16,04': (-3.9, 16.1, None, 0), '11,02,16,05': (-4.4, 16.1, None, 0), '11,02,16,06': (-5.0, 16.1, None, 0), '11,02,16,07': (-5.0, 16.1, None, 0), '11,02,16,00': (-1.1, 16.1, None, 0), '11,02,16,01': (-2.2, 9.7, 0.0, 0), '11,02,16,02': (-3.3, 8.0, 0.0, 0), '11,02,16,03': (-3.3, 16.1, 0.0, 0), '06,12,16,20': (4.4, 8.0, 2.5, 0), '06,12,16,23': (4.4, 12.9, None, 0), '06,12,16,22': (4.4, 12.9, 1.0, 0), '06,15,16,22': (24.4, 16.1, None, 0), '06,06,16,16': (27.8, 14.5, None, 0), '06,15,16,20': (24.4, 16.1, None, 0), '06,15,16,21': (23.9, 16.1, None, 0), '06,06,16,13': (27.2, 14.5, None, 0), '06,06,16,12': (26.7, 14.5, None, 0), '06,06,16,11': (25.6, 14.5, None, 0), '06,06,16,10': (23.9, 14.5, None, 0), '02,05,16,14': (13.3, 12.9, None, 0), '02,05,16,15': (13.9, 9.7, None, 0), '02,05,16,16': (14.4, 8.0, None, 0), '02,05,16,17': (15.0, 9.7, None, 0), '02,05,16,10': (11.1, 6.4, None, 0), '02,05,16,11': (11.1, 9.7, None, 0), '02,05,16,12': (11.7, 11.3, None, 0), '02,05,16,13': (12.8, 9.7, None, 0), '02,05,16,18': (15.0, 9.7, None, 0), '02,05,16,19': (14.4, 9.7, None, 0), '06,24,16,19': (22.8, 14.5, None, 0), '06,24,16,18': (24.4, 14.5, None, 0), '06,24,16,13': (28.3, 16.1, None, 0), '06,24,16,12': (27.8, 16.1, None, 0), '06,24,16,11': (26.1, 16.1, None, 0), '06,24,16,10': (24.4, 16.1, None, 0), '06,24,16,17': (25.0, 14.5, None, 0), '06,24,16,16': (26.7, 14.5, None, 0), '06,24,16,15': (27.8, 14.5, None, 0), '06,24,16,14': (28.3, 16.1, None, 0), '04,26,16,22': (8.9, 14.5, None, 0), '04,26,16,23': (8.3, 16.1, None, 0), '04,26,16,20': (8.3, 11.3, None, 0), '04,26,16,21': (8.3, 14.5, None, 0), '01,01,16,20': (2.2, 16.1, None, 0), '01,01,16,21': (1.7, 16.1, None, 0), '01,01,16,22': (1.7, 16.1, None, 0), '01,01,16,23': (1.7, 16.1, None, 0), '12,14,16,05': (2.8, 14.5, None, 0), '12,14,16,06': (2.2, 14.5, None, 0), '12,14,16,07': (2.2, 12.9, None, 0), '07,15,16,09': (29.4, 14.5, None, 0), '07,15,16,08': (28.3, 12.9, None, 0), '07,15,16,03': (26.7, 14.5, None, 0), '07,15,16,02': (27.2, 12.9, None, 0), '07,15,16,01': (27.2, 14.5, None, 0), '07,15,16,00': (27.8, 14.5, None, 0), '07,15,16,07': (26.7, 12.9, None, 0), '07,15,16,06': (26.7, 11.3, None, 0), '07,15,16,05': (26.1, 11.3, None, 0), '07,15,16,04': (26.1, 14.5, None, 0), '04,27,16,01': (8.3, 16.1, None, 0), '05,04,16,21': (2.8, 16.1, None, 0), '04,27,16,03': (7.8, 16.1, None, 0), '04,27,16,02': (7.8, 16.1, None, 0), '04,27,16,05': (8.3, 16.1, None, 0), '04,27,16,04': (8.3, 16.1, None, 0), '04,27,16,07': (9.4, 16.1, None, 0), '02,16,16,11': (11.7, 6.4, 0.3, 0), '04,27,16,09': (10.6, 16.1, None, 0), '04,27,16,08': (10.0, 16.1, None, 0), '05,04,16,23': (0.6, 16.1, None, 0), '05,04,16,22': (2.2, 16.1, None, 0), '10,16,16,17': (19.4, 14.5, None, 0), '10,16,16,16': (20.0, 14.5, None, 0), '10,16,16,15': (20.6, 14.5, None, 0), '10,16,16,14': (20.6, 14.5, None, 0), '07,30,16,08': (25.6, 6.4, None, 0), '07,30,16,09': (26.1, 9.7, None, 0), '07,30,16,04': (23.9, 14.5, None, 0), '07,30,16,05': (23.3, 12.9, None, 0), '07,30,16,06': (23.9, 9.7, None, 0), '07,30,16,07': (25.6, 9.7, None, 0), '07,30,16,00': (25.0, 12.9, None, 0), '07,30,16,01': (25.0, 12.9, None, 0), '07,30,16,02': (24.4, 11.3, None, 0), '07,30,16,03': (23.9, 12.9, None, 0), '11,23,16,21': (5.0, 16.1, None, 0), '11,23,16,20': (5.0, 16.1, None, 0), '11,23,16,23': (4.4, 16.1, None, 0), '11,23,16,22': (5.0, 16.1, None, 0), '04,05,16,10': (10.6, 16.1, None, 0), '10,04,16,23': (6.7, 16.1, None, 0), '10,04,16,22': (7.8, 16.1, None, 0), '07,09,16,19': (25.6, 16.1, None, 0), '07,09,16,18': (26.1, 14.5, None, 0), '07,09,16,17': (27.8, 16.1, None, 0), '07,09,16,16': (28.3, 16.1, None, 0), '07,09,16,15': (28.3, 16.1, None, 0), '07,09,16,14': (28.3, 16.1, None, 0), '07,09,16,13': (27.8, 16.1, None, 0), '07,09,16,12': (27.8, 16.1, None, 0), '07,09,16,11': (27.2, 14.5, None, 0), '07,09,16,10': (25.0, 14.5, None, 0), '03,16,16,19': (11.7, 16.1, 0.0, 0), '09,05,16,11': (21.1, 16.1, None, 0), '12,15,16,23': (-7.2, 16.1, None, 0), '12,15,16,22': (-7.2, 16.1, None, 0), '12,15,16,21': (-7.2, 16.1, None, 0), '12,15,16,20': (-6.7, 16.1, None, 0)}\n"
     ]
    }
   ],
   "source": [
    "print(weather_dict2)"
   ]
  },
  {
   "cell_type": "code",
   "execution_count": 10,
   "metadata": {},
   "outputs": [
    {
     "data": {
      "text/plain": [
       "[((u'01', u'01', u'2016', u'0'), 10),\n",
       " ((u'01', u'01', u'2016', u'1'), 23),\n",
       " ((u'01', u'01', u'2016', u'10'), 12)]"
      ]
     },
     "execution_count": 10,
     "metadata": {},
     "output_type": "execute_result"
    }
   ],
   "source": [
    "weather2 = weather.map(lambda x: (x[0][0],x[1])).reduceByKey(lambda v1,v2:v1+v2).sortByKey()\n",
    "weather2.take(3)"
   ]
  },
  {
   "cell_type": "code",
   "execution_count": 44,
   "metadata": {},
   "outputs": [
    {
     "data": {
      "text/plain": [
       "[((u'01', u'01', u'2016', u'0'), (10, 4)),\n",
       " ((u'01', u'01', u'2016', u'1'), (23, 9)),\n",
       " ((u'01', u'01', u'2016', u'10'), (12, 1))]"
      ]
     },
     "execution_count": 44,
     "metadata": {},
     "output_type": "execute_result"
    }
   ],
   "source": [
    "weather_injure = weather.filter(lambda x:x[0][1]!=None).map(lambda x:(x[0][0],(x[1],x[1]*int(x[0][1]))))\n",
    "weather_injure.reduceByKey(lambda v1,v2:(v1[0]+v2[0],v1[1]+v2[1])).sortByKey().take(3)"
   ]
  },
  {
   "cell_type": "code",
   "execution_count": 45,
   "metadata": {},
   "outputs": [],
   "source": [
    "def combine3(x):\n",
    "    res = []\n",
    "    if len(x[0][3])==2:\n",
    "        res = str(x[0][0])+','+str(x[0][1])+','+str(x[0][2][2:4])+','+str(x[0][3])\n",
    "    else:\n",
    "        res = str(x[0][0])+','+str(x[0][1])+','+str(x[0][2][2:4])+','+'0'+str(x[0][3])\n",
    "    if res in weather_dict2.keys():\n",
    "        return (x[1],weather_dict2[res])\n",
    "    "
   ]
  },
  {
   "cell_type": "code",
   "execution_count": 12,
   "metadata": {},
   "outputs": [
    {
     "data": {
      "text/plain": [
       "[(10, (5.6, 16.1, None, 0)),\n",
       " (23, (5.0, 16.1, None, 0)),\n",
       " (12, (4.4, 16.1, None, 0))]"
      ]
     },
     "execution_count": 12,
     "metadata": {},
     "output_type": "execute_result"
    }
   ],
   "source": [
    "weather_combine = weather2.map(lambda x: combine3(x))\n",
    "weather_combine.take(3)"
   ]
  },
  {
   "cell_type": "code",
   "execution_count": 49,
   "metadata": {
    "collapsed": true
   },
   "outputs": [
    {
     "data": {
      "text/plain": [
       "[((7, 0), (5.6, 16.1, 0, 0)),\n",
       " ((2, 2), (5.6, 16.1, 0, 0)),\n",
       " ((1, 2), (5.6, 16.1, 0, 0)),\n",
       " ((18, 0), (5.0, 16.1, 0, 0)),\n",
       " ((3, 3), (5.0, 16.1, 0, 0)),\n",
       " ((1, 2), (5.0, 16.1, 0, 0)),\n",
       " ((1, 4), (5.0, 16.1, 0, 0)),\n",
       " ((11, 0), (4.4, 16.1, 0, 0)),\n",
       " ((1, 1), (4.4, 16.1, 0, 0)),\n",
       " ((7, 0), (4.4, 16.1, 0, 0)),\n",
       " ((1, 1), (4.4, 16.1, 0, 0)),\n",
       " ((1, 2), (4.4, 16.1, 0, 0)),\n",
       " ((14, 0), (4.4, 16.1, 0, 0)),\n",
       " ((1, 2), (4.4, 16.1, 0, 0)),\n",
       " ((9, 0), (4.4, 16.1, 0, 0)),\n",
       " ((1, 1), (4.4, 16.1, 0, 0)),\n",
       " ((1, 2), (4.4, 16.1, 0, 0)),\n",
       " ((1, 4), (4.4, 16.1, 0, 0)),\n",
       " ((24, 0), (3.9, 16.1, 0, 0)),\n",
       " ((1, 1), (3.9, 16.1, 0, 0)),\n",
       " ((2, 4), (3.9, 16.1, 0, 0)),\n",
       " ((18, 0), (3.9, 16.1, 0, 0)),\n",
       " ((2, 2), (3.9, 16.1, 0, 0)),\n",
       " ((22, 0), (3.3, 16.1, 0, 0)),\n",
       " ((1, 1), (3.3, 16.1, 0, 0)),\n",
       " ((12, 0), (3.3, 16.1, 0, 0)),\n",
       " ((1, 1), (3.3, 16.1, 0, 0)),\n",
       " ((1, 2), (3.3, 16.1, 0, 0)),\n",
       " ((11, 0), (2.8, 16.1, 0, 0)),\n",
       " ((2, 2), (2.8, 16.1, 0, 0)),\n",
       " ((1, 6), (2.8, 16.1, 0, 0)),\n",
       " ((10, 0), (2.8, 16.1, 0, 0)),\n",
       " ((4, 4), (2.8, 16.1, 0, 0)),\n",
       " ((20, 0), (5.0, 16.1, 0, 0)),\n",
       " ((4, 4), (5.0, 16.1, 0, 0)),\n",
       " ((2, 4), (5.0, 16.1, 0, 0)),\n",
       " ((1, 3), (5.0, 16.1, 0, 0)),\n",
       " ((1, 4), (5.0, 16.1, 0, 0)),\n",
       " ((16, 0), (2.2, 16.1, 0, 0)),\n",
       " ((3, 3), (2.2, 16.1, 0, 0)),\n",
       " ((7, 0), (1.7, 16.1, 0, 0)),\n",
       " ((3, 3), (1.7, 16.1, 0, 0)),\n",
       " ((1, 2), (1.7, 16.1, 0, 0)),\n",
       " ((1, 3), (1.7, 16.1, 0, 0)),\n",
       " ((12, 0), (1.7, 16.1, 0, 0)),\n",
       " ((1, 2), (1.7, 16.1, 0, 0)),\n",
       " ((8, 0), (1.7, 16.1, 0, 0)),\n",
       " ((1, 1), (1.7, 16.1, 0, 0)),\n",
       " ((18, 0), (5.0, 16.1, 0, 0)),\n",
       " ((4, 4), (5.0, 16.1, 0, 0))]"
      ]
     },
     "execution_count": 49,
     "metadata": {},
     "output_type": "execute_result"
    }
   ],
   "source": [
    "weather_ave = weather_injure.map(lambda x: combine3(x))\n",
    "weather_ave_clean = weather_ave.map(lambda x:clean(x)).filter(lambda x: x!=None and x[1][1]!=None)\n",
    "weather_ave_clean.take(50)"
   ]
  },
  {
   "cell_type": "code",
   "execution_count": 50,
   "metadata": {
    "collapsed": true
   },
   "outputs": [
    {
     "data": {
      "text/plain": [
       "[(16.1, (0, 7)),\n",
       " (16.1, (2, 2)),\n",
       " (16.1, (2, 1)),\n",
       " (16.1, (0, 18)),\n",
       " (16.1, (3, 3)),\n",
       " (16.1, (2, 1)),\n",
       " (16.1, (4, 1)),\n",
       " (16.1, (0, 11)),\n",
       " (16.1, (1, 1)),\n",
       " (16.1, (0, 7)),\n",
       " (16.1, (1, 1)),\n",
       " (16.1, (2, 1)),\n",
       " (16.1, (0, 14)),\n",
       " (16.1, (2, 1)),\n",
       " (16.1, (0, 9)),\n",
       " (16.1, (1, 1)),\n",
       " (16.1, (2, 1)),\n",
       " (16.1, (4, 1)),\n",
       " (16.1, (0, 24)),\n",
       " (16.1, (1, 1))]"
      ]
     },
     "execution_count": 50,
     "metadata": {},
     "output_type": "execute_result"
    }
   ],
   "source": [
    "visibility = weather_ave_clean.map(lambda x:(x[1][1],(x[0][1],x[0][0])))\n",
    "visib = visibility.reduceByKey(lambda v1,v2:(v1[0]+v2[0],v1[1]+v2[1])).sortByKey()\n",
    "visibility.take(20)"
   ]
  },
  {
   "cell_type": "code",
   "execution_count": 348,
   "metadata": {
    "collapsed": true
   },
   "outputs": [
    {
     "data": {
      "text/plain": [
       "[(0, (54358, 207329, 21919)),\n",
       " (0.3, (1031, 4048, 405)),\n",
       " (0.5, (682, 2682, 252)),\n",
       " (0.8, (350, 1295, 121)),\n",
       " (1.0, (372, 1067, 118))]"
      ]
     },
     "execution_count": 348,
     "metadata": {},
     "output_type": "execute_result"
    }
   ],
   "source": [
    "prec = weather_ave_clean.map(lambda x:(x[1][2],(x[0][1],x[0][0],1)))\n",
    "prec2 = prec.reduceByKey(lambda v1,v2:(v1[0]+v2[0],v1[1]+v2[1],v1[2]+v2[2])).sortByKey()\n",
    "prec2.take(5)"
   ]
  },
  {
   "cell_type": "code",
   "execution_count": 88,
   "metadata": {
    "collapsed": true
   },
   "outputs": [
    {
     "data": {
      "text/plain": [
       "[(16.1, 0.0),\n",
       " (16.1, 1.0),\n",
       " (16.1, 2.0),\n",
       " (16.1, 0.0),\n",
       " (16.1, 1.0),\n",
       " (16.1, 2.0),\n",
       " (16.1, 4.0),\n",
       " (16.1, 0.0),\n",
       " (16.1, 1.0),\n",
       " (16.1, 0.0),\n",
       " (16.1, 1.0),\n",
       " (16.1, 2.0),\n",
       " (16.1, 0.0),\n",
       " (16.1, 2.0),\n",
       " (16.1, 0.0),\n",
       " (16.1, 1.0),\n",
       " (16.1, 2.0),\n",
       " (16.1, 4.0),\n",
       " (16.1, 0.0),\n",
       " (16.1, 1.0),\n",
       " (16.1, 2.0),\n",
       " (16.1, 0.0),\n",
       " (16.1, 1.0),\n",
       " (16.1, 0.0),\n",
       " (16.1, 1.0),\n",
       " (16.1, 0.0),\n",
       " (16.1, 1.0),\n",
       " (16.1, 2.0),\n",
       " (16.1, 0.0),\n",
       " (16.1, 1.0),\n",
       " (16.1, 6.0),\n",
       " (16.1, 0.0),\n",
       " (16.1, 1.0),\n",
       " (16.1, 0.0),\n",
       " (16.1, 1.0),\n",
       " (16.1, 2.0),\n",
       " (16.1, 3.0),\n",
       " (16.1, 4.0),\n",
       " (16.1, 0.0),\n",
       " (16.1, 1.0),\n",
       " (16.1, 0.0),\n",
       " (16.1, 1.0),\n",
       " (16.1, 2.0),\n",
       " (16.1, 3.0),\n",
       " (16.1, 0.0),\n",
       " (16.1, 2.0),\n",
       " (16.1, 0.0),\n",
       " (16.1, 1.0),\n",
       " (16.1, 0.0),\n",
       " (16.1, 1.0)]"
      ]
     },
     "execution_count": 88,
     "metadata": {},
     "output_type": "execute_result"
    }
   ],
   "source": [
    "visibility2 = weather_ave_clean.map(lambda x:(x[1][1],x[0][1]/float(x[0][0])))\n",
    "visibility2.take(50)"
   ]
  },
  {
   "cell_type": "code",
   "execution_count": 47,
   "metadata": {},
   "outputs": [],
   "source": [
    "def clean(x):\n",
    "    if x!=None:\n",
    "        if x[1][2]==None:\n",
    "            return (x[0],(x[1][0], x[1][1], 0,x[1][3]))\n",
    "        else: \n",
    "            return x"
   ]
  },
  {
   "cell_type": "code",
   "execution_count": 14,
   "metadata": {
    "collapsed": true
   },
   "outputs": [
    {
     "data": {
      "text/plain": [
       "[(10, (5.6, 16.1, 0, 0)),\n",
       " (23, (5.0, 16.1, 0, 0)),\n",
       " (12, (4.4, 16.1, 0, 0)),\n",
       " (9, (4.4, 16.1, 0, 0)),\n",
       " (15, (4.4, 16.1, 0, 0)),\n",
       " (12, (4.4, 16.1, 0, 0)),\n",
       " (27, (3.9, 16.1, 0, 0)),\n",
       " (20, (3.9, 16.1, 0, 0)),\n",
       " (23, (3.3, 16.1, 0, 0)),\n",
       " (14, (3.3, 16.1, 0, 0)),\n",
       " (14, (2.8, 16.1, 0, 0)),\n",
       " (14, (2.8, 16.1, 0, 0)),\n",
       " (28, (5.0, 16.1, 0, 0)),\n",
       " (19, (2.2, 16.1, 0, 0)),\n",
       " (12, (1.7, 16.1, 0, 0)),\n",
       " (13, (1.7, 16.1, 0, 0)),\n",
       " (9, (1.7, 16.1, 0, 0)),\n",
       " (24, (5.0, 16.1, 0, 0)),\n",
       " (19, (4.4, 16.1, 0, 0)),\n",
       " (20, (4.4, 16.1, 0, 0))]"
      ]
     },
     "execution_count": 14,
     "metadata": {},
     "output_type": "execute_result"
    }
   ],
   "source": [
    "weather_combine_clean = weather_combine.map(lambda x: clean(x)).filter(lambda x: x!=None)\n",
    "weather_combine_clean.take(20)"
   ]
  },
  {
   "cell_type": "code",
   "execution_count": 48,
   "metadata": {},
   "outputs": [],
   "source": [
    "def change(x):\n",
    "    if x[1]==1:\n",
    "        return (x[0],'fog')\n",
    "    else:\n",
    "        return (x[0],'no fog')"
   ]
  },
  {
   "cell_type": "code",
   "execution_count": 120,
   "metadata": {
    "collapsed": true
   },
   "outputs": [
    {
     "data": {
      "text/html": [
       "<div>\n",
       "<style scoped>\n",
       "    .dataframe tbody tr th:only-of-type {\n",
       "        vertical-align: middle;\n",
       "    }\n",
       "\n",
       "    .dataframe tbody tr th {\n",
       "        vertical-align: top;\n",
       "    }\n",
       "\n",
       "    .dataframe thead th {\n",
       "        text-align: right;\n",
       "    }\n",
       "</style>\n",
       "<table border=\"1\" class=\"dataframe\">\n",
       "  <thead>\n",
       "    <tr style=\"text-align: right;\">\n",
       "      <th></th>\n",
       "      <th>_1</th>\n",
       "      <th>_2</th>\n",
       "    </tr>\n",
       "  </thead>\n",
       "  <tbody>\n",
       "    <tr>\n",
       "      <th>0</th>\n",
       "      <td>10</td>\n",
       "      <td>no fog</td>\n",
       "    </tr>\n",
       "    <tr>\n",
       "      <th>1</th>\n",
       "      <td>23</td>\n",
       "      <td>no fog</td>\n",
       "    </tr>\n",
       "    <tr>\n",
       "      <th>2</th>\n",
       "      <td>12</td>\n",
       "      <td>no fog</td>\n",
       "    </tr>\n",
       "    <tr>\n",
       "      <th>3</th>\n",
       "      <td>9</td>\n",
       "      <td>no fog</td>\n",
       "    </tr>\n",
       "    <tr>\n",
       "      <th>4</th>\n",
       "      <td>15</td>\n",
       "      <td>no fog</td>\n",
       "    </tr>\n",
       "  </tbody>\n",
       "</table>\n",
       "</div>"
      ],
      "text/plain": [
       "   _1      _2\n",
       "0  10  no fog\n",
       "1  23  no fog\n",
       "2  12  no fog\n",
       "3   9  no fog\n",
       "4  15  no fog"
      ]
     },
     "execution_count": 120,
     "metadata": {},
     "output_type": "execute_result"
    }
   ],
   "source": [
    "#weather_combine_clean.filter(lambda x: x==None).count()\n",
    "dataset1 = weather_combine_clean.map(lambda x: (x[0],x[1][3])).map(lambda x: change(x)).toDF().toPandas()\n",
    "dataset1.head(5)"
   ]
  },
  {
   "cell_type": "code",
   "execution_count": 130,
   "metadata": {},
   "outputs": [
    {
     "data": {
      "text/plain": [
       "<matplotlib.axes._subplots.AxesSubplot at 0x7f6363427290>"
      ]
     },
     "execution_count": 130,
     "metadata": {},
     "output_type": "execute_result"
    },
    {
     "data": {
      "image/png": "[encoded data removed]",
      "text/plain": [
       "<matplotlib.figure.Figure at 0x7f63633f6710>"
      ]
     },
     "metadata": {},
     "output_type": "display_data"
    }
   ],
   "source": [
    "import seaborn as sns\n",
    "dataset1=dataset1.rename(columns={\"_1\":\"accident numbers\",\"_2\":\"weather\"})\n",
    "sns.boxplot(x='weather',y='accident numbers',data=dataset1)\n"
   ]
  },
  {
   "cell_type": "code",
   "execution_count": 113,
   "metadata": {},
   "outputs": [],
   "source": [
    "fog = weather_combine_clean.filter(lambda x: x[1][3]==1).map(lambda x: x[0]).collect()\n"
   ]
  },
  {
   "cell_type": "code",
   "execution_count": 21,
   "metadata": {},
   "outputs": [],
   "source": [
    "dataset3 = weather_combine_clean.map(lambda x: (x[0],x[1][2])).collect()"
   ]
  },
  {
   "cell_type": "code",
   "execution_count": 39,
   "metadata": {},
   "outputs": [],
   "source": [
    "dataset4 = weather_combine_clean.map(lambda x: (x[0],x[1][0])).collect()"
   ]
  },
  {
   "cell_type": "code",
   "execution_count": 45,
   "metadata": {},
   "outputs": [],
   "source": [
    "dataset5 = weather_combine_clean.map(lambda x: (x[0],x[1][1])).collect()"
   ]
  },
  {
   "cell_type": "code",
   "execution_count": 51,
   "metadata": {
    "collapsed": true
   },
   "outputs": [
    {
     "data": {
      "text/plain": [
       "[(0.4, (54, 374)),\n",
       " (0.8, (93, 358)),\n",
       " (1.2, (90, 509)),\n",
       " (1.6, (142, 596)),\n",
       " (2.0, (227, 810)),\n",
       " (2.4, (192, 813)),\n",
       " (2.8, (256, 946)),\n",
       " (3.2, (302, 1058)),\n",
       " (4.0, (312, 1112)),\n",
       " (4.8, (634, 2314)),\n",
       " (6.4, (1060, 3880)),\n",
       " (8.0, (1226, 4664)),\n",
       " (9.7, (1486, 5602)),\n",
       " (11.3, (2584, 9748)),\n",
       " (12.9, (4990, 19428)),\n",
       " (14.5, (7011, 26784)),\n",
       " (16.1, (37672, 143215))]"
      ]
     },
     "execution_count": 51,
     "metadata": {},
     "output_type": "execute_result"
    }
   ],
   "source": [
    "dataset6 = visib.collect()\n",
    "dataset6"
   ]
  },
  {
   "cell_type": "code",
   "execution_count": 349,
   "metadata": {},
   "outputs": [],
   "source": [
    "dataset8 = prec2.collect()"
   ]
  },
  {
   "cell_type": "code",
   "execution_count": 350,
   "metadata": {
    "collapsed": true
   },
   "outputs": [
    {
     "data": {
      "text/plain": [
       "[(0, (54358, 207329, 21919)),\n",
       " (0.3, (1031, 4048, 405)),\n",
       " (0.5, (682, 2682, 252)),\n",
       " (0.8, (350, 1295, 121)),\n",
       " (1.0, (372, 1067, 118)),\n",
       " (1.3, (191, 764, 78)),\n",
       " (1.5, (138, 457, 49)),\n",
       " (1.8, (130, 564, 61)),\n",
       " (2.0, (177, 553, 51)),\n",
       " (2.3, (97, 307, 40)),\n",
       " (2.5, (84, 299, 26)),\n",
       " (2.8, (70, 272, 32)),\n",
       " (3.0, (41, 171, 18)),\n",
       " (3.3, (36, 190, 16)),\n",
       " (3.6, (47, 160, 21)),\n",
       " (3.8, (48, 214, 20)),\n",
       " (4.1, (10, 61, 8)),\n",
       " (4.3, (1, 17, 2)),\n",
       " (4.6, (28, 136, 11)),\n",
       " (4.8, (27, 105, 9)),\n",
       " (5.1, (74, 200, 22)),\n",
       " (5.3, (36, 87, 9)),\n",
       " (5.6, (1, 16, 2)),\n",
       " (6.1, (14, 47, 7)),\n",
       " (6.3, (9, 44, 3)),\n",
       " (6.6, (38, 165, 9)),\n",
       " (7.1, (10, 33, 3)),\n",
       " (7.4, (21, 101, 7)),\n",
       " (7.6, (9, 42, 3)),\n",
       " (7.9, (12, 40, 3)),\n",
       " (8.1, (36, 155, 11)),\n",
       " (8.4, (37, 143, 9)),\n",
       " (8.6, (22, 61, 3)),\n",
       " (8.9, (35, 126, 8)),\n",
       " (9.9, (6, 39, 3)),\n",
       " (10.2, (15, 68, 6)),\n",
       " (11.2, (0, 23, 1)),\n",
       " (11.4, (7, 12, 3)),\n",
       " (11.7, (10, 22, 4)),\n",
       " (11.9, (3, 12, 2)),\n",
       " (12.7, (7, 12, 3)),\n",
       " (15.7, (11, 72, 5))]"
      ]
     },
     "execution_count": 350,
     "metadata": {},
     "output_type": "execute_result"
    }
   ],
   "source": [
    "dataset8"
   ]
  },
  {
   "cell_type": "code",
   "execution_count": 99,
   "metadata": {},
   "outputs": [],
   "source": [
    "dataset7 = visibility.collect()"
   ]
  },
  {
   "cell_type": "code",
   "execution_count": 52,
   "metadata": {},
   "outputs": [
    {
     "data": {
      "text/plain": [
       "[<matplotlib.lines.Line2D at 0x7f278dc027d0>]"
      ]
     },
     "execution_count": 52,
     "metadata": {},
     "output_type": "execute_result"
    },
    {
     "data": {
      "image/png": "[encoded data removed]",
      "text/plain": [
       "<matplotlib.figure.Figure at 0x7f27928ac4d0>"
      ]
     },
     "metadata": {},
     "output_type": "display_data"
    }
   ],
   "source": [
    "x2 = []\n",
    "y2 = []\n",
    "vis = []\n",
    "for i in dataset6:\n",
    "    #vis.append([i[0],float(i[1][0])/i[1][1]])\n",
    "    x2.append(i[0])\n",
    "    y2.append(float(i[1][0])/i[1][1])\n",
    "plt.plot(x2,y2)"
   ]
  },
  {
   "cell_type": "code",
   "execution_count": 66,
   "metadata": {},
   "outputs": [],
   "source": [
    "dataset6_df = pd.DataFrame(list(zip(x2,y2)),columns=['visibility','average injuered people'])"
   ]
  },
  {
   "cell_type": "code",
   "execution_count": 70,
   "metadata": {},
   "outputs": [
    {
     "data": {
      "text/html": [
       "<div>\n",
       "<style scoped>\n",
       "    .dataframe tbody tr th:only-of-type {\n",
       "        vertical-align: middle;\n",
       "    }\n",
       "\n",
       "    .dataframe tbody tr th {\n",
       "        vertical-align: top;\n",
       "    }\n",
       "\n",
       "    .dataframe thead th {\n",
       "        text-align: right;\n",
       "    }\n",
       "</style>\n",
       "<table border=\"1\" class=\"dataframe\">\n",
       "  <thead>\n",
       "    <tr style=\"text-align: right;\">\n",
       "      <th></th>\n",
       "      <th>visibility</th>\n",
       "      <th>average injuered people</th>\n",
       "    </tr>\n",
       "  </thead>\n",
       "  <tbody>\n",
       "    <tr>\n",
       "      <th>visibility</th>\n",
       "      <td>1.000000</td>\n",
       "      <td>0.286765</td>\n",
       "    </tr>\n",
       "    <tr>\n",
       "      <th>average injuered people</th>\n",
       "      <td>0.286765</td>\n",
       "      <td>1.000000</td>\n",
       "    </tr>\n",
       "  </tbody>\n",
       "</table>\n",
       "</div>"
      ],
      "text/plain": [
       "                         visibility  average injuered people\n",
       "visibility                 1.000000                 0.286765\n",
       "average injuered people    0.286765                 1.000000"
      ]
     },
     "execution_count": 70,
     "metadata": {},
     "output_type": "execute_result"
    }
   ],
   "source": [
    "dataset6_df.corr(method ='spearman') "
   ]
  },
  {
   "cell_type": "code",
   "execution_count": 84,
   "metadata": {},
   "outputs": [
    {
     "data": {
      "text/plain": [
       "[<matplotlib.lines.Line2D at 0x7f2792caadd0>]"
      ]
     },
     "execution_count": 84,
     "metadata": {},
     "output_type": "execute_result"
    },
    {
     "data": {
      "image/png": "[encoded data removed]",
      "text/plain": [
       "<matplotlib.figure.Figure at 0x7f279312be50>"
      ]
     },
     "metadata": {},
     "output_type": "display_data"
    }
   ],
   "source": []
  },
  {
   "cell_type": "code",
   "execution_count": 82,
   "metadata": {},
   "outputs": [
    {
     "data": {
      "text/plain": [
       "[0.37998029782867415,\n",
       " 0.5096827800827188,\n",
       " 0.4204964789407537,\n",
       " 0.48811375063303325,\n",
       " 0.529383522203182,\n",
       " 0.4859653913846296,\n",
       " 0.5202048710098841,\n",
       " 0.5342698142367177,\n",
       " 0.5296938168115098,\n",
       " 0.5234352324058521,\n",
       " 0.5226814290642626,\n",
       " 0.5127031246214221,\n",
       " 0.5150363154996648,\n",
       " 0.5148592199947704,\n",
       " 0.5067995556253444,\n",
       " 0.5116255981556944,\n",
       " 0.5128791983444089]"
      ]
     },
     "execution_count": 82,
     "metadata": {},
     "output_type": "execute_result"
    }
   ],
   "source": [
    "y22"
   ]
  },
  {
   "cell_type": "code",
   "execution_count": 334,
   "metadata": {},
   "outputs": [
    {
     "name": "stdout",
     "output_type": "stream",
     "text": [
      "Copying file://weather_visi.csv [Content-Type=text/csv]...\n",
      "/ [1 files][  454.0 B/  454.0 B]                                                \n",
      "Operation completed over 1 objects/454.0 B.                                      \n"
     ]
    }
   ],
   "source": [
    "data = pd.DataFrame(vis,index = range(1,len(vis)+1))\n",
    "data.to_csv('weather_visi.csv')\n",
    "!gsutil cp 'weather_visi.csv' 'gs://finalproject20/data'"
   ]
  },
  {
   "cell_type": "code",
   "execution_count": 131,
   "metadata": {},
   "outputs": [],
   "source": [
    "weather3 = weather.filter(lambda x: x[0][1]!='0').map(lambda x: (x[0][0],x[1])).reduceByKey(lambda v1,v2:v1+v2).sortByKey()\n",
    "weather_combine3 = weather3.map(lambda x: combine3(x))\n",
    "weather_combine_clean3 = weather_combine3.map(lambda x: clean(x)).filter(lambda x: x!=None)\n",
    "dataset2 = weather_combine_clean3.map(lambda x: (x[0],x[1][3])).map(lambda x: change(x)).toDF().toPandas()"
   ]
  },
  {
   "cell_type": "code",
   "execution_count": 146,
   "metadata": {},
   "outputs": [
    {
     "data": {
      "text/plain": [
       "<matplotlib.axes._subplots.AxesSubplot at 0x7f6362e6bc10>"
      ]
     },
     "execution_count": 146,
     "metadata": {},
     "output_type": "execute_result"
    },
    {
     "data": {
      "image/png": "[encoded data removed]",
      "text/plain": [
       "<matplotlib.figure.Figure at 0x7f6362e05190>"
      ]
     },
     "metadata": {},
     "output_type": "display_data"
    }
   ],
   "source": [
    "dataset2=dataset2.rename(columns={\"_1\":\"accident numbers\",\"_2\":\"weather\"})\n",
    "sns.set_style(\"whitegrid\")\n",
    "sns.boxplot(x='weather',y='accident numbers',data=dataset2,whis = [0, 100],palette=\"Set3\",width=0.5)"
   ]
  },
  {
   "cell_type": "code",
   "execution_count": 326,
   "metadata": {},
   "outputs": [
    {
     "name": "stdout",
     "output_type": "stream",
     "text": [
      "Copying file://weather_fog.csv [Content-Type=text/csv]...\n",
      "/ [1 files][111.3 KiB/111.3 KiB]                                                \n",
      "Operation completed over 1 objects/111.3 KiB.                                    \n"
     ]
    }
   ],
   "source": [
    "dataset2.to_csv('weather_fog.csv')\n",
    "!gsutil cp 'weather_fog.csv' 'gs://finalproject20/data'"
   ]
  },
  {
   "cell_type": "code",
   "execution_count": null,
   "metadata": {},
   "outputs": [],
   "source": []
  }
 ],
 "metadata": {
  "kernelspec": {
   "display_name": "PySpark",
   "language": "python",
   "name": "pyspark"
  },
  "language_info": {
   "codemirror_mode": {
    "name": "ipython",
    "version": 2
   },
   "file_extension": ".py",
   "mimetype": "text/x-python",
   "name": "python",
   "nbconvert_exporter": "python",
   "pygments_lexer": "ipython2",
   "version": "2.7.14"
  }
 },
 "nbformat": 4,
 "nbformat_minor": 2
}